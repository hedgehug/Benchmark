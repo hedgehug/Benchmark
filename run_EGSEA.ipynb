{
 "cells": [
  {
   "cell_type": "code",
   "execution_count": 18,
   "outputs": [],
   "source": [
    "import sys, os\n",
    "import numpy as np\n",
    "import pandas as pd\n",
    "import scipy.stats as stat"
   ],
   "metadata": {
    "collapsed": false,
    "ExecuteTime": {
     "end_time": "2024-05-24T16:55:08.486129Z",
     "start_time": "2024-05-24T16:55:08.482212Z"
    }
   },
   "id": "c316fe3e0ad2651e"
  },
  {
   "cell_type": "code",
   "execution_count": 24,
   "outputs": [],
   "source": [
    "template_file = open('template_script/egsea_template.R', 'r')\n",
    "template_file_info = template_file.read()\n",
    "template_file.close()"
   ],
   "metadata": {
    "collapsed": false,
    "ExecuteTime": {
     "end_time": "2024-05-24T16:58:44.630895Z",
     "start_time": "2024-05-24T16:58:44.626765Z"
    }
   },
   "id": "267c8abc0bd5d8b5"
  },
  {
   "cell_type": "code",
   "execution_count": 25,
   "outputs": [
    {
     "data": {
      "text/plain": "['AARS.txt',\n 'AATF.txt',\n 'ABCF1.txt',\n 'ADAR.txt',\n 'AGO1.txt',\n 'AKAP1.txt',\n 'AKAP8.txt',\n 'AKAP8L.txt',\n 'APOBEC3C.txt',\n 'ASCC1.txt']"
     },
     "execution_count": 25,
     "metadata": {},
     "output_type": "execute_result"
    }
   ],
   "source": [
    "# load gene expression files in raw read count matrix format\n",
    "expr_dir = 'data/count_matrix/'\n",
    "all_file = os.listdir(expr_dir)\n",
    "all_file.sort()\n",
    "all_file"
   ],
   "metadata": {
    "collapsed": false,
    "ExecuteTime": {
     "end_time": "2024-05-24T16:58:44.893496Z",
     "start_time": "2024-05-24T16:58:44.889593Z"
    }
   },
   "id": "e9413b3e87f88d13"
  },
  {
   "cell_type": "code",
   "execution_count": 26,
   "outputs": [],
   "source": [
    "pathway_file = 'pathway_files/K562_DESEq2.gmt'"
   ],
   "metadata": {
    "collapsed": false,
    "ExecuteTime": {
     "end_time": "2024-05-24T16:58:48.693418Z",
     "start_time": "2024-05-24T16:58:48.691279Z"
    }
   },
   "id": "e8cea859248dd0e2"
  },
  {
   "cell_type": "code",
   "execution_count": 27,
   "outputs": [],
   "source": [
    "# directory for storing all output results\n",
    "result_dir = 'example_results/EGSEA_results/'\n",
    "# write the scripts for each target to a seperate R script to enable parallel running\n",
    "script_dir = 'example_scripts/EGSEA_scripts/'"
   ],
   "metadata": {
    "collapsed": false,
    "ExecuteTime": {
     "end_time": "2024-05-24T16:58:48.873750Z",
     "start_time": "2024-05-24T16:58:48.871100Z"
    }
   },
   "id": "20e79dcf62245371"
  },
  {
   "cell_type": "code",
   "execution_count": 28,
   "outputs": [],
   "source": [
    "for expr_file in all_file:\n",
    "    target = expr_file.split('.')[0]\n",
    "    new_template_info = template_file_info.replace('TARGET_data_matrix.txt', expr_dir+expr_file)\n",
    "    new_template_info = new_template_info.replace('pathway_file_name', pathway_file)\n",
    "    new_template_info = new_template_info.replace('output_file', result_dir+target+'.egsea_result.txt')\n",
    "    script = open(script_dir+target+'.r', 'w')\n",
    "    script.write(new_template_info)\n",
    "    script.close()        "
   ],
   "metadata": {
    "collapsed": false,
    "ExecuteTime": {
     "end_time": "2024-05-24T16:58:50.080794Z",
     "start_time": "2024-05-24T16:58:50.075679Z"
    }
   },
   "id": "8abd65f315d986c4"
  },
  {
   "cell_type": "markdown",
   "source": [
    "Run the R scripts. And the results will be saved in example_results/EGSEA_results/"
   ],
   "metadata": {
    "collapsed": false
   },
   "id": "610c3e9f33f32966"
  },
  {
   "cell_type": "code",
   "execution_count": 32,
   "outputs": [],
   "source": [
    "# extract EGSEA results and its underlying methods results\n",
    "all_result_file = os.listdir(result_dir)\n",
    "all_result_file.sort()\n",
    "out_file = open('example_results/EGSEA_result.txt', 'w')\n",
    "for file in all_result_file:\n",
    "    target = file.split('.')[0]\n",
    "    df = pd.read_csv(result_dir+file, sep='\\t')\n",
    "    df['pathway_rank'] = stat.rankdata(df['avg.rank'])\n",
    "    egsea_rank = df.loc[target]['pathway_rank']\n",
    "    out_file.write(target+'\\t'+str(egsea_rank)+'\\n')\n",
    "    \n",
    "    # extract results of underlying methods of EGSEA\n",
    "out_file.close()"
   ],
   "metadata": {
    "collapsed": false,
    "ExecuteTime": {
     "end_time": "2024-05-24T17:00:46.579894Z",
     "start_time": "2024-05-24T17:00:46.534179Z"
    }
   },
   "id": "ceddaff235a5af4"
  },
  {
   "cell_type": "code",
   "execution_count": 30,
   "outputs": [
    {
     "data": {
      "text/plain": "              p.value         p.adj  vote.rank  avg.rank  med.rank  \\\nDDX3X    8.802751e-23  1.878519e-22          5      12.2       3.0   \nASCC1    4.847811e-23  1.878519e-22          5      12.3       4.0   \nDDX47    6.143107e-23  1.878519e-22         10      15.9       8.0   \nU2AF2    8.867144e-23  1.878519e-22         15      25.5      12.5   \nAKAP8L   4.634570e-23  1.878519e-22         15      29.4      16.0   \n...               ...           ...        ...       ...       ...   \nILF2     4.142231e-22  4.636474e-22        190     158.3     181.5   \nPPIL4    1.221446e-22  1.940523e-22        180     160.4     164.0   \nGTF2F1   1.059228e-22  1.893766e-22        190     161.3     184.5   \nDDX52    9.367181e-22  9.868100e-22        190     163.9     182.5   \nFAM120A  2.259101e-22  2.889890e-22        190     165.0     178.5   \n\n           min.pvalue  min.rank  avg.logfc  avg.logfc.dir  direction  ...  \\\nDDX3X    8.802751e-24         1   1.177282      -1.219311         -1  ...   \nASCC1    4.847811e-24         1   1.040204      -0.919089         -1  ...   \nDDX47    6.143107e-24         1   1.081996      -1.129586         -1  ...   \nU2AF2    8.867144e-24         5   0.935035      -0.990056         -1  ...   \nAKAP8L   4.634570e-24         1   0.808310      -0.862257         -1  ...   \n...               ...       ...        ...            ...        ...  ...   \nILF2     4.142231e-23        72   0.952643      -0.953696         -1  ...   \nPPIL4    1.221446e-23       124   0.896786      -0.954503         -1  ...   \nGTF2F1   1.059228e-23        59   0.841562      -0.632393         -1  ...   \nDDX52    9.367181e-23        47   0.901900       1.019055          1  ...   \nFAM120A  2.259101e-23        81   0.974382      -1.167698         -1  ...   \n\n         safe  gage  padog  plage  zscore  gsva  ssgsea  globaltest  ora  \\\nDDX3X       8     8      3     87       3     3       2           4    1   \nASCC1      10    20      1     11       1     1       1          70    7   \nDDX47       1     7      2     45      22    29       7           8    8   \nU2AF2      14    75      8     88      11     9       5          15   19   \nAKAP8L     15    98     48      1      26    14      11           3   61   \n...       ...   ...    ...    ...     ...   ...     ...         ...  ...   \nILF2      189   127    168    176     190   193     187          72   86   \nPPIL4     154   141    187    124     179   134     194         141  174   \nGTF2F1    187    59    186    109     142   187     183         193  171   \nDDX52     178    47    192    187     195   173     119         196  165   \nFAM120A   194   143    171    154     197   186     193          81  145   \n\n         pathway_rank  \nDDX3X             1.0  \nASCC1             2.0  \nDDX47             3.0  \nU2AF2             4.0  \nAKAP8L            5.0  \n...               ...  \nILF2            193.0  \nPPIL4           194.0  \nGTF2F1          195.0  \nDDX52           196.0  \nFAM120A         197.0  \n\n[197 rows x 22 columns]",
      "text/html": "<div>\n<style scoped>\n    .dataframe tbody tr th:only-of-type {\n        vertical-align: middle;\n    }\n\n    .dataframe tbody tr th {\n        vertical-align: top;\n    }\n\n    .dataframe thead th {\n        text-align: right;\n    }\n</style>\n<table border=\"1\" class=\"dataframe\">\n  <thead>\n    <tr style=\"text-align: right;\">\n      <th></th>\n      <th>p.value</th>\n      <th>p.adj</th>\n      <th>vote.rank</th>\n      <th>avg.rank</th>\n      <th>med.rank</th>\n      <th>min.pvalue</th>\n      <th>min.rank</th>\n      <th>avg.logfc</th>\n      <th>avg.logfc.dir</th>\n      <th>direction</th>\n      <th>...</th>\n      <th>safe</th>\n      <th>gage</th>\n      <th>padog</th>\n      <th>plage</th>\n      <th>zscore</th>\n      <th>gsva</th>\n      <th>ssgsea</th>\n      <th>globaltest</th>\n      <th>ora</th>\n      <th>pathway_rank</th>\n    </tr>\n  </thead>\n  <tbody>\n    <tr>\n      <th>DDX3X</th>\n      <td>8.802751e-23</td>\n      <td>1.878519e-22</td>\n      <td>5</td>\n      <td>12.2</td>\n      <td>3.0</td>\n      <td>8.802751e-24</td>\n      <td>1</td>\n      <td>1.177282</td>\n      <td>-1.219311</td>\n      <td>-1</td>\n      <td>...</td>\n      <td>8</td>\n      <td>8</td>\n      <td>3</td>\n      <td>87</td>\n      <td>3</td>\n      <td>3</td>\n      <td>2</td>\n      <td>4</td>\n      <td>1</td>\n      <td>1.0</td>\n    </tr>\n    <tr>\n      <th>ASCC1</th>\n      <td>4.847811e-23</td>\n      <td>1.878519e-22</td>\n      <td>5</td>\n      <td>12.3</td>\n      <td>4.0</td>\n      <td>4.847811e-24</td>\n      <td>1</td>\n      <td>1.040204</td>\n      <td>-0.919089</td>\n      <td>-1</td>\n      <td>...</td>\n      <td>10</td>\n      <td>20</td>\n      <td>1</td>\n      <td>11</td>\n      <td>1</td>\n      <td>1</td>\n      <td>1</td>\n      <td>70</td>\n      <td>7</td>\n      <td>2.0</td>\n    </tr>\n    <tr>\n      <th>DDX47</th>\n      <td>6.143107e-23</td>\n      <td>1.878519e-22</td>\n      <td>10</td>\n      <td>15.9</td>\n      <td>8.0</td>\n      <td>6.143107e-24</td>\n      <td>1</td>\n      <td>1.081996</td>\n      <td>-1.129586</td>\n      <td>-1</td>\n      <td>...</td>\n      <td>1</td>\n      <td>7</td>\n      <td>2</td>\n      <td>45</td>\n      <td>22</td>\n      <td>29</td>\n      <td>7</td>\n      <td>8</td>\n      <td>8</td>\n      <td>3.0</td>\n    </tr>\n    <tr>\n      <th>U2AF2</th>\n      <td>8.867144e-23</td>\n      <td>1.878519e-22</td>\n      <td>15</td>\n      <td>25.5</td>\n      <td>12.5</td>\n      <td>8.867144e-24</td>\n      <td>5</td>\n      <td>0.935035</td>\n      <td>-0.990056</td>\n      <td>-1</td>\n      <td>...</td>\n      <td>14</td>\n      <td>75</td>\n      <td>8</td>\n      <td>88</td>\n      <td>11</td>\n      <td>9</td>\n      <td>5</td>\n      <td>15</td>\n      <td>19</td>\n      <td>4.0</td>\n    </tr>\n    <tr>\n      <th>AKAP8L</th>\n      <td>4.634570e-23</td>\n      <td>1.878519e-22</td>\n      <td>15</td>\n      <td>29.4</td>\n      <td>16.0</td>\n      <td>4.634570e-24</td>\n      <td>1</td>\n      <td>0.808310</td>\n      <td>-0.862257</td>\n      <td>-1</td>\n      <td>...</td>\n      <td>15</td>\n      <td>98</td>\n      <td>48</td>\n      <td>1</td>\n      <td>26</td>\n      <td>14</td>\n      <td>11</td>\n      <td>3</td>\n      <td>61</td>\n      <td>5.0</td>\n    </tr>\n    <tr>\n      <th>...</th>\n      <td>...</td>\n      <td>...</td>\n      <td>...</td>\n      <td>...</td>\n      <td>...</td>\n      <td>...</td>\n      <td>...</td>\n      <td>...</td>\n      <td>...</td>\n      <td>...</td>\n      <td>...</td>\n      <td>...</td>\n      <td>...</td>\n      <td>...</td>\n      <td>...</td>\n      <td>...</td>\n      <td>...</td>\n      <td>...</td>\n      <td>...</td>\n      <td>...</td>\n      <td>...</td>\n    </tr>\n    <tr>\n      <th>ILF2</th>\n      <td>4.142231e-22</td>\n      <td>4.636474e-22</td>\n      <td>190</td>\n      <td>158.3</td>\n      <td>181.5</td>\n      <td>4.142231e-23</td>\n      <td>72</td>\n      <td>0.952643</td>\n      <td>-0.953696</td>\n      <td>-1</td>\n      <td>...</td>\n      <td>189</td>\n      <td>127</td>\n      <td>168</td>\n      <td>176</td>\n      <td>190</td>\n      <td>193</td>\n      <td>187</td>\n      <td>72</td>\n      <td>86</td>\n      <td>193.0</td>\n    </tr>\n    <tr>\n      <th>PPIL4</th>\n      <td>1.221446e-22</td>\n      <td>1.940523e-22</td>\n      <td>180</td>\n      <td>160.4</td>\n      <td>164.0</td>\n      <td>1.221446e-23</td>\n      <td>124</td>\n      <td>0.896786</td>\n      <td>-0.954503</td>\n      <td>-1</td>\n      <td>...</td>\n      <td>154</td>\n      <td>141</td>\n      <td>187</td>\n      <td>124</td>\n      <td>179</td>\n      <td>134</td>\n      <td>194</td>\n      <td>141</td>\n      <td>174</td>\n      <td>194.0</td>\n    </tr>\n    <tr>\n      <th>GTF2F1</th>\n      <td>1.059228e-22</td>\n      <td>1.893766e-22</td>\n      <td>190</td>\n      <td>161.3</td>\n      <td>184.5</td>\n      <td>1.059228e-23</td>\n      <td>59</td>\n      <td>0.841562</td>\n      <td>-0.632393</td>\n      <td>-1</td>\n      <td>...</td>\n      <td>187</td>\n      <td>59</td>\n      <td>186</td>\n      <td>109</td>\n      <td>142</td>\n      <td>187</td>\n      <td>183</td>\n      <td>193</td>\n      <td>171</td>\n      <td>195.0</td>\n    </tr>\n    <tr>\n      <th>DDX52</th>\n      <td>9.367181e-22</td>\n      <td>9.868100e-22</td>\n      <td>190</td>\n      <td>163.9</td>\n      <td>182.5</td>\n      <td>9.367181e-23</td>\n      <td>47</td>\n      <td>0.901900</td>\n      <td>1.019055</td>\n      <td>1</td>\n      <td>...</td>\n      <td>178</td>\n      <td>47</td>\n      <td>192</td>\n      <td>187</td>\n      <td>195</td>\n      <td>173</td>\n      <td>119</td>\n      <td>196</td>\n      <td>165</td>\n      <td>196.0</td>\n    </tr>\n    <tr>\n      <th>FAM120A</th>\n      <td>2.259101e-22</td>\n      <td>2.889890e-22</td>\n      <td>190</td>\n      <td>165.0</td>\n      <td>178.5</td>\n      <td>2.259101e-23</td>\n      <td>81</td>\n      <td>0.974382</td>\n      <td>-1.167698</td>\n      <td>-1</td>\n      <td>...</td>\n      <td>194</td>\n      <td>143</td>\n      <td>171</td>\n      <td>154</td>\n      <td>197</td>\n      <td>186</td>\n      <td>193</td>\n      <td>81</td>\n      <td>145</td>\n      <td>197.0</td>\n    </tr>\n  </tbody>\n</table>\n<p>197 rows × 22 columns</p>\n</div>"
     },
     "execution_count": 30,
     "metadata": {},
     "output_type": "execute_result"
    }
   ],
   "source": [
    "df"
   ],
   "metadata": {
    "collapsed": false,
    "ExecuteTime": {
     "end_time": "2024-05-24T16:58:53.830137Z",
     "start_time": "2024-05-24T16:58:53.810157Z"
    }
   },
   "id": "2520e3eafea427ae"
  },
  {
   "cell_type": "code",
   "execution_count": 31,
   "outputs": [
    {
     "data": {
      "text/plain": "2.0"
     },
     "execution_count": 31,
     "metadata": {},
     "output_type": "execute_result"
    }
   ],
   "source": [
    "egsea_rank"
   ],
   "metadata": {
    "collapsed": false,
    "ExecuteTime": {
     "end_time": "2024-05-24T16:59:03.666325Z",
     "start_time": "2024-05-24T16:59:03.656376Z"
    }
   },
   "id": "3b0c7c901b1aadea"
  },
  {
   "cell_type": "code",
   "execution_count": null,
   "outputs": [],
   "source": [],
   "metadata": {
    "collapsed": false
   },
   "id": "214b65a6ea34da18"
  }
 ],
 "metadata": {
  "kernelspec": {
   "display_name": "Python 3.9 (Default)",
   "language": "python",
   "name": "python3"
  },
  "language_info": {
   "codemirror_mode": {
    "name": "ipython",
    "version": 3
   },
   "file_extension": ".py",
   "mimetype": "text/x-python",
   "name": "python",
   "nbconvert_exporter": "python",
   "pygments_lexer": "ipython3",
   "version": "3.9.7"
  }
 },
 "nbformat": 4,
 "nbformat_minor": 5
}
