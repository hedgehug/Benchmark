{
 "cells": [
  {
   "cell_type": "code",
   "execution_count": 1,
   "id": "597ce7a8",
   "metadata": {},
   "outputs": [],
   "source": [
    "import decoupler as dc\n",
    "import os, sys\n",
    "# Only needed for visualization:\n",
    "import matplotlib.pyplot as plt\n",
    "import seaborn as sns\n",
    "import scanpy as sc\n",
    "import pandas as pd\n",
    "import anndata as ad\n",
    "from scipy.stats import ttest_ind as tt\n",
    "import numpy as np"
   ]
  },
  {
   "cell_type": "code",
   "execution_count": 2,
   "id": "dcadadbd",
   "metadata": {},
   "outputs": [],
   "source": [
    "pathway_file = ['deg_200/K562_fc/K562_bottom_200_fc.gmt', 'deg_200/K562_s2n/K562_bottom_200_signal2_noise.gmt',\n",
    "               'deg_200/K562_edgeR_DE/DE_bottom_200.gmt', 'deg_200/K562_DE/DE_top_200.gmt']"
   ]
  },
  {
   "cell_type": "code",
   "execution_count": 3,
   "id": "987500ae",
   "metadata": {},
   "outputs": [
    {
     "data": {
      "text/html": [
       "<div>\n",
       "<style scoped>\n",
       "    .dataframe tbody tr th:only-of-type {\n",
       "        vertical-align: middle;\n",
       "    }\n",
       "\n",
       "    .dataframe tbody tr th {\n",
       "        vertical-align: top;\n",
       "    }\n",
       "\n",
       "    .dataframe thead th {\n",
       "        text-align: right;\n",
       "    }\n",
       "</style>\n",
       "<table border=\"1\" class=\"dataframe\">\n",
       "  <thead>\n",
       "    <tr style=\"text-align: right;\">\n",
       "      <th></th>\n",
       "      <th>genesymbol</th>\n",
       "      <th>collection</th>\n",
       "      <th>geneset</th>\n",
       "    </tr>\n",
       "  </thead>\n",
       "  <tbody>\n",
       "    <tr>\n",
       "      <th>233</th>\n",
       "      <td>MAFF</td>\n",
       "      <td>hallmark</td>\n",
       "      <td>HALLMARK_IL2_STAT5_SIGNALING</td>\n",
       "    </tr>\n",
       "    <tr>\n",
       "      <th>250</th>\n",
       "      <td>MAFF</td>\n",
       "      <td>hallmark</td>\n",
       "      <td>HALLMARK_COAGULATION</td>\n",
       "    </tr>\n",
       "    <tr>\n",
       "      <th>270</th>\n",
       "      <td>MAFF</td>\n",
       "      <td>hallmark</td>\n",
       "      <td>HALLMARK_HYPOXIA</td>\n",
       "    </tr>\n",
       "    <tr>\n",
       "      <th>373</th>\n",
       "      <td>MAFF</td>\n",
       "      <td>hallmark</td>\n",
       "      <td>HALLMARK_TNFA_SIGNALING_VIA_NFKB</td>\n",
       "    </tr>\n",
       "    <tr>\n",
       "      <th>377</th>\n",
       "      <td>MAFF</td>\n",
       "      <td>hallmark</td>\n",
       "      <td>HALLMARK_COMPLEMENT</td>\n",
       "    </tr>\n",
       "    <tr>\n",
       "      <th>...</th>\n",
       "      <td>...</td>\n",
       "      <td>...</td>\n",
       "      <td>...</td>\n",
       "    </tr>\n",
       "    <tr>\n",
       "      <th>1449668</th>\n",
       "      <td>STXBP1</td>\n",
       "      <td>hallmark</td>\n",
       "      <td>HALLMARK_PANCREAS_BETA_CELLS</td>\n",
       "    </tr>\n",
       "    <tr>\n",
       "      <th>1450315</th>\n",
       "      <td>ELP4</td>\n",
       "      <td>hallmark</td>\n",
       "      <td>HALLMARK_PANCREAS_BETA_CELLS</td>\n",
       "    </tr>\n",
       "    <tr>\n",
       "      <th>1450526</th>\n",
       "      <td>GCG</td>\n",
       "      <td>hallmark</td>\n",
       "      <td>HALLMARK_PANCREAS_BETA_CELLS</td>\n",
       "    </tr>\n",
       "    <tr>\n",
       "      <th>1450731</th>\n",
       "      <td>PCSK2</td>\n",
       "      <td>hallmark</td>\n",
       "      <td>HALLMARK_PANCREAS_BETA_CELLS</td>\n",
       "    </tr>\n",
       "    <tr>\n",
       "      <th>1450916</th>\n",
       "      <td>PAX6</td>\n",
       "      <td>hallmark</td>\n",
       "      <td>HALLMARK_PANCREAS_BETA_CELLS</td>\n",
       "    </tr>\n",
       "  </tbody>\n",
       "</table>\n",
       "<p>7318 rows × 3 columns</p>\n",
       "</div>"
      ],
      "text/plain": [
       "        genesymbol collection                           geneset\n",
       "233           MAFF   hallmark      HALLMARK_IL2_STAT5_SIGNALING\n",
       "250           MAFF   hallmark              HALLMARK_COAGULATION\n",
       "270           MAFF   hallmark                  HALLMARK_HYPOXIA\n",
       "373           MAFF   hallmark  HALLMARK_TNFA_SIGNALING_VIA_NFKB\n",
       "377           MAFF   hallmark               HALLMARK_COMPLEMENT\n",
       "...            ...        ...                               ...\n",
       "1449668     STXBP1   hallmark      HALLMARK_PANCREAS_BETA_CELLS\n",
       "1450315       ELP4   hallmark      HALLMARK_PANCREAS_BETA_CELLS\n",
       "1450526        GCG   hallmark      HALLMARK_PANCREAS_BETA_CELLS\n",
       "1450731      PCSK2   hallmark      HALLMARK_PANCREAS_BETA_CELLS\n",
       "1450916       PAX6   hallmark      HALLMARK_PANCREAS_BETA_CELLS\n",
       "\n",
       "[7318 rows x 3 columns]"
      ]
     },
     "execution_count": 3,
     "metadata": {},
     "output_type": "execute_result"
    }
   ],
   "source": [
    "msigdb = dc.get_resource('MSigDB')\n",
    "\n",
    "# Filter by hallmark\n",
    "msigdb = msigdb[msigdb['collection']=='hallmark']\n",
    "\n",
    "# Remove duplicated entries\n",
    "msigdb = msigdb[~msigdb.duplicated(['geneset', 'genesymbol'])]\n",
    "msigdb\n"
   ]
  },
  {
   "cell_type": "code",
   "execution_count": 4,
   "id": "3c1cd8b4",
   "metadata": {},
   "outputs": [
    {
     "data": {
      "text/html": [
       "<div>\n",
       "<style scoped>\n",
       "    .dataframe tbody tr th:only-of-type {\n",
       "        vertical-align: middle;\n",
       "    }\n",
       "\n",
       "    .dataframe tbody tr th {\n",
       "        vertical-align: top;\n",
       "    }\n",
       "\n",
       "    .dataframe thead th {\n",
       "        text-align: right;\n",
       "    }\n",
       "</style>\n",
       "<table border=\"1\" class=\"dataframe\">\n",
       "  <thead>\n",
       "    <tr style=\"text-align: right;\">\n",
       "      <th></th>\n",
       "      <th>1</th>\n",
       "    </tr>\n",
       "    <tr>\n",
       "      <th>0</th>\n",
       "      <th></th>\n",
       "    </tr>\n",
       "  </thead>\n",
       "  <tbody>\n",
       "    <tr>\n",
       "      <th>ENSG00000000003.10</th>\n",
       "      <td>TSPAN6</td>\n",
       "    </tr>\n",
       "    <tr>\n",
       "      <th>ENSG00000000419.8</th>\n",
       "      <td>DPM1</td>\n",
       "    </tr>\n",
       "    <tr>\n",
       "      <th>ENSG00000000457.9</th>\n",
       "      <td>SCYL3</td>\n",
       "    </tr>\n",
       "    <tr>\n",
       "      <th>ENSG00000000460.12</th>\n",
       "      <td>C1orf112</td>\n",
       "    </tr>\n",
       "    <tr>\n",
       "      <th>ENSG00000000971.11</th>\n",
       "      <td>CFH</td>\n",
       "    </tr>\n",
       "    <tr>\n",
       "      <th>...</th>\n",
       "      <td>...</td>\n",
       "    </tr>\n",
       "    <tr>\n",
       "      <th>ENSG00000273483.1</th>\n",
       "      <td>None</td>\n",
       "    </tr>\n",
       "    <tr>\n",
       "      <th>ENSG00000273485.1</th>\n",
       "      <td>None</td>\n",
       "    </tr>\n",
       "    <tr>\n",
       "      <th>ENSG00000273486.1</th>\n",
       "      <td>None</td>\n",
       "    </tr>\n",
       "    <tr>\n",
       "      <th>ENSG00000273487.1</th>\n",
       "      <td>None</td>\n",
       "    </tr>\n",
       "    <tr>\n",
       "      <th>ENSG00000273488.1</th>\n",
       "      <td>None</td>\n",
       "    </tr>\n",
       "  </tbody>\n",
       "</table>\n",
       "<p>22794 rows × 1 columns</p>\n",
       "</div>"
      ],
      "text/plain": [
       "                           1\n",
       "0                           \n",
       "ENSG00000000003.10    TSPAN6\n",
       "ENSG00000000419.8       DPM1\n",
       "ENSG00000000457.9      SCYL3\n",
       "ENSG00000000460.12  C1orf112\n",
       "ENSG00000000971.11       CFH\n",
       "...                      ...\n",
       "ENSG00000273483.1       None\n",
       "ENSG00000273485.1       None\n",
       "ENSG00000273486.1       None\n",
       "ENSG00000273487.1       None\n",
       "ENSG00000273488.1       None\n",
       "\n",
       "[22794 rows x 1 columns]"
      ]
     },
     "execution_count": 4,
     "metadata": {},
     "output_type": "execute_result"
    }
   ],
   "source": [
    "name_conversion_file = pd.read_csv('ensemble_to_refseq.txt', delimiter='\\t', header=None, index_col=0)\n",
    "name_conversion_file"
   ]
  },
  {
   "cell_type": "code",
   "execution_count": 5,
   "id": "f3341057",
   "metadata": {},
   "outputs": [
    {
     "data": {
      "text/plain": [
       "{'ENSG00000000003.10': 'TSPAN6',\n",
       " 'ENSG00000000419.8': 'DPM1',\n",
       " 'ENSG00000000457.9': 'SCYL3',\n",
       " 'ENSG00000000460.12': 'C1orf112',\n",
       " 'ENSG00000000971.11': 'CFH',\n",
       " 'ENSG00000001036.9': 'FUCA2',\n",
       " 'ENSG00000001084.6': 'GCLC',\n",
       " 'ENSG00000001167.10': 'NFYA',\n",
       " 'ENSG00000001460.13': 'STPG1',\n",
       " 'ENSG00000001461.12': 'NIPAL3',\n",
       " 'ENSG00000001497.12': 'LAS1L',\n",
       " 'ENSG00000001561.6': 'ENPP4',\n",
       " 'ENSG00000001617.7': 'SEMA3F',\n",
       " 'ENSG00000001629.5': 'ANKIB1',\n",
       " 'ENSG00000001630.11': 'CYP51A1',\n",
       " 'ENSG00000001631.10': 'None',\n",
       " 'ENSG00000002016.12': 'RAD52',\n",
       " 'ENSG00000002079.8': 'None',\n",
       " 'ENSG00000002330.9': 'BAD',\n",
       " 'ENSG00000002549.8': 'LAP3',\n",
       " 'ENSG00000002586.13': 'CD99',\n",
       " 'ENSG00000002746.10': 'HECW1',\n",
       " 'ENSG00000002822.11': 'MAD1L1',\n",
       " 'ENSG00000002834.13': 'LASP1',\n",
       " 'ENSG00000002919.10': 'SNX11',\n",
       " 'ENSG00000003056.3': 'M6PR',\n",
       " 'ENSG00000003096.9': 'KLHL13',\n",
       " 'ENSG00000003137.4': 'CYP26B1',\n",
       " 'ENSG00000003147.13': 'ICA1',\n",
       " 'ENSG00000003249.9': 'DBNDD1',\n",
       " 'ENSG00000003393.10': 'ALS2',\n",
       " 'ENSG00000003400.10': 'CASP10',\n",
       " 'ENSG00000003402.15': 'CFLAR',\n",
       " 'ENSG00000003436.10': 'TFPI',\n",
       " 'ENSG00000003509.11': 'NDUFAF7',\n",
       " 'ENSG00000003756.12': 'RBM5',\n",
       " 'ENSG00000003987.9': 'MTMR7',\n",
       " 'ENSG00000003989.12': 'SLC7A2',\n",
       " 'ENSG00000004059.6': 'ARF5',\n",
       " 'ENSG00000004139.9': 'SARM1',\n",
       " 'ENSG00000004142.7': 'POLDIP2',\n",
       " 'ENSG00000004399.8': 'PLXND1',\n",
       " 'ENSG00000004455.12': 'AK2',\n",
       " 'ENSG00000004468.8': 'CD38',\n",
       " 'ENSG00000004478.5': 'FKBP4',\n",
       " 'ENSG00000004487.11': 'KDM1A',\n",
       " 'ENSG00000004534.10': 'RBM6',\n",
       " 'ENSG00000004660.10': 'CAMKK1',\n",
       " 'ENSG00000004700.11': 'RECQL',\n",
       " 'ENSG00000004766.11': 'VPS50',\n",
       " 'ENSG00000004776.7': 'HSPB6',\n",
       " 'ENSG00000004777.14': 'ARHGAP33',\n",
       " 'ENSG00000004779.5': 'NDUFAB1',\n",
       " 'ENSG00000004799.7': 'PDK4',\n",
       " 'ENSG00000004809.9': 'SLC22A16',\n",
       " 'ENSG00000004838.9': 'ZMYND10',\n",
       " 'ENSG00000004864.9': 'SLC25A13',\n",
       " 'ENSG00000004866.14': 'ST7-OT3',\n",
       " 'ENSG00000004897.7': 'CDC27',\n",
       " 'ENSG00000004939.9': 'SLC4A1',\n",
       " 'ENSG00000004961.10': 'HCCS',\n",
       " 'ENSG00000004975.7': 'DVL2',\n",
       " 'ENSG00000005001.5': 'PRSS22',\n",
       " 'ENSG00000005007.8': 'UPF1',\n",
       " 'ENSG00000005020.8': 'SKAP2',\n",
       " 'ENSG00000005022.5': 'SLC25A5',\n",
       " 'ENSG00000005059.11': 'MCUB',\n",
       " 'ENSG00000005073.5': 'HOXA11',\n",
       " 'ENSG00000005075.11': 'POLR2J',\n",
       " 'ENSG00000005100.8': 'DHX33',\n",
       " 'ENSG00000005108.11': 'THSD7A',\n",
       " 'ENSG00000005156.7': 'LIG3',\n",
       " 'ENSG00000005175.5': 'RPAP3',\n",
       " 'ENSG00000005187.7': 'ACSM3',\n",
       " 'ENSG00000005189.15': 'REXO5',\n",
       " 'ENSG00000005194.10': 'CIAPIN1',\n",
       " 'ENSG00000005206.12': 'SPPL2B',\n",
       " 'ENSG00000005238.15': 'FAM214B',\n",
       " 'ENSG00000005243.5': 'COPZ2',\n",
       " 'ENSG00000005249.8': 'PRKAR2B',\n",
       " 'ENSG00000005302.13': 'MSL3',\n",
       " 'ENSG00000005339.8': 'CREBBP',\n",
       " 'ENSG00000005379.11': 'TSPOAP1',\n",
       " 'ENSG00000005381.6': 'MPO',\n",
       " 'ENSG00000005421.4': 'PON1',\n",
       " 'ENSG00000005436.9': 'GCFC2',\n",
       " 'ENSG00000005448.12': 'WDR54',\n",
       " 'ENSG00000005469.7': 'CROT',\n",
       " 'ENSG00000005471.11': 'ABCB4',\n",
       " 'ENSG00000005483.15': 'KMT2E',\n",
       " 'ENSG00000005486.12': 'RHBDD2',\n",
       " 'ENSG00000005513.9': 'SOX8',\n",
       " 'ENSG00000005700.10': 'IBTK',\n",
       " 'ENSG00000005801.12': 'ZNF195',\n",
       " 'ENSG00000005810.13': 'MYCBP2',\n",
       " 'ENSG00000005812.6': 'FBXL3',\n",
       " 'ENSG00000005844.13': 'ITGAL',\n",
       " 'ENSG00000005882.7': 'PDK2',\n",
       " 'ENSG00000005884.13': 'ITGA3',\n",
       " 'ENSG00000005889.11': 'ZFX',\n",
       " 'ENSG00000005893.11': 'LAMP2',\n",
       " 'ENSG00000005955.8': 'None',\n",
       " 'ENSG00000005961.13': 'ITGA2B',\n",
       " 'ENSG00000005981.8': 'ASB4',\n",
       " 'ENSG00000006007.7': 'GDE1',\n",
       " 'ENSG00000006015.13': 'REX1BD',\n",
       " 'ENSG00000006016.6': 'CRLF1',\n",
       " 'ENSG00000006025.7': 'OSBPL7',\n",
       " 'ENSG00000006042.7': 'TMEM98',\n",
       " 'ENSG00000006047.8': 'YBX2',\n",
       " 'ENSG00000006062.9': 'MAP3K14',\n",
       " 'ENSG00000006071.7': 'ABCC8',\n",
       " 'ENSG00000006114.11': 'None',\n",
       " 'ENSG00000006118.10': 'TMEM132A',\n",
       " 'ENSG00000006125.12': 'AP2B1',\n",
       " 'ENSG00000006194.6': 'ZNF263',\n",
       " 'ENSG00000006210.6': 'CX3CL1',\n",
       " 'ENSG00000006282.15': 'SPATA20',\n",
       " 'ENSG00000006283.13': 'CACNA1G',\n",
       " 'ENSG00000006327.9': 'TNFRSF12A',\n",
       " 'ENSG00000006377.9': 'DLX6',\n",
       " 'ENSG00000006432.11': 'MAP3K9',\n",
       " 'ENSG00000006451.3': 'RALA',\n",
       " 'ENSG00000006453.9': 'BAIAP2L1',\n",
       " 'ENSG00000006459.6': 'KDM7A',\n",
       " 'ENSG00000006468.9': 'ETV1',\n",
       " 'ENSG00000006530.11': 'AGK',\n",
       " 'ENSG00000006534.11': 'ALDH3B1',\n",
       " 'ENSG00000006576.12': 'PHTF2',\n",
       " 'ENSG00000006606.4': 'CCL26',\n",
       " 'ENSG00000006607.9': 'FARP2',\n",
       " 'ENSG00000006611.11': 'USH1C',\n",
       " 'ENSG00000006625.13': 'GGCT',\n",
       " 'ENSG00000006634.3': 'DBF4',\n",
       " 'ENSG00000006638.7': 'TBXA2R',\n",
       " 'ENSG00000006652.9': 'IFRD1',\n",
       " 'ENSG00000006659.8': 'LGALS14',\n",
       " 'ENSG00000006695.6': 'COX10',\n",
       " 'ENSG00000006704.6': 'GTF2IRD1',\n",
       " 'ENSG00000006712.10': 'PAF1',\n",
       " 'ENSG00000006715.11': 'VPS41',\n",
       " 'ENSG00000006740.12': 'ARHGAP44',\n",
       " 'ENSG00000006744.14': 'ELAC2',\n",
       " 'ENSG00000006747.10': 'SCIN',\n",
       " 'ENSG00000006756.11': 'ARSD',\n",
       " 'ENSG00000006757.7': 'PNPLA4',\n",
       " 'ENSG00000006831.9': 'ADIPOR2',\n",
       " 'ENSG00000006837.7': 'CDKL3',\n",
       " 'ENSG00000007001.8': 'UPP2',\n",
       " 'ENSG00000007047.10': 'MARK4',\n",
       " 'ENSG00000007062.7': 'PROM1',\n",
       " 'ENSG00000007080.6': 'CCDC124',\n",
       " 'ENSG00000007168.8': 'PAFAH1B1',\n",
       " 'ENSG00000007171.12': 'NOS2',\n",
       " 'ENSG00000007202.10': 'KIAA0100',\n",
       " 'ENSG00000007216.10': 'SLC13A2',\n",
       " 'ENSG00000007237.14': 'GAS7',\n",
       " 'ENSG00000007255.6': 'TRAPPC6A',\n",
       " 'ENSG00000007264.9': 'MATK',\n",
       " 'ENSG00000007312.8': 'CD79B',\n",
       " 'ENSG00000007314.7': 'SCN4A',\n",
       " 'ENSG00000007341.14': 'ST7L',\n",
       " 'ENSG00000007350.12': 'TKTL1',\n",
       " 'ENSG00000007372.16': 'PAX6',\n",
       " 'ENSG00000007376.3': 'RPUSD1',\n",
       " 'ENSG00000007384.11': 'RHBDF1',\n",
       " 'ENSG00000007392.12': 'LUC7L',\n",
       " 'ENSG00000007402.7': 'CACNA2D2',\n",
       " 'ENSG00000007516.9': 'BAIAP3',\n",
       " 'ENSG00000007520.3': 'TSR3',\n",
       " 'ENSG00000007541.10': 'PIGQ',\n",
       " 'ENSG00000007545.11': 'CRAMP1',\n",
       " 'ENSG00000007866.14': 'TEAD3',\n",
       " 'ENSG00000007908.11': 'SELE',\n",
       " 'ENSG00000007923.11': 'DNAJC11',\n",
       " 'ENSG00000007944.10': 'MYLIP',\n",
       " 'ENSG00000007952.13': 'NOX1',\n",
       " 'ENSG00000007968.6': 'E2F2',\n",
       " 'ENSG00000008018.8': 'PSMB1',\n",
       " 'ENSG00000008056.8': 'SYN1',\n",
       " 'ENSG00000008083.9': 'JARID2',\n",
       " 'ENSG00000008086.6': 'CDKL5',\n",
       " 'ENSG00000008128.18': 'CDK11A',\n",
       " 'ENSG00000008130.11': 'NADK',\n",
       " 'ENSG00000008226.15': 'DLEC1',\n",
       " 'ENSG00000008256.11': 'CYTH3',\n",
       " 'ENSG00000008277.10': 'ADAM22',\n",
       " 'ENSG00000008282.3': 'SYPL1',\n",
       " 'ENSG00000008283.11': 'CYB561',\n",
       " 'ENSG00000008294.16': 'SPAG9',\n",
       " 'ENSG00000008300.10': 'CELSR3',\n",
       " 'ENSG00000008311.10': 'AASS',\n",
       " 'ENSG00000008323.11': 'PLEKHG6',\n",
       " 'ENSG00000008324.6': 'SS18L2',\n",
       " 'ENSG00000008382.11': 'MPND',\n",
       " 'ENSG00000008394.8': 'MGST1',\n",
       " 'ENSG00000008405.7': 'CRY1',\n",
       " 'ENSG00000008441.12': 'NFIX',\n",
       " 'ENSG00000008513.10': 'ST3GAL1',\n",
       " 'ENSG00000008516.12': 'MMP25',\n",
       " 'ENSG00000008517.12': 'IL32',\n",
       " 'ENSG00000008710.13': 'PKD1',\n",
       " 'ENSG00000008735.10': 'MAPK8IP2',\n",
       " 'ENSG00000008838.13': 'MED24',\n",
       " 'ENSG00000008853.12': 'RHOBTB2',\n",
       " 'ENSG00000008869.7': 'HEATR5B',\n",
       " 'ENSG00000008952.12': 'SEC62',\n",
       " 'ENSG00000008988.5': 'RPS20',\n",
       " 'ENSG00000009307.11': 'CSDE1',\n",
       " 'ENSG00000009335.13': 'UBE3C',\n",
       " 'ENSG00000009413.11': 'REV3L',\n",
       " 'ENSG00000009694.9': 'TENM1',\n",
       " 'ENSG00000009724.12': 'MASP2',\n",
       " 'ENSG00000009765.10': 'IYD',\n",
       " 'ENSG00000009780.11': 'FAM76A',\n",
       " 'ENSG00000009790.10': 'TRAF3IP3',\n",
       " 'ENSG00000009830.7': 'POMT2',\n",
       " 'ENSG00000009844.11': 'VTA1',\n",
       " 'ENSG00000009950.11': 'MLXIPL',\n",
       " 'ENSG00000009954.6': 'BAZ1B',\n",
       " 'ENSG00000010017.9': 'RANBP9',\n",
       " 'ENSG00000010030.9': 'ETV7',\n",
       " 'ENSG00000010072.11': 'SPRTN',\n",
       " 'ENSG00000010165.15': 'EEF1AKNMT',\n",
       " 'ENSG00000010219.9': 'DYRK4',\n",
       " 'ENSG00000010244.12': 'ZNF207',\n",
       " 'ENSG00000010256.6': 'UQCRC1',\n",
       " 'ENSG00000010270.9': 'STARD3NL',\n",
       " 'ENSG00000010278.7': 'CD9',\n",
       " 'ENSG00000010282.10': 'HHATL',\n",
       " 'ENSG00000010292.8': 'NCAPD2',\n",
       " 'ENSG00000010295.15': 'IFFO1',\n",
       " 'ENSG00000010310.4': 'GIPR',\n",
       " 'ENSG00000010318.15': 'PHF7',\n",
       " 'ENSG00000010319.2': 'SEMA3G',\n",
       " 'ENSG00000010322.11': 'NISCH',\n",
       " 'ENSG00000010327.6': 'STAB1',\n",
       " 'ENSG00000010361.9': 'FUZ',\n",
       " 'ENSG00000010379.11': 'SLC6A13',\n",
       " 'ENSG00000010404.13': 'IDS',\n",
       " 'ENSG00000010539.7': 'ZNF200',\n",
       " 'ENSG00000010610.5': 'CD4',\n",
       " 'ENSG00000010626.10': 'LRRC23',\n",
       " 'ENSG00000010704.14': 'HFE',\n",
       " 'ENSG00000010803.12': 'SCMH1',\n",
       " 'ENSG00000010810.13': 'FYN',\n",
       " 'ENSG00000010818.4': 'HIVEP2',\n",
       " 'ENSG00000011007.8': 'ELOA',\n",
       " 'ENSG00000011009.6': 'LYPLA2',\n",
       " 'ENSG00000011021.17': 'CLCN6',\n",
       " 'ENSG00000011028.9': 'MRC2',\n",
       " 'ENSG00000011052.17': 'NME1-NME2',\n",
       " 'ENSG00000011105.7': 'TSPAN9',\n",
       " 'ENSG00000011114.10': 'BTBD7',\n",
       " 'ENSG00000011132.7': 'APBA3',\n",
       " 'ENSG00000011143.12': 'MKS1',\n",
       " 'ENSG00000011198.3': 'ABHD5',\n",
       " 'ENSG00000011201.6': 'ANOS1',\n",
       " 'ENSG00000011243.13': 'AKAP8L',\n",
       " 'ENSG00000011258.11': 'MBTD1',\n",
       " 'ENSG00000011260.9': 'UTP18',\n",
       " 'ENSG00000011275.14': 'RNF216',\n",
       " 'ENSG00000011295.11': 'TTC19',\n",
       " 'ENSG00000011304.12': 'PTBP1',\n",
       " 'ENSG00000011332.15': 'DPF1',\n",
       " 'ENSG00000011347.5': 'SYT7',\n",
       " 'ENSG00000011376.5': 'LARS2',\n",
       " 'ENSG00000011405.9': 'PIK3C2A',\n",
       " 'ENSG00000011422.7': 'PLAUR',\n",
       " 'ENSG00000011426.6': 'ANLN',\n",
       " 'ENSG00000011451.13': 'WIZ',\n",
       " 'ENSG00000011454.12': 'RABGAP1',\n",
       " 'ENSG00000011478.7': 'QPCTL',\n",
       " 'ENSG00000011485.10': 'PPP5C',\n",
       " 'ENSG00000011523.9': 'CEP68',\n",
       " 'ENSG00000011566.10': 'MAP4K3',\n",
       " 'ENSG00000011600.7': 'TYROBP',\n",
       " 'ENSG00000011638.6': 'TMEM159',\n",
       " 'ENSG00000011677.8': 'GABRA3',\n",
       " 'ENSG00000012048.15': 'BRCA1',\n",
       " 'ENSG00000012061.11': 'ERCC1',\n",
       " 'ENSG00000012124.10': 'CD22',\n",
       " 'ENSG00000012171.13': 'SEMA3B',\n",
       " 'ENSG00000012174.7': 'MBTPS2',\n",
       " 'ENSG00000012211.8': 'PRICKLE3',\n",
       " 'ENSG00000012232.4': 'EXTL3',\n",
       " 'ENSG00000012504.9': 'NR1H4',\n",
       " 'ENSG00000012660.9': 'ELOVL5',\n",
       " 'ENSG00000012779.6': 'ALOX5',\n",
       " 'ENSG00000012817.11': 'KDM5D',\n",
       " 'ENSG00000012822.11': 'CALCOCO1',\n",
       " 'ENSG00000012963.9': 'UBR7',\n",
       " 'ENSG00000012983.7': 'MAP4K5',\n",
       " 'ENSG00000013016.10': 'EHD3',\n",
       " 'ENSG00000013275.3': 'PSMC4',\n",
       " 'ENSG00000013288.4': 'MAN2B2',\n",
       " 'ENSG00000013297.6': 'CLDN11',\n",
       " 'ENSG00000013306.11': 'SLC25A39',\n",
       " 'ENSG00000013364.14': 'MVP',\n",
       " 'ENSG00000013374.11': 'NUB1',\n",
       " 'ENSG00000013375.11': 'PGM3',\n",
       " 'ENSG00000013392.6': 'RWDD2A',\n",
       " 'ENSG00000013441.11': 'CLK1',\n",
       " 'ENSG00000013503.5': 'POLR3B',\n",
       " 'ENSG00000013523.5': 'ANGEL1',\n",
       " 'ENSG00000013561.13': 'RNF14',\n",
       " 'ENSG00000013563.9': 'DNASE1L1',\n",
       " 'ENSG00000013573.12': 'DDX11',\n",
       " 'ENSG00000013583.4': 'HEBP1',\n",
       " 'ENSG00000013588.5': 'GPRC5A',\n",
       " 'ENSG00000013619.9': 'MAMLD1',\n",
       " 'ENSG00000013810.14': 'TACC3',\n",
       " 'ENSG00000014123.9': 'UFL1',\n",
       " 'ENSG00000014138.4': 'None',\n",
       " 'ENSG00000014164.6': 'ZC3H3',\n",
       " 'ENSG00000014216.11': 'CAPN1',\n",
       " 'ENSG00000014641.13': 'MDH1',\n",
       " 'ENSG00000014824.9': 'SLC30A9',\n",
       " 'ENSG00000014914.15': 'MTMR11',\n",
       " 'ENSG00000014919.8': 'COX15',\n",
       " 'ENSG00000015133.14': 'CCDC88C',\n",
       " 'ENSG00000015153.10': 'YAF2',\n",
       " 'ENSG00000015171.14': 'ZMYND11',\n",
       " 'ENSG00000015285.6': 'WAS',\n",
       " 'ENSG00000015413.5': 'DPEP1',\n",
       " 'ENSG00000015475.14': 'BID',\n",
       " 'ENSG00000015479.13': 'None',\n",
       " 'ENSG00000015520.10': 'NPC1L1',\n",
       " 'ENSG00000015532.5': 'XYLT2',\n",
       " 'ENSG00000015568.8': 'RGPD5',\n",
       " 'ENSG00000015592.12': 'STMN4',\n",
       " 'ENSG00000015676.13': 'NUDCD3',\n",
       " 'ENSG00000016391.6': 'CHDH',\n",
       " 'ENSG00000016864.12': 'GLT8D1',\n",
       " 'ENSG00000017260.15': 'ATP2C1',\n",
       " 'ENSG00000017373.11': 'None',\n",
       " 'ENSG00000017427.11': 'IGF1',\n",
       " 'ENSG00000017483.10': 'SLC38A5',\n",
       " 'ENSG00000017621.11': 'None',\n",
       " 'ENSG00000017797.7': 'RALBP1',\n",
       " 'ENSG00000018189.8': 'RUFY3',\n",
       " 'ENSG00000018236.10': 'CNTN1',\n",
       " 'ENSG00000018280.12': 'SLC11A1',\n",
       " 'ENSG00000018408.10': 'WWTR1',\n",
       " 'ENSG00000018510.8': 'AGPS',\n",
       " 'ENSG00000018610.9': 'CXorf56',\n",
       " 'ENSG00000018625.10': 'ATP1A2',\n",
       " 'ENSG00000018699.7': 'TTC27',\n",
       " 'ENSG00000018869.12': 'ZNF582',\n",
       " 'ENSG00000019102.7': 'VSIG2',\n",
       " 'ENSG00000019144.12': 'PHLDB1',\n",
       " 'ENSG00000019186.5': 'CYP24A1',\n",
       " 'ENSG00000019485.8': 'PRDM11',\n",
       " 'ENSG00000019505.3': 'SYT13',\n",
       " 'ENSG00000019549.4': 'SNAI2',\n",
       " 'ENSG00000019582.10': 'CD74',\n",
       " 'ENSG00000019995.6': 'ZRANB1',\n",
       " 'ENSG00000020129.11': 'NCDN',\n",
       " 'ENSG00000020181.13': 'ADGRA2',\n",
       " 'ENSG00000020256.15': 'ZFP64',\n",
       " 'ENSG00000020426.6': 'MNAT1',\n",
       " 'ENSG00000020577.9': 'SAMD4A',\n",
       " 'ENSG00000020633.14': 'RUNX3',\n",
       " 'ENSG00000020922.8': 'MRE11',\n",
       " 'ENSG00000021300.9': 'PLEKHB1',\n",
       " 'ENSG00000021355.8': 'SERPINB1',\n",
       " 'ENSG00000021461.12': 'CYP3A43',\n",
       " 'ENSG00000021488.8': 'SLC7A9',\n",
       " 'ENSG00000021574.7': 'SPAST',\n",
       " 'ENSG00000021645.13': 'NRXN3',\n",
       " 'ENSG00000021762.15': 'OSBPL5',\n",
       " 'ENSG00000021776.6': 'AQR',\n",
       " 'ENSG00000021826.10': 'CPS1',\n",
       " 'ENSG00000021852.8': 'C8B',\n",
       " 'ENSG00000022267.12': 'FHL1',\n",
       " 'ENSG00000022277.8': 'RTF2',\n",
       " 'ENSG00000022567.5': 'SLC45A4',\n",
       " 'ENSG00000022840.11': 'RNF10',\n",
       " 'ENSG00000022976.11': 'ZNF839',\n",
       " 'ENSG00000023041.7': 'ZDHHC6',\n",
       " 'ENSG00000023171.10': 'GRAMD1B',\n",
       " 'ENSG00000023191.12': 'RNH1',\n",
       " 'ENSG00000023228.9': 'NDUFS1',\n",
       " 'ENSG00000023287.8': 'RB1CC1',\n",
       " 'ENSG00000023318.7': 'ERP44',\n",
       " 'ENSG00000023330.10': 'ALAS1',\n",
       " 'ENSG00000023445.9': 'BIRC3',\n",
       " 'ENSG00000023516.7': 'AKAP11',\n",
       " 'ENSG00000023572.4': 'GLRX2',\n",
       " 'ENSG00000023608.4': 'SNAPC1',\n",
       " 'ENSG00000023697.8': 'DERA',\n",
       " 'ENSG00000023734.6': 'STRAP',\n",
       " 'ENSG00000023839.6': 'ABCC2',\n",
       " 'ENSG00000023892.9': 'DEF6',\n",
       " 'ENSG00000023902.9': 'PLEKHO1',\n",
       " 'ENSG00000023909.5': 'GCLM',\n",
       " 'ENSG00000024048.6': 'UBR2',\n",
       " 'ENSG00000024422.7': 'EHD2',\n",
       " 'ENSG00000024526.12': 'DEPDC1',\n",
       " 'ENSG00000024862.12': 'CCDC28A',\n",
       " 'ENSG00000025039.10': 'RRAGD',\n",
       " 'ENSG00000025156.8': 'HSF2',\n",
       " 'ENSG00000025293.11': 'PHF20',\n",
       " 'ENSG00000025423.7': 'HSD17B6',\n",
       " 'ENSG00000025434.14': 'NR1H3',\n",
       " 'ENSG00000025708.8': 'TYMP',\n",
       " 'ENSG00000025770.14': 'NCAPH2',\n",
       " 'ENSG00000025772.7': 'TOMM34',\n",
       " 'ENSG00000025796.9': 'SEC63',\n",
       " 'ENSG00000025800.9': 'KPNA6',\n",
       " 'ENSG00000026025.9': 'VIM',\n",
       " 'ENSG00000026036.16': 'RTEL1-TNFRSF6B',\n",
       " 'ENSG00000026103.15': 'FAS',\n",
       " 'ENSG00000026297.11': 'RNASET2',\n",
       " 'ENSG00000026508.12': 'CD44',\n",
       " 'ENSG00000026652.9': 'AGPAT4',\n",
       " 'ENSG00000026950.12': 'BTN3A1',\n",
       " 'ENSG00000027001.7': 'MIPEP',\n",
       " 'ENSG00000027075.9': 'PRKCH',\n",
       " 'ENSG00000027697.8': 'IFNGR1',\n",
       " 'ENSG00000027847.9': 'B4GALT7',\n",
       " 'ENSG00000027869.7': 'SH2D2A',\n",
       " 'ENSG00000028116.12': 'VRK2',\n",
       " 'ENSG00000028137.12': 'TNFRSF1B',\n",
       " 'ENSG00000028203.13': 'VEZT',\n",
       " 'ENSG00000028277.16': 'POU2F2',\n",
       " 'ENSG00000028310.13': 'BRD9',\n",
       " 'ENSG00000028528.10': 'SNX1',\n",
       " 'ENSG00000028839.5': 'TBPL1',\n",
       " 'ENSG00000029153.10': 'ARNTL2',\n",
       " 'ENSG00000029363.11': 'BCLAF1',\n",
       " 'ENSG00000029364.7': 'SLC39A9',\n",
       " 'ENSG00000029534.15': 'ANK1',\n",
       " 'ENSG00000029639.6': 'TFB1M',\n",
       " 'ENSG00000029725.12': 'RABEP1',\n",
       " 'ENSG00000029993.10': 'HMGB3',\n",
       " 'ENSG00000030066.9': 'NUP160',\n",
       " 'ENSG00000030110.8': 'BAK1',\n",
       " 'ENSG00000030419.12': 'IKZF2',\n",
       " 'ENSG00000030582.12': 'GRN',\n",
       " 'ENSG00000031003.6': 'FAM13B',\n",
       " 'ENSG00000031081.6': 'ARHGAP31',\n",
       " 'ENSG00000031691.6': 'CENPQ',\n",
       " 'ENSG00000031698.8': 'SARS1',\n",
       " 'ENSG00000031823.10': 'RANBP3',\n",
       " 'ENSG00000032219.14': 'ARID4A',\n",
       " 'ENSG00000032389.8': 'EIPR1',\n",
       " 'ENSG00000032444.11': 'PNPLA6',\n",
       " 'ENSG00000032742.13': 'IFT88',\n",
       " 'ENSG00000033011.7': 'ALG1',\n",
       " 'ENSG00000033030.9': 'ZCCHC8',\n",
       " 'ENSG00000033050.3': 'ABCF2',\n",
       " 'ENSG00000033100.10': 'CHPF2',\n",
       " 'ENSG00000033170.12': 'FUT8',\n",
       " 'ENSG00000033178.8': 'UBA6',\n",
       " 'ENSG00000033327.8': 'GAB2',\n",
       " 'ENSG00000033627.10': 'ATP6V0A1',\n",
       " 'ENSG00000033800.9': 'PIAS1',\n",
       " 'ENSG00000033867.12': 'SLC4A7',\n",
       " 'ENSG00000034053.10': 'APBA2',\n",
       " 'ENSG00000034063.9': 'None',\n",
       " 'ENSG00000034152.14': 'MAP2K3',\n",
       " 'ENSG00000034510.4': 'TMSB10',\n",
       " 'ENSG00000034533.7': 'ASTE1',\n",
       " 'ENSG00000034677.7': 'RNF19A',\n",
       " 'ENSG00000034693.10': 'PEX3',\n",
       " 'ENSG00000034713.3': 'GABARAPL2',\n",
       " 'ENSG00000035115.17': 'SH3YL1',\n",
       " 'ENSG00000035141.3': 'FAM136A',\n",
       " 'ENSG00000035403.12': 'VCL',\n",
       " 'ENSG00000035499.8': 'DEPDC1B',\n",
       " 'ENSG00000035664.7': 'DAPK2',\n",
       " 'ENSG00000035681.3': 'NSMAF',\n",
       " 'ENSG00000035687.9': 'ADSS2',\n",
       " 'ENSG00000035862.8': 'TIMP2',\n",
       " 'ENSG00000035928.10': 'RFC1',\n",
       " 'ENSG00000036054.8': 'TBC1D23',\n",
       " 'ENSG00000036257.8': 'CUL3',\n",
       " 'ENSG00000036448.5': 'MYOM2',\n",
       " 'ENSG00000036473.6': 'OTC',\n",
       " 'ENSG00000036530.4': 'CYP46A1',\n",
       " 'ENSG00000036549.8': 'ZZZ3',\n",
       " 'ENSG00000036672.11': 'USP2',\n",
       " 'ENSG00000037042.8': 'TUBG2',\n",
       " 'ENSG00000037241.3': 'RPL26L1',\n",
       " 'ENSG00000037280.11': 'FLT4',\n",
       " 'ENSG00000037474.10': 'NSUN2',\n",
       " 'ENSG00000037637.6': 'FBXO42',\n",
       " 'ENSG00000037749.7': 'MFAP3',\n",
       " 'ENSG00000037757.9': 'MRI1',\n",
       " 'ENSG00000037897.12': 'METTL1',\n",
       " 'ENSG00000037965.4': 'HOXC8',\n",
       " 'ENSG00000038002.4': 'AGA',\n",
       " 'ENSG00000038210.9': 'PI4K2B',\n",
       " 'ENSG00000038219.8': 'BOD1L1',\n",
       " 'ENSG00000038274.12': 'MAT2B',\n",
       " 'ENSG00000038358.10': 'EDC4',\n",
       " 'ENSG00000038382.13': 'TRIO',\n",
       " 'ENSG00000038427.11': 'VCAN',\n",
       " 'ENSG00000038532.10': 'CLEC16A',\n",
       " 'ENSG00000039068.14': 'CDH1',\n",
       " 'ENSG00000039123.11': 'MTREX',\n",
       " 'ENSG00000039139.9': 'DNAH5',\n",
       " 'ENSG00000039319.12': 'ZFYVE16',\n",
       " 'ENSG00000039523.13': 'RIPOR1',\n",
       " 'ENSG00000039537.9': 'C6',\n",
       " 'ENSG00000039560.9': 'RAI14',\n",
       " 'ENSG00000039600.6': 'SOX30',\n",
       " 'ENSG00000039650.5': 'PNKP',\n",
       " 'ENSG00000040199.14': 'PHLPP2',\n",
       " 'ENSG00000040275.12': 'SPDL1',\n",
       " 'ENSG00000040341.13': 'STAU2',\n",
       " 'ENSG00000040487.8': 'SLC66A1',\n",
       " 'ENSG00000040531.10': 'CTNS',\n",
       " 'ENSG00000040608.9': 'RTN4R',\n",
       " 'ENSG00000040633.8': 'PHF23',\n",
       " 'ENSG00000040731.6': 'CDH10',\n",
       " 'ENSG00000040933.11': 'INPP4A',\n",
       " 'ENSG00000041353.5': 'RAB27B',\n",
       " 'ENSG00000041357.11': 'PSMA4',\n",
       " 'ENSG00000041515.11': 'MYO16',\n",
       " 'ENSG00000041802.6': 'LSG1',\n",
       " 'ENSG00000041880.10': 'PARP3',\n",
       " 'ENSG00000041988.11': 'THAP3',\n",
       " 'ENSG00000042062.7': 'RIPOR3',\n",
       " 'ENSG00000042088.9': 'TDP1',\n",
       " 'ENSG00000042286.10': 'AIFM2',\n",
       " 'ENSG00000042317.12': 'SPATA7',\n",
       " 'ENSG00000042429.6': 'MED17',\n",
       " 'ENSG00000042445.9': 'RETSAT',\n",
       " 'ENSG00000042493.11': 'CAPG',\n",
       " 'ENSG00000042753.7': 'AP2S1',\n",
       " 'ENSG00000042781.8': 'USH2A',\n",
       " 'ENSG00000042832.7': 'TG',\n",
       " 'ENSG00000042980.8': 'ADAM28',\n",
       " 'ENSG00000043093.9': 'DCUN1D1',\n",
       " 'ENSG00000043143.16': 'JADE2',\n",
       " 'ENSG00000043355.6': 'ZIC2',\n",
       " 'ENSG00000043514.11': 'TRIT1',\n",
       " 'ENSG00000044090.4': 'CUL7',\n",
       " 'ENSG00000044115.16': 'CTNNA1',\n",
       " 'ENSG00000044446.7': 'PHKA2',\n",
       " 'ENSG00000044459.10': 'CNTLN',\n",
       " 'ENSG00000044524.6': 'EPHA3',\n",
       " 'ENSG00000044574.7': 'HSPA5',\n",
       " 'ENSG00000046604.8': 'DSG2',\n",
       " 'ENSG00000046647.9': 'GEMIN8',\n",
       " 'ENSG00000046651.10': 'OFD1',\n",
       " 'ENSG00000046653.10': 'GPM6B',\n",
       " 'ENSG00000046889.14': 'PREX2',\n",
       " 'ENSG00000047056.10': 'WDR37',\n",
       " 'ENSG00000047188.11': 'YTHDC2',\n",
       " 'ENSG00000047230.10': 'CTPS2',\n",
       " 'ENSG00000047249.12': 'ATP6V1H',\n",
       " 'ENSG00000047315.10': 'POLR2B',\n",
       " 'ENSG00000047346.8': 'FAM214A',\n",
       " 'ENSG00000047365.7': 'ARAP2',\n",
       " 'ENSG00000047410.9': 'TPR',\n",
       " 'ENSG00000047457.9': 'CP',\n",
       " 'ENSG00000047578.8': 'KIAA0556',\n",
       " 'ENSG00000047579.15': 'DTNBP1',\n",
       " 'ENSG00000047617.10': 'ANO2',\n",
       " 'ENSG00000047621.7': 'C12orf4',\n",
       " 'ENSG00000047634.10': 'SCML1',\n",
       " 'ENSG00000047644.13': 'WWC3',\n",
       " 'ENSG00000047648.17': 'ARHGAP6',\n",
       " 'ENSG00000047662.4': 'FAM184B',\n",
       " 'ENSG00000047849.17': 'MAP4',\n",
       " 'ENSG00000047932.9': 'GOPC',\n",
       " 'ENSG00000047936.6': 'ROS1',\n",
       " 'ENSG00000048028.7': 'USP28',\n",
       " 'ENSG00000048052.17': 'HDAC9',\n",
       " 'ENSG00000048140.13': 'TSPAN17',\n",
       " 'ENSG00000048162.15': 'NOP16',\n",
       " 'ENSG00000048342.11': 'CC2D2A',\n",
       " 'ENSG00000048392.7': 'RRM2B',\n",
       " 'ENSG00000048405.5': 'ZNF800',\n",
       " 'ENSG00000048471.9': 'SNX29',\n",
       " 'ENSG00000048544.5': 'MRPS10',\n",
       " 'ENSG00000048649.9': 'RSF1',\n",
       " 'ENSG00000048707.9': 'VPS13D',\n",
       " 'ENSG00000048740.13': 'CELF2',\n",
       " 'ENSG00000048828.12': 'FAM120A',\n",
       " 'ENSG00000048991.12': 'R3HDM1',\n",
       " 'ENSG00000049089.9': 'COL9A2',\n",
       " 'ENSG00000049130.9': 'KITLG',\n",
       " 'ENSG00000049167.9': 'ERCC8',\n",
       " 'ENSG00000049192.10': 'ADAMTS6',\n",
       " 'ENSG00000049239.8': 'H6PD',\n",
       " 'ENSG00000049245.8': 'VAMP3',\n",
       " 'ENSG00000049246.10': 'PER3',\n",
       " 'ENSG00000049249.4': 'TNFRSF9',\n",
       " 'ENSG00000049283.13': 'EPN3',\n",
       " 'ENSG00000049319.2': 'None',\n",
       " 'ENSG00000049323.11': 'LTBP1',\n",
       " 'ENSG00000049449.4': 'RCN1',\n",
       " 'ENSG00000049540.12': 'ELN',\n",
       " 'ENSG00000049541.6': 'RFC2',\n",
       " 'ENSG00000049618.17': 'ARID1B',\n",
       " 'ENSG00000049656.9': 'CLPTM1L',\n",
       " 'ENSG00000049759.12': 'NEDD4L',\n",
       " 'ENSG00000049768.10': 'FOXP3',\n",
       " 'ENSG00000049769.8': 'PPP1R3F',\n",
       " 'ENSG00000049860.9': 'HEXB',\n",
       " 'ENSG00000049883.10': 'PTCD2',\n",
       " 'ENSG00000050030.9': 'NEXMIF',\n",
       " 'ENSG00000050130.13': 'JKAMP',\n",
       " 'ENSG00000050165.13': 'DKK3',\n",
       " 'ENSG00000050327.10': 'ARHGEF5',\n",
       " 'ENSG00000050344.8': 'NFE2L3',\n",
       " 'ENSG00000050393.7': 'MCUR1',\n",
       " 'ENSG00000050405.9': 'LIMA1',\n",
       " 'ENSG00000050426.11': 'LETMD1',\n",
       " 'ENSG00000050438.12': 'SLC4A8',\n",
       " 'ENSG00000050555.13': 'LAMC3',\n",
       " 'ENSG00000050628.16': 'PTGER3',\n",
       " 'ENSG00000050748.13': 'MAPK9',\n",
       " 'ENSG00000050767.11': 'COL23A1',\n",
       " 'ENSG00000050820.12': 'BCAR1',\n",
       " 'ENSG00000051009.6': 'FAM160A2',\n",
       " 'ENSG00000051108.10': 'HERPUD1',\n",
       " 'ENSG00000051128.14': 'HOMER3',\n",
       " 'ENSG00000051180.12': 'RAD51',\n",
       " 'ENSG00000051341.9': 'POLQ',\n",
       " 'ENSG00000051382.4': 'PIK3CB',\n",
       " 'ENSG00000051523.6': 'CYBA',\n",
       " 'ENSG00000051596.5': 'THOC3',\n",
       " 'ENSG00000051620.6': 'HEBP2',\n",
       " 'ENSG00000051825.10': 'MPHOSPH9',\n",
       " 'ENSG00000052126.10': 'PLEKHA5',\n",
       " 'ENSG00000052344.11': 'PRSS8',\n",
       " 'ENSG00000052723.7': 'SIKE1',\n",
       " 'ENSG00000052749.9': 'RRP12',\n",
       " 'ENSG00000052795.8': 'FNIP2',\n",
       " 'ENSG00000052802.8': 'MSMO1',\n",
       " 'ENSG00000052841.10': 'TTC17',\n",
       " 'ENSG00000052850.5': 'ALX4',\n",
       " 'ENSG00000053108.12': 'FSTL4',\n",
       " 'ENSG00000053254.11': 'FOXN3',\n",
       " 'ENSG00000053371.8': 'AKR7A2',\n",
       " 'ENSG00000053372.4': 'MRTO4',\n",
       " 'ENSG00000053501.8': 'USE1',\n",
       " 'ENSG00000053524.7': 'MCF2L2',\n",
       " 'ENSG00000053747.11': 'LAMA3',\n",
       " 'ENSG00000053770.7': 'AP5M1',\n",
       " 'ENSG00000053900.6': 'ANAPC4',\n",
       " 'ENSG00000053918.11': 'KCNQ1',\n",
       " 'ENSG00000054116.7': 'TRAPPC3',\n",
       " 'ENSG00000054118.9': 'THRAP3',\n",
       " 'ENSG00000054148.13': 'PHPT1',\n",
       " 'ENSG00000054179.7': 'ENTPD2',\n",
       " 'ENSG00000054267.16': 'ARID4B',\n",
       " 'ENSG00000054277.8': 'OPN3',\n",
       " 'ENSG00000054282.11': 'SDCCAG8',\n",
       " 'ENSG00000054356.9': 'PTPRN',\n",
       " 'ENSG00000054392.8': 'HHAT',\n",
       " 'ENSG00000054523.12': 'KIF1B',\n",
       " 'ENSG00000054598.5': 'FOXC1',\n",
       " 'ENSG00000054611.9': 'TBC1D22A',\n",
       " 'ENSG00000054654.11': 'SYNE2',\n",
       " 'ENSG00000054690.9': 'PLEKHH1',\n",
       " 'ENSG00000054793.9': 'ATP9A',\n",
       " 'ENSG00000054938.11': 'CHRDL2',\n",
       " 'ENSG00000054965.6': 'FAM168A',\n",
       " 'ENSG00000054967.8': 'RELT',\n",
       " 'ENSG00000055044.6': 'NOP58',\n",
       " 'ENSG00000055070.12': 'SZRD1',\n",
       " 'ENSG00000055118.10': 'KCNH2',\n",
       " 'ENSG00000055130.11': 'CUL1',\n",
       " 'ENSG00000055147.13': 'FAM114A2',\n",
       " 'ENSG00000055163.14': 'CYFIP2',\n",
       " 'ENSG00000055208.13': 'None',\n",
       " 'ENSG00000055211.8': 'GINM1',\n",
       " 'ENSG00000055332.12': 'EIF2AK2',\n",
       " 'ENSG00000055483.15': 'USP36',\n",
       " 'ENSG00000055609.13': 'KMT2C',\n",
       " 'ENSG00000055732.8': 'MCOLN3',\n",
       " 'ENSG00000055917.11': 'PUM2',\n",
       " 'ENSG00000055950.12': 'MRPL43',\n",
       " 'ENSG00000055955.11': 'ITIH4',\n",
       " 'ENSG00000055957.6': 'ITIH1',\n",
       " 'ENSG00000056050.6': 'HPF1',\n",
       " 'ENSG00000056097.11': 'ZFR',\n",
       " 'ENSG00000056277.11': 'ZNF280C',\n",
       " 'ENSG00000056487.11': 'PHF21B',\n",
       " 'ENSG00000056558.6': 'TRAF1',\n",
       " 'ENSG00000056586.11': 'RC3H2',\n",
       " 'ENSG00000056661.9': 'None',\n",
       " 'ENSG00000056736.5': 'IL17RB',\n",
       " 'ENSG00000056972.14': 'TRAF3IP2',\n",
       " 'ENSG00000056998.14': 'GYG2',\n",
       " 'ENSG00000057019.11': 'DCBLD2',\n",
       " 'ENSG00000057252.8': 'SOAT1',\n",
       " 'ENSG00000057294.9': 'PKP2',\n",
       " 'ENSG00000057468.6': 'MSH4',\n",
       " 'ENSG00000057593.9': 'F7',\n",
       " 'ENSG00000057608.12': 'GDI2',\n",
       " 'ENSG00000057657.10': 'PRDM1',\n",
       " 'ENSG00000057663.8': 'ATG5',\n",
       " 'ENSG00000057704.6': 'TMCC3',\n",
       " 'ENSG00000057757.5': 'PITHD1',\n",
       " 'ENSG00000057935.9': 'MTA3',\n",
       " 'ENSG00000058056.4': 'USP13',\n",
       " 'ENSG00000058063.11': 'ATP11B',\n",
       " 'ENSG00000058085.10': 'LAMC2',\n",
       " 'ENSG00000058091.12': 'CDK14',\n",
       " 'ENSG00000058262.5': 'SEC61A1',\n",
       " 'ENSG00000058272.11': 'PPP1R12A',\n",
       " 'ENSG00000058335.11': 'RASGRF1',\n",
       " 'ENSG00000058404.15': 'CAMK2B',\n",
       " 'ENSG00000058453.12': 'CROCC',\n",
       " 'ENSG00000058600.11': 'POLR3E',\n",
       " 'ENSG00000058668.10': 'ATP2B4',\n",
       " 'ENSG00000058673.11': 'ZC3H11A',\n",
       " 'ENSG00000058729.6': 'RIOK2',\n",
       " 'ENSG00000058799.9': 'YIPF1',\n",
       " 'ENSG00000058804.10': 'NDC1',\n",
       " 'ENSG00000058866.10': 'DGKG',\n",
       " 'ENSG00000059122.12': 'FLYWCH1',\n",
       " 'ENSG00000059145.14': 'UNKL',\n",
       " 'ENSG00000059377.11': 'TBXAS1',\n",
       " 'ENSG00000059378.8': 'PARP12',\n",
       " 'ENSG00000059573.4': 'ALDH18A1',\n",
       " 'ENSG00000059588.5': 'TARBP1',\n",
       " 'ENSG00000059691.7': 'GATB',\n",
       " 'ENSG00000059728.6': 'MXD1',\n",
       " 'ENSG00000059758.3': 'CDK17',\n",
       " 'ENSG00000059769.15': 'DNAJC25',\n",
       " 'ENSG00000059804.11': 'SLC2A3',\n",
       " 'ENSG00000059915.12': 'PSD',\n",
       " 'ENSG00000060069.12': 'CTDP1',\n",
       " 'ENSG00000060138.8': 'YBX3',\n",
       " 'ENSG00000060237.12': 'WNK1',\n",
       " 'ENSG00000060339.9': 'CCAR1',\n",
       " 'ENSG00000060491.12': 'OGFR',\n",
       " 'ENSG00000060558.3': 'GNA15',\n",
       " 'ENSG00000060566.9': 'CREB3L3',\n",
       " 'ENSG00000060642.6': 'PIGV',\n",
       " 'ENSG00000060656.15': 'PTPRU',\n",
       " 'ENSG00000060688.8': 'SNRNP40',\n",
       " 'ENSG00000060709.9': 'RIMBP2',\n",
       " 'ENSG00000060718.14': 'COL11A1',\n",
       " 'ENSG00000060749.10': 'QSER1',\n",
       " 'ENSG00000060762.14': 'MPC1',\n",
       " 'ENSG00000060971.13': 'ACAA1',\n",
       " 'ENSG00000060982.10': 'BCAT1',\n",
       " 'ENSG00000061273.13': 'HDAC7',\n",
       " 'ENSG00000061337.11': 'LZTS1',\n",
       " 'ENSG00000061455.10': 'PRDM6',\n",
       " 'ENSG00000061492.7': 'WNT8A',\n",
       " 'ENSG00000061656.5': 'SPAG4',\n",
       " 'ENSG00000061676.10': 'NCKAP1',\n",
       " 'ENSG00000061794.8': 'MRPS35',\n",
       " 'ENSG00000061936.5': 'SFSWAP',\n",
       " 'ENSG00000061938.12': 'TNK2',\n",
       " 'ENSG00000061987.10': 'MON2',\n",
       " 'ENSG00000062038.9': 'CDH3',\n",
       " 'ENSG00000062096.10': 'ARSF',\n",
       " 'ENSG00000062194.11': 'GPBP1',\n",
       " 'ENSG00000062282.10': 'DGAT2',\n",
       " 'ENSG00000062370.12': 'ZNF112',\n",
       " 'ENSG00000062485.14': 'CS',\n",
       " 'ENSG00000062524.11': 'LTK',\n",
       " 'ENSG00000062582.9': 'MRPS24',\n",
       " 'ENSG00000062598.13': 'ELMO2',\n",
       " 'ENSG00000062650.13': 'WAPL',\n",
       " 'ENSG00000062716.6': 'VMP1',\n",
       " 'ENSG00000062725.5': 'APPBP2',\n",
       " 'ENSG00000062822.8': 'POLD1',\n",
       " 'ENSG00000063015.15': 'SEZ6',\n",
       " 'ENSG00000063046.13': 'EIF4B',\n",
       " 'ENSG00000063127.11': 'SLC6A16',\n",
       " 'ENSG00000063169.6': 'BICRA',\n",
       " 'ENSG00000063176.11': 'SPHK2',\n",
       " 'ENSG00000063177.8': 'RPL18',\n",
       " 'ENSG00000063180.4': 'CA11',\n",
       " 'ENSG00000063241.3': 'ISOC2',\n",
       " 'ENSG00000063244.8': 'U2AF2',\n",
       " 'ENSG00000063245.10': 'EPN1',\n",
       " 'ENSG00000063322.9': 'MED29',\n",
       " 'ENSG00000063438.12': 'None',\n",
       " 'ENSG00000063587.12': 'LOC105373378',\n",
       " 'ENSG00000063601.12': 'MTMR1',\n",
       " 'ENSG00000063660.4': 'GPC1',\n",
       " 'ENSG00000063761.11': 'ADCK1',\n",
       " 'ENSG00000063854.8': 'HAGH',\n",
       " 'ENSG00000063978.11': 'RNF4',\n",
       " 'ENSG00000064012.17': 'CASP8',\n",
       " 'ENSG00000064042.13': 'LIMCH1',\n",
       " 'ENSG00000064102.10': 'INTS13',\n",
       " 'ENSG00000064115.6': 'TM7SF3',\n",
       " 'ENSG00000064195.7': 'DLX3',\n",
       " 'ENSG00000064199.2': 'SPA17',\n",
       " 'ENSG00000064201.11': 'TSPAN32',\n",
       " 'ENSG00000064205.6': 'CCN5',\n",
       " 'ENSG00000064225.8': 'ST3GAL6',\n",
       " 'ENSG00000064270.8': 'ATP2C2',\n",
       " 'ENSG00000064300.4': 'NGFR',\n",
       " 'ENSG00000064309.10': 'CDON',\n",
       " 'ENSG00000064313.7': 'TAF2',\n",
       " 'ENSG00000064393.11': 'HIPK2',\n",
       " 'ENSG00000064419.9': 'TNPO3',\n",
       " 'ENSG00000064489.17': 'None',\n",
       " 'ENSG00000064490.9': 'RFXANK',\n",
       " 'ENSG00000064545.10': 'TMEM161A',\n",
       " 'ENSG00000064547.9': 'LPAR2',\n",
       " 'ENSG00000064601.12': 'CTSA',\n",
       " 'ENSG00000064607.12': 'SUGP2',\n",
       " 'ENSG00000064651.9': 'SLC12A2',\n",
       " 'ENSG00000064652.6': 'SNX24',\n",
       " 'ENSG00000064666.10': 'CNN2',\n",
       " 'ENSG00000064687.8': 'ABCA7',\n",
       " 'ENSG00000064692.14': 'SNCAIP',\n",
       " 'ENSG00000064703.7': 'DDX20',\n",
       " 'ENSG00000064726.5': 'BTBD1',\n",
       " 'ENSG00000064787.8': 'BCAS1',\n",
       " 'ENSG00000064886.9': 'CHI3L2',\n",
       " 'ENSG00000064932.11': 'SBNO2',\n",
       " 'ENSG00000064933.12': 'PMS1',\n",
       " 'ENSG00000064961.14': 'HMG20B',\n",
       " 'ENSG00000064989.8': 'CALCRL',\n",
       " 'ENSG00000064995.12': 'TAF11',\n",
       " 'ENSG00000064999.12': 'ANKS1A',\n",
       " 'ENSG00000065000.11': 'AP3D1',\n",
       " 'ENSG00000065029.10': 'ZNF76',\n",
       " 'ENSG00000065054.9': 'SLC9A3R2',\n",
       " 'ENSG00000065057.3': 'NTHL1',\n",
       " 'ENSG00000065060.12': 'UHRF1BP1',\n",
       " 'ENSG00000065135.7': 'GNAI3',\n",
       " 'ENSG00000065150.14': 'IPO5',\n",
       " 'ENSG00000065154.7': 'OAT',\n",
       " 'ENSG00000065183.11': 'WDR3',\n",
       " 'ENSG00000065243.14': 'PKN2',\n",
       " 'ENSG00000065268.6': 'WDR18',\n",
       " 'ENSG00000065308.4': 'TRAM2',\n",
       " 'ENSG00000065320.4': 'NTN1',\n",
       " 'ENSG00000065325.8': 'GLP2R',\n",
       " 'ENSG00000065328.12': 'MCM10',\n",
       " 'ENSG00000065357.15': 'DGKA',\n",
       " 'ENSG00000065361.10': 'ERBB3',\n",
       " 'ENSG00000065413.12': 'ANKRD44',\n",
       " 'ENSG00000065427.10': 'KARS1',\n",
       " 'ENSG00000065457.6': 'ADAT1',\n",
       " 'ENSG00000065485.13': 'PDIA5',\n",
       " 'ENSG00000065491.8': 'TBC1D22B',\n",
       " 'ENSG00000065518.7': 'NDUFB4',\n",
       " 'ENSG00000065526.6': 'SPEN',\n",
       " 'ENSG00000065534.14': 'MYLK',\n",
       " 'ENSG00000065548.13': 'ZC3H15',\n",
       " 'ENSG00000065559.10': 'MAP2K4',\n",
       " 'ENSG00000065600.8': 'PACC1',\n",
       " 'ENSG00000065609.10': 'SNAP91',\n",
       " 'ENSG00000065613.9': 'SLK',\n",
       " 'ENSG00000065615.9': 'CYB5R4',\n",
       " 'ENSG00000065618.12': 'COL17A1',\n",
       " 'ENSG00000065621.10': 'GSTO2',\n",
       " 'ENSG00000065665.16': 'SEC61A2',\n",
       " 'ENSG00000065675.10': 'PRKCQ',\n",
       " 'ENSG00000065717.10': 'TLE2',\n",
       " 'ENSG00000065802.7': 'ASB1',\n",
       " 'ENSG00000065809.9': 'FAM107B',\n",
       " 'ENSG00000065882.11': 'TBC1D1',\n",
       " 'ENSG00000065883.10': 'CDK13',\n",
       " 'ENSG00000065911.7': 'MTHFD2',\n",
       " 'ENSG00000065923.5': 'SLC9A7',\n",
       " 'ENSG00000065970.4': 'FOXJ2',\n",
       " 'ENSG00000065978.13': 'YBX1',\n",
       " 'ENSG00000065989.11': 'PDE4A',\n",
       " 'ENSG00000066027.7': 'PPP2R5A',\n",
       " 'ENSG00000066032.14': 'CTNNA2',\n",
       " 'ENSG00000066044.9': 'ELAVL1',\n",
       " 'ENSG00000066056.9': 'TIE1',\n",
       " 'ENSG00000066084.8': 'DIP2B',\n",
       " 'ENSG00000066117.10': 'SMARCD1',\n",
       " 'ENSG00000066135.8': 'KDM4A',\n",
       " 'ENSG00000066136.15': 'NFYC',\n",
       " 'ENSG00000066185.8': 'ZMYND12',\n",
       " 'ENSG00000066248.10': 'NGEF',\n",
       " 'ENSG00000066279.12': 'ASPM',\n",
       " 'ENSG00000066322.8': 'ELOVL1',\n",
       " 'ENSG00000066336.7': 'SPI1',\n",
       " 'ENSG00000066379.10': 'ZNRD1',\n",
       " 'ENSG00000066422.4': 'ZBTB11',\n",
       " 'ENSG00000066427.17': 'ATXN3',\n",
       " 'ENSG00000066455.8': 'GOLGA5',\n",
       " 'ENSG00000066468.16': 'FGFR2',\n",
       " 'ENSG00000066557.5': 'LRRC40',\n",
       " 'ENSG00000066583.7': 'ISOC1',\n",
       " 'ENSG00000066629.12': 'EML1',\n",
       " 'ENSG00000066651.13': 'TRMT11',\n",
       " 'ENSG00000066654.8': 'THUMPD1',\n",
       " 'ENSG00000066697.10': 'MSANTD3',\n",
       " 'ENSG00000066739.7': 'ATG2B',\n",
       " 'ENSG00000066777.4': 'ARFGEF1',\n",
       " 'ENSG00000066813.10': 'ACSM2B',\n",
       " 'ENSG00000066827.11': 'ZFAT',\n",
       " 'ENSG00000066855.11': 'MTFR1',\n",
       " 'ENSG00000066923.13': 'STAG3',\n",
       " 'ENSG00000066926.6': 'FECH',\n",
       " 'ENSG00000066933.11': 'MYO9A',\n",
       " 'ENSG00000067048.12': 'DDX3Y',\n",
       " 'ENSG00000067057.12': 'PFKP',\n",
       " 'ENSG00000067064.6': 'IDI1',\n",
       " 'ENSG00000067066.12': 'SP100',\n",
       " 'ENSG00000067082.10': 'KLF6',\n",
       " 'ENSG00000067113.12': 'PLPP1',\n",
       " 'ENSG00000067141.12': 'NEO1',\n",
       " 'ENSG00000067167.3': 'TRAM1',\n",
       " 'ENSG00000067177.10': 'PHKA1',\n",
       " 'ENSG00000067182.3': 'TNFRSF1A',\n",
       " 'ENSG00000067191.11': 'CACNB1',\n",
       " 'ENSG00000067208.10': 'EVI5',\n",
       " 'ENSG00000067221.9': 'STOML1',\n",
       " 'ENSG00000067225.13': 'PKM',\n",
       " 'ENSG00000067248.5': 'DHX29',\n",
       " 'ENSG00000067334.9': 'DNTTIP2',\n",
       " 'ENSG00000067365.10': 'METTL22',\n",
       " 'ENSG00000067369.9': 'TP53BP1',\n",
       " 'ENSG00000067445.16': 'TRO',\n",
       " 'ENSG00000067533.5': 'RRP15',\n",
       " 'ENSG00000067560.6': 'RHOA',\n",
       " 'ENSG00000067596.6': 'DHX8',\n",
       " 'ENSG00000067601.6': 'PMS2P4',\n",
       " 'ENSG00000067606.11': 'PRKCZ',\n",
       " 'ENSG00000067646.7': 'ZFY',\n",
       " 'ENSG00000067704.8': 'IARS2',\n",
       " 'ENSG00000067715.9': 'SYT1',\n",
       " 'ENSG00000067798.9': 'NAV3',\n",
       " 'ENSG00000067829.14': 'IDH3G',\n",
       " 'ENSG00000067836.8': 'ROGDI',\n",
       " 'ENSG00000067840.8': 'PDZD4',\n",
       " 'ENSG00000067842.13': 'ATP2B3',\n",
       " 'ENSG00000067900.6': 'ROCK1',\n",
       " 'ENSG00000067955.9': 'CBFB',\n",
       " 'ENSG00000067992.8': 'PDK3',\n",
       " 'ENSG00000068001.9': 'HYAL2',\n",
       " 'ENSG00000068024.12': 'HDAC4',\n",
       " 'ENSG00000068028.13': 'RASSF1',\n",
       " 'ENSG00000068078.13': 'FGFR3',\n",
       " 'ENSG00000068079.3': 'IFI35',\n",
       " 'ENSG00000068097.10': 'HEATR6',\n",
       " 'ENSG00000068120.10': 'COASY',\n",
       " 'ENSG00000068137.10': 'PLEKHH3',\n",
       " 'ENSG00000068305.13': 'MEF2A',\n",
       " 'ENSG00000068308.9': 'OTUD5',\n",
       " 'ENSG00000068323.12': 'TFE3',\n",
       " 'ENSG00000068354.11': 'TBC1D25',\n",
       " 'ENSG00000068366.15': 'ACSL4',\n",
       " 'ENSG00000068383.14': 'INPP5A',\n",
       " 'ENSG00000068394.9': 'GPKOW',\n",
       " 'ENSG00000068400.9': 'GRIPAP1',\n",
       " 'ENSG00000068438.10': 'FTSJ1',\n",
       " 'ENSG00000068489.8': 'PRR11',\n",
       " 'ENSG00000068615.12': 'REEP1',\n",
       " 'ENSG00000068650.14': 'ATP11A',\n",
       " 'ENSG00000068654.11': 'POLR1A',\n",
       " 'ENSG00000068697.6': 'LAPTM4A',\n",
       " 'ENSG00000068724.11': 'TTC7A',\n",
       " 'ENSG00000068745.10': 'IP6K2',\n",
       " 'ENSG00000068781.16': 'STON1-GTF2A1L',\n",
       " 'ENSG00000068784.8': 'SRBD1',\n",
       " 'ENSG00000068793.13': 'None',\n",
       " 'ENSG00000068796.12': 'KIF2A',\n",
       " 'ENSG00000068831.14': 'RASGRP2',\n",
       " 'ENSG00000068878.10': 'PSME4',\n",
       " 'ENSG00000068885.10': 'IFT80',\n",
       " 'ENSG00000068903.15': 'SIRT2',\n",
       " 'ENSG00000068912.9': 'ERLEC1',\n",
       " 'ENSG00000068971.9': 'PPP2R5B',\n",
       " 'ENSG00000068976.9': 'PYGM',\n",
       " 'ENSG00000068985.4': 'PAGE1',\n",
       " 'ENSG00000069011.11': 'PITX1',\n",
       " 'ENSG00000069020.14': 'MAST4',\n",
       " 'ENSG00000069188.12': 'SDK2',\n",
       " 'ENSG00000069248.9': 'NUP133',\n",
       " 'ENSG00000069275.12': 'NUCKS1',\n",
       " 'ENSG00000069329.11': 'VPS35',\n",
       " 'ENSG00000069345.7': 'DNAJA2',\n",
       " 'ENSG00000069399.8': 'BCL3',\n",
       " 'ENSG00000069424.10': 'KCNAB2',\n",
       " 'ENSG00000069431.6': 'ABCC9',\n",
       " 'ENSG00000069493.10': 'CLEC2D',\n",
       " 'ENSG00000069509.5': 'FUNDC1',\n",
       " 'ENSG00000069535.12': 'MAOB',\n",
       " 'ENSG00000069667.11': 'RORA',\n",
       " 'ENSG00000069696.6': 'DRD4',\n",
       " 'ENSG00000069702.6': 'TGFBR3',\n",
       " 'ENSG00000069712.9': 'None',\n",
       " 'ENSG00000069812.7': 'HES2',\n",
       " 'ENSG00000069849.6': 'ATP1B3',\n",
       " 'ENSG00000069869.11': 'NEDD4',\n",
       " 'ENSG00000069943.5': 'PIGB',\n",
       " 'ENSG00000069956.7': 'MAPK6',\n",
       " 'ENSG00000069966.14': 'GNB5',\n",
       " 'ENSG00000069974.11': 'RAB27A',\n",
       " 'ENSG00000070010.14': 'UFD1',\n",
       " 'ENSG00000070018.4': 'LRP6',\n",
       " 'ENSG00000070019.3': 'GUCY2C',\n",
       " 'ENSG00000070047.7': 'PHRF1',\n",
       " 'ENSG00000070061.10': 'ELP1',\n",
       " ...}"
      ]
     },
     "execution_count": 5,
     "metadata": {},
     "output_type": "execute_result"
    }
   ],
   "source": [
    "conversion_dict = name_conversion_file.to_dict()[1]\n",
    "conversion_dict"
   ]
  },
  {
   "cell_type": "code",
   "execution_count": 6,
   "id": "570cce20",
   "metadata": {},
   "outputs": [],
   "source": [
    "# format pathway file\n",
    "pathway_dfs = dict()\n",
    "for f in pathway_file:\n",
    "    symbol_list = []\n",
    "    collection_list = []\n",
    "    geneset_list = []\n",
    "    file = open(f, 'r')\n",
    "    info = file.readlines()\n",
    "    for line in info:\n",
    "        line = line.strip().split('\\t')\n",
    "        for gene in line[2:]:\n",
    "            symbol_list.append(gene)\n",
    "            collection_list.append('custom')\n",
    "            geneset_list.append(line[0])\n",
    "    pathway_df = pd.DataFrame()\n",
    "    pathway_df['genesymbol'] = symbol_list\n",
    "    pathway_df['collection'] = collection_list\n",
    "    pathway_df['geneset'] = geneset_list\n",
    "    pathway_dfs[f] = pathway_df\n",
    "    file.close()"
   ]
  },
  {
   "cell_type": "code",
   "execution_count": 7,
   "id": "fe273191",
   "metadata": {},
   "outputs": [
    {
     "data": {
      "text/html": [
       "<div>\n",
       "<style scoped>\n",
       "    .dataframe tbody tr th:only-of-type {\n",
       "        vertical-align: middle;\n",
       "    }\n",
       "\n",
       "    .dataframe tbody tr th {\n",
       "        vertical-align: top;\n",
       "    }\n",
       "\n",
       "    .dataframe thead th {\n",
       "        text-align: right;\n",
       "    }\n",
       "</style>\n",
       "<table border=\"1\" class=\"dataframe\">\n",
       "  <thead>\n",
       "    <tr style=\"text-align: right;\">\n",
       "      <th></th>\n",
       "      <th>genesymbol</th>\n",
       "      <th>collection</th>\n",
       "      <th>geneset</th>\n",
       "    </tr>\n",
       "  </thead>\n",
       "  <tbody>\n",
       "    <tr>\n",
       "      <th>0</th>\n",
       "      <td>ENSG00000206878.1</td>\n",
       "      <td>custom</td>\n",
       "      <td>NOL12</td>\n",
       "    </tr>\n",
       "    <tr>\n",
       "      <th>1</th>\n",
       "      <td>ENSG00000224365.1</td>\n",
       "      <td>custom</td>\n",
       "      <td>NOL12</td>\n",
       "    </tr>\n",
       "    <tr>\n",
       "      <th>2</th>\n",
       "      <td>ENSG00000238622.1</td>\n",
       "      <td>custom</td>\n",
       "      <td>NOL12</td>\n",
       "    </tr>\n",
       "    <tr>\n",
       "      <th>3</th>\n",
       "      <td>ENSG00000255072.1</td>\n",
       "      <td>custom</td>\n",
       "      <td>NOL12</td>\n",
       "    </tr>\n",
       "    <tr>\n",
       "      <th>4</th>\n",
       "      <td>ENSG00000200320.1</td>\n",
       "      <td>custom</td>\n",
       "      <td>NOL12</td>\n",
       "    </tr>\n",
       "    <tr>\n",
       "      <th>...</th>\n",
       "      <td>...</td>\n",
       "      <td>...</td>\n",
       "      <td>...</td>\n",
       "    </tr>\n",
       "    <tr>\n",
       "      <th>39395</th>\n",
       "      <td>ENSG00000110013.8</td>\n",
       "      <td>custom</td>\n",
       "      <td>RBM22</td>\n",
       "    </tr>\n",
       "    <tr>\n",
       "      <th>39396</th>\n",
       "      <td>ENSG00000145020.10</td>\n",
       "      <td>custom</td>\n",
       "      <td>RBM22</td>\n",
       "    </tr>\n",
       "    <tr>\n",
       "      <th>39397</th>\n",
       "      <td>ENSG00000139269.2</td>\n",
       "      <td>custom</td>\n",
       "      <td>RBM22</td>\n",
       "    </tr>\n",
       "    <tr>\n",
       "      <th>39398</th>\n",
       "      <td>ENSG00000181192.7</td>\n",
       "      <td>custom</td>\n",
       "      <td>RBM22</td>\n",
       "    </tr>\n",
       "    <tr>\n",
       "      <th>39399</th>\n",
       "      <td>ENSG00000272767.1</td>\n",
       "      <td>custom</td>\n",
       "      <td>RBM22</td>\n",
       "    </tr>\n",
       "  </tbody>\n",
       "</table>\n",
       "<p>39400 rows × 3 columns</p>\n",
       "</div>"
      ],
      "text/plain": [
       "               genesymbol collection geneset\n",
       "0       ENSG00000206878.1     custom   NOL12\n",
       "1       ENSG00000224365.1     custom   NOL12\n",
       "2       ENSG00000238622.1     custom   NOL12\n",
       "3       ENSG00000255072.1     custom   NOL12\n",
       "4       ENSG00000200320.1     custom   NOL12\n",
       "...                   ...        ...     ...\n",
       "39395   ENSG00000110013.8     custom   RBM22\n",
       "39396  ENSG00000145020.10     custom   RBM22\n",
       "39397   ENSG00000139269.2     custom   RBM22\n",
       "39398   ENSG00000181192.7     custom   RBM22\n",
       "39399   ENSG00000272767.1     custom   RBM22\n",
       "\n",
       "[39400 rows x 3 columns]"
      ]
     },
     "execution_count": 7,
     "metadata": {},
     "output_type": "execute_result"
    }
   ],
   "source": [
    "pathway_dfs['deg_200/K562_fc/K562_bottom_200_fc.gmt']"
   ]
  },
  {
   "cell_type": "code",
   "execution_count": 9,
   "id": "cc216bab",
   "metadata": {
    "scrolled": true
   },
   "outputs": [
    {
     "name": "stdout",
     "output_type": "stream",
     "text": [
      "AARS.rnk\n"
     ]
    },
    {
     "name": "stderr",
     "output_type": "stream",
     "text": [
      "/var/folders/0t/zkf9kjwx2dl0_jdt25xk6l100000gn/T/ipykernel_31436/417767036.py:21: FutureWarning: X.dtype being converted to np.float32 from float64. In the next version of anndata (0.9) conversion will not be automatic. Pass dtype explicitly to avoid this warning. Pass `AnnData(X, dtype=X.dtype, ...)` to get the future behavour.\n",
      "  adata = ad.AnnData(data)\n",
      "/Users/luopin/opt/miniconda3/envs/scpa/lib/python3.10/site-packages/anndata/_core/anndata.py:121: ImplicitModificationWarning: Transforming to str index.\n",
      "  warnings.warn(\"Transforming to str index.\", ImplicitModificationWarning)\n"
     ]
    },
    {
     "name": "stdout",
     "output_type": "stream",
     "text": [
      "deg_200/K562_fc/K562_bottom_200_fc.gmt 2\n",
      "deg_200/K562_s2n/K562_bottom_200_signal2_noise.gmt 23\n",
      "deg_200/K562_edgeR_DE/DE_bottom_200.gmt 3\n",
      "deg_200/K562_DE/DE_top_200.gmt 1\n",
      "AATF.rnk\n"
     ]
    },
    {
     "name": "stderr",
     "output_type": "stream",
     "text": [
      "/var/folders/0t/zkf9kjwx2dl0_jdt25xk6l100000gn/T/ipykernel_31436/417767036.py:21: FutureWarning: X.dtype being converted to np.float32 from float64. In the next version of anndata (0.9) conversion will not be automatic. Pass dtype explicitly to avoid this warning. Pass `AnnData(X, dtype=X.dtype, ...)` to get the future behavour.\n",
      "  adata = ad.AnnData(data)\n",
      "/Users/luopin/opt/miniconda3/envs/scpa/lib/python3.10/site-packages/anndata/_core/anndata.py:121: ImplicitModificationWarning: Transforming to str index.\n",
      "  warnings.warn(\"Transforming to str index.\", ImplicitModificationWarning)\n"
     ]
    },
    {
     "name": "stdout",
     "output_type": "stream",
     "text": [
      "deg_200/K562_fc/K562_bottom_200_fc.gmt 10\n",
      "deg_200/K562_s2n/K562_bottom_200_signal2_noise.gmt 22\n",
      "deg_200/K562_edgeR_DE/DE_bottom_200.gmt 5\n",
      "deg_200/K562_DE/DE_top_200.gmt 2\n",
      "ABCF1.rnk\n"
     ]
    },
    {
     "name": "stderr",
     "output_type": "stream",
     "text": [
      "/var/folders/0t/zkf9kjwx2dl0_jdt25xk6l100000gn/T/ipykernel_31436/417767036.py:21: FutureWarning: X.dtype being converted to np.float32 from float64. In the next version of anndata (0.9) conversion will not be automatic. Pass dtype explicitly to avoid this warning. Pass `AnnData(X, dtype=X.dtype, ...)` to get the future behavour.\n",
      "  adata = ad.AnnData(data)\n",
      "/Users/luopin/opt/miniconda3/envs/scpa/lib/python3.10/site-packages/anndata/_core/anndata.py:121: ImplicitModificationWarning: Transforming to str index.\n",
      "  warnings.warn(\"Transforming to str index.\", ImplicitModificationWarning)\n"
     ]
    },
    {
     "name": "stdout",
     "output_type": "stream",
     "text": [
      "deg_200/K562_fc/K562_bottom_200_fc.gmt 41\n",
      "deg_200/K562_s2n/K562_bottom_200_signal2_noise.gmt 13\n",
      "deg_200/K562_edgeR_DE/DE_bottom_200.gmt 14\n",
      "deg_200/K562_DE/DE_top_200.gmt 13\n",
      "ADAR.rnk\n"
     ]
    },
    {
     "name": "stderr",
     "output_type": "stream",
     "text": [
      "/var/folders/0t/zkf9kjwx2dl0_jdt25xk6l100000gn/T/ipykernel_31436/417767036.py:21: FutureWarning: X.dtype being converted to np.float32 from float64. In the next version of anndata (0.9) conversion will not be automatic. Pass dtype explicitly to avoid this warning. Pass `AnnData(X, dtype=X.dtype, ...)` to get the future behavour.\n",
      "  adata = ad.AnnData(data)\n",
      "/Users/luopin/opt/miniconda3/envs/scpa/lib/python3.10/site-packages/anndata/_core/anndata.py:121: ImplicitModificationWarning: Transforming to str index.\n",
      "  warnings.warn(\"Transforming to str index.\", ImplicitModificationWarning)\n"
     ]
    },
    {
     "name": "stdout",
     "output_type": "stream",
     "text": [
      "deg_200/K562_fc/K562_bottom_200_fc.gmt 2\n",
      "deg_200/K562_s2n/K562_bottom_200_signal2_noise.gmt 6\n",
      "deg_200/K562_edgeR_DE/DE_bottom_200.gmt 1\n",
      "deg_200/K562_DE/DE_top_200.gmt 1\n",
      "AGO1.rnk\n"
     ]
    },
    {
     "name": "stderr",
     "output_type": "stream",
     "text": [
      "/var/folders/0t/zkf9kjwx2dl0_jdt25xk6l100000gn/T/ipykernel_31436/417767036.py:21: FutureWarning: X.dtype being converted to np.float32 from float64. In the next version of anndata (0.9) conversion will not be automatic. Pass dtype explicitly to avoid this warning. Pass `AnnData(X, dtype=X.dtype, ...)` to get the future behavour.\n",
      "  adata = ad.AnnData(data)\n",
      "/Users/luopin/opt/miniconda3/envs/scpa/lib/python3.10/site-packages/anndata/_core/anndata.py:121: ImplicitModificationWarning: Transforming to str index.\n",
      "  warnings.warn(\"Transforming to str index.\", ImplicitModificationWarning)\n"
     ]
    },
    {
     "name": "stdout",
     "output_type": "stream",
     "text": [
      "deg_200/K562_fc/K562_bottom_200_fc.gmt 2\n",
      "deg_200/K562_s2n/K562_bottom_200_signal2_noise.gmt 2\n",
      "deg_200/K562_edgeR_DE/DE_bottom_200.gmt 2\n",
      "deg_200/K562_DE/DE_top_200.gmt 2\n",
      "AKAP1.rnk\n"
     ]
    },
    {
     "name": "stderr",
     "output_type": "stream",
     "text": [
      "/var/folders/0t/zkf9kjwx2dl0_jdt25xk6l100000gn/T/ipykernel_31436/417767036.py:21: FutureWarning: X.dtype being converted to np.float32 from float64. In the next version of anndata (0.9) conversion will not be automatic. Pass dtype explicitly to avoid this warning. Pass `AnnData(X, dtype=X.dtype, ...)` to get the future behavour.\n",
      "  adata = ad.AnnData(data)\n",
      "/Users/luopin/opt/miniconda3/envs/scpa/lib/python3.10/site-packages/anndata/_core/anndata.py:121: ImplicitModificationWarning: Transforming to str index.\n",
      "  warnings.warn(\"Transforming to str index.\", ImplicitModificationWarning)\n"
     ]
    },
    {
     "name": "stdout",
     "output_type": "stream",
     "text": [
      "deg_200/K562_fc/K562_bottom_200_fc.gmt 36\n",
      "deg_200/K562_s2n/K562_bottom_200_signal2_noise.gmt 40\n",
      "deg_200/K562_edgeR_DE/DE_bottom_200.gmt 7\n",
      "deg_200/K562_DE/DE_top_200.gmt 2\n",
      "AKAP8.rnk\n"
     ]
    },
    {
     "name": "stderr",
     "output_type": "stream",
     "text": [
      "/var/folders/0t/zkf9kjwx2dl0_jdt25xk6l100000gn/T/ipykernel_31436/417767036.py:21: FutureWarning: X.dtype being converted to np.float32 from float64. In the next version of anndata (0.9) conversion will not be automatic. Pass dtype explicitly to avoid this warning. Pass `AnnData(X, dtype=X.dtype, ...)` to get the future behavour.\n",
      "  adata = ad.AnnData(data)\n",
      "/Users/luopin/opt/miniconda3/envs/scpa/lib/python3.10/site-packages/anndata/_core/anndata.py:121: ImplicitModificationWarning: Transforming to str index.\n",
      "  warnings.warn(\"Transforming to str index.\", ImplicitModificationWarning)\n"
     ]
    },
    {
     "name": "stdout",
     "output_type": "stream",
     "text": [
      "deg_200/K562_fc/K562_bottom_200_fc.gmt 90\n",
      "deg_200/K562_s2n/K562_bottom_200_signal2_noise.gmt 49\n",
      "deg_200/K562_edgeR_DE/DE_bottom_200.gmt 103\n",
      "deg_200/K562_DE/DE_top_200.gmt 5\n",
      "AKAP8L.rnk\n"
     ]
    },
    {
     "name": "stderr",
     "output_type": "stream",
     "text": [
      "/var/folders/0t/zkf9kjwx2dl0_jdt25xk6l100000gn/T/ipykernel_31436/417767036.py:21: FutureWarning: X.dtype being converted to np.float32 from float64. In the next version of anndata (0.9) conversion will not be automatic. Pass dtype explicitly to avoid this warning. Pass `AnnData(X, dtype=X.dtype, ...)` to get the future behavour.\n",
      "  adata = ad.AnnData(data)\n",
      "/Users/luopin/opt/miniconda3/envs/scpa/lib/python3.10/site-packages/anndata/_core/anndata.py:121: ImplicitModificationWarning: Transforming to str index.\n",
      "  warnings.warn(\"Transforming to str index.\", ImplicitModificationWarning)\n"
     ]
    },
    {
     "name": "stdout",
     "output_type": "stream",
     "text": [
      "deg_200/K562_fc/K562_bottom_200_fc.gmt 20\n",
      "deg_200/K562_s2n/K562_bottom_200_signal2_noise.gmt 93\n",
      "deg_200/K562_edgeR_DE/DE_bottom_200.gmt 13\n",
      "deg_200/K562_DE/DE_top_200.gmt 1\n",
      "APOBEC3C.rnk\n"
     ]
    },
    {
     "name": "stderr",
     "output_type": "stream",
     "text": [
      "/var/folders/0t/zkf9kjwx2dl0_jdt25xk6l100000gn/T/ipykernel_31436/417767036.py:21: FutureWarning: X.dtype being converted to np.float32 from float64. In the next version of anndata (0.9) conversion will not be automatic. Pass dtype explicitly to avoid this warning. Pass `AnnData(X, dtype=X.dtype, ...)` to get the future behavour.\n",
      "  adata = ad.AnnData(data)\n",
      "/Users/luopin/opt/miniconda3/envs/scpa/lib/python3.10/site-packages/anndata/_core/anndata.py:121: ImplicitModificationWarning: Transforming to str index.\n",
      "  warnings.warn(\"Transforming to str index.\", ImplicitModificationWarning)\n"
     ]
    },
    {
     "name": "stdout",
     "output_type": "stream",
     "text": [
      "deg_200/K562_fc/K562_bottom_200_fc.gmt 42\n",
      "deg_200/K562_s2n/K562_bottom_200_signal2_noise.gmt 116\n",
      "deg_200/K562_edgeR_DE/DE_bottom_200.gmt 42\n",
      "deg_200/K562_DE/DE_top_200.gmt 24\n",
      "ASCC1.rnk\n"
     ]
    },
    {
     "name": "stderr",
     "output_type": "stream",
     "text": [
      "/var/folders/0t/zkf9kjwx2dl0_jdt25xk6l100000gn/T/ipykernel_31436/417767036.py:21: FutureWarning: X.dtype being converted to np.float32 from float64. In the next version of anndata (0.9) conversion will not be automatic. Pass dtype explicitly to avoid this warning. Pass `AnnData(X, dtype=X.dtype, ...)` to get the future behavour.\n",
      "  adata = ad.AnnData(data)\n",
      "/Users/luopin/opt/miniconda3/envs/scpa/lib/python3.10/site-packages/anndata/_core/anndata.py:121: ImplicitModificationWarning: Transforming to str index.\n",
      "  warnings.warn(\"Transforming to str index.\", ImplicitModificationWarning)\n"
     ]
    },
    {
     "name": "stdout",
     "output_type": "stream",
     "text": [
      "deg_200/K562_fc/K562_bottom_200_fc.gmt 11\n",
      "deg_200/K562_s2n/K562_bottom_200_signal2_noise.gmt 43\n",
      "deg_200/K562_edgeR_DE/DE_bottom_200.gmt 1\n",
      "deg_200/K562_DE/DE_top_200.gmt 1\n",
      "ATP5C1.rnk\n"
     ]
    },
    {
     "name": "stderr",
     "output_type": "stream",
     "text": [
      "/var/folders/0t/zkf9kjwx2dl0_jdt25xk6l100000gn/T/ipykernel_31436/417767036.py:21: FutureWarning: X.dtype being converted to np.float32 from float64. In the next version of anndata (0.9) conversion will not be automatic. Pass dtype explicitly to avoid this warning. Pass `AnnData(X, dtype=X.dtype, ...)` to get the future behavour.\n",
      "  adata = ad.AnnData(data)\n",
      "/Users/luopin/opt/miniconda3/envs/scpa/lib/python3.10/site-packages/anndata/_core/anndata.py:121: ImplicitModificationWarning: Transforming to str index.\n",
      "  warnings.warn(\"Transforming to str index.\", ImplicitModificationWarning)\n"
     ]
    },
    {
     "name": "stdout",
     "output_type": "stream",
     "text": [
      "deg_200/K562_fc/K562_bottom_200_fc.gmt 52\n",
      "deg_200/K562_s2n/K562_bottom_200_signal2_noise.gmt 19\n",
      "deg_200/K562_edgeR_DE/DE_bottom_200.gmt 91\n",
      "deg_200/K562_DE/DE_top_200.gmt 1\n",
      "AUH.rnk\n"
     ]
    },
    {
     "name": "stderr",
     "output_type": "stream",
     "text": [
      "/var/folders/0t/zkf9kjwx2dl0_jdt25xk6l100000gn/T/ipykernel_31436/417767036.py:21: FutureWarning: X.dtype being converted to np.float32 from float64. In the next version of anndata (0.9) conversion will not be automatic. Pass dtype explicitly to avoid this warning. Pass `AnnData(X, dtype=X.dtype, ...)` to get the future behavour.\n",
      "  adata = ad.AnnData(data)\n",
      "/Users/luopin/opt/miniconda3/envs/scpa/lib/python3.10/site-packages/anndata/_core/anndata.py:121: ImplicitModificationWarning: Transforming to str index.\n",
      "  warnings.warn(\"Transforming to str index.\", ImplicitModificationWarning)\n"
     ]
    },
    {
     "name": "stdout",
     "output_type": "stream",
     "text": [
      "deg_200/K562_fc/K562_bottom_200_fc.gmt 1\n",
      "deg_200/K562_s2n/K562_bottom_200_signal2_noise.gmt 116\n",
      "deg_200/K562_edgeR_DE/DE_bottom_200.gmt 1\n",
      "deg_200/K562_DE/DE_top_200.gmt 1\n",
      "BCCIP.rnk\n"
     ]
    },
    {
     "name": "stderr",
     "output_type": "stream",
     "text": [
      "/var/folders/0t/zkf9kjwx2dl0_jdt25xk6l100000gn/T/ipykernel_31436/417767036.py:21: FutureWarning: X.dtype being converted to np.float32 from float64. In the next version of anndata (0.9) conversion will not be automatic. Pass dtype explicitly to avoid this warning. Pass `AnnData(X, dtype=X.dtype, ...)` to get the future behavour.\n",
      "  adata = ad.AnnData(data)\n",
      "/Users/luopin/opt/miniconda3/envs/scpa/lib/python3.10/site-packages/anndata/_core/anndata.py:121: ImplicitModificationWarning: Transforming to str index.\n",
      "  warnings.warn(\"Transforming to str index.\", ImplicitModificationWarning)\n"
     ]
    },
    {
     "name": "stdout",
     "output_type": "stream",
     "text": [
      "deg_200/K562_fc/K562_bottom_200_fc.gmt 1\n",
      "deg_200/K562_s2n/K562_bottom_200_signal2_noise.gmt 6\n",
      "deg_200/K562_edgeR_DE/DE_bottom_200.gmt 1\n",
      "deg_200/K562_DE/DE_top_200.gmt 1\n",
      "BCLAF1.rnk\n"
     ]
    },
    {
     "name": "stderr",
     "output_type": "stream",
     "text": [
      "/var/folders/0t/zkf9kjwx2dl0_jdt25xk6l100000gn/T/ipykernel_31436/417767036.py:21: FutureWarning: X.dtype being converted to np.float32 from float64. In the next version of anndata (0.9) conversion will not be automatic. Pass dtype explicitly to avoid this warning. Pass `AnnData(X, dtype=X.dtype, ...)` to get the future behavour.\n",
      "  adata = ad.AnnData(data)\n",
      "/Users/luopin/opt/miniconda3/envs/scpa/lib/python3.10/site-packages/anndata/_core/anndata.py:121: ImplicitModificationWarning: Transforming to str index.\n",
      "  warnings.warn(\"Transforming to str index.\", ImplicitModificationWarning)\n"
     ]
    },
    {
     "name": "stdout",
     "output_type": "stream",
     "text": [
      "deg_200/K562_fc/K562_bottom_200_fc.gmt 21\n",
      "deg_200/K562_s2n/K562_bottom_200_signal2_noise.gmt 6\n",
      "deg_200/K562_edgeR_DE/DE_bottom_200.gmt 9\n",
      "deg_200/K562_DE/DE_top_200.gmt 1\n",
      "BOP1.rnk\n"
     ]
    },
    {
     "name": "stderr",
     "output_type": "stream",
     "text": [
      "/var/folders/0t/zkf9kjwx2dl0_jdt25xk6l100000gn/T/ipykernel_31436/417767036.py:21: FutureWarning: X.dtype being converted to np.float32 from float64. In the next version of anndata (0.9) conversion will not be automatic. Pass dtype explicitly to avoid this warning. Pass `AnnData(X, dtype=X.dtype, ...)` to get the future behavour.\n",
      "  adata = ad.AnnData(data)\n",
      "/Users/luopin/opt/miniconda3/envs/scpa/lib/python3.10/site-packages/anndata/_core/anndata.py:121: ImplicitModificationWarning: Transforming to str index.\n",
      "  warnings.warn(\"Transforming to str index.\", ImplicitModificationWarning)\n"
     ]
    },
    {
     "name": "stdout",
     "output_type": "stream",
     "text": [
      "deg_200/K562_fc/K562_bottom_200_fc.gmt 1\n",
      "deg_200/K562_s2n/K562_bottom_200_signal2_noise.gmt 1\n",
      "deg_200/K562_edgeR_DE/DE_bottom_200.gmt 1\n",
      "deg_200/K562_DE/DE_top_200.gmt 1\n",
      "BUD13.rnk\n"
     ]
    },
    {
     "name": "stderr",
     "output_type": "stream",
     "text": [
      "/var/folders/0t/zkf9kjwx2dl0_jdt25xk6l100000gn/T/ipykernel_31436/417767036.py:21: FutureWarning: X.dtype being converted to np.float32 from float64. In the next version of anndata (0.9) conversion will not be automatic. Pass dtype explicitly to avoid this warning. Pass `AnnData(X, dtype=X.dtype, ...)` to get the future behavour.\n",
      "  adata = ad.AnnData(data)\n",
      "/Users/luopin/opt/miniconda3/envs/scpa/lib/python3.10/site-packages/anndata/_core/anndata.py:121: ImplicitModificationWarning: Transforming to str index.\n",
      "  warnings.warn(\"Transforming to str index.\", ImplicitModificationWarning)\n"
     ]
    },
    {
     "name": "stdout",
     "output_type": "stream",
     "text": [
      "deg_200/K562_fc/K562_bottom_200_fc.gmt 8\n",
      "deg_200/K562_s2n/K562_bottom_200_signal2_noise.gmt 4\n",
      "deg_200/K562_edgeR_DE/DE_bottom_200.gmt 7\n",
      "deg_200/K562_DE/DE_top_200.gmt 3\n",
      "CCAR1.rnk\n"
     ]
    },
    {
     "name": "stderr",
     "output_type": "stream",
     "text": [
      "/var/folders/0t/zkf9kjwx2dl0_jdt25xk6l100000gn/T/ipykernel_31436/417767036.py:21: FutureWarning: X.dtype being converted to np.float32 from float64. In the next version of anndata (0.9) conversion will not be automatic. Pass dtype explicitly to avoid this warning. Pass `AnnData(X, dtype=X.dtype, ...)` to get the future behavour.\n",
      "  adata = ad.AnnData(data)\n",
      "/Users/luopin/opt/miniconda3/envs/scpa/lib/python3.10/site-packages/anndata/_core/anndata.py:121: ImplicitModificationWarning: Transforming to str index.\n",
      "  warnings.warn(\"Transforming to str index.\", ImplicitModificationWarning)\n"
     ]
    },
    {
     "name": "stdout",
     "output_type": "stream",
     "text": [
      "deg_200/K562_fc/K562_bottom_200_fc.gmt 8\n",
      "deg_200/K562_s2n/K562_bottom_200_signal2_noise.gmt 14\n",
      "deg_200/K562_edgeR_DE/DE_bottom_200.gmt 3\n",
      "deg_200/K562_DE/DE_top_200.gmt 1\n",
      "CCAR2.rnk\n"
     ]
    },
    {
     "name": "stderr",
     "output_type": "stream",
     "text": [
      "/var/folders/0t/zkf9kjwx2dl0_jdt25xk6l100000gn/T/ipykernel_31436/417767036.py:21: FutureWarning: X.dtype being converted to np.float32 from float64. In the next version of anndata (0.9) conversion will not be automatic. Pass dtype explicitly to avoid this warning. Pass `AnnData(X, dtype=X.dtype, ...)` to get the future behavour.\n",
      "  adata = ad.AnnData(data)\n",
      "/Users/luopin/opt/miniconda3/envs/scpa/lib/python3.10/site-packages/anndata/_core/anndata.py:121: ImplicitModificationWarning: Transforming to str index.\n",
      "  warnings.warn(\"Transforming to str index.\", ImplicitModificationWarning)\n"
     ]
    },
    {
     "name": "stdout",
     "output_type": "stream",
     "text": [
      "deg_200/K562_fc/K562_bottom_200_fc.gmt 5\n",
      "deg_200/K562_s2n/K562_bottom_200_signal2_noise.gmt 14\n",
      "deg_200/K562_edgeR_DE/DE_bottom_200.gmt 1\n",
      "deg_200/K562_DE/DE_top_200.gmt 1\n",
      "CELF1.rnk\n"
     ]
    },
    {
     "name": "stderr",
     "output_type": "stream",
     "text": [
      "/var/folders/0t/zkf9kjwx2dl0_jdt25xk6l100000gn/T/ipykernel_31436/417767036.py:21: FutureWarning: X.dtype being converted to np.float32 from float64. In the next version of anndata (0.9) conversion will not be automatic. Pass dtype explicitly to avoid this warning. Pass `AnnData(X, dtype=X.dtype, ...)` to get the future behavour.\n",
      "  adata = ad.AnnData(data)\n",
      "/Users/luopin/opt/miniconda3/envs/scpa/lib/python3.10/site-packages/anndata/_core/anndata.py:121: ImplicitModificationWarning: Transforming to str index.\n",
      "  warnings.warn(\"Transforming to str index.\", ImplicitModificationWarning)\n"
     ]
    },
    {
     "name": "stdout",
     "output_type": "stream",
     "text": [
      "deg_200/K562_fc/K562_bottom_200_fc.gmt 2\n",
      "deg_200/K562_s2n/K562_bottom_200_signal2_noise.gmt 54\n",
      "deg_200/K562_edgeR_DE/DE_bottom_200.gmt 1\n",
      "deg_200/K562_DE/DE_top_200.gmt 1\n",
      "CIRBP.rnk\n"
     ]
    },
    {
     "name": "stderr",
     "output_type": "stream",
     "text": [
      "/var/folders/0t/zkf9kjwx2dl0_jdt25xk6l100000gn/T/ipykernel_31436/417767036.py:21: FutureWarning: X.dtype being converted to np.float32 from float64. In the next version of anndata (0.9) conversion will not be automatic. Pass dtype explicitly to avoid this warning. Pass `AnnData(X, dtype=X.dtype, ...)` to get the future behavour.\n",
      "  adata = ad.AnnData(data)\n",
      "/Users/luopin/opt/miniconda3/envs/scpa/lib/python3.10/site-packages/anndata/_core/anndata.py:121: ImplicitModificationWarning: Transforming to str index.\n",
      "  warnings.warn(\"Transforming to str index.\", ImplicitModificationWarning)\n"
     ]
    },
    {
     "name": "stdout",
     "output_type": "stream",
     "text": [
      "deg_200/K562_fc/K562_bottom_200_fc.gmt 1\n",
      "deg_200/K562_s2n/K562_bottom_200_signal2_noise.gmt 1\n",
      "deg_200/K562_edgeR_DE/DE_bottom_200.gmt 1\n",
      "deg_200/K562_DE/DE_top_200.gmt 1\n",
      "CKAP4.rnk\n"
     ]
    },
    {
     "name": "stderr",
     "output_type": "stream",
     "text": [
      "/var/folders/0t/zkf9kjwx2dl0_jdt25xk6l100000gn/T/ipykernel_31436/417767036.py:21: FutureWarning: X.dtype being converted to np.float32 from float64. In the next version of anndata (0.9) conversion will not be automatic. Pass dtype explicitly to avoid this warning. Pass `AnnData(X, dtype=X.dtype, ...)` to get the future behavour.\n",
      "  adata = ad.AnnData(data)\n",
      "/Users/luopin/opt/miniconda3/envs/scpa/lib/python3.10/site-packages/anndata/_core/anndata.py:121: ImplicitModificationWarning: Transforming to str index.\n",
      "  warnings.warn(\"Transforming to str index.\", ImplicitModificationWarning)\n"
     ]
    },
    {
     "name": "stdout",
     "output_type": "stream",
     "text": [
      "deg_200/K562_fc/K562_bottom_200_fc.gmt 5\n",
      "deg_200/K562_s2n/K562_bottom_200_signal2_noise.gmt 30\n",
      "deg_200/K562_edgeR_DE/DE_bottom_200.gmt 3\n",
      "deg_200/K562_DE/DE_top_200.gmt 11\n",
      "CNOT7.rnk\n"
     ]
    },
    {
     "name": "stderr",
     "output_type": "stream",
     "text": [
      "/var/folders/0t/zkf9kjwx2dl0_jdt25xk6l100000gn/T/ipykernel_31436/417767036.py:21: FutureWarning: X.dtype being converted to np.float32 from float64. In the next version of anndata (0.9) conversion will not be automatic. Pass dtype explicitly to avoid this warning. Pass `AnnData(X, dtype=X.dtype, ...)` to get the future behavour.\n",
      "  adata = ad.AnnData(data)\n",
      "/Users/luopin/opt/miniconda3/envs/scpa/lib/python3.10/site-packages/anndata/_core/anndata.py:121: ImplicitModificationWarning: Transforming to str index.\n",
      "  warnings.warn(\"Transforming to str index.\", ImplicitModificationWarning)\n"
     ]
    },
    {
     "name": "stdout",
     "output_type": "stream",
     "text": [
      "deg_200/K562_fc/K562_bottom_200_fc.gmt 2\n",
      "deg_200/K562_s2n/K562_bottom_200_signal2_noise.gmt 3\n",
      "deg_200/K562_edgeR_DE/DE_bottom_200.gmt 2\n",
      "deg_200/K562_DE/DE_top_200.gmt 1\n",
      "CPSF6.rnk\n"
     ]
    },
    {
     "name": "stderr",
     "output_type": "stream",
     "text": [
      "/var/folders/0t/zkf9kjwx2dl0_jdt25xk6l100000gn/T/ipykernel_31436/417767036.py:21: FutureWarning: X.dtype being converted to np.float32 from float64. In the next version of anndata (0.9) conversion will not be automatic. Pass dtype explicitly to avoid this warning. Pass `AnnData(X, dtype=X.dtype, ...)` to get the future behavour.\n",
      "  adata = ad.AnnData(data)\n",
      "/Users/luopin/opt/miniconda3/envs/scpa/lib/python3.10/site-packages/anndata/_core/anndata.py:121: ImplicitModificationWarning: Transforming to str index.\n",
      "  warnings.warn(\"Transforming to str index.\", ImplicitModificationWarning)\n"
     ]
    },
    {
     "name": "stdout",
     "output_type": "stream",
     "text": [
      "deg_200/K562_fc/K562_bottom_200_fc.gmt 1\n",
      "deg_200/K562_s2n/K562_bottom_200_signal2_noise.gmt 1\n",
      "deg_200/K562_edgeR_DE/DE_bottom_200.gmt 1\n",
      "deg_200/K562_DE/DE_top_200.gmt 1\n",
      "CPSF7.rnk\n"
     ]
    },
    {
     "name": "stderr",
     "output_type": "stream",
     "text": [
      "/var/folders/0t/zkf9kjwx2dl0_jdt25xk6l100000gn/T/ipykernel_31436/417767036.py:21: FutureWarning: X.dtype being converted to np.float32 from float64. In the next version of anndata (0.9) conversion will not be automatic. Pass dtype explicitly to avoid this warning. Pass `AnnData(X, dtype=X.dtype, ...)` to get the future behavour.\n",
      "  adata = ad.AnnData(data)\n",
      "/Users/luopin/opt/miniconda3/envs/scpa/lib/python3.10/site-packages/anndata/_core/anndata.py:121: ImplicitModificationWarning: Transforming to str index.\n",
      "  warnings.warn(\"Transforming to str index.\", ImplicitModificationWarning)\n"
     ]
    },
    {
     "name": "stdout",
     "output_type": "stream",
     "text": [
      "deg_200/K562_fc/K562_bottom_200_fc.gmt 98\n",
      "deg_200/K562_s2n/K562_bottom_200_signal2_noise.gmt 128\n",
      "deg_200/K562_edgeR_DE/DE_bottom_200.gmt 97\n",
      "deg_200/K562_DE/DE_top_200.gmt 161\n",
      "CSTF2.rnk\n"
     ]
    },
    {
     "name": "stderr",
     "output_type": "stream",
     "text": [
      "/var/folders/0t/zkf9kjwx2dl0_jdt25xk6l100000gn/T/ipykernel_31436/417767036.py:21: FutureWarning: X.dtype being converted to np.float32 from float64. In the next version of anndata (0.9) conversion will not be automatic. Pass dtype explicitly to avoid this warning. Pass `AnnData(X, dtype=X.dtype, ...)` to get the future behavour.\n",
      "  adata = ad.AnnData(data)\n",
      "/Users/luopin/opt/miniconda3/envs/scpa/lib/python3.10/site-packages/anndata/_core/anndata.py:121: ImplicitModificationWarning: Transforming to str index.\n",
      "  warnings.warn(\"Transforming to str index.\", ImplicitModificationWarning)\n"
     ]
    },
    {
     "name": "stdout",
     "output_type": "stream",
     "text": [
      "deg_200/K562_fc/K562_bottom_200_fc.gmt 84\n",
      "deg_200/K562_s2n/K562_bottom_200_signal2_noise.gmt 56\n",
      "deg_200/K562_edgeR_DE/DE_bottom_200.gmt 29\n",
      "deg_200/K562_DE/DE_top_200.gmt 69\n",
      "CSTF2T.rnk\n"
     ]
    },
    {
     "name": "stderr",
     "output_type": "stream",
     "text": [
      "/var/folders/0t/zkf9kjwx2dl0_jdt25xk6l100000gn/T/ipykernel_31436/417767036.py:21: FutureWarning: X.dtype being converted to np.float32 from float64. In the next version of anndata (0.9) conversion will not be automatic. Pass dtype explicitly to avoid this warning. Pass `AnnData(X, dtype=X.dtype, ...)` to get the future behavour.\n",
      "  adata = ad.AnnData(data)\n",
      "/Users/luopin/opt/miniconda3/envs/scpa/lib/python3.10/site-packages/anndata/_core/anndata.py:121: ImplicitModificationWarning: Transforming to str index.\n",
      "  warnings.warn(\"Transforming to str index.\", ImplicitModificationWarning)\n"
     ]
    },
    {
     "name": "stdout",
     "output_type": "stream",
     "text": [
      "deg_200/K562_fc/K562_bottom_200_fc.gmt 2\n",
      "deg_200/K562_s2n/K562_bottom_200_signal2_noise.gmt 19\n",
      "deg_200/K562_edgeR_DE/DE_bottom_200.gmt 1\n",
      "deg_200/K562_DE/DE_top_200.gmt 2\n",
      "DAZAP1.rnk\n"
     ]
    },
    {
     "name": "stderr",
     "output_type": "stream",
     "text": [
      "/var/folders/0t/zkf9kjwx2dl0_jdt25xk6l100000gn/T/ipykernel_31436/417767036.py:21: FutureWarning: X.dtype being converted to np.float32 from float64. In the next version of anndata (0.9) conversion will not be automatic. Pass dtype explicitly to avoid this warning. Pass `AnnData(X, dtype=X.dtype, ...)` to get the future behavour.\n",
      "  adata = ad.AnnData(data)\n",
      "/Users/luopin/opt/miniconda3/envs/scpa/lib/python3.10/site-packages/anndata/_core/anndata.py:121: ImplicitModificationWarning: Transforming to str index.\n",
      "  warnings.warn(\"Transforming to str index.\", ImplicitModificationWarning)\n"
     ]
    },
    {
     "name": "stdout",
     "output_type": "stream",
     "text": [
      "deg_200/K562_fc/K562_bottom_200_fc.gmt 1\n",
      "deg_200/K562_s2n/K562_bottom_200_signal2_noise.gmt 16\n",
      "deg_200/K562_edgeR_DE/DE_bottom_200.gmt 7\n",
      "deg_200/K562_DE/DE_top_200.gmt 6\n",
      "DDX1.rnk\n"
     ]
    },
    {
     "name": "stderr",
     "output_type": "stream",
     "text": [
      "/var/folders/0t/zkf9kjwx2dl0_jdt25xk6l100000gn/T/ipykernel_31436/417767036.py:21: FutureWarning: X.dtype being converted to np.float32 from float64. In the next version of anndata (0.9) conversion will not be automatic. Pass dtype explicitly to avoid this warning. Pass `AnnData(X, dtype=X.dtype, ...)` to get the future behavour.\n",
      "  adata = ad.AnnData(data)\n",
      "/Users/luopin/opt/miniconda3/envs/scpa/lib/python3.10/site-packages/anndata/_core/anndata.py:121: ImplicitModificationWarning: Transforming to str index.\n",
      "  warnings.warn(\"Transforming to str index.\", ImplicitModificationWarning)\n"
     ]
    },
    {
     "name": "stdout",
     "output_type": "stream",
     "text": [
      "deg_200/K562_fc/K562_bottom_200_fc.gmt 1\n",
      "deg_200/K562_s2n/K562_bottom_200_signal2_noise.gmt 3\n",
      "deg_200/K562_edgeR_DE/DE_bottom_200.gmt 1\n",
      "deg_200/K562_DE/DE_top_200.gmt 1\n",
      "DDX19B.rnk\n"
     ]
    },
    {
     "name": "stderr",
     "output_type": "stream",
     "text": [
      "/var/folders/0t/zkf9kjwx2dl0_jdt25xk6l100000gn/T/ipykernel_31436/417767036.py:21: FutureWarning: X.dtype being converted to np.float32 from float64. In the next version of anndata (0.9) conversion will not be automatic. Pass dtype explicitly to avoid this warning. Pass `AnnData(X, dtype=X.dtype, ...)` to get the future behavour.\n",
      "  adata = ad.AnnData(data)\n",
      "/Users/luopin/opt/miniconda3/envs/scpa/lib/python3.10/site-packages/anndata/_core/anndata.py:121: ImplicitModificationWarning: Transforming to str index.\n",
      "  warnings.warn(\"Transforming to str index.\", ImplicitModificationWarning)\n"
     ]
    },
    {
     "name": "stdout",
     "output_type": "stream",
     "text": [
      "deg_200/K562_fc/K562_bottom_200_fc.gmt 1\n",
      "deg_200/K562_s2n/K562_bottom_200_signal2_noise.gmt 39\n",
      "deg_200/K562_edgeR_DE/DE_bottom_200.gmt 1\n",
      "deg_200/K562_DE/DE_top_200.gmt 1\n",
      "DDX24.rnk\n"
     ]
    },
    {
     "name": "stderr",
     "output_type": "stream",
     "text": [
      "/var/folders/0t/zkf9kjwx2dl0_jdt25xk6l100000gn/T/ipykernel_31436/417767036.py:21: FutureWarning: X.dtype being converted to np.float32 from float64. In the next version of anndata (0.9) conversion will not be automatic. Pass dtype explicitly to avoid this warning. Pass `AnnData(X, dtype=X.dtype, ...)` to get the future behavour.\n",
      "  adata = ad.AnnData(data)\n",
      "/Users/luopin/opt/miniconda3/envs/scpa/lib/python3.10/site-packages/anndata/_core/anndata.py:121: ImplicitModificationWarning: Transforming to str index.\n",
      "  warnings.warn(\"Transforming to str index.\", ImplicitModificationWarning)\n"
     ]
    },
    {
     "name": "stdout",
     "output_type": "stream",
     "text": [
      "deg_200/K562_fc/K562_bottom_200_fc.gmt 16\n",
      "deg_200/K562_s2n/K562_bottom_200_signal2_noise.gmt 78\n",
      "deg_200/K562_edgeR_DE/DE_bottom_200.gmt 1\n",
      "deg_200/K562_DE/DE_top_200.gmt 1\n",
      "DDX27.rnk\n"
     ]
    },
    {
     "name": "stderr",
     "output_type": "stream",
     "text": [
      "/var/folders/0t/zkf9kjwx2dl0_jdt25xk6l100000gn/T/ipykernel_31436/417767036.py:21: FutureWarning: X.dtype being converted to np.float32 from float64. In the next version of anndata (0.9) conversion will not be automatic. Pass dtype explicitly to avoid this warning. Pass `AnnData(X, dtype=X.dtype, ...)` to get the future behavour.\n",
      "  adata = ad.AnnData(data)\n",
      "/Users/luopin/opt/miniconda3/envs/scpa/lib/python3.10/site-packages/anndata/_core/anndata.py:121: ImplicitModificationWarning: Transforming to str index.\n",
      "  warnings.warn(\"Transforming to str index.\", ImplicitModificationWarning)\n"
     ]
    },
    {
     "name": "stdout",
     "output_type": "stream",
     "text": [
      "deg_200/K562_fc/K562_bottom_200_fc.gmt 1\n",
      "deg_200/K562_s2n/K562_bottom_200_signal2_noise.gmt 1\n",
      "deg_200/K562_edgeR_DE/DE_bottom_200.gmt 1\n",
      "deg_200/K562_DE/DE_top_200.gmt 1\n",
      "DDX28.rnk\n"
     ]
    },
    {
     "name": "stderr",
     "output_type": "stream",
     "text": [
      "/var/folders/0t/zkf9kjwx2dl0_jdt25xk6l100000gn/T/ipykernel_31436/417767036.py:21: FutureWarning: X.dtype being converted to np.float32 from float64. In the next version of anndata (0.9) conversion will not be automatic. Pass dtype explicitly to avoid this warning. Pass `AnnData(X, dtype=X.dtype, ...)` to get the future behavour.\n",
      "  adata = ad.AnnData(data)\n",
      "/Users/luopin/opt/miniconda3/envs/scpa/lib/python3.10/site-packages/anndata/_core/anndata.py:121: ImplicitModificationWarning: Transforming to str index.\n",
      "  warnings.warn(\"Transforming to str index.\", ImplicitModificationWarning)\n"
     ]
    },
    {
     "name": "stdout",
     "output_type": "stream",
     "text": [
      "deg_200/K562_fc/K562_bottom_200_fc.gmt 12\n",
      "deg_200/K562_s2n/K562_bottom_200_signal2_noise.gmt 45\n",
      "deg_200/K562_edgeR_DE/DE_bottom_200.gmt 1\n",
      "deg_200/K562_DE/DE_top_200.gmt 1\n",
      "DDX3X.rnk\n"
     ]
    },
    {
     "name": "stderr",
     "output_type": "stream",
     "text": [
      "/var/folders/0t/zkf9kjwx2dl0_jdt25xk6l100000gn/T/ipykernel_31436/417767036.py:21: FutureWarning: X.dtype being converted to np.float32 from float64. In the next version of anndata (0.9) conversion will not be automatic. Pass dtype explicitly to avoid this warning. Pass `AnnData(X, dtype=X.dtype, ...)` to get the future behavour.\n",
      "  adata = ad.AnnData(data)\n",
      "/Users/luopin/opt/miniconda3/envs/scpa/lib/python3.10/site-packages/anndata/_core/anndata.py:121: ImplicitModificationWarning: Transforming to str index.\n",
      "  warnings.warn(\"Transforming to str index.\", ImplicitModificationWarning)\n"
     ]
    },
    {
     "name": "stdout",
     "output_type": "stream",
     "text": [
      "deg_200/K562_fc/K562_bottom_200_fc.gmt 1\n",
      "deg_200/K562_s2n/K562_bottom_200_signal2_noise.gmt 1\n",
      "deg_200/K562_edgeR_DE/DE_bottom_200.gmt 1\n",
      "deg_200/K562_DE/DE_top_200.gmt 1\n",
      "DDX47.rnk\n"
     ]
    },
    {
     "name": "stderr",
     "output_type": "stream",
     "text": [
      "/var/folders/0t/zkf9kjwx2dl0_jdt25xk6l100000gn/T/ipykernel_31436/417767036.py:21: FutureWarning: X.dtype being converted to np.float32 from float64. In the next version of anndata (0.9) conversion will not be automatic. Pass dtype explicitly to avoid this warning. Pass `AnnData(X, dtype=X.dtype, ...)` to get the future behavour.\n",
      "  adata = ad.AnnData(data)\n",
      "/Users/luopin/opt/miniconda3/envs/scpa/lib/python3.10/site-packages/anndata/_core/anndata.py:121: ImplicitModificationWarning: Transforming to str index.\n",
      "  warnings.warn(\"Transforming to str index.\", ImplicitModificationWarning)\n"
     ]
    },
    {
     "name": "stdout",
     "output_type": "stream",
     "text": [
      "deg_200/K562_fc/K562_bottom_200_fc.gmt 154\n",
      "deg_200/K562_s2n/K562_bottom_200_signal2_noise.gmt 180\n",
      "deg_200/K562_edgeR_DE/DE_bottom_200.gmt 21\n",
      "deg_200/K562_DE/DE_top_200.gmt 59\n",
      "DDX52.rnk\n"
     ]
    },
    {
     "name": "stderr",
     "output_type": "stream",
     "text": [
      "/var/folders/0t/zkf9kjwx2dl0_jdt25xk6l100000gn/T/ipykernel_31436/417767036.py:21: FutureWarning: X.dtype being converted to np.float32 from float64. In the next version of anndata (0.9) conversion will not be automatic. Pass dtype explicitly to avoid this warning. Pass `AnnData(X, dtype=X.dtype, ...)` to get the future behavour.\n",
      "  adata = ad.AnnData(data)\n",
      "/Users/luopin/opt/miniconda3/envs/scpa/lib/python3.10/site-packages/anndata/_core/anndata.py:121: ImplicitModificationWarning: Transforming to str index.\n",
      "  warnings.warn(\"Transforming to str index.\", ImplicitModificationWarning)\n"
     ]
    },
    {
     "name": "stdout",
     "output_type": "stream",
     "text": [
      "deg_200/K562_fc/K562_bottom_200_fc.gmt 1\n",
      "deg_200/K562_s2n/K562_bottom_200_signal2_noise.gmt 19\n",
      "deg_200/K562_edgeR_DE/DE_bottom_200.gmt 1\n",
      "deg_200/K562_DE/DE_top_200.gmt 1\n",
      "DDX55.rnk\n"
     ]
    },
    {
     "name": "stderr",
     "output_type": "stream",
     "text": [
      "/var/folders/0t/zkf9kjwx2dl0_jdt25xk6l100000gn/T/ipykernel_31436/417767036.py:21: FutureWarning: X.dtype being converted to np.float32 from float64. In the next version of anndata (0.9) conversion will not be automatic. Pass dtype explicitly to avoid this warning. Pass `AnnData(X, dtype=X.dtype, ...)` to get the future behavour.\n",
      "  adata = ad.AnnData(data)\n",
      "/Users/luopin/opt/miniconda3/envs/scpa/lib/python3.10/site-packages/anndata/_core/anndata.py:121: ImplicitModificationWarning: Transforming to str index.\n",
      "  warnings.warn(\"Transforming to str index.\", ImplicitModificationWarning)\n"
     ]
    },
    {
     "name": "stdout",
     "output_type": "stream",
     "text": [
      "deg_200/K562_fc/K562_bottom_200_fc.gmt 3\n",
      "deg_200/K562_s2n/K562_bottom_200_signal2_noise.gmt 8\n",
      "deg_200/K562_edgeR_DE/DE_bottom_200.gmt 2\n",
      "deg_200/K562_DE/DE_top_200.gmt 98\n",
      "DDX6.rnk\n"
     ]
    },
    {
     "name": "stderr",
     "output_type": "stream",
     "text": [
      "/var/folders/0t/zkf9kjwx2dl0_jdt25xk6l100000gn/T/ipykernel_31436/417767036.py:21: FutureWarning: X.dtype being converted to np.float32 from float64. In the next version of anndata (0.9) conversion will not be automatic. Pass dtype explicitly to avoid this warning. Pass `AnnData(X, dtype=X.dtype, ...)` to get the future behavour.\n",
      "  adata = ad.AnnData(data)\n",
      "/Users/luopin/opt/miniconda3/envs/scpa/lib/python3.10/site-packages/anndata/_core/anndata.py:121: ImplicitModificationWarning: Transforming to str index.\n",
      "  warnings.warn(\"Transforming to str index.\", ImplicitModificationWarning)\n"
     ]
    },
    {
     "name": "stdout",
     "output_type": "stream",
     "text": [
      "deg_200/K562_fc/K562_bottom_200_fc.gmt 4\n",
      "deg_200/K562_s2n/K562_bottom_200_signal2_noise.gmt 23\n",
      "deg_200/K562_edgeR_DE/DE_bottom_200.gmt 1\n",
      "deg_200/K562_DE/DE_top_200.gmt 1\n",
      "DHX30.rnk\n"
     ]
    },
    {
     "name": "stderr",
     "output_type": "stream",
     "text": [
      "/var/folders/0t/zkf9kjwx2dl0_jdt25xk6l100000gn/T/ipykernel_31436/417767036.py:21: FutureWarning: X.dtype being converted to np.float32 from float64. In the next version of anndata (0.9) conversion will not be automatic. Pass dtype explicitly to avoid this warning. Pass `AnnData(X, dtype=X.dtype, ...)` to get the future behavour.\n",
      "  adata = ad.AnnData(data)\n",
      "/Users/luopin/opt/miniconda3/envs/scpa/lib/python3.10/site-packages/anndata/_core/anndata.py:121: ImplicitModificationWarning: Transforming to str index.\n",
      "  warnings.warn(\"Transforming to str index.\", ImplicitModificationWarning)\n"
     ]
    },
    {
     "name": "stdout",
     "output_type": "stream",
     "text": [
      "deg_200/K562_fc/K562_bottom_200_fc.gmt 165\n",
      "deg_200/K562_s2n/K562_bottom_200_signal2_noise.gmt 127\n",
      "deg_200/K562_edgeR_DE/DE_bottom_200.gmt 67\n",
      "deg_200/K562_DE/DE_top_200.gmt 42\n",
      "DKC1.rnk\n"
     ]
    },
    {
     "name": "stderr",
     "output_type": "stream",
     "text": [
      "/var/folders/0t/zkf9kjwx2dl0_jdt25xk6l100000gn/T/ipykernel_31436/417767036.py:21: FutureWarning: X.dtype being converted to np.float32 from float64. In the next version of anndata (0.9) conversion will not be automatic. Pass dtype explicitly to avoid this warning. Pass `AnnData(X, dtype=X.dtype, ...)` to get the future behavour.\n",
      "  adata = ad.AnnData(data)\n",
      "/Users/luopin/opt/miniconda3/envs/scpa/lib/python3.10/site-packages/anndata/_core/anndata.py:121: ImplicitModificationWarning: Transforming to str index.\n",
      "  warnings.warn(\"Transforming to str index.\", ImplicitModificationWarning)\n"
     ]
    },
    {
     "name": "stdout",
     "output_type": "stream",
     "text": [
      "deg_200/K562_fc/K562_bottom_200_fc.gmt 141\n",
      "deg_200/K562_s2n/K562_bottom_200_signal2_noise.gmt 106\n",
      "deg_200/K562_edgeR_DE/DE_bottom_200.gmt 176\n",
      "deg_200/K562_DE/DE_top_200.gmt 29\n",
      "DNAJC2.rnk\n"
     ]
    },
    {
     "name": "stderr",
     "output_type": "stream",
     "text": [
      "/var/folders/0t/zkf9kjwx2dl0_jdt25xk6l100000gn/T/ipykernel_31436/417767036.py:21: FutureWarning: X.dtype being converted to np.float32 from float64. In the next version of anndata (0.9) conversion will not be automatic. Pass dtype explicitly to avoid this warning. Pass `AnnData(X, dtype=X.dtype, ...)` to get the future behavour.\n",
      "  adata = ad.AnnData(data)\n",
      "/Users/luopin/opt/miniconda3/envs/scpa/lib/python3.10/site-packages/anndata/_core/anndata.py:121: ImplicitModificationWarning: Transforming to str index.\n",
      "  warnings.warn(\"Transforming to str index.\", ImplicitModificationWarning)\n"
     ]
    },
    {
     "name": "stdout",
     "output_type": "stream",
     "text": [
      "deg_200/K562_fc/K562_bottom_200_fc.gmt 1\n",
      "deg_200/K562_s2n/K562_bottom_200_signal2_noise.gmt 7\n",
      "deg_200/K562_edgeR_DE/DE_bottom_200.gmt 1\n",
      "deg_200/K562_DE/DE_top_200.gmt 4\n",
      "DNAJC21.rnk\n"
     ]
    },
    {
     "name": "stderr",
     "output_type": "stream",
     "text": [
      "/var/folders/0t/zkf9kjwx2dl0_jdt25xk6l100000gn/T/ipykernel_31436/417767036.py:21: FutureWarning: X.dtype being converted to np.float32 from float64. In the next version of anndata (0.9) conversion will not be automatic. Pass dtype explicitly to avoid this warning. Pass `AnnData(X, dtype=X.dtype, ...)` to get the future behavour.\n",
      "  adata = ad.AnnData(data)\n",
      "/Users/luopin/opt/miniconda3/envs/scpa/lib/python3.10/site-packages/anndata/_core/anndata.py:121: ImplicitModificationWarning: Transforming to str index.\n",
      "  warnings.warn(\"Transforming to str index.\", ImplicitModificationWarning)\n"
     ]
    },
    {
     "name": "stdout",
     "output_type": "stream",
     "text": [
      "deg_200/K562_fc/K562_bottom_200_fc.gmt 48\n",
      "deg_200/K562_s2n/K562_bottom_200_signal2_noise.gmt 89\n",
      "deg_200/K562_edgeR_DE/DE_bottom_200.gmt 20\n",
      "deg_200/K562_DE/DE_top_200.gmt 1\n",
      "EEF2.rnk\n"
     ]
    },
    {
     "name": "stderr",
     "output_type": "stream",
     "text": [
      "/var/folders/0t/zkf9kjwx2dl0_jdt25xk6l100000gn/T/ipykernel_31436/417767036.py:21: FutureWarning: X.dtype being converted to np.float32 from float64. In the next version of anndata (0.9) conversion will not be automatic. Pass dtype explicitly to avoid this warning. Pass `AnnData(X, dtype=X.dtype, ...)` to get the future behavour.\n",
      "  adata = ad.AnnData(data)\n",
      "/Users/luopin/opt/miniconda3/envs/scpa/lib/python3.10/site-packages/anndata/_core/anndata.py:121: ImplicitModificationWarning: Transforming to str index.\n",
      "  warnings.warn(\"Transforming to str index.\", ImplicitModificationWarning)\n"
     ]
    },
    {
     "name": "stdout",
     "output_type": "stream",
     "text": [
      "deg_200/K562_fc/K562_bottom_200_fc.gmt 12\n",
      "deg_200/K562_s2n/K562_bottom_200_signal2_noise.gmt 21\n",
      "deg_200/K562_edgeR_DE/DE_bottom_200.gmt 2\n",
      "deg_200/K562_DE/DE_top_200.gmt 7\n",
      "EFTUD2.rnk\n"
     ]
    },
    {
     "name": "stderr",
     "output_type": "stream",
     "text": [
      "/var/folders/0t/zkf9kjwx2dl0_jdt25xk6l100000gn/T/ipykernel_31436/417767036.py:21: FutureWarning: X.dtype being converted to np.float32 from float64. In the next version of anndata (0.9) conversion will not be automatic. Pass dtype explicitly to avoid this warning. Pass `AnnData(X, dtype=X.dtype, ...)` to get the future behavour.\n",
      "  adata = ad.AnnData(data)\n",
      "/Users/luopin/opt/miniconda3/envs/scpa/lib/python3.10/site-packages/anndata/_core/anndata.py:121: ImplicitModificationWarning: Transforming to str index.\n",
      "  warnings.warn(\"Transforming to str index.\", ImplicitModificationWarning)\n"
     ]
    },
    {
     "name": "stdout",
     "output_type": "stream",
     "text": [
      "deg_200/K562_fc/K562_bottom_200_fc.gmt 3\n",
      "deg_200/K562_s2n/K562_bottom_200_signal2_noise.gmt 4\n",
      "deg_200/K562_edgeR_DE/DE_bottom_200.gmt 1\n",
      "deg_200/K562_DE/DE_top_200.gmt 1\n",
      "EIF2S1.rnk\n"
     ]
    },
    {
     "name": "stderr",
     "output_type": "stream",
     "text": [
      "/var/folders/0t/zkf9kjwx2dl0_jdt25xk6l100000gn/T/ipykernel_31436/417767036.py:21: FutureWarning: X.dtype being converted to np.float32 from float64. In the next version of anndata (0.9) conversion will not be automatic. Pass dtype explicitly to avoid this warning. Pass `AnnData(X, dtype=X.dtype, ...)` to get the future behavour.\n",
      "  adata = ad.AnnData(data)\n",
      "/Users/luopin/opt/miniconda3/envs/scpa/lib/python3.10/site-packages/anndata/_core/anndata.py:121: ImplicitModificationWarning: Transforming to str index.\n",
      "  warnings.warn(\"Transforming to str index.\", ImplicitModificationWarning)\n"
     ]
    },
    {
     "name": "stdout",
     "output_type": "stream",
     "text": [
      "deg_200/K562_fc/K562_bottom_200_fc.gmt 1\n",
      "deg_200/K562_s2n/K562_bottom_200_signal2_noise.gmt 3\n",
      "deg_200/K562_edgeR_DE/DE_bottom_200.gmt 1\n",
      "deg_200/K562_DE/DE_top_200.gmt 1\n",
      "EIF2S2.rnk\n"
     ]
    },
    {
     "name": "stderr",
     "output_type": "stream",
     "text": [
      "/var/folders/0t/zkf9kjwx2dl0_jdt25xk6l100000gn/T/ipykernel_31436/417767036.py:21: FutureWarning: X.dtype being converted to np.float32 from float64. In the next version of anndata (0.9) conversion will not be automatic. Pass dtype explicitly to avoid this warning. Pass `AnnData(X, dtype=X.dtype, ...)` to get the future behavour.\n",
      "  adata = ad.AnnData(data)\n",
      "/Users/luopin/opt/miniconda3/envs/scpa/lib/python3.10/site-packages/anndata/_core/anndata.py:121: ImplicitModificationWarning: Transforming to str index.\n",
      "  warnings.warn(\"Transforming to str index.\", ImplicitModificationWarning)\n"
     ]
    },
    {
     "name": "stdout",
     "output_type": "stream",
     "text": [
      "deg_200/K562_fc/K562_bottom_200_fc.gmt 8\n",
      "deg_200/K562_s2n/K562_bottom_200_signal2_noise.gmt 16\n",
      "deg_200/K562_edgeR_DE/DE_bottom_200.gmt 7\n",
      "deg_200/K562_DE/DE_top_200.gmt 13\n",
      "EIF3D.rnk\n"
     ]
    },
    {
     "name": "stderr",
     "output_type": "stream",
     "text": [
      "/var/folders/0t/zkf9kjwx2dl0_jdt25xk6l100000gn/T/ipykernel_31436/417767036.py:21: FutureWarning: X.dtype being converted to np.float32 from float64. In the next version of anndata (0.9) conversion will not be automatic. Pass dtype explicitly to avoid this warning. Pass `AnnData(X, dtype=X.dtype, ...)` to get the future behavour.\n",
      "  adata = ad.AnnData(data)\n",
      "/Users/luopin/opt/miniconda3/envs/scpa/lib/python3.10/site-packages/anndata/_core/anndata.py:121: ImplicitModificationWarning: Transforming to str index.\n",
      "  warnings.warn(\"Transforming to str index.\", ImplicitModificationWarning)\n"
     ]
    },
    {
     "name": "stdout",
     "output_type": "stream",
     "text": [
      "deg_200/K562_fc/K562_bottom_200_fc.gmt 1\n",
      "deg_200/K562_s2n/K562_bottom_200_signal2_noise.gmt 3\n",
      "deg_200/K562_edgeR_DE/DE_bottom_200.gmt 1\n",
      "deg_200/K562_DE/DE_top_200.gmt 1\n",
      "EIF3G.rnk\n"
     ]
    },
    {
     "name": "stderr",
     "output_type": "stream",
     "text": [
      "/var/folders/0t/zkf9kjwx2dl0_jdt25xk6l100000gn/T/ipykernel_31436/417767036.py:21: FutureWarning: X.dtype being converted to np.float32 from float64. In the next version of anndata (0.9) conversion will not be automatic. Pass dtype explicitly to avoid this warning. Pass `AnnData(X, dtype=X.dtype, ...)` to get the future behavour.\n",
      "  adata = ad.AnnData(data)\n",
      "/Users/luopin/opt/miniconda3/envs/scpa/lib/python3.10/site-packages/anndata/_core/anndata.py:121: ImplicitModificationWarning: Transforming to str index.\n",
      "  warnings.warn(\"Transforming to str index.\", ImplicitModificationWarning)\n"
     ]
    },
    {
     "name": "stdout",
     "output_type": "stream",
     "text": [
      "deg_200/K562_fc/K562_bottom_200_fc.gmt 1\n",
      "deg_200/K562_s2n/K562_bottom_200_signal2_noise.gmt 15\n",
      "deg_200/K562_edgeR_DE/DE_bottom_200.gmt 1\n",
      "deg_200/K562_DE/DE_top_200.gmt 1\n",
      "EIF4A3.rnk\n"
     ]
    },
    {
     "name": "stderr",
     "output_type": "stream",
     "text": [
      "/var/folders/0t/zkf9kjwx2dl0_jdt25xk6l100000gn/T/ipykernel_31436/417767036.py:21: FutureWarning: X.dtype being converted to np.float32 from float64. In the next version of anndata (0.9) conversion will not be automatic. Pass dtype explicitly to avoid this warning. Pass `AnnData(X, dtype=X.dtype, ...)` to get the future behavour.\n",
      "  adata = ad.AnnData(data)\n",
      "/Users/luopin/opt/miniconda3/envs/scpa/lib/python3.10/site-packages/anndata/_core/anndata.py:121: ImplicitModificationWarning: Transforming to str index.\n",
      "  warnings.warn(\"Transforming to str index.\", ImplicitModificationWarning)\n"
     ]
    },
    {
     "name": "stdout",
     "output_type": "stream",
     "text": [
      "deg_200/K562_fc/K562_bottom_200_fc.gmt 9\n",
      "deg_200/K562_s2n/K562_bottom_200_signal2_noise.gmt 26\n",
      "deg_200/K562_edgeR_DE/DE_bottom_200.gmt 3\n",
      "deg_200/K562_DE/DE_top_200.gmt 4\n",
      "EIF4B.rnk\n"
     ]
    },
    {
     "name": "stderr",
     "output_type": "stream",
     "text": [
      "/var/folders/0t/zkf9kjwx2dl0_jdt25xk6l100000gn/T/ipykernel_31436/417767036.py:21: FutureWarning: X.dtype being converted to np.float32 from float64. In the next version of anndata (0.9) conversion will not be automatic. Pass dtype explicitly to avoid this warning. Pass `AnnData(X, dtype=X.dtype, ...)` to get the future behavour.\n",
      "  adata = ad.AnnData(data)\n",
      "/Users/luopin/opt/miniconda3/envs/scpa/lib/python3.10/site-packages/anndata/_core/anndata.py:121: ImplicitModificationWarning: Transforming to str index.\n",
      "  warnings.warn(\"Transforming to str index.\", ImplicitModificationWarning)\n"
     ]
    },
    {
     "name": "stdout",
     "output_type": "stream",
     "text": [
      "deg_200/K562_fc/K562_bottom_200_fc.gmt 1\n",
      "deg_200/K562_s2n/K562_bottom_200_signal2_noise.gmt 2\n",
      "deg_200/K562_edgeR_DE/DE_bottom_200.gmt 1\n",
      "deg_200/K562_DE/DE_top_200.gmt 1\n",
      "EIF4G1.rnk\n"
     ]
    },
    {
     "name": "stderr",
     "output_type": "stream",
     "text": [
      "/var/folders/0t/zkf9kjwx2dl0_jdt25xk6l100000gn/T/ipykernel_31436/417767036.py:21: FutureWarning: X.dtype being converted to np.float32 from float64. In the next version of anndata (0.9) conversion will not be automatic. Pass dtype explicitly to avoid this warning. Pass `AnnData(X, dtype=X.dtype, ...)` to get the future behavour.\n",
      "  adata = ad.AnnData(data)\n",
      "/Users/luopin/opt/miniconda3/envs/scpa/lib/python3.10/site-packages/anndata/_core/anndata.py:121: ImplicitModificationWarning: Transforming to str index.\n",
      "  warnings.warn(\"Transforming to str index.\", ImplicitModificationWarning)\n"
     ]
    },
    {
     "name": "stdout",
     "output_type": "stream",
     "text": [
      "deg_200/K562_fc/K562_bottom_200_fc.gmt 3\n",
      "deg_200/K562_s2n/K562_bottom_200_signal2_noise.gmt 14\n",
      "deg_200/K562_edgeR_DE/DE_bottom_200.gmt 1\n",
      "deg_200/K562_DE/DE_top_200.gmt 1\n",
      "EIF4G2.rnk\n"
     ]
    },
    {
     "name": "stderr",
     "output_type": "stream",
     "text": [
      "/var/folders/0t/zkf9kjwx2dl0_jdt25xk6l100000gn/T/ipykernel_31436/417767036.py:21: FutureWarning: X.dtype being converted to np.float32 from float64. In the next version of anndata (0.9) conversion will not be automatic. Pass dtype explicitly to avoid this warning. Pass `AnnData(X, dtype=X.dtype, ...)` to get the future behavour.\n",
      "  adata = ad.AnnData(data)\n",
      "/Users/luopin/opt/miniconda3/envs/scpa/lib/python3.10/site-packages/anndata/_core/anndata.py:121: ImplicitModificationWarning: Transforming to str index.\n",
      "  warnings.warn(\"Transforming to str index.\", ImplicitModificationWarning)\n"
     ]
    },
    {
     "name": "stdout",
     "output_type": "stream",
     "text": [
      "deg_200/K562_fc/K562_bottom_200_fc.gmt 14\n",
      "deg_200/K562_s2n/K562_bottom_200_signal2_noise.gmt 38\n",
      "deg_200/K562_edgeR_DE/DE_bottom_200.gmt 39\n",
      "deg_200/K562_DE/DE_top_200.gmt 4\n",
      "ESF1.rnk\n"
     ]
    },
    {
     "name": "stderr",
     "output_type": "stream",
     "text": [
      "/var/folders/0t/zkf9kjwx2dl0_jdt25xk6l100000gn/T/ipykernel_31436/417767036.py:21: FutureWarning: X.dtype being converted to np.float32 from float64. In the next version of anndata (0.9) conversion will not be automatic. Pass dtype explicitly to avoid this warning. Pass `AnnData(X, dtype=X.dtype, ...)` to get the future behavour.\n",
      "  adata = ad.AnnData(data)\n",
      "/Users/luopin/opt/miniconda3/envs/scpa/lib/python3.10/site-packages/anndata/_core/anndata.py:121: ImplicitModificationWarning: Transforming to str index.\n",
      "  warnings.warn(\"Transforming to str index.\", ImplicitModificationWarning)\n"
     ]
    },
    {
     "name": "stdout",
     "output_type": "stream",
     "text": [
      "deg_200/K562_fc/K562_bottom_200_fc.gmt 181\n",
      "deg_200/K562_s2n/K562_bottom_200_signal2_noise.gmt 22\n",
      "deg_200/K562_edgeR_DE/DE_bottom_200.gmt 16\n",
      "deg_200/K562_DE/DE_top_200.gmt 38\n",
      "EWSR1.rnk\n"
     ]
    },
    {
     "name": "stderr",
     "output_type": "stream",
     "text": [
      "/var/folders/0t/zkf9kjwx2dl0_jdt25xk6l100000gn/T/ipykernel_31436/417767036.py:21: FutureWarning: X.dtype being converted to np.float32 from float64. In the next version of anndata (0.9) conversion will not be automatic. Pass dtype explicitly to avoid this warning. Pass `AnnData(X, dtype=X.dtype, ...)` to get the future behavour.\n",
      "  adata = ad.AnnData(data)\n",
      "/Users/luopin/opt/miniconda3/envs/scpa/lib/python3.10/site-packages/anndata/_core/anndata.py:121: ImplicitModificationWarning: Transforming to str index.\n",
      "  warnings.warn(\"Transforming to str index.\", ImplicitModificationWarning)\n"
     ]
    },
    {
     "name": "stdout",
     "output_type": "stream",
     "text": [
      "deg_200/K562_fc/K562_bottom_200_fc.gmt 86\n",
      "deg_200/K562_s2n/K562_bottom_200_signal2_noise.gmt 165\n",
      "deg_200/K562_edgeR_DE/DE_bottom_200.gmt 32\n",
      "deg_200/K562_DE/DE_top_200.gmt 70\n",
      "EXOSC9.rnk\n"
     ]
    },
    {
     "name": "stderr",
     "output_type": "stream",
     "text": [
      "/var/folders/0t/zkf9kjwx2dl0_jdt25xk6l100000gn/T/ipykernel_31436/417767036.py:21: FutureWarning: X.dtype being converted to np.float32 from float64. In the next version of anndata (0.9) conversion will not be automatic. Pass dtype explicitly to avoid this warning. Pass `AnnData(X, dtype=X.dtype, ...)` to get the future behavour.\n",
      "  adata = ad.AnnData(data)\n",
      "/Users/luopin/opt/miniconda3/envs/scpa/lib/python3.10/site-packages/anndata/_core/anndata.py:121: ImplicitModificationWarning: Transforming to str index.\n",
      "  warnings.warn(\"Transforming to str index.\", ImplicitModificationWarning)\n"
     ]
    },
    {
     "name": "stdout",
     "output_type": "stream",
     "text": [
      "deg_200/K562_fc/K562_bottom_200_fc.gmt 69\n",
      "deg_200/K562_s2n/K562_bottom_200_signal2_noise.gmt 63\n",
      "deg_200/K562_edgeR_DE/DE_bottom_200.gmt 140\n",
      "deg_200/K562_DE/DE_top_200.gmt 58\n",
      "FAM120A.rnk\n"
     ]
    },
    {
     "name": "stderr",
     "output_type": "stream",
     "text": [
      "/var/folders/0t/zkf9kjwx2dl0_jdt25xk6l100000gn/T/ipykernel_31436/417767036.py:21: FutureWarning: X.dtype being converted to np.float32 from float64. In the next version of anndata (0.9) conversion will not be automatic. Pass dtype explicitly to avoid this warning. Pass `AnnData(X, dtype=X.dtype, ...)` to get the future behavour.\n",
      "  adata = ad.AnnData(data)\n",
      "/Users/luopin/opt/miniconda3/envs/scpa/lib/python3.10/site-packages/anndata/_core/anndata.py:121: ImplicitModificationWarning: Transforming to str index.\n",
      "  warnings.warn(\"Transforming to str index.\", ImplicitModificationWarning)\n"
     ]
    },
    {
     "name": "stdout",
     "output_type": "stream",
     "text": [
      "deg_200/K562_fc/K562_bottom_200_fc.gmt 1\n",
      "deg_200/K562_s2n/K562_bottom_200_signal2_noise.gmt 1\n",
      "deg_200/K562_edgeR_DE/DE_bottom_200.gmt 1\n",
      "deg_200/K562_DE/DE_top_200.gmt 5\n",
      "FASTKD2.rnk\n"
     ]
    },
    {
     "name": "stderr",
     "output_type": "stream",
     "text": [
      "/var/folders/0t/zkf9kjwx2dl0_jdt25xk6l100000gn/T/ipykernel_31436/417767036.py:21: FutureWarning: X.dtype being converted to np.float32 from float64. In the next version of anndata (0.9) conversion will not be automatic. Pass dtype explicitly to avoid this warning. Pass `AnnData(X, dtype=X.dtype, ...)` to get the future behavour.\n",
      "  adata = ad.AnnData(data)\n",
      "/Users/luopin/opt/miniconda3/envs/scpa/lib/python3.10/site-packages/anndata/_core/anndata.py:121: ImplicitModificationWarning: Transforming to str index.\n",
      "  warnings.warn(\"Transforming to str index.\", ImplicitModificationWarning)\n"
     ]
    },
    {
     "name": "stdout",
     "output_type": "stream",
     "text": [
      "deg_200/K562_fc/K562_bottom_200_fc.gmt 1\n",
      "deg_200/K562_s2n/K562_bottom_200_signal2_noise.gmt 4\n",
      "deg_200/K562_edgeR_DE/DE_bottom_200.gmt 1\n",
      "deg_200/K562_DE/DE_top_200.gmt 1\n",
      "FIP1L1.rnk\n"
     ]
    },
    {
     "name": "stderr",
     "output_type": "stream",
     "text": [
      "/var/folders/0t/zkf9kjwx2dl0_jdt25xk6l100000gn/T/ipykernel_31436/417767036.py:21: FutureWarning: X.dtype being converted to np.float32 from float64. In the next version of anndata (0.9) conversion will not be automatic. Pass dtype explicitly to avoid this warning. Pass `AnnData(X, dtype=X.dtype, ...)` to get the future behavour.\n",
      "  adata = ad.AnnData(data)\n",
      "/Users/luopin/opt/miniconda3/envs/scpa/lib/python3.10/site-packages/anndata/_core/anndata.py:121: ImplicitModificationWarning: Transforming to str index.\n",
      "  warnings.warn(\"Transforming to str index.\", ImplicitModificationWarning)\n"
     ]
    },
    {
     "name": "stdout",
     "output_type": "stream",
     "text": [
      "deg_200/K562_fc/K562_bottom_200_fc.gmt 17\n",
      "deg_200/K562_s2n/K562_bottom_200_signal2_noise.gmt 7\n",
      "deg_200/K562_edgeR_DE/DE_bottom_200.gmt 19\n",
      "deg_200/K562_DE/DE_top_200.gmt 1\n",
      "FKBP4.rnk\n"
     ]
    },
    {
     "name": "stderr",
     "output_type": "stream",
     "text": [
      "/var/folders/0t/zkf9kjwx2dl0_jdt25xk6l100000gn/T/ipykernel_31436/417767036.py:21: FutureWarning: X.dtype being converted to np.float32 from float64. In the next version of anndata (0.9) conversion will not be automatic. Pass dtype explicitly to avoid this warning. Pass `AnnData(X, dtype=X.dtype, ...)` to get the future behavour.\n",
      "  adata = ad.AnnData(data)\n",
      "/Users/luopin/opt/miniconda3/envs/scpa/lib/python3.10/site-packages/anndata/_core/anndata.py:121: ImplicitModificationWarning: Transforming to str index.\n",
      "  warnings.warn(\"Transforming to str index.\", ImplicitModificationWarning)\n"
     ]
    },
    {
     "name": "stdout",
     "output_type": "stream",
     "text": [
      "deg_200/K562_fc/K562_bottom_200_fc.gmt 6\n",
      "deg_200/K562_s2n/K562_bottom_200_signal2_noise.gmt 54\n",
      "deg_200/K562_edgeR_DE/DE_bottom_200.gmt 8\n",
      "deg_200/K562_DE/DE_top_200.gmt 15\n",
      "FMR1.rnk\n"
     ]
    },
    {
     "name": "stderr",
     "output_type": "stream",
     "text": [
      "/var/folders/0t/zkf9kjwx2dl0_jdt25xk6l100000gn/T/ipykernel_31436/417767036.py:21: FutureWarning: X.dtype being converted to np.float32 from float64. In the next version of anndata (0.9) conversion will not be automatic. Pass dtype explicitly to avoid this warning. Pass `AnnData(X, dtype=X.dtype, ...)` to get the future behavour.\n",
      "  adata = ad.AnnData(data)\n",
      "/Users/luopin/opt/miniconda3/envs/scpa/lib/python3.10/site-packages/anndata/_core/anndata.py:121: ImplicitModificationWarning: Transforming to str index.\n",
      "  warnings.warn(\"Transforming to str index.\", ImplicitModificationWarning)\n"
     ]
    },
    {
     "name": "stdout",
     "output_type": "stream",
     "text": [
      "deg_200/K562_fc/K562_bottom_200_fc.gmt 96\n",
      "deg_200/K562_s2n/K562_bottom_200_signal2_noise.gmt 143\n",
      "deg_200/K562_edgeR_DE/DE_bottom_200.gmt 97\n",
      "deg_200/K562_DE/DE_top_200.gmt 149\n",
      "FTO.rnk\n"
     ]
    },
    {
     "name": "stderr",
     "output_type": "stream",
     "text": [
      "/var/folders/0t/zkf9kjwx2dl0_jdt25xk6l100000gn/T/ipykernel_31436/417767036.py:21: FutureWarning: X.dtype being converted to np.float32 from float64. In the next version of anndata (0.9) conversion will not be automatic. Pass dtype explicitly to avoid this warning. Pass `AnnData(X, dtype=X.dtype, ...)` to get the future behavour.\n",
      "  adata = ad.AnnData(data)\n",
      "/Users/luopin/opt/miniconda3/envs/scpa/lib/python3.10/site-packages/anndata/_core/anndata.py:121: ImplicitModificationWarning: Transforming to str index.\n",
      "  warnings.warn(\"Transforming to str index.\", ImplicitModificationWarning)\n"
     ]
    },
    {
     "name": "stdout",
     "output_type": "stream",
     "text": [
      "deg_200/K562_fc/K562_bottom_200_fc.gmt 2\n",
      "deg_200/K562_s2n/K562_bottom_200_signal2_noise.gmt 2\n",
      "deg_200/K562_edgeR_DE/DE_bottom_200.gmt 1\n",
      "deg_200/K562_DE/DE_top_200.gmt 1\n",
      "FUBP3.rnk\n"
     ]
    },
    {
     "name": "stderr",
     "output_type": "stream",
     "text": [
      "/var/folders/0t/zkf9kjwx2dl0_jdt25xk6l100000gn/T/ipykernel_31436/417767036.py:21: FutureWarning: X.dtype being converted to np.float32 from float64. In the next version of anndata (0.9) conversion will not be automatic. Pass dtype explicitly to avoid this warning. Pass `AnnData(X, dtype=X.dtype, ...)` to get the future behavour.\n",
      "  adata = ad.AnnData(data)\n",
      "/Users/luopin/opt/miniconda3/envs/scpa/lib/python3.10/site-packages/anndata/_core/anndata.py:121: ImplicitModificationWarning: Transforming to str index.\n",
      "  warnings.warn(\"Transforming to str index.\", ImplicitModificationWarning)\n"
     ]
    },
    {
     "name": "stdout",
     "output_type": "stream",
     "text": [
      "deg_200/K562_fc/K562_bottom_200_fc.gmt 68\n",
      "deg_200/K562_s2n/K562_bottom_200_signal2_noise.gmt 131\n",
      "deg_200/K562_edgeR_DE/DE_bottom_200.gmt 19\n",
      "deg_200/K562_DE/DE_top_200.gmt 38\n",
      "FUS.rnk\n"
     ]
    },
    {
     "name": "stderr",
     "output_type": "stream",
     "text": [
      "/var/folders/0t/zkf9kjwx2dl0_jdt25xk6l100000gn/T/ipykernel_31436/417767036.py:21: FutureWarning: X.dtype being converted to np.float32 from float64. In the next version of anndata (0.9) conversion will not be automatic. Pass dtype explicitly to avoid this warning. Pass `AnnData(X, dtype=X.dtype, ...)` to get the future behavour.\n",
      "  adata = ad.AnnData(data)\n",
      "/Users/luopin/opt/miniconda3/envs/scpa/lib/python3.10/site-packages/anndata/_core/anndata.py:121: ImplicitModificationWarning: Transforming to str index.\n",
      "  warnings.warn(\"Transforming to str index.\", ImplicitModificationWarning)\n"
     ]
    },
    {
     "name": "stdout",
     "output_type": "stream",
     "text": [
      "deg_200/K562_fc/K562_bottom_200_fc.gmt 10\n",
      "deg_200/K562_s2n/K562_bottom_200_signal2_noise.gmt 28\n",
      "deg_200/K562_edgeR_DE/DE_bottom_200.gmt 2\n",
      "deg_200/K562_DE/DE_top_200.gmt 1\n",
      "FXR1.rnk\n"
     ]
    },
    {
     "name": "stderr",
     "output_type": "stream",
     "text": [
      "/var/folders/0t/zkf9kjwx2dl0_jdt25xk6l100000gn/T/ipykernel_31436/417767036.py:21: FutureWarning: X.dtype being converted to np.float32 from float64. In the next version of anndata (0.9) conversion will not be automatic. Pass dtype explicitly to avoid this warning. Pass `AnnData(X, dtype=X.dtype, ...)` to get the future behavour.\n",
      "  adata = ad.AnnData(data)\n",
      "/Users/luopin/opt/miniconda3/envs/scpa/lib/python3.10/site-packages/anndata/_core/anndata.py:121: ImplicitModificationWarning: Transforming to str index.\n",
      "  warnings.warn(\"Transforming to str index.\", ImplicitModificationWarning)\n"
     ]
    },
    {
     "name": "stdout",
     "output_type": "stream",
     "text": [
      "deg_200/K562_fc/K562_bottom_200_fc.gmt 14\n",
      "deg_200/K562_s2n/K562_bottom_200_signal2_noise.gmt 10\n",
      "deg_200/K562_edgeR_DE/DE_bottom_200.gmt 17\n",
      "deg_200/K562_DE/DE_top_200.gmt 5\n",
      "G3BP1.rnk\n"
     ]
    },
    {
     "name": "stderr",
     "output_type": "stream",
     "text": [
      "/var/folders/0t/zkf9kjwx2dl0_jdt25xk6l100000gn/T/ipykernel_31436/417767036.py:21: FutureWarning: X.dtype being converted to np.float32 from float64. In the next version of anndata (0.9) conversion will not be automatic. Pass dtype explicitly to avoid this warning. Pass `AnnData(X, dtype=X.dtype, ...)` to get the future behavour.\n",
      "  adata = ad.AnnData(data)\n",
      "/Users/luopin/opt/miniconda3/envs/scpa/lib/python3.10/site-packages/anndata/_core/anndata.py:121: ImplicitModificationWarning: Transforming to str index.\n",
      "  warnings.warn(\"Transforming to str index.\", ImplicitModificationWarning)\n"
     ]
    },
    {
     "name": "stdout",
     "output_type": "stream",
     "text": [
      "deg_200/K562_fc/K562_bottom_200_fc.gmt 4\n",
      "deg_200/K562_s2n/K562_bottom_200_signal2_noise.gmt 24\n",
      "deg_200/K562_edgeR_DE/DE_bottom_200.gmt 1\n",
      "deg_200/K562_DE/DE_top_200.gmt 1\n",
      "G3BP2.rnk\n"
     ]
    },
    {
     "name": "stderr",
     "output_type": "stream",
     "text": [
      "/var/folders/0t/zkf9kjwx2dl0_jdt25xk6l100000gn/T/ipykernel_31436/417767036.py:21: FutureWarning: X.dtype being converted to np.float32 from float64. In the next version of anndata (0.9) conversion will not be automatic. Pass dtype explicitly to avoid this warning. Pass `AnnData(X, dtype=X.dtype, ...)` to get the future behavour.\n",
      "  adata = ad.AnnData(data)\n",
      "/Users/luopin/opt/miniconda3/envs/scpa/lib/python3.10/site-packages/anndata/_core/anndata.py:121: ImplicitModificationWarning: Transforming to str index.\n",
      "  warnings.warn(\"Transforming to str index.\", ImplicitModificationWarning)\n"
     ]
    },
    {
     "name": "stdout",
     "output_type": "stream",
     "text": [
      "deg_200/K562_fc/K562_bottom_200_fc.gmt 27\n",
      "deg_200/K562_s2n/K562_bottom_200_signal2_noise.gmt 23\n",
      "deg_200/K562_edgeR_DE/DE_bottom_200.gmt 63\n",
      "deg_200/K562_DE/DE_top_200.gmt 1\n",
      "GEMIN5.rnk\n"
     ]
    },
    {
     "name": "stderr",
     "output_type": "stream",
     "text": [
      "/var/folders/0t/zkf9kjwx2dl0_jdt25xk6l100000gn/T/ipykernel_31436/417767036.py:21: FutureWarning: X.dtype being converted to np.float32 from float64. In the next version of anndata (0.9) conversion will not be automatic. Pass dtype explicitly to avoid this warning. Pass `AnnData(X, dtype=X.dtype, ...)` to get the future behavour.\n",
      "  adata = ad.AnnData(data)\n",
      "/Users/luopin/opt/miniconda3/envs/scpa/lib/python3.10/site-packages/anndata/_core/anndata.py:121: ImplicitModificationWarning: Transforming to str index.\n",
      "  warnings.warn(\"Transforming to str index.\", ImplicitModificationWarning)\n"
     ]
    },
    {
     "name": "stdout",
     "output_type": "stream",
     "text": [
      "deg_200/K562_fc/K562_bottom_200_fc.gmt 11\n",
      "deg_200/K562_s2n/K562_bottom_200_signal2_noise.gmt 1\n",
      "deg_200/K562_edgeR_DE/DE_bottom_200.gmt 1\n",
      "deg_200/K562_DE/DE_top_200.gmt 1\n",
      "GPKOW.rnk\n"
     ]
    },
    {
     "name": "stderr",
     "output_type": "stream",
     "text": [
      "/var/folders/0t/zkf9kjwx2dl0_jdt25xk6l100000gn/T/ipykernel_31436/417767036.py:21: FutureWarning: X.dtype being converted to np.float32 from float64. In the next version of anndata (0.9) conversion will not be automatic. Pass dtype explicitly to avoid this warning. Pass `AnnData(X, dtype=X.dtype, ...)` to get the future behavour.\n",
      "  adata = ad.AnnData(data)\n",
      "/Users/luopin/opt/miniconda3/envs/scpa/lib/python3.10/site-packages/anndata/_core/anndata.py:121: ImplicitModificationWarning: Transforming to str index.\n",
      "  warnings.warn(\"Transforming to str index.\", ImplicitModificationWarning)\n"
     ]
    },
    {
     "name": "stdout",
     "output_type": "stream",
     "text": [
      "deg_200/K562_fc/K562_bottom_200_fc.gmt 1\n",
      "deg_200/K562_s2n/K562_bottom_200_signal2_noise.gmt 2\n",
      "deg_200/K562_edgeR_DE/DE_bottom_200.gmt 1\n",
      "deg_200/K562_DE/DE_top_200.gmt 1\n",
      "GRSF1.rnk\n"
     ]
    },
    {
     "name": "stderr",
     "output_type": "stream",
     "text": [
      "/var/folders/0t/zkf9kjwx2dl0_jdt25xk6l100000gn/T/ipykernel_31436/417767036.py:21: FutureWarning: X.dtype being converted to np.float32 from float64. In the next version of anndata (0.9) conversion will not be automatic. Pass dtype explicitly to avoid this warning. Pass `AnnData(X, dtype=X.dtype, ...)` to get the future behavour.\n",
      "  adata = ad.AnnData(data)\n",
      "/Users/luopin/opt/miniconda3/envs/scpa/lib/python3.10/site-packages/anndata/_core/anndata.py:121: ImplicitModificationWarning: Transforming to str index.\n",
      "  warnings.warn(\"Transforming to str index.\", ImplicitModificationWarning)\n"
     ]
    },
    {
     "name": "stdout",
     "output_type": "stream",
     "text": [
      "deg_200/K562_fc/K562_bottom_200_fc.gmt 1\n",
      "deg_200/K562_s2n/K562_bottom_200_signal2_noise.gmt 10\n",
      "deg_200/K562_edgeR_DE/DE_bottom_200.gmt 2\n",
      "deg_200/K562_DE/DE_top_200.gmt 1\n",
      "GRWD1.rnk\n"
     ]
    },
    {
     "name": "stderr",
     "output_type": "stream",
     "text": [
      "/var/folders/0t/zkf9kjwx2dl0_jdt25xk6l100000gn/T/ipykernel_31436/417767036.py:21: FutureWarning: X.dtype being converted to np.float32 from float64. In the next version of anndata (0.9) conversion will not be automatic. Pass dtype explicitly to avoid this warning. Pass `AnnData(X, dtype=X.dtype, ...)` to get the future behavour.\n",
      "  adata = ad.AnnData(data)\n",
      "/Users/luopin/opt/miniconda3/envs/scpa/lib/python3.10/site-packages/anndata/_core/anndata.py:121: ImplicitModificationWarning: Transforming to str index.\n",
      "  warnings.warn(\"Transforming to str index.\", ImplicitModificationWarning)\n"
     ]
    },
    {
     "name": "stdout",
     "output_type": "stream",
     "text": [
      "deg_200/K562_fc/K562_bottom_200_fc.gmt 59\n",
      "deg_200/K562_s2n/K562_bottom_200_signal2_noise.gmt 70\n",
      "deg_200/K562_edgeR_DE/DE_bottom_200.gmt 10\n",
      "deg_200/K562_DE/DE_top_200.gmt 1\n",
      "GTF2F1.rnk\n"
     ]
    },
    {
     "name": "stderr",
     "output_type": "stream",
     "text": [
      "/var/folders/0t/zkf9kjwx2dl0_jdt25xk6l100000gn/T/ipykernel_31436/417767036.py:21: FutureWarning: X.dtype being converted to np.float32 from float64. In the next version of anndata (0.9) conversion will not be automatic. Pass dtype explicitly to avoid this warning. Pass `AnnData(X, dtype=X.dtype, ...)` to get the future behavour.\n",
      "  adata = ad.AnnData(data)\n",
      "/Users/luopin/opt/miniconda3/envs/scpa/lib/python3.10/site-packages/anndata/_core/anndata.py:121: ImplicitModificationWarning: Transforming to str index.\n",
      "  warnings.warn(\"Transforming to str index.\", ImplicitModificationWarning)\n"
     ]
    },
    {
     "name": "stdout",
     "output_type": "stream",
     "text": [
      "deg_200/K562_fc/K562_bottom_200_fc.gmt 1\n",
      "deg_200/K562_s2n/K562_bottom_200_signal2_noise.gmt 9\n",
      "deg_200/K562_edgeR_DE/DE_bottom_200.gmt 1\n",
      "deg_200/K562_DE/DE_top_200.gmt 1\n",
      "HLTF.rnk\n"
     ]
    },
    {
     "name": "stderr",
     "output_type": "stream",
     "text": [
      "/var/folders/0t/zkf9kjwx2dl0_jdt25xk6l100000gn/T/ipykernel_31436/417767036.py:21: FutureWarning: X.dtype being converted to np.float32 from float64. In the next version of anndata (0.9) conversion will not be automatic. Pass dtype explicitly to avoid this warning. Pass `AnnData(X, dtype=X.dtype, ...)` to get the future behavour.\n",
      "  adata = ad.AnnData(data)\n",
      "/Users/luopin/opt/miniconda3/envs/scpa/lib/python3.10/site-packages/anndata/_core/anndata.py:121: ImplicitModificationWarning: Transforming to str index.\n",
      "  warnings.warn(\"Transforming to str index.\", ImplicitModificationWarning)\n"
     ]
    },
    {
     "name": "stdout",
     "output_type": "stream",
     "text": [
      "deg_200/K562_fc/K562_bottom_200_fc.gmt 9\n",
      "deg_200/K562_s2n/K562_bottom_200_signal2_noise.gmt 72\n",
      "deg_200/K562_edgeR_DE/DE_bottom_200.gmt 13\n",
      "deg_200/K562_DE/DE_top_200.gmt 15\n",
      "HNRNPA0.rnk\n"
     ]
    },
    {
     "name": "stderr",
     "output_type": "stream",
     "text": [
      "/var/folders/0t/zkf9kjwx2dl0_jdt25xk6l100000gn/T/ipykernel_31436/417767036.py:21: FutureWarning: X.dtype being converted to np.float32 from float64. In the next version of anndata (0.9) conversion will not be automatic. Pass dtype explicitly to avoid this warning. Pass `AnnData(X, dtype=X.dtype, ...)` to get the future behavour.\n",
      "  adata = ad.AnnData(data)\n",
      "/Users/luopin/opt/miniconda3/envs/scpa/lib/python3.10/site-packages/anndata/_core/anndata.py:121: ImplicitModificationWarning: Transforming to str index.\n",
      "  warnings.warn(\"Transforming to str index.\", ImplicitModificationWarning)\n"
     ]
    },
    {
     "name": "stdout",
     "output_type": "stream",
     "text": [
      "deg_200/K562_fc/K562_bottom_200_fc.gmt 2\n",
      "deg_200/K562_s2n/K562_bottom_200_signal2_noise.gmt 5\n",
      "deg_200/K562_edgeR_DE/DE_bottom_200.gmt 1\n",
      "deg_200/K562_DE/DE_top_200.gmt 1\n",
      "HNRNPA1.rnk\n"
     ]
    },
    {
     "name": "stderr",
     "output_type": "stream",
     "text": [
      "/var/folders/0t/zkf9kjwx2dl0_jdt25xk6l100000gn/T/ipykernel_31436/417767036.py:21: FutureWarning: X.dtype being converted to np.float32 from float64. In the next version of anndata (0.9) conversion will not be automatic. Pass dtype explicitly to avoid this warning. Pass `AnnData(X, dtype=X.dtype, ...)` to get the future behavour.\n",
      "  adata = ad.AnnData(data)\n",
      "/Users/luopin/opt/miniconda3/envs/scpa/lib/python3.10/site-packages/anndata/_core/anndata.py:121: ImplicitModificationWarning: Transforming to str index.\n",
      "  warnings.warn(\"Transforming to str index.\", ImplicitModificationWarning)\n"
     ]
    },
    {
     "name": "stdout",
     "output_type": "stream",
     "text": [
      "deg_200/K562_fc/K562_bottom_200_fc.gmt 1\n",
      "deg_200/K562_s2n/K562_bottom_200_signal2_noise.gmt 7\n",
      "deg_200/K562_edgeR_DE/DE_bottom_200.gmt 1\n",
      "deg_200/K562_DE/DE_top_200.gmt 1\n",
      "HNRNPA2B1.rnk\n"
     ]
    },
    {
     "name": "stderr",
     "output_type": "stream",
     "text": [
      "/var/folders/0t/zkf9kjwx2dl0_jdt25xk6l100000gn/T/ipykernel_31436/417767036.py:21: FutureWarning: X.dtype being converted to np.float32 from float64. In the next version of anndata (0.9) conversion will not be automatic. Pass dtype explicitly to avoid this warning. Pass `AnnData(X, dtype=X.dtype, ...)` to get the future behavour.\n",
      "  adata = ad.AnnData(data)\n",
      "/Users/luopin/opt/miniconda3/envs/scpa/lib/python3.10/site-packages/anndata/_core/anndata.py:121: ImplicitModificationWarning: Transforming to str index.\n",
      "  warnings.warn(\"Transforming to str index.\", ImplicitModificationWarning)\n"
     ]
    },
    {
     "name": "stdout",
     "output_type": "stream",
     "text": [
      "deg_200/K562_fc/K562_bottom_200_fc.gmt 28\n",
      "deg_200/K562_s2n/K562_bottom_200_signal2_noise.gmt 55\n",
      "deg_200/K562_edgeR_DE/DE_bottom_200.gmt 105\n",
      "deg_200/K562_DE/DE_top_200.gmt 117\n",
      "HNRNPAB.rnk\n"
     ]
    },
    {
     "name": "stderr",
     "output_type": "stream",
     "text": [
      "/var/folders/0t/zkf9kjwx2dl0_jdt25xk6l100000gn/T/ipykernel_31436/417767036.py:21: FutureWarning: X.dtype being converted to np.float32 from float64. In the next version of anndata (0.9) conversion will not be automatic. Pass dtype explicitly to avoid this warning. Pass `AnnData(X, dtype=X.dtype, ...)` to get the future behavour.\n",
      "  adata = ad.AnnData(data)\n",
      "/Users/luopin/opt/miniconda3/envs/scpa/lib/python3.10/site-packages/anndata/_core/anndata.py:121: ImplicitModificationWarning: Transforming to str index.\n",
      "  warnings.warn(\"Transforming to str index.\", ImplicitModificationWarning)\n"
     ]
    },
    {
     "name": "stdout",
     "output_type": "stream",
     "text": [
      "deg_200/K562_fc/K562_bottom_200_fc.gmt 2\n",
      "deg_200/K562_s2n/K562_bottom_200_signal2_noise.gmt 3\n",
      "deg_200/K562_edgeR_DE/DE_bottom_200.gmt 1\n",
      "deg_200/K562_DE/DE_top_200.gmt 1\n",
      "HNRNPC.rnk\n"
     ]
    },
    {
     "name": "stderr",
     "output_type": "stream",
     "text": [
      "/var/folders/0t/zkf9kjwx2dl0_jdt25xk6l100000gn/T/ipykernel_31436/417767036.py:21: FutureWarning: X.dtype being converted to np.float32 from float64. In the next version of anndata (0.9) conversion will not be automatic. Pass dtype explicitly to avoid this warning. Pass `AnnData(X, dtype=X.dtype, ...)` to get the future behavour.\n",
      "  adata = ad.AnnData(data)\n",
      "/Users/luopin/opt/miniconda3/envs/scpa/lib/python3.10/site-packages/anndata/_core/anndata.py:121: ImplicitModificationWarning: Transforming to str index.\n",
      "  warnings.warn(\"Transforming to str index.\", ImplicitModificationWarning)\n"
     ]
    },
    {
     "name": "stdout",
     "output_type": "stream",
     "text": [
      "deg_200/K562_fc/K562_bottom_200_fc.gmt 1\n",
      "deg_200/K562_s2n/K562_bottom_200_signal2_noise.gmt 1\n",
      "deg_200/K562_edgeR_DE/DE_bottom_200.gmt 1\n",
      "deg_200/K562_DE/DE_top_200.gmt 1\n",
      "HNRNPK.rnk\n"
     ]
    },
    {
     "name": "stderr",
     "output_type": "stream",
     "text": [
      "/var/folders/0t/zkf9kjwx2dl0_jdt25xk6l100000gn/T/ipykernel_31436/417767036.py:21: FutureWarning: X.dtype being converted to np.float32 from float64. In the next version of anndata (0.9) conversion will not be automatic. Pass dtype explicitly to avoid this warning. Pass `AnnData(X, dtype=X.dtype, ...)` to get the future behavour.\n",
      "  adata = ad.AnnData(data)\n",
      "/Users/luopin/opt/miniconda3/envs/scpa/lib/python3.10/site-packages/anndata/_core/anndata.py:121: ImplicitModificationWarning: Transforming to str index.\n",
      "  warnings.warn(\"Transforming to str index.\", ImplicitModificationWarning)\n"
     ]
    },
    {
     "name": "stdout",
     "output_type": "stream",
     "text": [
      "deg_200/K562_fc/K562_bottom_200_fc.gmt 1\n",
      "deg_200/K562_s2n/K562_bottom_200_signal2_noise.gmt 2\n",
      "deg_200/K562_edgeR_DE/DE_bottom_200.gmt 1\n",
      "deg_200/K562_DE/DE_top_200.gmt 1\n",
      "HNRNPL.rnk\n"
     ]
    },
    {
     "name": "stderr",
     "output_type": "stream",
     "text": [
      "/var/folders/0t/zkf9kjwx2dl0_jdt25xk6l100000gn/T/ipykernel_31436/417767036.py:21: FutureWarning: X.dtype being converted to np.float32 from float64. In the next version of anndata (0.9) conversion will not be automatic. Pass dtype explicitly to avoid this warning. Pass `AnnData(X, dtype=X.dtype, ...)` to get the future behavour.\n",
      "  adata = ad.AnnData(data)\n",
      "/Users/luopin/opt/miniconda3/envs/scpa/lib/python3.10/site-packages/anndata/_core/anndata.py:121: ImplicitModificationWarning: Transforming to str index.\n",
      "  warnings.warn(\"Transforming to str index.\", ImplicitModificationWarning)\n"
     ]
    },
    {
     "name": "stdout",
     "output_type": "stream",
     "text": [
      "deg_200/K562_fc/K562_bottom_200_fc.gmt 1\n",
      "deg_200/K562_s2n/K562_bottom_200_signal2_noise.gmt 1\n",
      "deg_200/K562_edgeR_DE/DE_bottom_200.gmt 1\n",
      "deg_200/K562_DE/DE_top_200.gmt 1\n",
      "HNRNPM.rnk\n"
     ]
    },
    {
     "name": "stderr",
     "output_type": "stream",
     "text": [
      "/var/folders/0t/zkf9kjwx2dl0_jdt25xk6l100000gn/T/ipykernel_31436/417767036.py:21: FutureWarning: X.dtype being converted to np.float32 from float64. In the next version of anndata (0.9) conversion will not be automatic. Pass dtype explicitly to avoid this warning. Pass `AnnData(X, dtype=X.dtype, ...)` to get the future behavour.\n",
      "  adata = ad.AnnData(data)\n",
      "/Users/luopin/opt/miniconda3/envs/scpa/lib/python3.10/site-packages/anndata/_core/anndata.py:121: ImplicitModificationWarning: Transforming to str index.\n",
      "  warnings.warn(\"Transforming to str index.\", ImplicitModificationWarning)\n"
     ]
    },
    {
     "name": "stdout",
     "output_type": "stream",
     "text": [
      "deg_200/K562_fc/K562_bottom_200_fc.gmt 6\n",
      "deg_200/K562_s2n/K562_bottom_200_signal2_noise.gmt 24\n",
      "deg_200/K562_edgeR_DE/DE_bottom_200.gmt 2\n",
      "deg_200/K562_DE/DE_top_200.gmt 2\n",
      "HNRNPU.rnk\n"
     ]
    },
    {
     "name": "stderr",
     "output_type": "stream",
     "text": [
      "/var/folders/0t/zkf9kjwx2dl0_jdt25xk6l100000gn/T/ipykernel_31436/417767036.py:21: FutureWarning: X.dtype being converted to np.float32 from float64. In the next version of anndata (0.9) conversion will not be automatic. Pass dtype explicitly to avoid this warning. Pass `AnnData(X, dtype=X.dtype, ...)` to get the future behavour.\n",
      "  adata = ad.AnnData(data)\n",
      "/Users/luopin/opt/miniconda3/envs/scpa/lib/python3.10/site-packages/anndata/_core/anndata.py:121: ImplicitModificationWarning: Transforming to str index.\n",
      "  warnings.warn(\"Transforming to str index.\", ImplicitModificationWarning)\n"
     ]
    },
    {
     "name": "stdout",
     "output_type": "stream",
     "text": [
      "deg_200/K562_fc/K562_bottom_200_fc.gmt 1\n",
      "deg_200/K562_s2n/K562_bottom_200_signal2_noise.gmt 1\n",
      "deg_200/K562_edgeR_DE/DE_bottom_200.gmt 1\n",
      "deg_200/K562_DE/DE_top_200.gmt 1\n",
      "HNRNPUL1.rnk\n"
     ]
    },
    {
     "name": "stderr",
     "output_type": "stream",
     "text": [
      "/var/folders/0t/zkf9kjwx2dl0_jdt25xk6l100000gn/T/ipykernel_31436/417767036.py:21: FutureWarning: X.dtype being converted to np.float32 from float64. In the next version of anndata (0.9) conversion will not be automatic. Pass dtype explicitly to avoid this warning. Pass `AnnData(X, dtype=X.dtype, ...)` to get the future behavour.\n",
      "  adata = ad.AnnData(data)\n",
      "/Users/luopin/opt/miniconda3/envs/scpa/lib/python3.10/site-packages/anndata/_core/anndata.py:121: ImplicitModificationWarning: Transforming to str index.\n",
      "  warnings.warn(\"Transforming to str index.\", ImplicitModificationWarning)\n"
     ]
    },
    {
     "name": "stdout",
     "output_type": "stream",
     "text": [
      "deg_200/K562_fc/K562_bottom_200_fc.gmt 1\n",
      "deg_200/K562_s2n/K562_bottom_200_signal2_noise.gmt 3\n",
      "deg_200/K562_edgeR_DE/DE_bottom_200.gmt 1\n",
      "deg_200/K562_DE/DE_top_200.gmt 1\n",
      "HSPD1.rnk\n"
     ]
    },
    {
     "name": "stderr",
     "output_type": "stream",
     "text": [
      "/var/folders/0t/zkf9kjwx2dl0_jdt25xk6l100000gn/T/ipykernel_31436/417767036.py:21: FutureWarning: X.dtype being converted to np.float32 from float64. In the next version of anndata (0.9) conversion will not be automatic. Pass dtype explicitly to avoid this warning. Pass `AnnData(X, dtype=X.dtype, ...)` to get the future behavour.\n",
      "  adata = ad.AnnData(data)\n",
      "/Users/luopin/opt/miniconda3/envs/scpa/lib/python3.10/site-packages/anndata/_core/anndata.py:121: ImplicitModificationWarning: Transforming to str index.\n",
      "  warnings.warn(\"Transforming to str index.\", ImplicitModificationWarning)\n"
     ]
    },
    {
     "name": "stdout",
     "output_type": "stream",
     "text": [
      "deg_200/K562_fc/K562_bottom_200_fc.gmt 1\n",
      "deg_200/K562_s2n/K562_bottom_200_signal2_noise.gmt 7\n",
      "deg_200/K562_edgeR_DE/DE_bottom_200.gmt 1\n",
      "deg_200/K562_DE/DE_top_200.gmt 1\n",
      "IGF2BP2.rnk\n"
     ]
    },
    {
     "name": "stderr",
     "output_type": "stream",
     "text": [
      "/var/folders/0t/zkf9kjwx2dl0_jdt25xk6l100000gn/T/ipykernel_31436/417767036.py:21: FutureWarning: X.dtype being converted to np.float32 from float64. In the next version of anndata (0.9) conversion will not be automatic. Pass dtype explicitly to avoid this warning. Pass `AnnData(X, dtype=X.dtype, ...)` to get the future behavour.\n",
      "  adata = ad.AnnData(data)\n",
      "/Users/luopin/opt/miniconda3/envs/scpa/lib/python3.10/site-packages/anndata/_core/anndata.py:121: ImplicitModificationWarning: Transforming to str index.\n",
      "  warnings.warn(\"Transforming to str index.\", ImplicitModificationWarning)\n"
     ]
    },
    {
     "name": "stdout",
     "output_type": "stream",
     "text": [
      "deg_200/K562_fc/K562_bottom_200_fc.gmt 1\n",
      "deg_200/K562_s2n/K562_bottom_200_signal2_noise.gmt 2\n",
      "deg_200/K562_edgeR_DE/DE_bottom_200.gmt 1\n",
      "deg_200/K562_DE/DE_top_200.gmt 1\n",
      "IGF2BP3.rnk\n"
     ]
    },
    {
     "name": "stderr",
     "output_type": "stream",
     "text": [
      "/var/folders/0t/zkf9kjwx2dl0_jdt25xk6l100000gn/T/ipykernel_31436/417767036.py:21: FutureWarning: X.dtype being converted to np.float32 from float64. In the next version of anndata (0.9) conversion will not be automatic. Pass dtype explicitly to avoid this warning. Pass `AnnData(X, dtype=X.dtype, ...)` to get the future behavour.\n",
      "  adata = ad.AnnData(data)\n",
      "/Users/luopin/opt/miniconda3/envs/scpa/lib/python3.10/site-packages/anndata/_core/anndata.py:121: ImplicitModificationWarning: Transforming to str index.\n",
      "  warnings.warn(\"Transforming to str index.\", ImplicitModificationWarning)\n"
     ]
    },
    {
     "name": "stdout",
     "output_type": "stream",
     "text": [
      "deg_200/K562_fc/K562_bottom_200_fc.gmt 26\n",
      "deg_200/K562_s2n/K562_bottom_200_signal2_noise.gmt 62\n",
      "deg_200/K562_edgeR_DE/DE_bottom_200.gmt 1\n",
      "deg_200/K562_DE/DE_top_200.gmt 1\n",
      "ILF2.rnk\n"
     ]
    },
    {
     "name": "stderr",
     "output_type": "stream",
     "text": [
      "/var/folders/0t/zkf9kjwx2dl0_jdt25xk6l100000gn/T/ipykernel_31436/417767036.py:21: FutureWarning: X.dtype being converted to np.float32 from float64. In the next version of anndata (0.9) conversion will not be automatic. Pass dtype explicitly to avoid this warning. Pass `AnnData(X, dtype=X.dtype, ...)` to get the future behavour.\n",
      "  adata = ad.AnnData(data)\n",
      "/Users/luopin/opt/miniconda3/envs/scpa/lib/python3.10/site-packages/anndata/_core/anndata.py:121: ImplicitModificationWarning: Transforming to str index.\n",
      "  warnings.warn(\"Transforming to str index.\", ImplicitModificationWarning)\n"
     ]
    },
    {
     "name": "stdout",
     "output_type": "stream",
     "text": [
      "deg_200/K562_fc/K562_bottom_200_fc.gmt 1\n",
      "deg_200/K562_s2n/K562_bottom_200_signal2_noise.gmt 1\n",
      "deg_200/K562_edgeR_DE/DE_bottom_200.gmt 1\n",
      "deg_200/K562_DE/DE_top_200.gmt 1\n",
      "ILF3.rnk\n"
     ]
    },
    {
     "name": "stderr",
     "output_type": "stream",
     "text": [
      "/var/folders/0t/zkf9kjwx2dl0_jdt25xk6l100000gn/T/ipykernel_31436/417767036.py:21: FutureWarning: X.dtype being converted to np.float32 from float64. In the next version of anndata (0.9) conversion will not be automatic. Pass dtype explicitly to avoid this warning. Pass `AnnData(X, dtype=X.dtype, ...)` to get the future behavour.\n",
      "  adata = ad.AnnData(data)\n",
      "/Users/luopin/opt/miniconda3/envs/scpa/lib/python3.10/site-packages/anndata/_core/anndata.py:121: ImplicitModificationWarning: Transforming to str index.\n",
      "  warnings.warn(\"Transforming to str index.\", ImplicitModificationWarning)\n"
     ]
    },
    {
     "name": "stdout",
     "output_type": "stream",
     "text": [
      "deg_200/K562_fc/K562_bottom_200_fc.gmt 1\n",
      "deg_200/K562_s2n/K562_bottom_200_signal2_noise.gmt 2\n",
      "deg_200/K562_edgeR_DE/DE_bottom_200.gmt 1\n",
      "deg_200/K562_DE/DE_top_200.gmt 1\n",
      "KHDRBS1.rnk\n"
     ]
    },
    {
     "name": "stderr",
     "output_type": "stream",
     "text": [
      "/var/folders/0t/zkf9kjwx2dl0_jdt25xk6l100000gn/T/ipykernel_31436/417767036.py:21: FutureWarning: X.dtype being converted to np.float32 from float64. In the next version of anndata (0.9) conversion will not be automatic. Pass dtype explicitly to avoid this warning. Pass `AnnData(X, dtype=X.dtype, ...)` to get the future behavour.\n",
      "  adata = ad.AnnData(data)\n",
      "/Users/luopin/opt/miniconda3/envs/scpa/lib/python3.10/site-packages/anndata/_core/anndata.py:121: ImplicitModificationWarning: Transforming to str index.\n",
      "  warnings.warn(\"Transforming to str index.\", ImplicitModificationWarning)\n"
     ]
    },
    {
     "name": "stdout",
     "output_type": "stream",
     "text": [
      "deg_200/K562_fc/K562_bottom_200_fc.gmt 2\n",
      "deg_200/K562_s2n/K562_bottom_200_signal2_noise.gmt 2\n",
      "deg_200/K562_edgeR_DE/DE_bottom_200.gmt 1\n",
      "deg_200/K562_DE/DE_top_200.gmt 1\n",
      "KHSRP.rnk\n"
     ]
    },
    {
     "name": "stderr",
     "output_type": "stream",
     "text": [
      "/var/folders/0t/zkf9kjwx2dl0_jdt25xk6l100000gn/T/ipykernel_31436/417767036.py:21: FutureWarning: X.dtype being converted to np.float32 from float64. In the next version of anndata (0.9) conversion will not be automatic. Pass dtype explicitly to avoid this warning. Pass `AnnData(X, dtype=X.dtype, ...)` to get the future behavour.\n",
      "  adata = ad.AnnData(data)\n",
      "/Users/luopin/opt/miniconda3/envs/scpa/lib/python3.10/site-packages/anndata/_core/anndata.py:121: ImplicitModificationWarning: Transforming to str index.\n",
      "  warnings.warn(\"Transforming to str index.\", ImplicitModificationWarning)\n"
     ]
    },
    {
     "name": "stdout",
     "output_type": "stream",
     "text": [
      "deg_200/K562_fc/K562_bottom_200_fc.gmt 1\n",
      "deg_200/K562_s2n/K562_bottom_200_signal2_noise.gmt 1\n",
      "deg_200/K562_edgeR_DE/DE_bottom_200.gmt 1\n",
      "deg_200/K562_DE/DE_top_200.gmt 1\n",
      "KIF1C.rnk\n"
     ]
    },
    {
     "name": "stderr",
     "output_type": "stream",
     "text": [
      "/var/folders/0t/zkf9kjwx2dl0_jdt25xk6l100000gn/T/ipykernel_31436/417767036.py:21: FutureWarning: X.dtype being converted to np.float32 from float64. In the next version of anndata (0.9) conversion will not be automatic. Pass dtype explicitly to avoid this warning. Pass `AnnData(X, dtype=X.dtype, ...)` to get the future behavour.\n",
      "  adata = ad.AnnData(data)\n",
      "/Users/luopin/opt/miniconda3/envs/scpa/lib/python3.10/site-packages/anndata/_core/anndata.py:121: ImplicitModificationWarning: Transforming to str index.\n",
      "  warnings.warn(\"Transforming to str index.\", ImplicitModificationWarning)\n"
     ]
    },
    {
     "name": "stdout",
     "output_type": "stream",
     "text": [
      "deg_200/K562_fc/K562_bottom_200_fc.gmt 4\n",
      "deg_200/K562_s2n/K562_bottom_200_signal2_noise.gmt 1\n",
      "deg_200/K562_edgeR_DE/DE_bottom_200.gmt 26\n",
      "deg_200/K562_DE/DE_top_200.gmt 1\n",
      "KRR1.rnk\n"
     ]
    },
    {
     "name": "stderr",
     "output_type": "stream",
     "text": [
      "/var/folders/0t/zkf9kjwx2dl0_jdt25xk6l100000gn/T/ipykernel_31436/417767036.py:21: FutureWarning: X.dtype being converted to np.float32 from float64. In the next version of anndata (0.9) conversion will not be automatic. Pass dtype explicitly to avoid this warning. Pass `AnnData(X, dtype=X.dtype, ...)` to get the future behavour.\n",
      "  adata = ad.AnnData(data)\n",
      "/Users/luopin/opt/miniconda3/envs/scpa/lib/python3.10/site-packages/anndata/_core/anndata.py:121: ImplicitModificationWarning: Transforming to str index.\n",
      "  warnings.warn(\"Transforming to str index.\", ImplicitModificationWarning)\n"
     ]
    },
    {
     "name": "stdout",
     "output_type": "stream",
     "text": [
      "deg_200/K562_fc/K562_bottom_200_fc.gmt 17\n",
      "deg_200/K562_s2n/K562_bottom_200_signal2_noise.gmt 14\n",
      "deg_200/K562_edgeR_DE/DE_bottom_200.gmt 16\n",
      "deg_200/K562_DE/DE_top_200.gmt 40\n",
      "LARP4.rnk\n"
     ]
    },
    {
     "name": "stderr",
     "output_type": "stream",
     "text": [
      "/var/folders/0t/zkf9kjwx2dl0_jdt25xk6l100000gn/T/ipykernel_31436/417767036.py:21: FutureWarning: X.dtype being converted to np.float32 from float64. In the next version of anndata (0.9) conversion will not be automatic. Pass dtype explicitly to avoid this warning. Pass `AnnData(X, dtype=X.dtype, ...)` to get the future behavour.\n",
      "  adata = ad.AnnData(data)\n",
      "/Users/luopin/opt/miniconda3/envs/scpa/lib/python3.10/site-packages/anndata/_core/anndata.py:121: ImplicitModificationWarning: Transforming to str index.\n",
      "  warnings.warn(\"Transforming to str index.\", ImplicitModificationWarning)\n"
     ]
    },
    {
     "name": "stdout",
     "output_type": "stream",
     "text": [
      "deg_200/K562_fc/K562_bottom_200_fc.gmt 2\n",
      "deg_200/K562_s2n/K562_bottom_200_signal2_noise.gmt 2\n",
      "deg_200/K562_edgeR_DE/DE_bottom_200.gmt 1\n",
      "deg_200/K562_DE/DE_top_200.gmt 1\n",
      "LARP7.rnk\n"
     ]
    },
    {
     "name": "stderr",
     "output_type": "stream",
     "text": [
      "/var/folders/0t/zkf9kjwx2dl0_jdt25xk6l100000gn/T/ipykernel_31436/417767036.py:21: FutureWarning: X.dtype being converted to np.float32 from float64. In the next version of anndata (0.9) conversion will not be automatic. Pass dtype explicitly to avoid this warning. Pass `AnnData(X, dtype=X.dtype, ...)` to get the future behavour.\n",
      "  adata = ad.AnnData(data)\n",
      "/Users/luopin/opt/miniconda3/envs/scpa/lib/python3.10/site-packages/anndata/_core/anndata.py:121: ImplicitModificationWarning: Transforming to str index.\n",
      "  warnings.warn(\"Transforming to str index.\", ImplicitModificationWarning)\n"
     ]
    },
    {
     "name": "stdout",
     "output_type": "stream",
     "text": [
      "deg_200/K562_fc/K562_bottom_200_fc.gmt 22\n",
      "deg_200/K562_s2n/K562_bottom_200_signal2_noise.gmt 25\n",
      "deg_200/K562_edgeR_DE/DE_bottom_200.gmt 36\n",
      "deg_200/K562_DE/DE_top_200.gmt 13\n",
      "LIN28B.rnk\n"
     ]
    },
    {
     "name": "stderr",
     "output_type": "stream",
     "text": [
      "/var/folders/0t/zkf9kjwx2dl0_jdt25xk6l100000gn/T/ipykernel_31436/417767036.py:21: FutureWarning: X.dtype being converted to np.float32 from float64. In the next version of anndata (0.9) conversion will not be automatic. Pass dtype explicitly to avoid this warning. Pass `AnnData(X, dtype=X.dtype, ...)` to get the future behavour.\n",
      "  adata = ad.AnnData(data)\n",
      "/Users/luopin/opt/miniconda3/envs/scpa/lib/python3.10/site-packages/anndata/_core/anndata.py:121: ImplicitModificationWarning: Transforming to str index.\n",
      "  warnings.warn(\"Transforming to str index.\", ImplicitModificationWarning)\n"
     ]
    },
    {
     "name": "stdout",
     "output_type": "stream",
     "text": [
      "deg_200/K562_fc/K562_bottom_200_fc.gmt 8\n",
      "deg_200/K562_s2n/K562_bottom_200_signal2_noise.gmt 2\n",
      "deg_200/K562_edgeR_DE/DE_bottom_200.gmt 2\n",
      "deg_200/K562_DE/DE_top_200.gmt 1\n",
      "LSM11.rnk\n"
     ]
    },
    {
     "name": "stderr",
     "output_type": "stream",
     "text": [
      "/var/folders/0t/zkf9kjwx2dl0_jdt25xk6l100000gn/T/ipykernel_31436/417767036.py:21: FutureWarning: X.dtype being converted to np.float32 from float64. In the next version of anndata (0.9) conversion will not be automatic. Pass dtype explicitly to avoid this warning. Pass `AnnData(X, dtype=X.dtype, ...)` to get the future behavour.\n",
      "  adata = ad.AnnData(data)\n",
      "/Users/luopin/opt/miniconda3/envs/scpa/lib/python3.10/site-packages/anndata/_core/anndata.py:121: ImplicitModificationWarning: Transforming to str index.\n",
      "  warnings.warn(\"Transforming to str index.\", ImplicitModificationWarning)\n"
     ]
    },
    {
     "name": "stdout",
     "output_type": "stream",
     "text": [
      "deg_200/K562_fc/K562_bottom_200_fc.gmt 47\n",
      "deg_200/K562_s2n/K562_bottom_200_signal2_noise.gmt 30\n",
      "deg_200/K562_edgeR_DE/DE_bottom_200.gmt 44\n",
      "deg_200/K562_DE/DE_top_200.gmt 13\n",
      "MAGOH.rnk\n"
     ]
    },
    {
     "name": "stderr",
     "output_type": "stream",
     "text": [
      "/var/folders/0t/zkf9kjwx2dl0_jdt25xk6l100000gn/T/ipykernel_31436/417767036.py:21: FutureWarning: X.dtype being converted to np.float32 from float64. In the next version of anndata (0.9) conversion will not be automatic. Pass dtype explicitly to avoid this warning. Pass `AnnData(X, dtype=X.dtype, ...)` to get the future behavour.\n",
      "  adata = ad.AnnData(data)\n",
      "/Users/luopin/opt/miniconda3/envs/scpa/lib/python3.10/site-packages/anndata/_core/anndata.py:121: ImplicitModificationWarning: Transforming to str index.\n",
      "  warnings.warn(\"Transforming to str index.\", ImplicitModificationWarning)\n"
     ]
    },
    {
     "name": "stdout",
     "output_type": "stream",
     "text": [
      "deg_200/K562_fc/K562_bottom_200_fc.gmt 6\n",
      "deg_200/K562_s2n/K562_bottom_200_signal2_noise.gmt 60\n",
      "deg_200/K562_edgeR_DE/DE_bottom_200.gmt 1\n",
      "deg_200/K562_DE/DE_top_200.gmt 2\n",
      "MATR3.rnk\n"
     ]
    },
    {
     "name": "stderr",
     "output_type": "stream",
     "text": [
      "/var/folders/0t/zkf9kjwx2dl0_jdt25xk6l100000gn/T/ipykernel_31436/417767036.py:21: FutureWarning: X.dtype being converted to np.float32 from float64. In the next version of anndata (0.9) conversion will not be automatic. Pass dtype explicitly to avoid this warning. Pass `AnnData(X, dtype=X.dtype, ...)` to get the future behavour.\n",
      "  adata = ad.AnnData(data)\n",
      "/Users/luopin/opt/miniconda3/envs/scpa/lib/python3.10/site-packages/anndata/_core/anndata.py:121: ImplicitModificationWarning: Transforming to str index.\n",
      "  warnings.warn(\"Transforming to str index.\", ImplicitModificationWarning)\n"
     ]
    },
    {
     "name": "stdout",
     "output_type": "stream",
     "text": [
      "deg_200/K562_fc/K562_bottom_200_fc.gmt 1\n",
      "deg_200/K562_s2n/K562_bottom_200_signal2_noise.gmt 1\n",
      "deg_200/K562_edgeR_DE/DE_bottom_200.gmt 1\n",
      "deg_200/K562_DE/DE_top_200.gmt 1\n",
      "METAP2.rnk\n"
     ]
    },
    {
     "name": "stderr",
     "output_type": "stream",
     "text": [
      "/var/folders/0t/zkf9kjwx2dl0_jdt25xk6l100000gn/T/ipykernel_31436/417767036.py:21: FutureWarning: X.dtype being converted to np.float32 from float64. In the next version of anndata (0.9) conversion will not be automatic. Pass dtype explicitly to avoid this warning. Pass `AnnData(X, dtype=X.dtype, ...)` to get the future behavour.\n",
      "  adata = ad.AnnData(data)\n",
      "/Users/luopin/opt/miniconda3/envs/scpa/lib/python3.10/site-packages/anndata/_core/anndata.py:121: ImplicitModificationWarning: Transforming to str index.\n",
      "  warnings.warn(\"Transforming to str index.\", ImplicitModificationWarning)\n"
     ]
    },
    {
     "name": "stdout",
     "output_type": "stream",
     "text": [
      "deg_200/K562_fc/K562_bottom_200_fc.gmt 24\n",
      "deg_200/K562_s2n/K562_bottom_200_signal2_noise.gmt 43\n",
      "deg_200/K562_edgeR_DE/DE_bottom_200.gmt 53\n",
      "deg_200/K562_DE/DE_top_200.gmt 95\n",
      "MSI2.rnk\n"
     ]
    },
    {
     "name": "stderr",
     "output_type": "stream",
     "text": [
      "/var/folders/0t/zkf9kjwx2dl0_jdt25xk6l100000gn/T/ipykernel_31436/417767036.py:21: FutureWarning: X.dtype being converted to np.float32 from float64. In the next version of anndata (0.9) conversion will not be automatic. Pass dtype explicitly to avoid this warning. Pass `AnnData(X, dtype=X.dtype, ...)` to get the future behavour.\n",
      "  adata = ad.AnnData(data)\n",
      "/Users/luopin/opt/miniconda3/envs/scpa/lib/python3.10/site-packages/anndata/_core/anndata.py:121: ImplicitModificationWarning: Transforming to str index.\n",
      "  warnings.warn(\"Transforming to str index.\", ImplicitModificationWarning)\n"
     ]
    },
    {
     "name": "stdout",
     "output_type": "stream",
     "text": [
      "deg_200/K562_fc/K562_bottom_200_fc.gmt 13\n",
      "deg_200/K562_s2n/K562_bottom_200_signal2_noise.gmt 120\n",
      "deg_200/K562_edgeR_DE/DE_bottom_200.gmt 31\n",
      "deg_200/K562_DE/DE_top_200.gmt 26\n",
      "MTPAP.rnk\n"
     ]
    },
    {
     "name": "stderr",
     "output_type": "stream",
     "text": [
      "/var/folders/0t/zkf9kjwx2dl0_jdt25xk6l100000gn/T/ipykernel_31436/417767036.py:21: FutureWarning: X.dtype being converted to np.float32 from float64. In the next version of anndata (0.9) conversion will not be automatic. Pass dtype explicitly to avoid this warning. Pass `AnnData(X, dtype=X.dtype, ...)` to get the future behavour.\n",
      "  adata = ad.AnnData(data)\n",
      "/Users/luopin/opt/miniconda3/envs/scpa/lib/python3.10/site-packages/anndata/_core/anndata.py:121: ImplicitModificationWarning: Transforming to str index.\n",
      "  warnings.warn(\"Transforming to str index.\", ImplicitModificationWarning)\n"
     ]
    },
    {
     "name": "stdout",
     "output_type": "stream",
     "text": [
      "deg_200/K562_fc/K562_bottom_200_fc.gmt 149\n",
      "deg_200/K562_s2n/K562_bottom_200_signal2_noise.gmt 195\n",
      "deg_200/K562_edgeR_DE/DE_bottom_200.gmt 34\n",
      "deg_200/K562_DE/DE_top_200.gmt 9\n",
      "NAA15.rnk\n"
     ]
    },
    {
     "name": "stderr",
     "output_type": "stream",
     "text": [
      "/var/folders/0t/zkf9kjwx2dl0_jdt25xk6l100000gn/T/ipykernel_31436/417767036.py:21: FutureWarning: X.dtype being converted to np.float32 from float64. In the next version of anndata (0.9) conversion will not be automatic. Pass dtype explicitly to avoid this warning. Pass `AnnData(X, dtype=X.dtype, ...)` to get the future behavour.\n",
      "  adata = ad.AnnData(data)\n",
      "/Users/luopin/opt/miniconda3/envs/scpa/lib/python3.10/site-packages/anndata/_core/anndata.py:121: ImplicitModificationWarning: Transforming to str index.\n",
      "  warnings.warn(\"Transforming to str index.\", ImplicitModificationWarning)\n"
     ]
    },
    {
     "name": "stdout",
     "output_type": "stream",
     "text": [
      "deg_200/K562_fc/K562_bottom_200_fc.gmt 15\n",
      "deg_200/K562_s2n/K562_bottom_200_signal2_noise.gmt 2\n",
      "deg_200/K562_edgeR_DE/DE_bottom_200.gmt 114\n",
      "deg_200/K562_DE/DE_top_200.gmt 3\n",
      "NCBP2.rnk\n"
     ]
    },
    {
     "name": "stderr",
     "output_type": "stream",
     "text": [
      "/var/folders/0t/zkf9kjwx2dl0_jdt25xk6l100000gn/T/ipykernel_31436/417767036.py:21: FutureWarning: X.dtype being converted to np.float32 from float64. In the next version of anndata (0.9) conversion will not be automatic. Pass dtype explicitly to avoid this warning. Pass `AnnData(X, dtype=X.dtype, ...)` to get the future behavour.\n",
      "  adata = ad.AnnData(data)\n",
      "/Users/luopin/opt/miniconda3/envs/scpa/lib/python3.10/site-packages/anndata/_core/anndata.py:121: ImplicitModificationWarning: Transforming to str index.\n",
      "  warnings.warn(\"Transforming to str index.\", ImplicitModificationWarning)\n"
     ]
    },
    {
     "name": "stdout",
     "output_type": "stream",
     "text": [
      "deg_200/K562_fc/K562_bottom_200_fc.gmt 126\n",
      "deg_200/K562_s2n/K562_bottom_200_signal2_noise.gmt 55\n",
      "deg_200/K562_edgeR_DE/DE_bottom_200.gmt 5\n",
      "deg_200/K562_DE/DE_top_200.gmt 1\n",
      "NELFE.rnk\n"
     ]
    },
    {
     "name": "stderr",
     "output_type": "stream",
     "text": [
      "/var/folders/0t/zkf9kjwx2dl0_jdt25xk6l100000gn/T/ipykernel_31436/417767036.py:21: FutureWarning: X.dtype being converted to np.float32 from float64. In the next version of anndata (0.9) conversion will not be automatic. Pass dtype explicitly to avoid this warning. Pass `AnnData(X, dtype=X.dtype, ...)` to get the future behavour.\n",
      "  adata = ad.AnnData(data)\n",
      "/Users/luopin/opt/miniconda3/envs/scpa/lib/python3.10/site-packages/anndata/_core/anndata.py:121: ImplicitModificationWarning: Transforming to str index.\n",
      "  warnings.warn(\"Transforming to str index.\", ImplicitModificationWarning)\n"
     ]
    },
    {
     "name": "stdout",
     "output_type": "stream",
     "text": [
      "deg_200/K562_fc/K562_bottom_200_fc.gmt 1\n",
      "deg_200/K562_s2n/K562_bottom_200_signal2_noise.gmt 5\n",
      "deg_200/K562_edgeR_DE/DE_bottom_200.gmt 1\n",
      "deg_200/K562_DE/DE_top_200.gmt 1\n",
      "NOL12.rnk\n"
     ]
    },
    {
     "name": "stderr",
     "output_type": "stream",
     "text": [
      "/var/folders/0t/zkf9kjwx2dl0_jdt25xk6l100000gn/T/ipykernel_31436/417767036.py:21: FutureWarning: X.dtype being converted to np.float32 from float64. In the next version of anndata (0.9) conversion will not be automatic. Pass dtype explicitly to avoid this warning. Pass `AnnData(X, dtype=X.dtype, ...)` to get the future behavour.\n",
      "  adata = ad.AnnData(data)\n",
      "/Users/luopin/opt/miniconda3/envs/scpa/lib/python3.10/site-packages/anndata/_core/anndata.py:121: ImplicitModificationWarning: Transforming to str index.\n",
      "  warnings.warn(\"Transforming to str index.\", ImplicitModificationWarning)\n"
     ]
    },
    {
     "name": "stdout",
     "output_type": "stream",
     "text": [
      "deg_200/K562_fc/K562_bottom_200_fc.gmt 1\n",
      "deg_200/K562_s2n/K562_bottom_200_signal2_noise.gmt 4\n",
      "deg_200/K562_edgeR_DE/DE_bottom_200.gmt 1\n",
      "deg_200/K562_DE/DE_top_200.gmt 1\n",
      "NONO.rnk\n"
     ]
    },
    {
     "name": "stderr",
     "output_type": "stream",
     "text": [
      "/var/folders/0t/zkf9kjwx2dl0_jdt25xk6l100000gn/T/ipykernel_31436/417767036.py:21: FutureWarning: X.dtype being converted to np.float32 from float64. In the next version of anndata (0.9) conversion will not be automatic. Pass dtype explicitly to avoid this warning. Pass `AnnData(X, dtype=X.dtype, ...)` to get the future behavour.\n",
      "  adata = ad.AnnData(data)\n",
      "/Users/luopin/opt/miniconda3/envs/scpa/lib/python3.10/site-packages/anndata/_core/anndata.py:121: ImplicitModificationWarning: Transforming to str index.\n",
      "  warnings.warn(\"Transforming to str index.\", ImplicitModificationWarning)\n"
     ]
    },
    {
     "name": "stdout",
     "output_type": "stream",
     "text": [
      "deg_200/K562_fc/K562_bottom_200_fc.gmt 1\n",
      "deg_200/K562_s2n/K562_bottom_200_signal2_noise.gmt 1\n",
      "deg_200/K562_edgeR_DE/DE_bottom_200.gmt 1\n",
      "deg_200/K562_DE/DE_top_200.gmt 1\n",
      "NPM1.rnk\n"
     ]
    },
    {
     "name": "stderr",
     "output_type": "stream",
     "text": [
      "/var/folders/0t/zkf9kjwx2dl0_jdt25xk6l100000gn/T/ipykernel_31436/417767036.py:21: FutureWarning: X.dtype being converted to np.float32 from float64. In the next version of anndata (0.9) conversion will not be automatic. Pass dtype explicitly to avoid this warning. Pass `AnnData(X, dtype=X.dtype, ...)` to get the future behavour.\n",
      "  adata = ad.AnnData(data)\n",
      "/Users/luopin/opt/miniconda3/envs/scpa/lib/python3.10/site-packages/anndata/_core/anndata.py:121: ImplicitModificationWarning: Transforming to str index.\n",
      "  warnings.warn(\"Transforming to str index.\", ImplicitModificationWarning)\n"
     ]
    },
    {
     "name": "stdout",
     "output_type": "stream",
     "text": [
      "deg_200/K562_fc/K562_bottom_200_fc.gmt 8\n",
      "deg_200/K562_s2n/K562_bottom_200_signal2_noise.gmt 7\n",
      "deg_200/K562_edgeR_DE/DE_bottom_200.gmt 46\n",
      "deg_200/K562_DE/DE_top_200.gmt 6\n",
      "NSUN2.rnk\n"
     ]
    },
    {
     "name": "stderr",
     "output_type": "stream",
     "text": [
      "/var/folders/0t/zkf9kjwx2dl0_jdt25xk6l100000gn/T/ipykernel_31436/417767036.py:21: FutureWarning: X.dtype being converted to np.float32 from float64. In the next version of anndata (0.9) conversion will not be automatic. Pass dtype explicitly to avoid this warning. Pass `AnnData(X, dtype=X.dtype, ...)` to get the future behavour.\n",
      "  adata = ad.AnnData(data)\n",
      "/Users/luopin/opt/miniconda3/envs/scpa/lib/python3.10/site-packages/anndata/_core/anndata.py:121: ImplicitModificationWarning: Transforming to str index.\n",
      "  warnings.warn(\"Transforming to str index.\", ImplicitModificationWarning)\n"
     ]
    },
    {
     "name": "stdout",
     "output_type": "stream",
     "text": [
      "deg_200/K562_fc/K562_bottom_200_fc.gmt 1\n",
      "deg_200/K562_s2n/K562_bottom_200_signal2_noise.gmt 33\n",
      "deg_200/K562_edgeR_DE/DE_bottom_200.gmt 1\n",
      "deg_200/K562_DE/DE_top_200.gmt 1\n",
      "NUFIP2.rnk\n"
     ]
    },
    {
     "name": "stderr",
     "output_type": "stream",
     "text": [
      "/var/folders/0t/zkf9kjwx2dl0_jdt25xk6l100000gn/T/ipykernel_31436/417767036.py:21: FutureWarning: X.dtype being converted to np.float32 from float64. In the next version of anndata (0.9) conversion will not be automatic. Pass dtype explicitly to avoid this warning. Pass `AnnData(X, dtype=X.dtype, ...)` to get the future behavour.\n",
      "  adata = ad.AnnData(data)\n",
      "/Users/luopin/opt/miniconda3/envs/scpa/lib/python3.10/site-packages/anndata/_core/anndata.py:121: ImplicitModificationWarning: Transforming to str index.\n",
      "  warnings.warn(\"Transforming to str index.\", ImplicitModificationWarning)\n"
     ]
    },
    {
     "name": "stdout",
     "output_type": "stream",
     "text": [
      "deg_200/K562_fc/K562_bottom_200_fc.gmt 197\n",
      "deg_200/K562_s2n/K562_bottom_200_signal2_noise.gmt 138\n",
      "deg_200/K562_edgeR_DE/DE_bottom_200.gmt 161\n",
      "deg_200/K562_DE/DE_top_200.gmt 115\n",
      "NUSAP1.rnk\n"
     ]
    },
    {
     "name": "stderr",
     "output_type": "stream",
     "text": [
      "/var/folders/0t/zkf9kjwx2dl0_jdt25xk6l100000gn/T/ipykernel_31436/417767036.py:21: FutureWarning: X.dtype being converted to np.float32 from float64. In the next version of anndata (0.9) conversion will not be automatic. Pass dtype explicitly to avoid this warning. Pass `AnnData(X, dtype=X.dtype, ...)` to get the future behavour.\n",
      "  adata = ad.AnnData(data)\n",
      "/Users/luopin/opt/miniconda3/envs/scpa/lib/python3.10/site-packages/anndata/_core/anndata.py:121: ImplicitModificationWarning: Transforming to str index.\n",
      "  warnings.warn(\"Transforming to str index.\", ImplicitModificationWarning)\n"
     ]
    },
    {
     "name": "stdout",
     "output_type": "stream",
     "text": [
      "deg_200/K562_fc/K562_bottom_200_fc.gmt 1\n",
      "deg_200/K562_s2n/K562_bottom_200_signal2_noise.gmt 1\n",
      "deg_200/K562_edgeR_DE/DE_bottom_200.gmt 2\n",
      "deg_200/K562_DE/DE_top_200.gmt 1\n",
      "PA2G4.rnk\n"
     ]
    },
    {
     "name": "stderr",
     "output_type": "stream",
     "text": [
      "/var/folders/0t/zkf9kjwx2dl0_jdt25xk6l100000gn/T/ipykernel_31436/417767036.py:21: FutureWarning: X.dtype being converted to np.float32 from float64. In the next version of anndata (0.9) conversion will not be automatic. Pass dtype explicitly to avoid this warning. Pass `AnnData(X, dtype=X.dtype, ...)` to get the future behavour.\n",
      "  adata = ad.AnnData(data)\n",
      "/Users/luopin/opt/miniconda3/envs/scpa/lib/python3.10/site-packages/anndata/_core/anndata.py:121: ImplicitModificationWarning: Transforming to str index.\n",
      "  warnings.warn(\"Transforming to str index.\", ImplicitModificationWarning)\n"
     ]
    },
    {
     "name": "stdout",
     "output_type": "stream",
     "text": [
      "deg_200/K562_fc/K562_bottom_200_fc.gmt 30\n",
      "deg_200/K562_s2n/K562_bottom_200_signal2_noise.gmt 5\n",
      "deg_200/K562_edgeR_DE/DE_bottom_200.gmt 45\n",
      "deg_200/K562_DE/DE_top_200.gmt 8\n",
      "PABPC1.rnk\n"
     ]
    },
    {
     "name": "stderr",
     "output_type": "stream",
     "text": [
      "/var/folders/0t/zkf9kjwx2dl0_jdt25xk6l100000gn/T/ipykernel_31436/417767036.py:21: FutureWarning: X.dtype being converted to np.float32 from float64. In the next version of anndata (0.9) conversion will not be automatic. Pass dtype explicitly to avoid this warning. Pass `AnnData(X, dtype=X.dtype, ...)` to get the future behavour.\n",
      "  adata = ad.AnnData(data)\n",
      "/Users/luopin/opt/miniconda3/envs/scpa/lib/python3.10/site-packages/anndata/_core/anndata.py:121: ImplicitModificationWarning: Transforming to str index.\n",
      "  warnings.warn(\"Transforming to str index.\", ImplicitModificationWarning)\n"
     ]
    },
    {
     "name": "stdout",
     "output_type": "stream",
     "text": [
      "deg_200/K562_fc/K562_bottom_200_fc.gmt 1\n",
      "deg_200/K562_s2n/K562_bottom_200_signal2_noise.gmt 4\n",
      "deg_200/K562_edgeR_DE/DE_bottom_200.gmt 1\n",
      "deg_200/K562_DE/DE_top_200.gmt 1\n",
      "PABPC4.rnk\n"
     ]
    },
    {
     "name": "stderr",
     "output_type": "stream",
     "text": [
      "/var/folders/0t/zkf9kjwx2dl0_jdt25xk6l100000gn/T/ipykernel_31436/417767036.py:21: FutureWarning: X.dtype being converted to np.float32 from float64. In the next version of anndata (0.9) conversion will not be automatic. Pass dtype explicitly to avoid this warning. Pass `AnnData(X, dtype=X.dtype, ...)` to get the future behavour.\n",
      "  adata = ad.AnnData(data)\n",
      "/Users/luopin/opt/miniconda3/envs/scpa/lib/python3.10/site-packages/anndata/_core/anndata.py:121: ImplicitModificationWarning: Transforming to str index.\n",
      "  warnings.warn(\"Transforming to str index.\", ImplicitModificationWarning)\n"
     ]
    },
    {
     "name": "stdout",
     "output_type": "stream",
     "text": [
      "deg_200/K562_fc/K562_bottom_200_fc.gmt 2\n",
      "deg_200/K562_s2n/K562_bottom_200_signal2_noise.gmt 16\n",
      "deg_200/K562_edgeR_DE/DE_bottom_200.gmt 1\n",
      "deg_200/K562_DE/DE_top_200.gmt 1\n",
      "PARN.rnk\n"
     ]
    },
    {
     "name": "stderr",
     "output_type": "stream",
     "text": [
      "/var/folders/0t/zkf9kjwx2dl0_jdt25xk6l100000gn/T/ipykernel_31436/417767036.py:21: FutureWarning: X.dtype being converted to np.float32 from float64. In the next version of anndata (0.9) conversion will not be automatic. Pass dtype explicitly to avoid this warning. Pass `AnnData(X, dtype=X.dtype, ...)` to get the future behavour.\n",
      "  adata = ad.AnnData(data)\n",
      "/Users/luopin/opt/miniconda3/envs/scpa/lib/python3.10/site-packages/anndata/_core/anndata.py:121: ImplicitModificationWarning: Transforming to str index.\n",
      "  warnings.warn(\"Transforming to str index.\", ImplicitModificationWarning)\n"
     ]
    },
    {
     "name": "stdout",
     "output_type": "stream",
     "text": [
      "deg_200/K562_fc/K562_bottom_200_fc.gmt 7\n",
      "deg_200/K562_s2n/K562_bottom_200_signal2_noise.gmt 32\n",
      "deg_200/K562_edgeR_DE/DE_bottom_200.gmt 2\n",
      "deg_200/K562_DE/DE_top_200.gmt 19\n",
      "PCBP1.rnk\n"
     ]
    },
    {
     "name": "stderr",
     "output_type": "stream",
     "text": [
      "/var/folders/0t/zkf9kjwx2dl0_jdt25xk6l100000gn/T/ipykernel_31436/417767036.py:21: FutureWarning: X.dtype being converted to np.float32 from float64. In the next version of anndata (0.9) conversion will not be automatic. Pass dtype explicitly to avoid this warning. Pass `AnnData(X, dtype=X.dtype, ...)` to get the future behavour.\n",
      "  adata = ad.AnnData(data)\n",
      "/Users/luopin/opt/miniconda3/envs/scpa/lib/python3.10/site-packages/anndata/_core/anndata.py:121: ImplicitModificationWarning: Transforming to str index.\n",
      "  warnings.warn(\"Transforming to str index.\", ImplicitModificationWarning)\n"
     ]
    },
    {
     "name": "stdout",
     "output_type": "stream",
     "text": [
      "deg_200/K562_fc/K562_bottom_200_fc.gmt 15\n",
      "deg_200/K562_s2n/K562_bottom_200_signal2_noise.gmt 20\n",
      "deg_200/K562_edgeR_DE/DE_bottom_200.gmt 1\n",
      "deg_200/K562_DE/DE_top_200.gmt 1\n",
      "PCBP2.rnk\n"
     ]
    },
    {
     "name": "stderr",
     "output_type": "stream",
     "text": [
      "/var/folders/0t/zkf9kjwx2dl0_jdt25xk6l100000gn/T/ipykernel_31436/417767036.py:21: FutureWarning: X.dtype being converted to np.float32 from float64. In the next version of anndata (0.9) conversion will not be automatic. Pass dtype explicitly to avoid this warning. Pass `AnnData(X, dtype=X.dtype, ...)` to get the future behavour.\n",
      "  adata = ad.AnnData(data)\n",
      "/Users/luopin/opt/miniconda3/envs/scpa/lib/python3.10/site-packages/anndata/_core/anndata.py:121: ImplicitModificationWarning: Transforming to str index.\n",
      "  warnings.warn(\"Transforming to str index.\", ImplicitModificationWarning)\n"
     ]
    },
    {
     "name": "stdout",
     "output_type": "stream",
     "text": [
      "deg_200/K562_fc/K562_bottom_200_fc.gmt 1\n",
      "deg_200/K562_s2n/K562_bottom_200_signal2_noise.gmt 2\n",
      "deg_200/K562_edgeR_DE/DE_bottom_200.gmt 1\n",
      "deg_200/K562_DE/DE_top_200.gmt 1\n",
      "PES1.rnk\n"
     ]
    },
    {
     "name": "stderr",
     "output_type": "stream",
     "text": [
      "/var/folders/0t/zkf9kjwx2dl0_jdt25xk6l100000gn/T/ipykernel_31436/417767036.py:21: FutureWarning: X.dtype being converted to np.float32 from float64. In the next version of anndata (0.9) conversion will not be automatic. Pass dtype explicitly to avoid this warning. Pass `AnnData(X, dtype=X.dtype, ...)` to get the future behavour.\n",
      "  adata = ad.AnnData(data)\n",
      "/Users/luopin/opt/miniconda3/envs/scpa/lib/python3.10/site-packages/anndata/_core/anndata.py:121: ImplicitModificationWarning: Transforming to str index.\n",
      "  warnings.warn(\"Transforming to str index.\", ImplicitModificationWarning)\n"
     ]
    },
    {
     "name": "stdout",
     "output_type": "stream",
     "text": [
      "deg_200/K562_fc/K562_bottom_200_fc.gmt 108\n",
      "deg_200/K562_s2n/K562_bottom_200_signal2_noise.gmt 74\n",
      "deg_200/K562_edgeR_DE/DE_bottom_200.gmt 56\n",
      "deg_200/K562_DE/DE_top_200.gmt 14\n",
      "PHF6.rnk\n"
     ]
    },
    {
     "name": "stderr",
     "output_type": "stream",
     "text": [
      "/var/folders/0t/zkf9kjwx2dl0_jdt25xk6l100000gn/T/ipykernel_31436/417767036.py:21: FutureWarning: X.dtype being converted to np.float32 from float64. In the next version of anndata (0.9) conversion will not be automatic. Pass dtype explicitly to avoid this warning. Pass `AnnData(X, dtype=X.dtype, ...)` to get the future behavour.\n",
      "  adata = ad.AnnData(data)\n",
      "/Users/luopin/opt/miniconda3/envs/scpa/lib/python3.10/site-packages/anndata/_core/anndata.py:121: ImplicitModificationWarning: Transforming to str index.\n",
      "  warnings.warn(\"Transforming to str index.\", ImplicitModificationWarning)\n"
     ]
    },
    {
     "name": "stdout",
     "output_type": "stream",
     "text": [
      "deg_200/K562_fc/K562_bottom_200_fc.gmt 55\n",
      "deg_200/K562_s2n/K562_bottom_200_signal2_noise.gmt 4\n",
      "deg_200/K562_edgeR_DE/DE_bottom_200.gmt 2\n",
      "deg_200/K562_DE/DE_top_200.gmt 6\n",
      "PKM.rnk\n"
     ]
    },
    {
     "name": "stderr",
     "output_type": "stream",
     "text": [
      "/var/folders/0t/zkf9kjwx2dl0_jdt25xk6l100000gn/T/ipykernel_31436/417767036.py:21: FutureWarning: X.dtype being converted to np.float32 from float64. In the next version of anndata (0.9) conversion will not be automatic. Pass dtype explicitly to avoid this warning. Pass `AnnData(X, dtype=X.dtype, ...)` to get the future behavour.\n",
      "  adata = ad.AnnData(data)\n",
      "/Users/luopin/opt/miniconda3/envs/scpa/lib/python3.10/site-packages/anndata/_core/anndata.py:121: ImplicitModificationWarning: Transforming to str index.\n",
      "  warnings.warn(\"Transforming to str index.\", ImplicitModificationWarning)\n"
     ]
    },
    {
     "name": "stdout",
     "output_type": "stream",
     "text": [
      "deg_200/K562_fc/K562_bottom_200_fc.gmt 1\n",
      "deg_200/K562_s2n/K562_bottom_200_signal2_noise.gmt 53\n",
      "deg_200/K562_edgeR_DE/DE_bottom_200.gmt 3\n",
      "deg_200/K562_DE/DE_top_200.gmt 4\n",
      "PNPT1.rnk\n"
     ]
    },
    {
     "name": "stderr",
     "output_type": "stream",
     "text": [
      "/var/folders/0t/zkf9kjwx2dl0_jdt25xk6l100000gn/T/ipykernel_31436/417767036.py:21: FutureWarning: X.dtype being converted to np.float32 from float64. In the next version of anndata (0.9) conversion will not be automatic. Pass dtype explicitly to avoid this warning. Pass `AnnData(X, dtype=X.dtype, ...)` to get the future behavour.\n",
      "  adata = ad.AnnData(data)\n",
      "/Users/luopin/opt/miniconda3/envs/scpa/lib/python3.10/site-packages/anndata/_core/anndata.py:121: ImplicitModificationWarning: Transforming to str index.\n",
      "  warnings.warn(\"Transforming to str index.\", ImplicitModificationWarning)\n"
     ]
    },
    {
     "name": "stdout",
     "output_type": "stream",
     "text": [
      "deg_200/K562_fc/K562_bottom_200_fc.gmt 1\n",
      "deg_200/K562_s2n/K562_bottom_200_signal2_noise.gmt 1\n",
      "deg_200/K562_edgeR_DE/DE_bottom_200.gmt 1\n",
      "deg_200/K562_DE/DE_top_200.gmt 1\n",
      "PPIG.rnk\n"
     ]
    },
    {
     "name": "stderr",
     "output_type": "stream",
     "text": [
      "/var/folders/0t/zkf9kjwx2dl0_jdt25xk6l100000gn/T/ipykernel_31436/417767036.py:21: FutureWarning: X.dtype being converted to np.float32 from float64. In the next version of anndata (0.9) conversion will not be automatic. Pass dtype explicitly to avoid this warning. Pass `AnnData(X, dtype=X.dtype, ...)` to get the future behavour.\n",
      "  adata = ad.AnnData(data)\n",
      "/Users/luopin/opt/miniconda3/envs/scpa/lib/python3.10/site-packages/anndata/_core/anndata.py:121: ImplicitModificationWarning: Transforming to str index.\n",
      "  warnings.warn(\"Transforming to str index.\", ImplicitModificationWarning)\n"
     ]
    },
    {
     "name": "stdout",
     "output_type": "stream",
     "text": [
      "deg_200/K562_fc/K562_bottom_200_fc.gmt 2\n",
      "deg_200/K562_s2n/K562_bottom_200_signal2_noise.gmt 2\n",
      "deg_200/K562_edgeR_DE/DE_bottom_200.gmt 2\n",
      "deg_200/K562_DE/DE_top_200.gmt 1\n",
      "PPIL4.rnk\n"
     ]
    },
    {
     "name": "stderr",
     "output_type": "stream",
     "text": [
      "/var/folders/0t/zkf9kjwx2dl0_jdt25xk6l100000gn/T/ipykernel_31436/417767036.py:21: FutureWarning: X.dtype being converted to np.float32 from float64. In the next version of anndata (0.9) conversion will not be automatic. Pass dtype explicitly to avoid this warning. Pass `AnnData(X, dtype=X.dtype, ...)` to get the future behavour.\n",
      "  adata = ad.AnnData(data)\n",
      "/Users/luopin/opt/miniconda3/envs/scpa/lib/python3.10/site-packages/anndata/_core/anndata.py:121: ImplicitModificationWarning: Transforming to str index.\n",
      "  warnings.warn(\"Transforming to str index.\", ImplicitModificationWarning)\n"
     ]
    },
    {
     "name": "stdout",
     "output_type": "stream",
     "text": [
      "deg_200/K562_fc/K562_bottom_200_fc.gmt 12\n",
      "deg_200/K562_s2n/K562_bottom_200_signal2_noise.gmt 105\n",
      "deg_200/K562_edgeR_DE/DE_bottom_200.gmt 48\n",
      "deg_200/K562_DE/DE_top_200.gmt 1\n",
      "PRPF6.rnk\n"
     ]
    },
    {
     "name": "stderr",
     "output_type": "stream",
     "text": [
      "/var/folders/0t/zkf9kjwx2dl0_jdt25xk6l100000gn/T/ipykernel_31436/417767036.py:21: FutureWarning: X.dtype being converted to np.float32 from float64. In the next version of anndata (0.9) conversion will not be automatic. Pass dtype explicitly to avoid this warning. Pass `AnnData(X, dtype=X.dtype, ...)` to get the future behavour.\n",
      "  adata = ad.AnnData(data)\n",
      "/Users/luopin/opt/miniconda3/envs/scpa/lib/python3.10/site-packages/anndata/_core/anndata.py:121: ImplicitModificationWarning: Transforming to str index.\n",
      "  warnings.warn(\"Transforming to str index.\", ImplicitModificationWarning)\n"
     ]
    },
    {
     "name": "stdout",
     "output_type": "stream",
     "text": [
      "deg_200/K562_fc/K562_bottom_200_fc.gmt 1\n",
      "deg_200/K562_s2n/K562_bottom_200_signal2_noise.gmt 6\n",
      "deg_200/K562_edgeR_DE/DE_bottom_200.gmt 1\n",
      "deg_200/K562_DE/DE_top_200.gmt 1\n",
      "PRPF8.rnk\n"
     ]
    },
    {
     "name": "stderr",
     "output_type": "stream",
     "text": [
      "/var/folders/0t/zkf9kjwx2dl0_jdt25xk6l100000gn/T/ipykernel_31436/417767036.py:21: FutureWarning: X.dtype being converted to np.float32 from float64. In the next version of anndata (0.9) conversion will not be automatic. Pass dtype explicitly to avoid this warning. Pass `AnnData(X, dtype=X.dtype, ...)` to get the future behavour.\n",
      "  adata = ad.AnnData(data)\n",
      "/Users/luopin/opt/miniconda3/envs/scpa/lib/python3.10/site-packages/anndata/_core/anndata.py:121: ImplicitModificationWarning: Transforming to str index.\n",
      "  warnings.warn(\"Transforming to str index.\", ImplicitModificationWarning)\n"
     ]
    },
    {
     "name": "stdout",
     "output_type": "stream",
     "text": [
      "deg_200/K562_fc/K562_bottom_200_fc.gmt 1\n",
      "deg_200/K562_s2n/K562_bottom_200_signal2_noise.gmt 2\n",
      "deg_200/K562_edgeR_DE/DE_bottom_200.gmt 4\n",
      "deg_200/K562_DE/DE_top_200.gmt 6\n",
      "PSIP1.rnk\n"
     ]
    },
    {
     "name": "stderr",
     "output_type": "stream",
     "text": [
      "/var/folders/0t/zkf9kjwx2dl0_jdt25xk6l100000gn/T/ipykernel_31436/417767036.py:21: FutureWarning: X.dtype being converted to np.float32 from float64. In the next version of anndata (0.9) conversion will not be automatic. Pass dtype explicitly to avoid this warning. Pass `AnnData(X, dtype=X.dtype, ...)` to get the future behavour.\n",
      "  adata = ad.AnnData(data)\n",
      "/Users/luopin/opt/miniconda3/envs/scpa/lib/python3.10/site-packages/anndata/_core/anndata.py:121: ImplicitModificationWarning: Transforming to str index.\n",
      "  warnings.warn(\"Transforming to str index.\", ImplicitModificationWarning)\n"
     ]
    },
    {
     "name": "stdout",
     "output_type": "stream",
     "text": [
      "deg_200/K562_fc/K562_bottom_200_fc.gmt 1\n",
      "deg_200/K562_s2n/K562_bottom_200_signal2_noise.gmt 1\n",
      "deg_200/K562_edgeR_DE/DE_bottom_200.gmt 1\n",
      "deg_200/K562_DE/DE_top_200.gmt 1\n",
      "PTBP1.rnk\n"
     ]
    },
    {
     "name": "stderr",
     "output_type": "stream",
     "text": [
      "/var/folders/0t/zkf9kjwx2dl0_jdt25xk6l100000gn/T/ipykernel_31436/417767036.py:21: FutureWarning: X.dtype being converted to np.float32 from float64. In the next version of anndata (0.9) conversion will not be automatic. Pass dtype explicitly to avoid this warning. Pass `AnnData(X, dtype=X.dtype, ...)` to get the future behavour.\n",
      "  adata = ad.AnnData(data)\n",
      "/Users/luopin/opt/miniconda3/envs/scpa/lib/python3.10/site-packages/anndata/_core/anndata.py:121: ImplicitModificationWarning: Transforming to str index.\n",
      "  warnings.warn(\"Transforming to str index.\", ImplicitModificationWarning)\n"
     ]
    },
    {
     "name": "stdout",
     "output_type": "stream",
     "text": [
      "deg_200/K562_fc/K562_bottom_200_fc.gmt 1\n",
      "deg_200/K562_s2n/K562_bottom_200_signal2_noise.gmt 1\n",
      "deg_200/K562_edgeR_DE/DE_bottom_200.gmt 1\n",
      "deg_200/K562_DE/DE_top_200.gmt 1\n",
      "PUF60.rnk\n"
     ]
    },
    {
     "name": "stderr",
     "output_type": "stream",
     "text": [
      "/var/folders/0t/zkf9kjwx2dl0_jdt25xk6l100000gn/T/ipykernel_31436/417767036.py:21: FutureWarning: X.dtype being converted to np.float32 from float64. In the next version of anndata (0.9) conversion will not be automatic. Pass dtype explicitly to avoid this warning. Pass `AnnData(X, dtype=X.dtype, ...)` to get the future behavour.\n",
      "  adata = ad.AnnData(data)\n",
      "/Users/luopin/opt/miniconda3/envs/scpa/lib/python3.10/site-packages/anndata/_core/anndata.py:121: ImplicitModificationWarning: Transforming to str index.\n",
      "  warnings.warn(\"Transforming to str index.\", ImplicitModificationWarning)\n"
     ]
    },
    {
     "name": "stdout",
     "output_type": "stream",
     "text": [
      "deg_200/K562_fc/K562_bottom_200_fc.gmt 1\n",
      "deg_200/K562_s2n/K562_bottom_200_signal2_noise.gmt 5\n",
      "deg_200/K562_edgeR_DE/DE_bottom_200.gmt 1\n",
      "deg_200/K562_DE/DE_top_200.gmt 1\n",
      "PUM1.rnk\n"
     ]
    },
    {
     "name": "stderr",
     "output_type": "stream",
     "text": [
      "/var/folders/0t/zkf9kjwx2dl0_jdt25xk6l100000gn/T/ipykernel_31436/417767036.py:21: FutureWarning: X.dtype being converted to np.float32 from float64. In the next version of anndata (0.9) conversion will not be automatic. Pass dtype explicitly to avoid this warning. Pass `AnnData(X, dtype=X.dtype, ...)` to get the future behavour.\n",
      "  adata = ad.AnnData(data)\n",
      "/Users/luopin/opt/miniconda3/envs/scpa/lib/python3.10/site-packages/anndata/_core/anndata.py:121: ImplicitModificationWarning: Transforming to str index.\n",
      "  warnings.warn(\"Transforming to str index.\", ImplicitModificationWarning)\n"
     ]
    },
    {
     "name": "stdout",
     "output_type": "stream",
     "text": [
      "deg_200/K562_fc/K562_bottom_200_fc.gmt 9\n",
      "deg_200/K562_s2n/K562_bottom_200_signal2_noise.gmt 33\n",
      "deg_200/K562_edgeR_DE/DE_bottom_200.gmt 4\n",
      "deg_200/K562_DE/DE_top_200.gmt 1\n",
      "PUM2.rnk\n"
     ]
    },
    {
     "name": "stderr",
     "output_type": "stream",
     "text": [
      "/var/folders/0t/zkf9kjwx2dl0_jdt25xk6l100000gn/T/ipykernel_31436/417767036.py:21: FutureWarning: X.dtype being converted to np.float32 from float64. In the next version of anndata (0.9) conversion will not be automatic. Pass dtype explicitly to avoid this warning. Pass `AnnData(X, dtype=X.dtype, ...)` to get the future behavour.\n",
      "  adata = ad.AnnData(data)\n",
      "/Users/luopin/opt/miniconda3/envs/scpa/lib/python3.10/site-packages/anndata/_core/anndata.py:121: ImplicitModificationWarning: Transforming to str index.\n",
      "  warnings.warn(\"Transforming to str index.\", ImplicitModificationWarning)\n"
     ]
    },
    {
     "name": "stdout",
     "output_type": "stream",
     "text": [
      "deg_200/K562_fc/K562_bottom_200_fc.gmt 2\n",
      "deg_200/K562_s2n/K562_bottom_200_signal2_noise.gmt 10\n",
      "deg_200/K562_edgeR_DE/DE_bottom_200.gmt 1\n",
      "deg_200/K562_DE/DE_top_200.gmt 1\n",
      "PUS1.rnk\n"
     ]
    },
    {
     "name": "stderr",
     "output_type": "stream",
     "text": [
      "/var/folders/0t/zkf9kjwx2dl0_jdt25xk6l100000gn/T/ipykernel_31436/417767036.py:21: FutureWarning: X.dtype being converted to np.float32 from float64. In the next version of anndata (0.9) conversion will not be automatic. Pass dtype explicitly to avoid this warning. Pass `AnnData(X, dtype=X.dtype, ...)` to get the future behavour.\n",
      "  adata = ad.AnnData(data)\n",
      "/Users/luopin/opt/miniconda3/envs/scpa/lib/python3.10/site-packages/anndata/_core/anndata.py:121: ImplicitModificationWarning: Transforming to str index.\n",
      "  warnings.warn(\"Transforming to str index.\", ImplicitModificationWarning)\n"
     ]
    },
    {
     "name": "stdout",
     "output_type": "stream",
     "text": [
      "deg_200/K562_fc/K562_bottom_200_fc.gmt 19\n",
      "deg_200/K562_s2n/K562_bottom_200_signal2_noise.gmt 38\n",
      "deg_200/K562_edgeR_DE/DE_bottom_200.gmt 54\n",
      "deg_200/K562_DE/DE_top_200.gmt 1\n",
      "QKI.rnk\n"
     ]
    },
    {
     "name": "stderr",
     "output_type": "stream",
     "text": [
      "/var/folders/0t/zkf9kjwx2dl0_jdt25xk6l100000gn/T/ipykernel_31436/417767036.py:21: FutureWarning: X.dtype being converted to np.float32 from float64. In the next version of anndata (0.9) conversion will not be automatic. Pass dtype explicitly to avoid this warning. Pass `AnnData(X, dtype=X.dtype, ...)` to get the future behavour.\n",
      "  adata = ad.AnnData(data)\n",
      "/Users/luopin/opt/miniconda3/envs/scpa/lib/python3.10/site-packages/anndata/_core/anndata.py:121: ImplicitModificationWarning: Transforming to str index.\n",
      "  warnings.warn(\"Transforming to str index.\", ImplicitModificationWarning)\n"
     ]
    },
    {
     "name": "stdout",
     "output_type": "stream",
     "text": [
      "deg_200/K562_fc/K562_bottom_200_fc.gmt 1\n",
      "deg_200/K562_s2n/K562_bottom_200_signal2_noise.gmt 23\n",
      "deg_200/K562_edgeR_DE/DE_bottom_200.gmt 1\n",
      "deg_200/K562_DE/DE_top_200.gmt 1\n",
      "RAVER1.rnk\n"
     ]
    },
    {
     "name": "stderr",
     "output_type": "stream",
     "text": [
      "/var/folders/0t/zkf9kjwx2dl0_jdt25xk6l100000gn/T/ipykernel_31436/417767036.py:21: FutureWarning: X.dtype being converted to np.float32 from float64. In the next version of anndata (0.9) conversion will not be automatic. Pass dtype explicitly to avoid this warning. Pass `AnnData(X, dtype=X.dtype, ...)` to get the future behavour.\n",
      "  adata = ad.AnnData(data)\n",
      "/Users/luopin/opt/miniconda3/envs/scpa/lib/python3.10/site-packages/anndata/_core/anndata.py:121: ImplicitModificationWarning: Transforming to str index.\n",
      "  warnings.warn(\"Transforming to str index.\", ImplicitModificationWarning)\n"
     ]
    },
    {
     "name": "stdout",
     "output_type": "stream",
     "text": [
      "deg_200/K562_fc/K562_bottom_200_fc.gmt 2\n",
      "deg_200/K562_s2n/K562_bottom_200_signal2_noise.gmt 6\n",
      "deg_200/K562_edgeR_DE/DE_bottom_200.gmt 1\n",
      "deg_200/K562_DE/DE_top_200.gmt 1\n",
      "RBFOX2.rnk\n"
     ]
    },
    {
     "name": "stderr",
     "output_type": "stream",
     "text": [
      "/var/folders/0t/zkf9kjwx2dl0_jdt25xk6l100000gn/T/ipykernel_31436/417767036.py:21: FutureWarning: X.dtype being converted to np.float32 from float64. In the next version of anndata (0.9) conversion will not be automatic. Pass dtype explicitly to avoid this warning. Pass `AnnData(X, dtype=X.dtype, ...)` to get the future behavour.\n",
      "  adata = ad.AnnData(data)\n",
      "/Users/luopin/opt/miniconda3/envs/scpa/lib/python3.10/site-packages/anndata/_core/anndata.py:121: ImplicitModificationWarning: Transforming to str index.\n",
      "  warnings.warn(\"Transforming to str index.\", ImplicitModificationWarning)\n"
     ]
    },
    {
     "name": "stdout",
     "output_type": "stream",
     "text": [
      "deg_200/K562_fc/K562_bottom_200_fc.gmt 24\n",
      "deg_200/K562_s2n/K562_bottom_200_signal2_noise.gmt 12\n",
      "deg_200/K562_edgeR_DE/DE_bottom_200.gmt 30\n",
      "deg_200/K562_DE/DE_top_200.gmt 20\n",
      "RBM15.rnk\n"
     ]
    },
    {
     "name": "stderr",
     "output_type": "stream",
     "text": [
      "/var/folders/0t/zkf9kjwx2dl0_jdt25xk6l100000gn/T/ipykernel_31436/417767036.py:21: FutureWarning: X.dtype being converted to np.float32 from float64. In the next version of anndata (0.9) conversion will not be automatic. Pass dtype explicitly to avoid this warning. Pass `AnnData(X, dtype=X.dtype, ...)` to get the future behavour.\n",
      "  adata = ad.AnnData(data)\n",
      "/Users/luopin/opt/miniconda3/envs/scpa/lib/python3.10/site-packages/anndata/_core/anndata.py:121: ImplicitModificationWarning: Transforming to str index.\n",
      "  warnings.warn(\"Transforming to str index.\", ImplicitModificationWarning)\n"
     ]
    },
    {
     "name": "stdout",
     "output_type": "stream",
     "text": [
      "deg_200/K562_fc/K562_bottom_200_fc.gmt 120\n",
      "deg_200/K562_s2n/K562_bottom_200_signal2_noise.gmt 107\n",
      "deg_200/K562_edgeR_DE/DE_bottom_200.gmt 179\n",
      "deg_200/K562_DE/DE_top_200.gmt 38\n",
      "RBM17.rnk\n"
     ]
    },
    {
     "name": "stderr",
     "output_type": "stream",
     "text": [
      "/var/folders/0t/zkf9kjwx2dl0_jdt25xk6l100000gn/T/ipykernel_31436/417767036.py:21: FutureWarning: X.dtype being converted to np.float32 from float64. In the next version of anndata (0.9) conversion will not be automatic. Pass dtype explicitly to avoid this warning. Pass `AnnData(X, dtype=X.dtype, ...)` to get the future behavour.\n",
      "  adata = ad.AnnData(data)\n",
      "/Users/luopin/opt/miniconda3/envs/scpa/lib/python3.10/site-packages/anndata/_core/anndata.py:121: ImplicitModificationWarning: Transforming to str index.\n",
      "  warnings.warn(\"Transforming to str index.\", ImplicitModificationWarning)\n"
     ]
    },
    {
     "name": "stdout",
     "output_type": "stream",
     "text": [
      "deg_200/K562_fc/K562_bottom_200_fc.gmt 14\n",
      "deg_200/K562_s2n/K562_bottom_200_signal2_noise.gmt 38\n",
      "deg_200/K562_edgeR_DE/DE_bottom_200.gmt 10\n",
      "deg_200/K562_DE/DE_top_200.gmt 1\n",
      "RBM22.rnk\n"
     ]
    },
    {
     "name": "stderr",
     "output_type": "stream",
     "text": [
      "/var/folders/0t/zkf9kjwx2dl0_jdt25xk6l100000gn/T/ipykernel_31436/417767036.py:21: FutureWarning: X.dtype being converted to np.float32 from float64. In the next version of anndata (0.9) conversion will not be automatic. Pass dtype explicitly to avoid this warning. Pass `AnnData(X, dtype=X.dtype, ...)` to get the future behavour.\n",
      "  adata = ad.AnnData(data)\n",
      "/Users/luopin/opt/miniconda3/envs/scpa/lib/python3.10/site-packages/anndata/_core/anndata.py:121: ImplicitModificationWarning: Transforming to str index.\n",
      "  warnings.warn(\"Transforming to str index.\", ImplicitModificationWarning)\n"
     ]
    },
    {
     "name": "stdout",
     "output_type": "stream",
     "text": [
      "deg_200/K562_fc/K562_bottom_200_fc.gmt 7\n",
      "deg_200/K562_s2n/K562_bottom_200_signal2_noise.gmt 13\n",
      "deg_200/K562_edgeR_DE/DE_bottom_200.gmt 12\n",
      "deg_200/K562_DE/DE_top_200.gmt 19\n",
      "RBM25.rnk\n"
     ]
    },
    {
     "name": "stderr",
     "output_type": "stream",
     "text": [
      "/var/folders/0t/zkf9kjwx2dl0_jdt25xk6l100000gn/T/ipykernel_31436/417767036.py:21: FutureWarning: X.dtype being converted to np.float32 from float64. In the next version of anndata (0.9) conversion will not be automatic. Pass dtype explicitly to avoid this warning. Pass `AnnData(X, dtype=X.dtype, ...)` to get the future behavour.\n",
      "  adata = ad.AnnData(data)\n",
      "/Users/luopin/opt/miniconda3/envs/scpa/lib/python3.10/site-packages/anndata/_core/anndata.py:121: ImplicitModificationWarning: Transforming to str index.\n",
      "  warnings.warn(\"Transforming to str index.\", ImplicitModificationWarning)\n"
     ]
    },
    {
     "name": "stdout",
     "output_type": "stream",
     "text": [
      "deg_200/K562_fc/K562_bottom_200_fc.gmt 1\n",
      "deg_200/K562_s2n/K562_bottom_200_signal2_noise.gmt 2\n",
      "deg_200/K562_edgeR_DE/DE_bottom_200.gmt 2\n",
      "deg_200/K562_DE/DE_top_200.gmt 2\n",
      "RBM34.rnk\n"
     ]
    },
    {
     "name": "stderr",
     "output_type": "stream",
     "text": [
      "/var/folders/0t/zkf9kjwx2dl0_jdt25xk6l100000gn/T/ipykernel_31436/417767036.py:21: FutureWarning: X.dtype being converted to np.float32 from float64. In the next version of anndata (0.9) conversion will not be automatic. Pass dtype explicitly to avoid this warning. Pass `AnnData(X, dtype=X.dtype, ...)` to get the future behavour.\n",
      "  adata = ad.AnnData(data)\n",
      "/Users/luopin/opt/miniconda3/envs/scpa/lib/python3.10/site-packages/anndata/_core/anndata.py:121: ImplicitModificationWarning: Transforming to str index.\n",
      "  warnings.warn(\"Transforming to str index.\", ImplicitModificationWarning)\n"
     ]
    },
    {
     "name": "stdout",
     "output_type": "stream",
     "text": [
      "deg_200/K562_fc/K562_bottom_200_fc.gmt 43\n",
      "deg_200/K562_s2n/K562_bottom_200_signal2_noise.gmt 72\n",
      "deg_200/K562_edgeR_DE/DE_bottom_200.gmt 183\n",
      "deg_200/K562_DE/DE_top_200.gmt 78\n",
      "RBM39.rnk\n"
     ]
    },
    {
     "name": "stderr",
     "output_type": "stream",
     "text": [
      "/var/folders/0t/zkf9kjwx2dl0_jdt25xk6l100000gn/T/ipykernel_31436/417767036.py:21: FutureWarning: X.dtype being converted to np.float32 from float64. In the next version of anndata (0.9) conversion will not be automatic. Pass dtype explicitly to avoid this warning. Pass `AnnData(X, dtype=X.dtype, ...)` to get the future behavour.\n",
      "  adata = ad.AnnData(data)\n",
      "/Users/luopin/opt/miniconda3/envs/scpa/lib/python3.10/site-packages/anndata/_core/anndata.py:121: ImplicitModificationWarning: Transforming to str index.\n",
      "  warnings.warn(\"Transforming to str index.\", ImplicitModificationWarning)\n"
     ]
    },
    {
     "name": "stdout",
     "output_type": "stream",
     "text": [
      "deg_200/K562_fc/K562_bottom_200_fc.gmt 36\n",
      "deg_200/K562_s2n/K562_bottom_200_signal2_noise.gmt 22\n",
      "deg_200/K562_edgeR_DE/DE_bottom_200.gmt 16\n",
      "deg_200/K562_DE/DE_top_200.gmt 2\n",
      "RCC2.rnk\n"
     ]
    },
    {
     "name": "stderr",
     "output_type": "stream",
     "text": [
      "/var/folders/0t/zkf9kjwx2dl0_jdt25xk6l100000gn/T/ipykernel_31436/417767036.py:21: FutureWarning: X.dtype being converted to np.float32 from float64. In the next version of anndata (0.9) conversion will not be automatic. Pass dtype explicitly to avoid this warning. Pass `AnnData(X, dtype=X.dtype, ...)` to get the future behavour.\n",
      "  adata = ad.AnnData(data)\n",
      "/Users/luopin/opt/miniconda3/envs/scpa/lib/python3.10/site-packages/anndata/_core/anndata.py:121: ImplicitModificationWarning: Transforming to str index.\n",
      "  warnings.warn(\"Transforming to str index.\", ImplicitModificationWarning)\n"
     ]
    },
    {
     "name": "stdout",
     "output_type": "stream",
     "text": [
      "deg_200/K562_fc/K562_bottom_200_fc.gmt 1\n",
      "deg_200/K562_s2n/K562_bottom_200_signal2_noise.gmt 1\n",
      "deg_200/K562_edgeR_DE/DE_bottom_200.gmt 1\n",
      "deg_200/K562_DE/DE_top_200.gmt 1\n",
      "RECQL.rnk\n"
     ]
    },
    {
     "name": "stderr",
     "output_type": "stream",
     "text": [
      "/var/folders/0t/zkf9kjwx2dl0_jdt25xk6l100000gn/T/ipykernel_31436/417767036.py:21: FutureWarning: X.dtype being converted to np.float32 from float64. In the next version of anndata (0.9) conversion will not be automatic. Pass dtype explicitly to avoid this warning. Pass `AnnData(X, dtype=X.dtype, ...)` to get the future behavour.\n",
      "  adata = ad.AnnData(data)\n",
      "/Users/luopin/opt/miniconda3/envs/scpa/lib/python3.10/site-packages/anndata/_core/anndata.py:121: ImplicitModificationWarning: Transforming to str index.\n",
      "  warnings.warn(\"Transforming to str index.\", ImplicitModificationWarning)\n"
     ]
    },
    {
     "name": "stdout",
     "output_type": "stream",
     "text": [
      "deg_200/K562_fc/K562_bottom_200_fc.gmt 19\n",
      "deg_200/K562_s2n/K562_bottom_200_signal2_noise.gmt 50\n",
      "deg_200/K562_edgeR_DE/DE_bottom_200.gmt 9\n",
      "deg_200/K562_DE/DE_top_200.gmt 1\n",
      "RPS10.rnk\n"
     ]
    },
    {
     "name": "stderr",
     "output_type": "stream",
     "text": [
      "/var/folders/0t/zkf9kjwx2dl0_jdt25xk6l100000gn/T/ipykernel_31436/417767036.py:21: FutureWarning: X.dtype being converted to np.float32 from float64. In the next version of anndata (0.9) conversion will not be automatic. Pass dtype explicitly to avoid this warning. Pass `AnnData(X, dtype=X.dtype, ...)` to get the future behavour.\n",
      "  adata = ad.AnnData(data)\n",
      "/Users/luopin/opt/miniconda3/envs/scpa/lib/python3.10/site-packages/anndata/_core/anndata.py:121: ImplicitModificationWarning: Transforming to str index.\n",
      "  warnings.warn(\"Transforming to str index.\", ImplicitModificationWarning)\n"
     ]
    },
    {
     "name": "stdout",
     "output_type": "stream",
     "text": [
      "deg_200/K562_fc/K562_bottom_200_fc.gmt 1\n",
      "deg_200/K562_s2n/K562_bottom_200_signal2_noise.gmt 6\n",
      "deg_200/K562_edgeR_DE/DE_bottom_200.gmt 2\n",
      "deg_200/K562_DE/DE_top_200.gmt 2\n",
      "RPS19.rnk\n"
     ]
    },
    {
     "name": "stderr",
     "output_type": "stream",
     "text": [
      "/var/folders/0t/zkf9kjwx2dl0_jdt25xk6l100000gn/T/ipykernel_31436/417767036.py:21: FutureWarning: X.dtype being converted to np.float32 from float64. In the next version of anndata (0.9) conversion will not be automatic. Pass dtype explicitly to avoid this warning. Pass `AnnData(X, dtype=X.dtype, ...)` to get the future behavour.\n",
      "  adata = ad.AnnData(data)\n",
      "/Users/luopin/opt/miniconda3/envs/scpa/lib/python3.10/site-packages/anndata/_core/anndata.py:121: ImplicitModificationWarning: Transforming to str index.\n",
      "  warnings.warn(\"Transforming to str index.\", ImplicitModificationWarning)\n"
     ]
    },
    {
     "name": "stdout",
     "output_type": "stream",
     "text": [
      "deg_200/K562_fc/K562_bottom_200_fc.gmt 19\n",
      "deg_200/K562_s2n/K562_bottom_200_signal2_noise.gmt 12\n",
      "deg_200/K562_edgeR_DE/DE_bottom_200.gmt 5\n",
      "deg_200/K562_DE/DE_top_200.gmt 4\n",
      "RPS3A.rnk\n"
     ]
    },
    {
     "name": "stderr",
     "output_type": "stream",
     "text": [
      "/var/folders/0t/zkf9kjwx2dl0_jdt25xk6l100000gn/T/ipykernel_31436/417767036.py:21: FutureWarning: X.dtype being converted to np.float32 from float64. In the next version of anndata (0.9) conversion will not be automatic. Pass dtype explicitly to avoid this warning. Pass `AnnData(X, dtype=X.dtype, ...)` to get the future behavour.\n",
      "  adata = ad.AnnData(data)\n",
      "/Users/luopin/opt/miniconda3/envs/scpa/lib/python3.10/site-packages/anndata/_core/anndata.py:121: ImplicitModificationWarning: Transforming to str index.\n",
      "  warnings.warn(\"Transforming to str index.\", ImplicitModificationWarning)\n"
     ]
    },
    {
     "name": "stdout",
     "output_type": "stream",
     "text": [
      "deg_200/K562_fc/K562_bottom_200_fc.gmt 2\n",
      "deg_200/K562_s2n/K562_bottom_200_signal2_noise.gmt 21\n",
      "deg_200/K562_edgeR_DE/DE_bottom_200.gmt 11\n",
      "deg_200/K562_DE/DE_top_200.gmt 12\n",
      "RRP9.rnk\n"
     ]
    },
    {
     "name": "stderr",
     "output_type": "stream",
     "text": [
      "/var/folders/0t/zkf9kjwx2dl0_jdt25xk6l100000gn/T/ipykernel_31436/417767036.py:21: FutureWarning: X.dtype being converted to np.float32 from float64. In the next version of anndata (0.9) conversion will not be automatic. Pass dtype explicitly to avoid this warning. Pass `AnnData(X, dtype=X.dtype, ...)` to get the future behavour.\n",
      "  adata = ad.AnnData(data)\n",
      "/Users/luopin/opt/miniconda3/envs/scpa/lib/python3.10/site-packages/anndata/_core/anndata.py:121: ImplicitModificationWarning: Transforming to str index.\n",
      "  warnings.warn(\"Transforming to str index.\", ImplicitModificationWarning)\n"
     ]
    },
    {
     "name": "stdout",
     "output_type": "stream",
     "text": [
      "deg_200/K562_fc/K562_bottom_200_fc.gmt 15\n",
      "deg_200/K562_s2n/K562_bottom_200_signal2_noise.gmt 9\n",
      "deg_200/K562_edgeR_DE/DE_bottom_200.gmt 22\n",
      "deg_200/K562_DE/DE_top_200.gmt 35\n",
      "RTF1.rnk\n"
     ]
    },
    {
     "name": "stderr",
     "output_type": "stream",
     "text": [
      "/var/folders/0t/zkf9kjwx2dl0_jdt25xk6l100000gn/T/ipykernel_31436/417767036.py:21: FutureWarning: X.dtype being converted to np.float32 from float64. In the next version of anndata (0.9) conversion will not be automatic. Pass dtype explicitly to avoid this warning. Pass `AnnData(X, dtype=X.dtype, ...)` to get the future behavour.\n",
      "  adata = ad.AnnData(data)\n",
      "/Users/luopin/opt/miniconda3/envs/scpa/lib/python3.10/site-packages/anndata/_core/anndata.py:121: ImplicitModificationWarning: Transforming to str index.\n",
      "  warnings.warn(\"Transforming to str index.\", ImplicitModificationWarning)\n"
     ]
    },
    {
     "name": "stdout",
     "output_type": "stream",
     "text": [
      "deg_200/K562_fc/K562_bottom_200_fc.gmt 1\n",
      "deg_200/K562_s2n/K562_bottom_200_signal2_noise.gmt 2\n",
      "deg_200/K562_edgeR_DE/DE_bottom_200.gmt 1\n",
      "deg_200/K562_DE/DE_top_200.gmt 1\n",
      "SAFB2.rnk\n"
     ]
    },
    {
     "name": "stderr",
     "output_type": "stream",
     "text": [
      "/var/folders/0t/zkf9kjwx2dl0_jdt25xk6l100000gn/T/ipykernel_31436/417767036.py:21: FutureWarning: X.dtype being converted to np.float32 from float64. In the next version of anndata (0.9) conversion will not be automatic. Pass dtype explicitly to avoid this warning. Pass `AnnData(X, dtype=X.dtype, ...)` to get the future behavour.\n",
      "  adata = ad.AnnData(data)\n",
      "/Users/luopin/opt/miniconda3/envs/scpa/lib/python3.10/site-packages/anndata/_core/anndata.py:121: ImplicitModificationWarning: Transforming to str index.\n",
      "  warnings.warn(\"Transforming to str index.\", ImplicitModificationWarning)\n"
     ]
    },
    {
     "name": "stdout",
     "output_type": "stream",
     "text": [
      "deg_200/K562_fc/K562_bottom_200_fc.gmt 2\n",
      "deg_200/K562_s2n/K562_bottom_200_signal2_noise.gmt 4\n",
      "deg_200/K562_edgeR_DE/DE_bottom_200.gmt 1\n",
      "deg_200/K562_DE/DE_top_200.gmt 15\n",
      "SART3.rnk\n"
     ]
    },
    {
     "name": "stderr",
     "output_type": "stream",
     "text": [
      "/var/folders/0t/zkf9kjwx2dl0_jdt25xk6l100000gn/T/ipykernel_31436/417767036.py:21: FutureWarning: X.dtype being converted to np.float32 from float64. In the next version of anndata (0.9) conversion will not be automatic. Pass dtype explicitly to avoid this warning. Pass `AnnData(X, dtype=X.dtype, ...)` to get the future behavour.\n",
      "  adata = ad.AnnData(data)\n",
      "/Users/luopin/opt/miniconda3/envs/scpa/lib/python3.10/site-packages/anndata/_core/anndata.py:121: ImplicitModificationWarning: Transforming to str index.\n",
      "  warnings.warn(\"Transforming to str index.\", ImplicitModificationWarning)\n"
     ]
    },
    {
     "name": "stdout",
     "output_type": "stream",
     "text": [
      "deg_200/K562_fc/K562_bottom_200_fc.gmt 1\n",
      "deg_200/K562_s2n/K562_bottom_200_signal2_noise.gmt 1\n",
      "deg_200/K562_edgeR_DE/DE_bottom_200.gmt 1\n",
      "deg_200/K562_DE/DE_top_200.gmt 1\n",
      "SBDS.rnk\n"
     ]
    },
    {
     "name": "stderr",
     "output_type": "stream",
     "text": [
      "/var/folders/0t/zkf9kjwx2dl0_jdt25xk6l100000gn/T/ipykernel_31436/417767036.py:21: FutureWarning: X.dtype being converted to np.float32 from float64. In the next version of anndata (0.9) conversion will not be automatic. Pass dtype explicitly to avoid this warning. Pass `AnnData(X, dtype=X.dtype, ...)` to get the future behavour.\n",
      "  adata = ad.AnnData(data)\n",
      "/Users/luopin/opt/miniconda3/envs/scpa/lib/python3.10/site-packages/anndata/_core/anndata.py:121: ImplicitModificationWarning: Transforming to str index.\n",
      "  warnings.warn(\"Transforming to str index.\", ImplicitModificationWarning)\n"
     ]
    },
    {
     "name": "stdout",
     "output_type": "stream",
     "text": [
      "deg_200/K562_fc/K562_bottom_200_fc.gmt 5\n",
      "deg_200/K562_s2n/K562_bottom_200_signal2_noise.gmt 1\n",
      "deg_200/K562_edgeR_DE/DE_bottom_200.gmt 11\n",
      "deg_200/K562_DE/DE_top_200.gmt 1\n",
      "SERBP1.rnk\n"
     ]
    },
    {
     "name": "stderr",
     "output_type": "stream",
     "text": [
      "/var/folders/0t/zkf9kjwx2dl0_jdt25xk6l100000gn/T/ipykernel_31436/417767036.py:21: FutureWarning: X.dtype being converted to np.float32 from float64. In the next version of anndata (0.9) conversion will not be automatic. Pass dtype explicitly to avoid this warning. Pass `AnnData(X, dtype=X.dtype, ...)` to get the future behavour.\n",
      "  adata = ad.AnnData(data)\n",
      "/Users/luopin/opt/miniconda3/envs/scpa/lib/python3.10/site-packages/anndata/_core/anndata.py:121: ImplicitModificationWarning: Transforming to str index.\n",
      "  warnings.warn(\"Transforming to str index.\", ImplicitModificationWarning)\n"
     ]
    },
    {
     "name": "stdout",
     "output_type": "stream",
     "text": [
      "deg_200/K562_fc/K562_bottom_200_fc.gmt 1\n",
      "deg_200/K562_s2n/K562_bottom_200_signal2_noise.gmt 1\n",
      "deg_200/K562_edgeR_DE/DE_bottom_200.gmt 1\n",
      "deg_200/K562_DE/DE_top_200.gmt 1\n",
      "SF1.rnk\n"
     ]
    },
    {
     "name": "stderr",
     "output_type": "stream",
     "text": [
      "/var/folders/0t/zkf9kjwx2dl0_jdt25xk6l100000gn/T/ipykernel_31436/417767036.py:21: FutureWarning: X.dtype being converted to np.float32 from float64. In the next version of anndata (0.9) conversion will not be automatic. Pass dtype explicitly to avoid this warning. Pass `AnnData(X, dtype=X.dtype, ...)` to get the future behavour.\n",
      "  adata = ad.AnnData(data)\n",
      "/Users/luopin/opt/miniconda3/envs/scpa/lib/python3.10/site-packages/anndata/_core/anndata.py:121: ImplicitModificationWarning: Transforming to str index.\n",
      "  warnings.warn(\"Transforming to str index.\", ImplicitModificationWarning)\n"
     ]
    },
    {
     "name": "stdout",
     "output_type": "stream",
     "text": [
      "deg_200/K562_fc/K562_bottom_200_fc.gmt 13\n",
      "deg_200/K562_s2n/K562_bottom_200_signal2_noise.gmt 38\n",
      "deg_200/K562_edgeR_DE/DE_bottom_200.gmt 15\n",
      "deg_200/K562_DE/DE_top_200.gmt 5\n",
      "SF3A3.rnk\n"
     ]
    },
    {
     "name": "stderr",
     "output_type": "stream",
     "text": [
      "/var/folders/0t/zkf9kjwx2dl0_jdt25xk6l100000gn/T/ipykernel_31436/417767036.py:21: FutureWarning: X.dtype being converted to np.float32 from float64. In the next version of anndata (0.9) conversion will not be automatic. Pass dtype explicitly to avoid this warning. Pass `AnnData(X, dtype=X.dtype, ...)` to get the future behavour.\n",
      "  adata = ad.AnnData(data)\n",
      "/Users/luopin/opt/miniconda3/envs/scpa/lib/python3.10/site-packages/anndata/_core/anndata.py:121: ImplicitModificationWarning: Transforming to str index.\n",
      "  warnings.warn(\"Transforming to str index.\", ImplicitModificationWarning)\n"
     ]
    },
    {
     "name": "stdout",
     "output_type": "stream",
     "text": [
      "deg_200/K562_fc/K562_bottom_200_fc.gmt 7\n",
      "deg_200/K562_s2n/K562_bottom_200_signal2_noise.gmt 13\n",
      "deg_200/K562_edgeR_DE/DE_bottom_200.gmt 4\n",
      "deg_200/K562_DE/DE_top_200.gmt 3\n",
      "SF3B1.rnk\n"
     ]
    },
    {
     "name": "stderr",
     "output_type": "stream",
     "text": [
      "/var/folders/0t/zkf9kjwx2dl0_jdt25xk6l100000gn/T/ipykernel_31436/417767036.py:21: FutureWarning: X.dtype being converted to np.float32 from float64. In the next version of anndata (0.9) conversion will not be automatic. Pass dtype explicitly to avoid this warning. Pass `AnnData(X, dtype=X.dtype, ...)` to get the future behavour.\n",
      "  adata = ad.AnnData(data)\n",
      "/Users/luopin/opt/miniconda3/envs/scpa/lib/python3.10/site-packages/anndata/_core/anndata.py:121: ImplicitModificationWarning: Transforming to str index.\n",
      "  warnings.warn(\"Transforming to str index.\", ImplicitModificationWarning)\n"
     ]
    },
    {
     "name": "stdout",
     "output_type": "stream",
     "text": [
      "deg_200/K562_fc/K562_bottom_200_fc.gmt 1\n",
      "deg_200/K562_s2n/K562_bottom_200_signal2_noise.gmt 12\n",
      "deg_200/K562_edgeR_DE/DE_bottom_200.gmt 1\n",
      "deg_200/K562_DE/DE_top_200.gmt 1\n",
      "SF3B4.rnk\n"
     ]
    },
    {
     "name": "stderr",
     "output_type": "stream",
     "text": [
      "/var/folders/0t/zkf9kjwx2dl0_jdt25xk6l100000gn/T/ipykernel_31436/417767036.py:21: FutureWarning: X.dtype being converted to np.float32 from float64. In the next version of anndata (0.9) conversion will not be automatic. Pass dtype explicitly to avoid this warning. Pass `AnnData(X, dtype=X.dtype, ...)` to get the future behavour.\n",
      "  adata = ad.AnnData(data)\n",
      "/Users/luopin/opt/miniconda3/envs/scpa/lib/python3.10/site-packages/anndata/_core/anndata.py:121: ImplicitModificationWarning: Transforming to str index.\n",
      "  warnings.warn(\"Transforming to str index.\", ImplicitModificationWarning)\n"
     ]
    },
    {
     "name": "stdout",
     "output_type": "stream",
     "text": [
      "deg_200/K562_fc/K562_bottom_200_fc.gmt 1\n",
      "deg_200/K562_s2n/K562_bottom_200_signal2_noise.gmt 4\n",
      "deg_200/K562_edgeR_DE/DE_bottom_200.gmt 1\n",
      "deg_200/K562_DE/DE_top_200.gmt 1\n",
      "SFPQ.rnk\n"
     ]
    },
    {
     "name": "stderr",
     "output_type": "stream",
     "text": [
      "/var/folders/0t/zkf9kjwx2dl0_jdt25xk6l100000gn/T/ipykernel_31436/417767036.py:21: FutureWarning: X.dtype being converted to np.float32 from float64. In the next version of anndata (0.9) conversion will not be automatic. Pass dtype explicitly to avoid this warning. Pass `AnnData(X, dtype=X.dtype, ...)` to get the future behavour.\n",
      "  adata = ad.AnnData(data)\n",
      "/Users/luopin/opt/miniconda3/envs/scpa/lib/python3.10/site-packages/anndata/_core/anndata.py:121: ImplicitModificationWarning: Transforming to str index.\n",
      "  warnings.warn(\"Transforming to str index.\", ImplicitModificationWarning)\n"
     ]
    },
    {
     "name": "stdout",
     "output_type": "stream",
     "text": [
      "deg_200/K562_fc/K562_bottom_200_fc.gmt 13\n",
      "deg_200/K562_s2n/K562_bottom_200_signal2_noise.gmt 18\n",
      "deg_200/K562_edgeR_DE/DE_bottom_200.gmt 2\n",
      "deg_200/K562_DE/DE_top_200.gmt 1\n",
      "SLBP.rnk\n"
     ]
    },
    {
     "name": "stderr",
     "output_type": "stream",
     "text": [
      "/var/folders/0t/zkf9kjwx2dl0_jdt25xk6l100000gn/T/ipykernel_31436/417767036.py:21: FutureWarning: X.dtype being converted to np.float32 from float64. In the next version of anndata (0.9) conversion will not be automatic. Pass dtype explicitly to avoid this warning. Pass `AnnData(X, dtype=X.dtype, ...)` to get the future behavour.\n",
      "  adata = ad.AnnData(data)\n",
      "/Users/luopin/opt/miniconda3/envs/scpa/lib/python3.10/site-packages/anndata/_core/anndata.py:121: ImplicitModificationWarning: Transforming to str index.\n",
      "  warnings.warn(\"Transforming to str index.\", ImplicitModificationWarning)\n"
     ]
    },
    {
     "name": "stdout",
     "output_type": "stream",
     "text": [
      "deg_200/K562_fc/K562_bottom_200_fc.gmt 2\n",
      "deg_200/K562_s2n/K562_bottom_200_signal2_noise.gmt 5\n",
      "deg_200/K562_edgeR_DE/DE_bottom_200.gmt 4\n",
      "deg_200/K562_DE/DE_top_200.gmt 2\n",
      "SLTM.rnk\n"
     ]
    },
    {
     "name": "stderr",
     "output_type": "stream",
     "text": [
      "/var/folders/0t/zkf9kjwx2dl0_jdt25xk6l100000gn/T/ipykernel_31436/417767036.py:21: FutureWarning: X.dtype being converted to np.float32 from float64. In the next version of anndata (0.9) conversion will not be automatic. Pass dtype explicitly to avoid this warning. Pass `AnnData(X, dtype=X.dtype, ...)` to get the future behavour.\n",
      "  adata = ad.AnnData(data)\n",
      "/Users/luopin/opt/miniconda3/envs/scpa/lib/python3.10/site-packages/anndata/_core/anndata.py:121: ImplicitModificationWarning: Transforming to str index.\n",
      "  warnings.warn(\"Transforming to str index.\", ImplicitModificationWarning)\n"
     ]
    },
    {
     "name": "stdout",
     "output_type": "stream",
     "text": [
      "deg_200/K562_fc/K562_bottom_200_fc.gmt 1\n",
      "deg_200/K562_s2n/K562_bottom_200_signal2_noise.gmt 3\n",
      "deg_200/K562_edgeR_DE/DE_bottom_200.gmt 1\n",
      "deg_200/K562_DE/DE_top_200.gmt 1\n",
      "SMN1.rnk\n"
     ]
    },
    {
     "name": "stderr",
     "output_type": "stream",
     "text": [
      "/var/folders/0t/zkf9kjwx2dl0_jdt25xk6l100000gn/T/ipykernel_31436/417767036.py:21: FutureWarning: X.dtype being converted to np.float32 from float64. In the next version of anndata (0.9) conversion will not be automatic. Pass dtype explicitly to avoid this warning. Pass `AnnData(X, dtype=X.dtype, ...)` to get the future behavour.\n",
      "  adata = ad.AnnData(data)\n",
      "/Users/luopin/opt/miniconda3/envs/scpa/lib/python3.10/site-packages/anndata/_core/anndata.py:121: ImplicitModificationWarning: Transforming to str index.\n",
      "  warnings.warn(\"Transforming to str index.\", ImplicitModificationWarning)\n"
     ]
    },
    {
     "name": "stdout",
     "output_type": "stream",
     "text": [
      "deg_200/K562_fc/K562_bottom_200_fc.gmt 4\n",
      "deg_200/K562_s2n/K562_bottom_200_signal2_noise.gmt 31\n",
      "deg_200/K562_edgeR_DE/DE_bottom_200.gmt 2\n",
      "deg_200/K562_DE/DE_top_200.gmt 1\n",
      "SMNDC1.rnk\n"
     ]
    },
    {
     "name": "stderr",
     "output_type": "stream",
     "text": [
      "/var/folders/0t/zkf9kjwx2dl0_jdt25xk6l100000gn/T/ipykernel_31436/417767036.py:21: FutureWarning: X.dtype being converted to np.float32 from float64. In the next version of anndata (0.9) conversion will not be automatic. Pass dtype explicitly to avoid this warning. Pass `AnnData(X, dtype=X.dtype, ...)` to get the future behavour.\n",
      "  adata = ad.AnnData(data)\n",
      "/Users/luopin/opt/miniconda3/envs/scpa/lib/python3.10/site-packages/anndata/_core/anndata.py:121: ImplicitModificationWarning: Transforming to str index.\n",
      "  warnings.warn(\"Transforming to str index.\", ImplicitModificationWarning)\n"
     ]
    },
    {
     "name": "stdout",
     "output_type": "stream",
     "text": [
      "deg_200/K562_fc/K562_bottom_200_fc.gmt 14\n",
      "deg_200/K562_s2n/K562_bottom_200_signal2_noise.gmt 14\n",
      "deg_200/K562_edgeR_DE/DE_bottom_200.gmt 2\n",
      "deg_200/K562_DE/DE_top_200.gmt 1\n",
      "SND1.rnk\n"
     ]
    },
    {
     "name": "stderr",
     "output_type": "stream",
     "text": [
      "/var/folders/0t/zkf9kjwx2dl0_jdt25xk6l100000gn/T/ipykernel_31436/417767036.py:21: FutureWarning: X.dtype being converted to np.float32 from float64. In the next version of anndata (0.9) conversion will not be automatic. Pass dtype explicitly to avoid this warning. Pass `AnnData(X, dtype=X.dtype, ...)` to get the future behavour.\n",
      "  adata = ad.AnnData(data)\n",
      "/Users/luopin/opt/miniconda3/envs/scpa/lib/python3.10/site-packages/anndata/_core/anndata.py:121: ImplicitModificationWarning: Transforming to str index.\n",
      "  warnings.warn(\"Transforming to str index.\", ImplicitModificationWarning)\n"
     ]
    },
    {
     "name": "stdout",
     "output_type": "stream",
     "text": [
      "deg_200/K562_fc/K562_bottom_200_fc.gmt 82\n",
      "deg_200/K562_s2n/K562_bottom_200_signal2_noise.gmt 31\n",
      "deg_200/K562_edgeR_DE/DE_bottom_200.gmt 161\n",
      "deg_200/K562_DE/DE_top_200.gmt 129\n",
      "SNRNP200.rnk\n"
     ]
    },
    {
     "name": "stderr",
     "output_type": "stream",
     "text": [
      "/var/folders/0t/zkf9kjwx2dl0_jdt25xk6l100000gn/T/ipykernel_31436/417767036.py:21: FutureWarning: X.dtype being converted to np.float32 from float64. In the next version of anndata (0.9) conversion will not be automatic. Pass dtype explicitly to avoid this warning. Pass `AnnData(X, dtype=X.dtype, ...)` to get the future behavour.\n",
      "  adata = ad.AnnData(data)\n",
      "/Users/luopin/opt/miniconda3/envs/scpa/lib/python3.10/site-packages/anndata/_core/anndata.py:121: ImplicitModificationWarning: Transforming to str index.\n",
      "  warnings.warn(\"Transforming to str index.\", ImplicitModificationWarning)\n"
     ]
    },
    {
     "name": "stdout",
     "output_type": "stream",
     "text": [
      "deg_200/K562_fc/K562_bottom_200_fc.gmt 31\n",
      "deg_200/K562_s2n/K562_bottom_200_signal2_noise.gmt 96\n",
      "deg_200/K562_edgeR_DE/DE_bottom_200.gmt 119\n",
      "deg_200/K562_DE/DE_top_200.gmt 8\n",
      "SRFBP1.rnk\n"
     ]
    },
    {
     "name": "stderr",
     "output_type": "stream",
     "text": [
      "/var/folders/0t/zkf9kjwx2dl0_jdt25xk6l100000gn/T/ipykernel_31436/417767036.py:21: FutureWarning: X.dtype being converted to np.float32 from float64. In the next version of anndata (0.9) conversion will not be automatic. Pass dtype explicitly to avoid this warning. Pass `AnnData(X, dtype=X.dtype, ...)` to get the future behavour.\n",
      "  adata = ad.AnnData(data)\n",
      "/Users/luopin/opt/miniconda3/envs/scpa/lib/python3.10/site-packages/anndata/_core/anndata.py:121: ImplicitModificationWarning: Transforming to str index.\n",
      "  warnings.warn(\"Transforming to str index.\", ImplicitModificationWarning)\n"
     ]
    },
    {
     "name": "stdout",
     "output_type": "stream",
     "text": [
      "deg_200/K562_fc/K562_bottom_200_fc.gmt 163\n",
      "deg_200/K562_s2n/K562_bottom_200_signal2_noise.gmt 116\n",
      "deg_200/K562_edgeR_DE/DE_bottom_200.gmt 129\n",
      "deg_200/K562_DE/DE_top_200.gmt 55\n",
      "SRP68.rnk\n"
     ]
    },
    {
     "name": "stderr",
     "output_type": "stream",
     "text": [
      "/var/folders/0t/zkf9kjwx2dl0_jdt25xk6l100000gn/T/ipykernel_31436/417767036.py:21: FutureWarning: X.dtype being converted to np.float32 from float64. In the next version of anndata (0.9) conversion will not be automatic. Pass dtype explicitly to avoid this warning. Pass `AnnData(X, dtype=X.dtype, ...)` to get the future behavour.\n",
      "  adata = ad.AnnData(data)\n",
      "/Users/luopin/opt/miniconda3/envs/scpa/lib/python3.10/site-packages/anndata/_core/anndata.py:121: ImplicitModificationWarning: Transforming to str index.\n",
      "  warnings.warn(\"Transforming to str index.\", ImplicitModificationWarning)\n"
     ]
    },
    {
     "name": "stdout",
     "output_type": "stream",
     "text": [
      "deg_200/K562_fc/K562_bottom_200_fc.gmt 2\n",
      "deg_200/K562_s2n/K562_bottom_200_signal2_noise.gmt 8\n",
      "deg_200/K562_edgeR_DE/DE_bottom_200.gmt 1\n",
      "deg_200/K562_DE/DE_top_200.gmt 1\n",
      "SRSF1.rnk\n"
     ]
    },
    {
     "name": "stderr",
     "output_type": "stream",
     "text": [
      "/var/folders/0t/zkf9kjwx2dl0_jdt25xk6l100000gn/T/ipykernel_31436/417767036.py:21: FutureWarning: X.dtype being converted to np.float32 from float64. In the next version of anndata (0.9) conversion will not be automatic. Pass dtype explicitly to avoid this warning. Pass `AnnData(X, dtype=X.dtype, ...)` to get the future behavour.\n",
      "  adata = ad.AnnData(data)\n",
      "/Users/luopin/opt/miniconda3/envs/scpa/lib/python3.10/site-packages/anndata/_core/anndata.py:121: ImplicitModificationWarning: Transforming to str index.\n",
      "  warnings.warn(\"Transforming to str index.\", ImplicitModificationWarning)\n"
     ]
    },
    {
     "name": "stdout",
     "output_type": "stream",
     "text": [
      "deg_200/K562_fc/K562_bottom_200_fc.gmt 10\n",
      "deg_200/K562_s2n/K562_bottom_200_signal2_noise.gmt 12\n",
      "deg_200/K562_edgeR_DE/DE_bottom_200.gmt 8\n",
      "deg_200/K562_DE/DE_top_200.gmt 2\n",
      "SRSF5.rnk\n"
     ]
    },
    {
     "name": "stderr",
     "output_type": "stream",
     "text": [
      "/var/folders/0t/zkf9kjwx2dl0_jdt25xk6l100000gn/T/ipykernel_31436/417767036.py:21: FutureWarning: X.dtype being converted to np.float32 from float64. In the next version of anndata (0.9) conversion will not be automatic. Pass dtype explicitly to avoid this warning. Pass `AnnData(X, dtype=X.dtype, ...)` to get the future behavour.\n",
      "  adata = ad.AnnData(data)\n",
      "/Users/luopin/opt/miniconda3/envs/scpa/lib/python3.10/site-packages/anndata/_core/anndata.py:121: ImplicitModificationWarning: Transforming to str index.\n",
      "  warnings.warn(\"Transforming to str index.\", ImplicitModificationWarning)\n"
     ]
    },
    {
     "name": "stdout",
     "output_type": "stream",
     "text": [
      "deg_200/K562_fc/K562_bottom_200_fc.gmt 28\n",
      "deg_200/K562_s2n/K562_bottom_200_signal2_noise.gmt 60\n",
      "deg_200/K562_edgeR_DE/DE_bottom_200.gmt 20\n",
      "deg_200/K562_DE/DE_top_200.gmt 81\n",
      "SSB.rnk\n"
     ]
    },
    {
     "name": "stderr",
     "output_type": "stream",
     "text": [
      "/var/folders/0t/zkf9kjwx2dl0_jdt25xk6l100000gn/T/ipykernel_31436/417767036.py:21: FutureWarning: X.dtype being converted to np.float32 from float64. In the next version of anndata (0.9) conversion will not be automatic. Pass dtype explicitly to avoid this warning. Pass `AnnData(X, dtype=X.dtype, ...)` to get the future behavour.\n",
      "  adata = ad.AnnData(data)\n",
      "/Users/luopin/opt/miniconda3/envs/scpa/lib/python3.10/site-packages/anndata/_core/anndata.py:121: ImplicitModificationWarning: Transforming to str index.\n",
      "  warnings.warn(\"Transforming to str index.\", ImplicitModificationWarning)\n"
     ]
    },
    {
     "name": "stdout",
     "output_type": "stream",
     "text": [
      "deg_200/K562_fc/K562_bottom_200_fc.gmt 21\n",
      "deg_200/K562_s2n/K562_bottom_200_signal2_noise.gmt 42\n",
      "deg_200/K562_edgeR_DE/DE_bottom_200.gmt 29\n",
      "deg_200/K562_DE/DE_top_200.gmt 10\n",
      "SSRP1.rnk\n"
     ]
    },
    {
     "name": "stderr",
     "output_type": "stream",
     "text": [
      "/var/folders/0t/zkf9kjwx2dl0_jdt25xk6l100000gn/T/ipykernel_31436/417767036.py:21: FutureWarning: X.dtype being converted to np.float32 from float64. In the next version of anndata (0.9) conversion will not be automatic. Pass dtype explicitly to avoid this warning. Pass `AnnData(X, dtype=X.dtype, ...)` to get the future behavour.\n",
      "  adata = ad.AnnData(data)\n",
      "/Users/luopin/opt/miniconda3/envs/scpa/lib/python3.10/site-packages/anndata/_core/anndata.py:121: ImplicitModificationWarning: Transforming to str index.\n",
      "  warnings.warn(\"Transforming to str index.\", ImplicitModificationWarning)\n"
     ]
    },
    {
     "name": "stdout",
     "output_type": "stream",
     "text": [
      "deg_200/K562_fc/K562_bottom_200_fc.gmt 27\n",
      "deg_200/K562_s2n/K562_bottom_200_signal2_noise.gmt 14\n",
      "deg_200/K562_edgeR_DE/DE_bottom_200.gmt 27\n",
      "deg_200/K562_DE/DE_top_200.gmt 39\n",
      "STAU1.rnk\n"
     ]
    },
    {
     "name": "stderr",
     "output_type": "stream",
     "text": [
      "/var/folders/0t/zkf9kjwx2dl0_jdt25xk6l100000gn/T/ipykernel_31436/417767036.py:21: FutureWarning: X.dtype being converted to np.float32 from float64. In the next version of anndata (0.9) conversion will not be automatic. Pass dtype explicitly to avoid this warning. Pass `AnnData(X, dtype=X.dtype, ...)` to get the future behavour.\n",
      "  adata = ad.AnnData(data)\n",
      "/Users/luopin/opt/miniconda3/envs/scpa/lib/python3.10/site-packages/anndata/_core/anndata.py:121: ImplicitModificationWarning: Transforming to str index.\n",
      "  warnings.warn(\"Transforming to str index.\", ImplicitModificationWarning)\n"
     ]
    },
    {
     "name": "stdout",
     "output_type": "stream",
     "text": [
      "deg_200/K562_fc/K562_bottom_200_fc.gmt 24\n",
      "deg_200/K562_s2n/K562_bottom_200_signal2_noise.gmt 75\n",
      "deg_200/K562_edgeR_DE/DE_bottom_200.gmt 12\n",
      "deg_200/K562_DE/DE_top_200.gmt 7\n",
      "STIP1.rnk\n"
     ]
    },
    {
     "name": "stderr",
     "output_type": "stream",
     "text": [
      "/var/folders/0t/zkf9kjwx2dl0_jdt25xk6l100000gn/T/ipykernel_31436/417767036.py:21: FutureWarning: X.dtype being converted to np.float32 from float64. In the next version of anndata (0.9) conversion will not be automatic. Pass dtype explicitly to avoid this warning. Pass `AnnData(X, dtype=X.dtype, ...)` to get the future behavour.\n",
      "  adata = ad.AnnData(data)\n",
      "/Users/luopin/opt/miniconda3/envs/scpa/lib/python3.10/site-packages/anndata/_core/anndata.py:121: ImplicitModificationWarning: Transforming to str index.\n",
      "  warnings.warn(\"Transforming to str index.\", ImplicitModificationWarning)\n"
     ]
    },
    {
     "name": "stdout",
     "output_type": "stream",
     "text": [
      "deg_200/K562_fc/K562_bottom_200_fc.gmt 1\n",
      "deg_200/K562_s2n/K562_bottom_200_signal2_noise.gmt 1\n",
      "deg_200/K562_edgeR_DE/DE_bottom_200.gmt 1\n",
      "deg_200/K562_DE/DE_top_200.gmt 1\n",
      "SUB1.rnk\n"
     ]
    },
    {
     "name": "stderr",
     "output_type": "stream",
     "text": [
      "/var/folders/0t/zkf9kjwx2dl0_jdt25xk6l100000gn/T/ipykernel_31436/417767036.py:21: FutureWarning: X.dtype being converted to np.float32 from float64. In the next version of anndata (0.9) conversion will not be automatic. Pass dtype explicitly to avoid this warning. Pass `AnnData(X, dtype=X.dtype, ...)` to get the future behavour.\n",
      "  adata = ad.AnnData(data)\n",
      "/Users/luopin/opt/miniconda3/envs/scpa/lib/python3.10/site-packages/anndata/_core/anndata.py:121: ImplicitModificationWarning: Transforming to str index.\n",
      "  warnings.warn(\"Transforming to str index.\", ImplicitModificationWarning)\n"
     ]
    },
    {
     "name": "stdout",
     "output_type": "stream",
     "text": [
      "deg_200/K562_fc/K562_bottom_200_fc.gmt 15\n",
      "deg_200/K562_s2n/K562_bottom_200_signal2_noise.gmt 15\n",
      "deg_200/K562_edgeR_DE/DE_bottom_200.gmt 1\n",
      "deg_200/K562_DE/DE_top_200.gmt 1\n",
      "SUCLG1.rnk\n"
     ]
    },
    {
     "name": "stderr",
     "output_type": "stream",
     "text": [
      "/var/folders/0t/zkf9kjwx2dl0_jdt25xk6l100000gn/T/ipykernel_31436/417767036.py:21: FutureWarning: X.dtype being converted to np.float32 from float64. In the next version of anndata (0.9) conversion will not be automatic. Pass dtype explicitly to avoid this warning. Pass `AnnData(X, dtype=X.dtype, ...)` to get the future behavour.\n",
      "  adata = ad.AnnData(data)\n",
      "/Users/luopin/opt/miniconda3/envs/scpa/lib/python3.10/site-packages/anndata/_core/anndata.py:121: ImplicitModificationWarning: Transforming to str index.\n",
      "  warnings.warn(\"Transforming to str index.\", ImplicitModificationWarning)\n"
     ]
    },
    {
     "name": "stdout",
     "output_type": "stream",
     "text": [
      "deg_200/K562_fc/K562_bottom_200_fc.gmt 2\n",
      "deg_200/K562_s2n/K562_bottom_200_signal2_noise.gmt 6\n",
      "deg_200/K562_edgeR_DE/DE_bottom_200.gmt 2\n",
      "deg_200/K562_DE/DE_top_200.gmt 1\n",
      "SUGP2.rnk\n"
     ]
    },
    {
     "name": "stderr",
     "output_type": "stream",
     "text": [
      "/var/folders/0t/zkf9kjwx2dl0_jdt25xk6l100000gn/T/ipykernel_31436/417767036.py:21: FutureWarning: X.dtype being converted to np.float32 from float64. In the next version of anndata (0.9) conversion will not be automatic. Pass dtype explicitly to avoid this warning. Pass `AnnData(X, dtype=X.dtype, ...)` to get the future behavour.\n",
      "  adata = ad.AnnData(data)\n",
      "/Users/luopin/opt/miniconda3/envs/scpa/lib/python3.10/site-packages/anndata/_core/anndata.py:121: ImplicitModificationWarning: Transforming to str index.\n",
      "  warnings.warn(\"Transforming to str index.\", ImplicitModificationWarning)\n"
     ]
    },
    {
     "name": "stdout",
     "output_type": "stream",
     "text": [
      "deg_200/K562_fc/K562_bottom_200_fc.gmt 33\n",
      "deg_200/K562_s2n/K562_bottom_200_signal2_noise.gmt 21\n",
      "deg_200/K562_edgeR_DE/DE_bottom_200.gmt 39\n",
      "deg_200/K562_DE/DE_top_200.gmt 9\n",
      "SUPT6H.rnk\n"
     ]
    },
    {
     "name": "stderr",
     "output_type": "stream",
     "text": [
      "/var/folders/0t/zkf9kjwx2dl0_jdt25xk6l100000gn/T/ipykernel_31436/417767036.py:21: FutureWarning: X.dtype being converted to np.float32 from float64. In the next version of anndata (0.9) conversion will not be automatic. Pass dtype explicitly to avoid this warning. Pass `AnnData(X, dtype=X.dtype, ...)` to get the future behavour.\n",
      "  adata = ad.AnnData(data)\n",
      "/Users/luopin/opt/miniconda3/envs/scpa/lib/python3.10/site-packages/anndata/_core/anndata.py:121: ImplicitModificationWarning: Transforming to str index.\n",
      "  warnings.warn(\"Transforming to str index.\", ImplicitModificationWarning)\n"
     ]
    },
    {
     "name": "stdout",
     "output_type": "stream",
     "text": [
      "deg_200/K562_fc/K562_bottom_200_fc.gmt 63\n",
      "deg_200/K562_s2n/K562_bottom_200_signal2_noise.gmt 60\n",
      "deg_200/K562_edgeR_DE/DE_bottom_200.gmt 151\n",
      "deg_200/K562_DE/DE_top_200.gmt 72\n",
      "SUPV3L1.rnk\n"
     ]
    },
    {
     "name": "stderr",
     "output_type": "stream",
     "text": [
      "/var/folders/0t/zkf9kjwx2dl0_jdt25xk6l100000gn/T/ipykernel_31436/417767036.py:21: FutureWarning: X.dtype being converted to np.float32 from float64. In the next version of anndata (0.9) conversion will not be automatic. Pass dtype explicitly to avoid this warning. Pass `AnnData(X, dtype=X.dtype, ...)` to get the future behavour.\n",
      "  adata = ad.AnnData(data)\n",
      "/Users/luopin/opt/miniconda3/envs/scpa/lib/python3.10/site-packages/anndata/_core/anndata.py:121: ImplicitModificationWarning: Transforming to str index.\n",
      "  warnings.warn(\"Transforming to str index.\", ImplicitModificationWarning)\n"
     ]
    },
    {
     "name": "stdout",
     "output_type": "stream",
     "text": [
      "deg_200/K562_fc/K562_bottom_200_fc.gmt 1\n",
      "deg_200/K562_s2n/K562_bottom_200_signal2_noise.gmt 1\n",
      "deg_200/K562_edgeR_DE/DE_bottom_200.gmt 3\n",
      "deg_200/K562_DE/DE_top_200.gmt 3\n",
      "TAF15.rnk\n"
     ]
    },
    {
     "name": "stderr",
     "output_type": "stream",
     "text": [
      "/var/folders/0t/zkf9kjwx2dl0_jdt25xk6l100000gn/T/ipykernel_31436/417767036.py:21: FutureWarning: X.dtype being converted to np.float32 from float64. In the next version of anndata (0.9) conversion will not be automatic. Pass dtype explicitly to avoid this warning. Pass `AnnData(X, dtype=X.dtype, ...)` to get the future behavour.\n",
      "  adata = ad.AnnData(data)\n",
      "/Users/luopin/opt/miniconda3/envs/scpa/lib/python3.10/site-packages/anndata/_core/anndata.py:121: ImplicitModificationWarning: Transforming to str index.\n",
      "  warnings.warn(\"Transforming to str index.\", ImplicitModificationWarning)\n"
     ]
    },
    {
     "name": "stdout",
     "output_type": "stream",
     "text": [
      "deg_200/K562_fc/K562_bottom_200_fc.gmt 4\n",
      "deg_200/K562_s2n/K562_bottom_200_signal2_noise.gmt 4\n",
      "deg_200/K562_edgeR_DE/DE_bottom_200.gmt 5\n",
      "deg_200/K562_DE/DE_top_200.gmt 31\n",
      "TARDBP.rnk\n"
     ]
    },
    {
     "name": "stderr",
     "output_type": "stream",
     "text": [
      "/var/folders/0t/zkf9kjwx2dl0_jdt25xk6l100000gn/T/ipykernel_31436/417767036.py:21: FutureWarning: X.dtype being converted to np.float32 from float64. In the next version of anndata (0.9) conversion will not be automatic. Pass dtype explicitly to avoid this warning. Pass `AnnData(X, dtype=X.dtype, ...)` to get the future behavour.\n",
      "  adata = ad.AnnData(data)\n",
      "/Users/luopin/opt/miniconda3/envs/scpa/lib/python3.10/site-packages/anndata/_core/anndata.py:121: ImplicitModificationWarning: Transforming to str index.\n",
      "  warnings.warn(\"Transforming to str index.\", ImplicitModificationWarning)\n"
     ]
    },
    {
     "name": "stdout",
     "output_type": "stream",
     "text": [
      "deg_200/K562_fc/K562_bottom_200_fc.gmt 7\n",
      "deg_200/K562_s2n/K562_bottom_200_signal2_noise.gmt 5\n",
      "deg_200/K562_edgeR_DE/DE_bottom_200.gmt 23\n",
      "deg_200/K562_DE/DE_top_200.gmt 36\n",
      "TBRG4.rnk\n"
     ]
    },
    {
     "name": "stderr",
     "output_type": "stream",
     "text": [
      "/var/folders/0t/zkf9kjwx2dl0_jdt25xk6l100000gn/T/ipykernel_31436/417767036.py:21: FutureWarning: X.dtype being converted to np.float32 from float64. In the next version of anndata (0.9) conversion will not be automatic. Pass dtype explicitly to avoid this warning. Pass `AnnData(X, dtype=X.dtype, ...)` to get the future behavour.\n",
      "  adata = ad.AnnData(data)\n",
      "/Users/luopin/opt/miniconda3/envs/scpa/lib/python3.10/site-packages/anndata/_core/anndata.py:121: ImplicitModificationWarning: Transforming to str index.\n",
      "  warnings.warn(\"Transforming to str index.\", ImplicitModificationWarning)\n"
     ]
    },
    {
     "name": "stdout",
     "output_type": "stream",
     "text": [
      "deg_200/K562_fc/K562_bottom_200_fc.gmt 104\n",
      "deg_200/K562_s2n/K562_bottom_200_signal2_noise.gmt 57\n",
      "deg_200/K562_edgeR_DE/DE_bottom_200.gmt 76\n",
      "deg_200/K562_DE/DE_top_200.gmt 80\n",
      "TFIP11.rnk\n"
     ]
    },
    {
     "name": "stderr",
     "output_type": "stream",
     "text": [
      "/var/folders/0t/zkf9kjwx2dl0_jdt25xk6l100000gn/T/ipykernel_31436/417767036.py:21: FutureWarning: X.dtype being converted to np.float32 from float64. In the next version of anndata (0.9) conversion will not be automatic. Pass dtype explicitly to avoid this warning. Pass `AnnData(X, dtype=X.dtype, ...)` to get the future behavour.\n",
      "  adata = ad.AnnData(data)\n",
      "/Users/luopin/opt/miniconda3/envs/scpa/lib/python3.10/site-packages/anndata/_core/anndata.py:121: ImplicitModificationWarning: Transforming to str index.\n",
      "  warnings.warn(\"Transforming to str index.\", ImplicitModificationWarning)\n"
     ]
    },
    {
     "name": "stdout",
     "output_type": "stream",
     "text": [
      "deg_200/K562_fc/K562_bottom_200_fc.gmt 10\n",
      "deg_200/K562_s2n/K562_bottom_200_signal2_noise.gmt 4\n",
      "deg_200/K562_edgeR_DE/DE_bottom_200.gmt 10\n",
      "deg_200/K562_DE/DE_top_200.gmt 15\n",
      "TIA1.rnk\n"
     ]
    },
    {
     "name": "stderr",
     "output_type": "stream",
     "text": [
      "/var/folders/0t/zkf9kjwx2dl0_jdt25xk6l100000gn/T/ipykernel_31436/417767036.py:21: FutureWarning: X.dtype being converted to np.float32 from float64. In the next version of anndata (0.9) conversion will not be automatic. Pass dtype explicitly to avoid this warning. Pass `AnnData(X, dtype=X.dtype, ...)` to get the future behavour.\n",
      "  adata = ad.AnnData(data)\n",
      "/Users/luopin/opt/miniconda3/envs/scpa/lib/python3.10/site-packages/anndata/_core/anndata.py:121: ImplicitModificationWarning: Transforming to str index.\n",
      "  warnings.warn(\"Transforming to str index.\", ImplicitModificationWarning)\n"
     ]
    },
    {
     "name": "stdout",
     "output_type": "stream",
     "text": [
      "deg_200/K562_fc/K562_bottom_200_fc.gmt 107\n",
      "deg_200/K562_s2n/K562_bottom_200_signal2_noise.gmt 80\n",
      "deg_200/K562_edgeR_DE/DE_bottom_200.gmt 6\n",
      "deg_200/K562_DE/DE_top_200.gmt 1\n",
      "TIAL1.rnk\n"
     ]
    },
    {
     "name": "stderr",
     "output_type": "stream",
     "text": [
      "/var/folders/0t/zkf9kjwx2dl0_jdt25xk6l100000gn/T/ipykernel_31436/417767036.py:21: FutureWarning: X.dtype being converted to np.float32 from float64. In the next version of anndata (0.9) conversion will not be automatic. Pass dtype explicitly to avoid this warning. Pass `AnnData(X, dtype=X.dtype, ...)` to get the future behavour.\n",
      "  adata = ad.AnnData(data)\n",
      "/Users/luopin/opt/miniconda3/envs/scpa/lib/python3.10/site-packages/anndata/_core/anndata.py:121: ImplicitModificationWarning: Transforming to str index.\n",
      "  warnings.warn(\"Transforming to str index.\", ImplicitModificationWarning)\n"
     ]
    },
    {
     "name": "stdout",
     "output_type": "stream",
     "text": [
      "deg_200/K562_fc/K562_bottom_200_fc.gmt 1\n",
      "deg_200/K562_s2n/K562_bottom_200_signal2_noise.gmt 1\n",
      "deg_200/K562_edgeR_DE/DE_bottom_200.gmt 2\n",
      "deg_200/K562_DE/DE_top_200.gmt 3\n",
      "TRA2A.rnk\n"
     ]
    },
    {
     "name": "stderr",
     "output_type": "stream",
     "text": [
      "/var/folders/0t/zkf9kjwx2dl0_jdt25xk6l100000gn/T/ipykernel_31436/417767036.py:21: FutureWarning: X.dtype being converted to np.float32 from float64. In the next version of anndata (0.9) conversion will not be automatic. Pass dtype explicitly to avoid this warning. Pass `AnnData(X, dtype=X.dtype, ...)` to get the future behavour.\n",
      "  adata = ad.AnnData(data)\n",
      "/Users/luopin/opt/miniconda3/envs/scpa/lib/python3.10/site-packages/anndata/_core/anndata.py:121: ImplicitModificationWarning: Transforming to str index.\n",
      "  warnings.warn(\"Transforming to str index.\", ImplicitModificationWarning)\n"
     ]
    },
    {
     "name": "stdout",
     "output_type": "stream",
     "text": [
      "deg_200/K562_fc/K562_bottom_200_fc.gmt 17\n",
      "deg_200/K562_s2n/K562_bottom_200_signal2_noise.gmt 104\n",
      "deg_200/K562_edgeR_DE/DE_bottom_200.gmt 1\n",
      "deg_200/K562_DE/DE_top_200.gmt 2\n",
      "TRIM56.rnk\n"
     ]
    },
    {
     "name": "stderr",
     "output_type": "stream",
     "text": [
      "/var/folders/0t/zkf9kjwx2dl0_jdt25xk6l100000gn/T/ipykernel_31436/417767036.py:21: FutureWarning: X.dtype being converted to np.float32 from float64. In the next version of anndata (0.9) conversion will not be automatic. Pass dtype explicitly to avoid this warning. Pass `AnnData(X, dtype=X.dtype, ...)` to get the future behavour.\n",
      "  adata = ad.AnnData(data)\n",
      "/Users/luopin/opt/miniconda3/envs/scpa/lib/python3.10/site-packages/anndata/_core/anndata.py:121: ImplicitModificationWarning: Transforming to str index.\n",
      "  warnings.warn(\"Transforming to str index.\", ImplicitModificationWarning)\n"
     ]
    },
    {
     "name": "stdout",
     "output_type": "stream",
     "text": [
      "deg_200/K562_fc/K562_bottom_200_fc.gmt 1\n",
      "deg_200/K562_s2n/K562_bottom_200_signal2_noise.gmt 2\n",
      "deg_200/K562_edgeR_DE/DE_bottom_200.gmt 1\n",
      "deg_200/K562_DE/DE_top_200.gmt 1\n",
      "TROVE2.rnk\n"
     ]
    },
    {
     "name": "stderr",
     "output_type": "stream",
     "text": [
      "/var/folders/0t/zkf9kjwx2dl0_jdt25xk6l100000gn/T/ipykernel_31436/417767036.py:21: FutureWarning: X.dtype being converted to np.float32 from float64. In the next version of anndata (0.9) conversion will not be automatic. Pass dtype explicitly to avoid this warning. Pass `AnnData(X, dtype=X.dtype, ...)` to get the future behavour.\n",
      "  adata = ad.AnnData(data)\n",
      "/Users/luopin/opt/miniconda3/envs/scpa/lib/python3.10/site-packages/anndata/_core/anndata.py:121: ImplicitModificationWarning: Transforming to str index.\n",
      "  warnings.warn(\"Transforming to str index.\", ImplicitModificationWarning)\n"
     ]
    },
    {
     "name": "stdout",
     "output_type": "stream",
     "text": [
      "deg_200/K562_fc/K562_bottom_200_fc.gmt 68\n",
      "deg_200/K562_s2n/K562_bottom_200_signal2_noise.gmt 174\n",
      "deg_200/K562_edgeR_DE/DE_bottom_200.gmt 57\n",
      "deg_200/K562_DE/DE_top_200.gmt 179\n",
      "TUFM.rnk\n"
     ]
    },
    {
     "name": "stderr",
     "output_type": "stream",
     "text": [
      "/var/folders/0t/zkf9kjwx2dl0_jdt25xk6l100000gn/T/ipykernel_31436/417767036.py:21: FutureWarning: X.dtype being converted to np.float32 from float64. In the next version of anndata (0.9) conversion will not be automatic. Pass dtype explicitly to avoid this warning. Pass `AnnData(X, dtype=X.dtype, ...)` to get the future behavour.\n",
      "  adata = ad.AnnData(data)\n",
      "/Users/luopin/opt/miniconda3/envs/scpa/lib/python3.10/site-packages/anndata/_core/anndata.py:121: ImplicitModificationWarning: Transforming to str index.\n",
      "  warnings.warn(\"Transforming to str index.\", ImplicitModificationWarning)\n"
     ]
    },
    {
     "name": "stdout",
     "output_type": "stream",
     "text": [
      "deg_200/K562_fc/K562_bottom_200_fc.gmt 1\n",
      "deg_200/K562_s2n/K562_bottom_200_signal2_noise.gmt 2\n",
      "deg_200/K562_edgeR_DE/DE_bottom_200.gmt 1\n",
      "deg_200/K562_DE/DE_top_200.gmt 3\n",
      "U2AF1.rnk\n"
     ]
    },
    {
     "name": "stderr",
     "output_type": "stream",
     "text": [
      "/var/folders/0t/zkf9kjwx2dl0_jdt25xk6l100000gn/T/ipykernel_31436/417767036.py:21: FutureWarning: X.dtype being converted to np.float32 from float64. In the next version of anndata (0.9) conversion will not be automatic. Pass dtype explicitly to avoid this warning. Pass `AnnData(X, dtype=X.dtype, ...)` to get the future behavour.\n",
      "  adata = ad.AnnData(data)\n",
      "/Users/luopin/opt/miniconda3/envs/scpa/lib/python3.10/site-packages/anndata/_core/anndata.py:121: ImplicitModificationWarning: Transforming to str index.\n",
      "  warnings.warn(\"Transforming to str index.\", ImplicitModificationWarning)\n"
     ]
    },
    {
     "name": "stdout",
     "output_type": "stream",
     "text": [
      "deg_200/K562_fc/K562_bottom_200_fc.gmt 7\n",
      "deg_200/K562_s2n/K562_bottom_200_signal2_noise.gmt 34\n",
      "deg_200/K562_edgeR_DE/DE_bottom_200.gmt 5\n",
      "deg_200/K562_DE/DE_top_200.gmt 10\n",
      "U2AF2.rnk\n"
     ]
    },
    {
     "name": "stderr",
     "output_type": "stream",
     "text": [
      "/var/folders/0t/zkf9kjwx2dl0_jdt25xk6l100000gn/T/ipykernel_31436/417767036.py:21: FutureWarning: X.dtype being converted to np.float32 from float64. In the next version of anndata (0.9) conversion will not be automatic. Pass dtype explicitly to avoid this warning. Pass `AnnData(X, dtype=X.dtype, ...)` to get the future behavour.\n",
      "  adata = ad.AnnData(data)\n",
      "/Users/luopin/opt/miniconda3/envs/scpa/lib/python3.10/site-packages/anndata/_core/anndata.py:121: ImplicitModificationWarning: Transforming to str index.\n",
      "  warnings.warn(\"Transforming to str index.\", ImplicitModificationWarning)\n"
     ]
    },
    {
     "name": "stdout",
     "output_type": "stream",
     "text": [
      "deg_200/K562_fc/K562_bottom_200_fc.gmt 2\n",
      "deg_200/K562_s2n/K562_bottom_200_signal2_noise.gmt 2\n",
      "deg_200/K562_edgeR_DE/DE_bottom_200.gmt 7\n",
      "deg_200/K562_DE/DE_top_200.gmt 1\n",
      "UBE2L3.rnk\n"
     ]
    },
    {
     "name": "stderr",
     "output_type": "stream",
     "text": [
      "/var/folders/0t/zkf9kjwx2dl0_jdt25xk6l100000gn/T/ipykernel_31436/417767036.py:21: FutureWarning: X.dtype being converted to np.float32 from float64. In the next version of anndata (0.9) conversion will not be automatic. Pass dtype explicitly to avoid this warning. Pass `AnnData(X, dtype=X.dtype, ...)` to get the future behavour.\n",
      "  adata = ad.AnnData(data)\n",
      "/Users/luopin/opt/miniconda3/envs/scpa/lib/python3.10/site-packages/anndata/_core/anndata.py:121: ImplicitModificationWarning: Transforming to str index.\n",
      "  warnings.warn(\"Transforming to str index.\", ImplicitModificationWarning)\n"
     ]
    },
    {
     "name": "stdout",
     "output_type": "stream",
     "text": [
      "deg_200/K562_fc/K562_bottom_200_fc.gmt 2\n",
      "deg_200/K562_s2n/K562_bottom_200_signal2_noise.gmt 4\n",
      "deg_200/K562_edgeR_DE/DE_bottom_200.gmt 1\n",
      "deg_200/K562_DE/DE_top_200.gmt 1\n",
      "UCHL5.rnk\n"
     ]
    },
    {
     "name": "stderr",
     "output_type": "stream",
     "text": [
      "/var/folders/0t/zkf9kjwx2dl0_jdt25xk6l100000gn/T/ipykernel_31436/417767036.py:21: FutureWarning: X.dtype being converted to np.float32 from float64. In the next version of anndata (0.9) conversion will not be automatic. Pass dtype explicitly to avoid this warning. Pass `AnnData(X, dtype=X.dtype, ...)` to get the future behavour.\n",
      "  adata = ad.AnnData(data)\n",
      "/Users/luopin/opt/miniconda3/envs/scpa/lib/python3.10/site-packages/anndata/_core/anndata.py:121: ImplicitModificationWarning: Transforming to str index.\n",
      "  warnings.warn(\"Transforming to str index.\", ImplicitModificationWarning)\n"
     ]
    },
    {
     "name": "stdout",
     "output_type": "stream",
     "text": [
      "deg_200/K562_fc/K562_bottom_200_fc.gmt 6\n",
      "deg_200/K562_s2n/K562_bottom_200_signal2_noise.gmt 9\n",
      "deg_200/K562_edgeR_DE/DE_bottom_200.gmt 12\n",
      "deg_200/K562_DE/DE_top_200.gmt 4\n",
      "UPF1.rnk\n"
     ]
    },
    {
     "name": "stderr",
     "output_type": "stream",
     "text": [
      "/var/folders/0t/zkf9kjwx2dl0_jdt25xk6l100000gn/T/ipykernel_31436/417767036.py:21: FutureWarning: X.dtype being converted to np.float32 from float64. In the next version of anndata (0.9) conversion will not be automatic. Pass dtype explicitly to avoid this warning. Pass `AnnData(X, dtype=X.dtype, ...)` to get the future behavour.\n",
      "  adata = ad.AnnData(data)\n",
      "/Users/luopin/opt/miniconda3/envs/scpa/lib/python3.10/site-packages/anndata/_core/anndata.py:121: ImplicitModificationWarning: Transforming to str index.\n",
      "  warnings.warn(\"Transforming to str index.\", ImplicitModificationWarning)\n"
     ]
    },
    {
     "name": "stdout",
     "output_type": "stream",
     "text": [
      "deg_200/K562_fc/K562_bottom_200_fc.gmt 176\n",
      "deg_200/K562_s2n/K562_bottom_200_signal2_noise.gmt 195\n",
      "deg_200/K562_edgeR_DE/DE_bottom_200.gmt 172\n",
      "deg_200/K562_DE/DE_top_200.gmt 51\n",
      "UPF2.rnk\n"
     ]
    },
    {
     "name": "stderr",
     "output_type": "stream",
     "text": [
      "/var/folders/0t/zkf9kjwx2dl0_jdt25xk6l100000gn/T/ipykernel_31436/417767036.py:21: FutureWarning: X.dtype being converted to np.float32 from float64. In the next version of anndata (0.9) conversion will not be automatic. Pass dtype explicitly to avoid this warning. Pass `AnnData(X, dtype=X.dtype, ...)` to get the future behavour.\n",
      "  adata = ad.AnnData(data)\n",
      "/Users/luopin/opt/miniconda3/envs/scpa/lib/python3.10/site-packages/anndata/_core/anndata.py:121: ImplicitModificationWarning: Transforming to str index.\n",
      "  warnings.warn(\"Transforming to str index.\", ImplicitModificationWarning)\n"
     ]
    },
    {
     "name": "stdout",
     "output_type": "stream",
     "text": [
      "deg_200/K562_fc/K562_bottom_200_fc.gmt 2\n",
      "deg_200/K562_s2n/K562_bottom_200_signal2_noise.gmt 43\n",
      "deg_200/K562_edgeR_DE/DE_bottom_200.gmt 1\n",
      "deg_200/K562_DE/DE_top_200.gmt 1\n",
      "UTP18.rnk\n"
     ]
    },
    {
     "name": "stderr",
     "output_type": "stream",
     "text": [
      "/var/folders/0t/zkf9kjwx2dl0_jdt25xk6l100000gn/T/ipykernel_31436/417767036.py:21: FutureWarning: X.dtype being converted to np.float32 from float64. In the next version of anndata (0.9) conversion will not be automatic. Pass dtype explicitly to avoid this warning. Pass `AnnData(X, dtype=X.dtype, ...)` to get the future behavour.\n",
      "  adata = ad.AnnData(data)\n",
      "/Users/luopin/opt/miniconda3/envs/scpa/lib/python3.10/site-packages/anndata/_core/anndata.py:121: ImplicitModificationWarning: Transforming to str index.\n",
      "  warnings.warn(\"Transforming to str index.\", ImplicitModificationWarning)\n"
     ]
    },
    {
     "name": "stdout",
     "output_type": "stream",
     "text": [
      "deg_200/K562_fc/K562_bottom_200_fc.gmt 26\n",
      "deg_200/K562_s2n/K562_bottom_200_signal2_noise.gmt 37\n",
      "deg_200/K562_edgeR_DE/DE_bottom_200.gmt 6\n",
      "deg_200/K562_DE/DE_top_200.gmt 5\n",
      "UTP3.rnk\n"
     ]
    },
    {
     "name": "stderr",
     "output_type": "stream",
     "text": [
      "/var/folders/0t/zkf9kjwx2dl0_jdt25xk6l100000gn/T/ipykernel_31436/417767036.py:21: FutureWarning: X.dtype being converted to np.float32 from float64. In the next version of anndata (0.9) conversion will not be automatic. Pass dtype explicitly to avoid this warning. Pass `AnnData(X, dtype=X.dtype, ...)` to get the future behavour.\n",
      "  adata = ad.AnnData(data)\n",
      "/Users/luopin/opt/miniconda3/envs/scpa/lib/python3.10/site-packages/anndata/_core/anndata.py:121: ImplicitModificationWarning: Transforming to str index.\n",
      "  warnings.warn(\"Transforming to str index.\", ImplicitModificationWarning)\n"
     ]
    },
    {
     "name": "stdout",
     "output_type": "stream",
     "text": [
      "deg_200/K562_fc/K562_bottom_200_fc.gmt 97\n",
      "deg_200/K562_s2n/K562_bottom_200_signal2_noise.gmt 122\n",
      "deg_200/K562_edgeR_DE/DE_bottom_200.gmt 126\n",
      "deg_200/K562_DE/DE_top_200.gmt 50\n",
      "XPO5.rnk\n"
     ]
    },
    {
     "name": "stderr",
     "output_type": "stream",
     "text": [
      "/var/folders/0t/zkf9kjwx2dl0_jdt25xk6l100000gn/T/ipykernel_31436/417767036.py:21: FutureWarning: X.dtype being converted to np.float32 from float64. In the next version of anndata (0.9) conversion will not be automatic. Pass dtype explicitly to avoid this warning. Pass `AnnData(X, dtype=X.dtype, ...)` to get the future behavour.\n",
      "  adata = ad.AnnData(data)\n",
      "/Users/luopin/opt/miniconda3/envs/scpa/lib/python3.10/site-packages/anndata/_core/anndata.py:121: ImplicitModificationWarning: Transforming to str index.\n",
      "  warnings.warn(\"Transforming to str index.\", ImplicitModificationWarning)\n"
     ]
    },
    {
     "name": "stdout",
     "output_type": "stream",
     "text": [
      "deg_200/K562_fc/K562_bottom_200_fc.gmt 17\n",
      "deg_200/K562_s2n/K562_bottom_200_signal2_noise.gmt 11\n",
      "deg_200/K562_edgeR_DE/DE_bottom_200.gmt 38\n",
      "deg_200/K562_DE/DE_top_200.gmt 39\n",
      "XRCC5.rnk\n"
     ]
    },
    {
     "name": "stderr",
     "output_type": "stream",
     "text": [
      "/var/folders/0t/zkf9kjwx2dl0_jdt25xk6l100000gn/T/ipykernel_31436/417767036.py:21: FutureWarning: X.dtype being converted to np.float32 from float64. In the next version of anndata (0.9) conversion will not be automatic. Pass dtype explicitly to avoid this warning. Pass `AnnData(X, dtype=X.dtype, ...)` to get the future behavour.\n",
      "  adata = ad.AnnData(data)\n",
      "/Users/luopin/opt/miniconda3/envs/scpa/lib/python3.10/site-packages/anndata/_core/anndata.py:121: ImplicitModificationWarning: Transforming to str index.\n",
      "  warnings.warn(\"Transforming to str index.\", ImplicitModificationWarning)\n"
     ]
    },
    {
     "name": "stdout",
     "output_type": "stream",
     "text": [
      "deg_200/K562_fc/K562_bottom_200_fc.gmt 1\n",
      "deg_200/K562_s2n/K562_bottom_200_signal2_noise.gmt 7\n",
      "deg_200/K562_edgeR_DE/DE_bottom_200.gmt 1\n",
      "deg_200/K562_DE/DE_top_200.gmt 2\n",
      "XRCC6.rnk\n"
     ]
    },
    {
     "name": "stderr",
     "output_type": "stream",
     "text": [
      "/var/folders/0t/zkf9kjwx2dl0_jdt25xk6l100000gn/T/ipykernel_31436/417767036.py:21: FutureWarning: X.dtype being converted to np.float32 from float64. In the next version of anndata (0.9) conversion will not be automatic. Pass dtype explicitly to avoid this warning. Pass `AnnData(X, dtype=X.dtype, ...)` to get the future behavour.\n",
      "  adata = ad.AnnData(data)\n",
      "/Users/luopin/opt/miniconda3/envs/scpa/lib/python3.10/site-packages/anndata/_core/anndata.py:121: ImplicitModificationWarning: Transforming to str index.\n",
      "  warnings.warn(\"Transforming to str index.\", ImplicitModificationWarning)\n"
     ]
    },
    {
     "name": "stdout",
     "output_type": "stream",
     "text": [
      "deg_200/K562_fc/K562_bottom_200_fc.gmt 19\n",
      "deg_200/K562_s2n/K562_bottom_200_signal2_noise.gmt 29\n",
      "deg_200/K562_edgeR_DE/DE_bottom_200.gmt 3\n",
      "deg_200/K562_DE/DE_top_200.gmt 1\n",
      "XRN2.rnk\n"
     ]
    },
    {
     "name": "stderr",
     "output_type": "stream",
     "text": [
      "/var/folders/0t/zkf9kjwx2dl0_jdt25xk6l100000gn/T/ipykernel_31436/417767036.py:21: FutureWarning: X.dtype being converted to np.float32 from float64. In the next version of anndata (0.9) conversion will not be automatic. Pass dtype explicitly to avoid this warning. Pass `AnnData(X, dtype=X.dtype, ...)` to get the future behavour.\n",
      "  adata = ad.AnnData(data)\n",
      "/Users/luopin/opt/miniconda3/envs/scpa/lib/python3.10/site-packages/anndata/_core/anndata.py:121: ImplicitModificationWarning: Transforming to str index.\n",
      "  warnings.warn(\"Transforming to str index.\", ImplicitModificationWarning)\n"
     ]
    },
    {
     "name": "stdout",
     "output_type": "stream",
     "text": [
      "deg_200/K562_fc/K562_bottom_200_fc.gmt 8\n",
      "deg_200/K562_s2n/K562_bottom_200_signal2_noise.gmt 8\n",
      "deg_200/K562_edgeR_DE/DE_bottom_200.gmt 7\n",
      "deg_200/K562_DE/DE_top_200.gmt 3\n",
      "YBX3.rnk\n"
     ]
    },
    {
     "name": "stderr",
     "output_type": "stream",
     "text": [
      "/var/folders/0t/zkf9kjwx2dl0_jdt25xk6l100000gn/T/ipykernel_31436/417767036.py:21: FutureWarning: X.dtype being converted to np.float32 from float64. In the next version of anndata (0.9) conversion will not be automatic. Pass dtype explicitly to avoid this warning. Pass `AnnData(X, dtype=X.dtype, ...)` to get the future behavour.\n",
      "  adata = ad.AnnData(data)\n",
      "/Users/luopin/opt/miniconda3/envs/scpa/lib/python3.10/site-packages/anndata/_core/anndata.py:121: ImplicitModificationWarning: Transforming to str index.\n",
      "  warnings.warn(\"Transforming to str index.\", ImplicitModificationWarning)\n"
     ]
    },
    {
     "name": "stdout",
     "output_type": "stream",
     "text": [
      "deg_200/K562_fc/K562_bottom_200_fc.gmt 1\n",
      "deg_200/K562_s2n/K562_bottom_200_signal2_noise.gmt 4\n",
      "deg_200/K562_edgeR_DE/DE_bottom_200.gmt 1\n",
      "deg_200/K562_DE/DE_top_200.gmt 1\n",
      "ZC3H8.rnk\n"
     ]
    },
    {
     "name": "stderr",
     "output_type": "stream",
     "text": [
      "/var/folders/0t/zkf9kjwx2dl0_jdt25xk6l100000gn/T/ipykernel_31436/417767036.py:21: FutureWarning: X.dtype being converted to np.float32 from float64. In the next version of anndata (0.9) conversion will not be automatic. Pass dtype explicitly to avoid this warning. Pass `AnnData(X, dtype=X.dtype, ...)` to get the future behavour.\n",
      "  adata = ad.AnnData(data)\n",
      "/Users/luopin/opt/miniconda3/envs/scpa/lib/python3.10/site-packages/anndata/_core/anndata.py:121: ImplicitModificationWarning: Transforming to str index.\n",
      "  warnings.warn(\"Transforming to str index.\", ImplicitModificationWarning)\n"
     ]
    },
    {
     "name": "stdout",
     "output_type": "stream",
     "text": [
      "deg_200/K562_fc/K562_bottom_200_fc.gmt 14\n",
      "deg_200/K562_s2n/K562_bottom_200_signal2_noise.gmt 8\n",
      "deg_200/K562_edgeR_DE/DE_bottom_200.gmt 43\n",
      "deg_200/K562_DE/DE_top_200.gmt 54\n",
      "ZRANB2.rnk\n"
     ]
    },
    {
     "name": "stderr",
     "output_type": "stream",
     "text": [
      "/var/folders/0t/zkf9kjwx2dl0_jdt25xk6l100000gn/T/ipykernel_31436/417767036.py:21: FutureWarning: X.dtype being converted to np.float32 from float64. In the next version of anndata (0.9) conversion will not be automatic. Pass dtype explicitly to avoid this warning. Pass `AnnData(X, dtype=X.dtype, ...)` to get the future behavour.\n",
      "  adata = ad.AnnData(data)\n",
      "/Users/luopin/opt/miniconda3/envs/scpa/lib/python3.10/site-packages/anndata/_core/anndata.py:121: ImplicitModificationWarning: Transforming to str index.\n",
      "  warnings.warn(\"Transforming to str index.\", ImplicitModificationWarning)\n"
     ]
    },
    {
     "name": "stdout",
     "output_type": "stream",
     "text": [
      "deg_200/K562_fc/K562_bottom_200_fc.gmt 50\n",
      "deg_200/K562_s2n/K562_bottom_200_signal2_noise.gmt 73\n",
      "deg_200/K562_edgeR_DE/DE_bottom_200.gmt 4\n",
      "deg_200/K562_DE/DE_top_200.gmt 2\n"
     ]
    }
   ],
   "source": [
    "expr_dir = '/Volumes/Luopin_8T_2/GSEA_test/ENCODE_RNA-seq/deg_200/HepG2_DE_prerank/'\n",
    "all_expr_file = os.listdir(expr_dir)\n",
    "all_expr_file.sort()\n",
    "result_dict = dict()\n",
    "for f in all_expr_file:\n",
    "    if f.endswith('rnk'):\n",
    "        print(f)\n",
    "        target = f.split('.')[0]\n",
    "        result_dict[target] = dict()\n",
    "        data = pd.read_csv(expr_dir+f, delimiter='\\t', index_col=0, header=None)\n",
    "        # data = data.drop(columns=['DESCRIPTION'])\n",
    "        \"\"\"\n",
    "        new_names = []\n",
    "        for n in data.index:\n",
    "            new_names.append(name_conversion_file.loc[n][1])\n",
    "\n",
    "        \n",
    "        data.index = new_names\n",
    "        data = data.loc[data.index != 'None']\n",
    "        \"\"\"\n",
    "        adata = ad.AnnData(data)\n",
    "        adata = adata.transpose()\n",
    "        adata\n",
    "        # break3\n",
    "        for df in pathway_dfs.keys():\n",
    "            results = dc.run_consensus(mat=adata, net=pathway_dfs[df], source='geneset',\n",
    "                                  target='genesymbol', weight=None, verbose=False, use_raw=False)\n",
    "            result_dict[target][df] = adata.obsm['consensus_estimate'].transpose()\n",
    "            print(df, np.where(adata.obsm['consensus_estimate'].transpose().sort_values(by='1', ascending=False).index==target)[0][0]+1)\n",
    "        \n",
    "        # break"
   ]
  },
  {
   "cell_type": "code",
   "execution_count": null,
   "id": "e7eed1c6",
   "metadata": {},
   "outputs": [],
   "source": [
    "adata.obsm['consensus_estimate'].transpose().sort_values(by='1', ascending=False)"
   ]
  },
  {
   "cell_type": "code",
   "execution_count": 66,
   "id": "6fbff0db",
   "metadata": {},
   "outputs": [],
   "source": [
    "def apk(predicted, k=10):\n",
    "    \"\"\"\n",
    "    Computes the average precision at k.\n",
    "    This function computes the average precision at k between two lists of items.\n",
    "    \"\"\"\n",
    "    total_num = len(predicted)\n",
    "    precision_list = []\n",
    "    for idx in range(k):\n",
    "        precision_list.append(np.where(predicted<=idx+1)[0].shape[0]/total_num)\n",
    "        print(np.where(predicted<=idx+1)[0].shape[0])\n",
    "    return np.mean(precision_list)"
   ]
  },
  {
   "cell_type": "code",
   "execution_count": 33,
   "id": "d6a6364e",
   "metadata": {},
   "outputs": [
    {
     "data": {
      "text/plain": [
       "'ZRANB2'"
      ]
     },
     "execution_count": 33,
     "metadata": {},
     "output_type": "execute_result"
    }
   ],
   "source": [
    "target"
   ]
  },
  {
   "cell_type": "code",
   "execution_count": 10,
   "id": "5e511797",
   "metadata": {},
   "outputs": [],
   "source": [
    "from scipy.stats import rankdata as rnk"
   ]
  },
  {
   "cell_type": "code",
   "execution_count": 11,
   "id": "df68522a",
   "metadata": {},
   "outputs": [
    {
     "ename": "NameError",
     "evalue": "name 'rank_dict' is not defined",
     "output_type": "error",
     "traceback": [
      "\u001b[0;31m---------------------------------------------------------------------------\u001b[0m",
      "\u001b[0;31mNameError\u001b[0m                                 Traceback (most recent call last)",
      "Cell \u001b[0;32mIn [11], line 2\u001b[0m\n\u001b[1;32m      1\u001b[0m deseq_rank \u001b[38;5;241m=\u001b[39m []\n\u001b[0;32m----> 2\u001b[0m \u001b[38;5;28;01mfor\u001b[39;00m t \u001b[38;5;129;01min\u001b[39;00m rank_dict\u001b[38;5;241m.\u001b[39mkeys():\n\u001b[1;32m      3\u001b[0m     deseq_rank\u001b[38;5;241m.\u001b[39mappend(rank_dict[t][\u001b[38;5;124m'\u001b[39m\u001b[38;5;124mdeg_200/K562_DE/DE_top_200.gmt\u001b[39m\u001b[38;5;124m'\u001b[39m])\n",
      "\u001b[0;31mNameError\u001b[0m: name 'rank_dict' is not defined"
     ]
    }
   ],
   "source": [
    "deseq_rank = []\n",
    "for t in rank_dict.keys():\n",
    "    deseq_rank.append(rank_dict[t]['deg_200/K562_DE/DE_top_200.gmt'])"
   ]
  },
  {
   "cell_type": "code",
   "execution_count": 76,
   "id": "1d08af3f",
   "metadata": {},
   "outputs": [
    {
     "data": {
      "text/plain": [
       "0.7614213197969543"
      ]
     },
     "execution_count": 76,
     "metadata": {},
     "output_type": "execute_result"
    }
   ],
   "source": [
    "150/len(rank_dict.keys())"
   ]
  },
  {
   "cell_type": "code",
   "execution_count": 74,
   "id": "d56125a2",
   "metadata": {},
   "outputs": [
    {
     "name": "stdout",
     "output_type": "stream",
     "text": [
      "106\n",
      "120\n",
      "127\n",
      "133\n",
      "138\n",
      "142\n",
      "144\n",
      "146\n",
      "148\n",
      "150\n"
     ]
    },
    {
     "data": {
      "text/plain": [
       "0.6873096446700508"
      ]
     },
     "execution_count": 74,
     "metadata": {},
     "output_type": "execute_result"
    }
   ],
   "source": [
    "apk(np.array(deseq_rank))"
   ]
  },
  {
   "cell_type": "code",
   "execution_count": 68,
   "id": "e5b73c1b",
   "metadata": {},
   "outputs": [],
   "source": [
    "deseq_rank = []\n",
    "for t in rank_dict.keys():\n",
    "    deseq_rank.append(rank_dict[t]['deg_200/K562_edgeR_DE/DE_bottom_200.gmt'])"
   ]
  },
  {
   "cell_type": "code",
   "execution_count": 69,
   "id": "23d162af",
   "metadata": {},
   "outputs": [
    {
     "name": "stdout",
     "output_type": "stream",
     "text": [
      "84\n",
      "103\n",
      "110\n",
      "115\n",
      "120\n",
      "122\n",
      "128\n",
      "130\n",
      "132\n",
      "135\n"
     ]
    },
    {
     "data": {
      "text/plain": [
       "0.5984771573604061"
      ]
     },
     "execution_count": 69,
     "metadata": {},
     "output_type": "execute_result"
    }
   ],
   "source": [
    "apk(np.array(deseq_rank))"
   ]
  },
  {
   "cell_type": "code",
   "execution_count": 12,
   "id": "091778e1",
   "metadata": {},
   "outputs": [
    {
     "name": "stdout",
     "output_type": "stream",
     "text": [
      "AARS 2.0 deg_200/K562_fc/K562_bottom_200_fc.gmt\n",
      "AARS 23.0 deg_200/K562_s2n/K562_bottom_200_signal2_noise.gmt\n",
      "AARS 3.0 deg_200/K562_edgeR_DE/DE_bottom_200.gmt\n",
      "AARS 1.0 deg_200/K562_DE/DE_top_200.gmt\n",
      "AATF 10.0 deg_200/K562_fc/K562_bottom_200_fc.gmt\n",
      "AATF 22.0 deg_200/K562_s2n/K562_bottom_200_signal2_noise.gmt\n",
      "AATF 5.0 deg_200/K562_edgeR_DE/DE_bottom_200.gmt\n",
      "AATF 2.0 deg_200/K562_DE/DE_top_200.gmt\n",
      "ABCF1 41.0 deg_200/K562_fc/K562_bottom_200_fc.gmt\n",
      "ABCF1 13.0 deg_200/K562_s2n/K562_bottom_200_signal2_noise.gmt\n",
      "ABCF1 14.0 deg_200/K562_edgeR_DE/DE_bottom_200.gmt\n",
      "ABCF1 13.0 deg_200/K562_DE/DE_top_200.gmt\n",
      "ADAR 2.0 deg_200/K562_fc/K562_bottom_200_fc.gmt\n",
      "ADAR 6.0 deg_200/K562_s2n/K562_bottom_200_signal2_noise.gmt\n",
      "ADAR 1.0 deg_200/K562_edgeR_DE/DE_bottom_200.gmt\n",
      "ADAR 1.0 deg_200/K562_DE/DE_top_200.gmt\n",
      "AGO1 2.0 deg_200/K562_fc/K562_bottom_200_fc.gmt\n",
      "AGO1 2.0 deg_200/K562_s2n/K562_bottom_200_signal2_noise.gmt\n",
      "AGO1 2.0 deg_200/K562_edgeR_DE/DE_bottom_200.gmt\n",
      "AGO1 2.0 deg_200/K562_DE/DE_top_200.gmt\n",
      "AKAP1 36.0 deg_200/K562_fc/K562_bottom_200_fc.gmt\n",
      "AKAP1 40.0 deg_200/K562_s2n/K562_bottom_200_signal2_noise.gmt\n",
      "AKAP1 7.0 deg_200/K562_edgeR_DE/DE_bottom_200.gmt\n",
      "AKAP1 2.0 deg_200/K562_DE/DE_top_200.gmt\n",
      "AKAP8 90.0 deg_200/K562_fc/K562_bottom_200_fc.gmt\n",
      "AKAP8 49.0 deg_200/K562_s2n/K562_bottom_200_signal2_noise.gmt\n",
      "AKAP8 103.0 deg_200/K562_edgeR_DE/DE_bottom_200.gmt\n",
      "AKAP8 5.0 deg_200/K562_DE/DE_top_200.gmt\n",
      "AKAP8L 20.0 deg_200/K562_fc/K562_bottom_200_fc.gmt\n",
      "AKAP8L 93.0 deg_200/K562_s2n/K562_bottom_200_signal2_noise.gmt\n",
      "AKAP8L 13.0 deg_200/K562_edgeR_DE/DE_bottom_200.gmt\n",
      "AKAP8L 1.0 deg_200/K562_DE/DE_top_200.gmt\n",
      "APOBEC3C 42.0 deg_200/K562_fc/K562_bottom_200_fc.gmt\n",
      "APOBEC3C 116.0 deg_200/K562_s2n/K562_bottom_200_signal2_noise.gmt\n",
      "APOBEC3C 42.0 deg_200/K562_edgeR_DE/DE_bottom_200.gmt\n",
      "APOBEC3C 24.0 deg_200/K562_DE/DE_top_200.gmt\n",
      "ASCC1 11.0 deg_200/K562_fc/K562_bottom_200_fc.gmt\n",
      "ASCC1 43.0 deg_200/K562_s2n/K562_bottom_200_signal2_noise.gmt\n",
      "ASCC1 1.0 deg_200/K562_edgeR_DE/DE_bottom_200.gmt\n",
      "ASCC1 1.0 deg_200/K562_DE/DE_top_200.gmt\n",
      "ATP5C1 52.0 deg_200/K562_fc/K562_bottom_200_fc.gmt\n",
      "ATP5C1 19.0 deg_200/K562_s2n/K562_bottom_200_signal2_noise.gmt\n",
      "ATP5C1 91.0 deg_200/K562_edgeR_DE/DE_bottom_200.gmt\n",
      "ATP5C1 1.0 deg_200/K562_DE/DE_top_200.gmt\n",
      "AUH 1.0 deg_200/K562_fc/K562_bottom_200_fc.gmt\n",
      "AUH 116.0 deg_200/K562_s2n/K562_bottom_200_signal2_noise.gmt\n",
      "AUH 1.0 deg_200/K562_edgeR_DE/DE_bottom_200.gmt\n",
      "AUH 1.0 deg_200/K562_DE/DE_top_200.gmt\n",
      "BCCIP 1.0 deg_200/K562_fc/K562_bottom_200_fc.gmt\n",
      "BCCIP 6.0 deg_200/K562_s2n/K562_bottom_200_signal2_noise.gmt\n",
      "BCCIP 1.0 deg_200/K562_edgeR_DE/DE_bottom_200.gmt\n",
      "BCCIP 1.0 deg_200/K562_DE/DE_top_200.gmt\n",
      "BCLAF1 21.0 deg_200/K562_fc/K562_bottom_200_fc.gmt\n",
      "BCLAF1 6.0 deg_200/K562_s2n/K562_bottom_200_signal2_noise.gmt\n",
      "BCLAF1 9.0 deg_200/K562_edgeR_DE/DE_bottom_200.gmt\n",
      "BCLAF1 1.0 deg_200/K562_DE/DE_top_200.gmt\n",
      "BOP1 1.0 deg_200/K562_fc/K562_bottom_200_fc.gmt\n",
      "BOP1 1.0 deg_200/K562_s2n/K562_bottom_200_signal2_noise.gmt\n",
      "BOP1 1.0 deg_200/K562_edgeR_DE/DE_bottom_200.gmt\n",
      "BOP1 1.0 deg_200/K562_DE/DE_top_200.gmt\n",
      "BUD13 8.0 deg_200/K562_fc/K562_bottom_200_fc.gmt\n",
      "BUD13 4.0 deg_200/K562_s2n/K562_bottom_200_signal2_noise.gmt\n",
      "BUD13 7.0 deg_200/K562_edgeR_DE/DE_bottom_200.gmt\n",
      "BUD13 3.0 deg_200/K562_DE/DE_top_200.gmt\n",
      "CCAR1 8.0 deg_200/K562_fc/K562_bottom_200_fc.gmt\n",
      "CCAR1 14.0 deg_200/K562_s2n/K562_bottom_200_signal2_noise.gmt\n",
      "CCAR1 3.0 deg_200/K562_edgeR_DE/DE_bottom_200.gmt\n",
      "CCAR1 1.0 deg_200/K562_DE/DE_top_200.gmt\n",
      "CCAR2 5.0 deg_200/K562_fc/K562_bottom_200_fc.gmt\n",
      "CCAR2 14.0 deg_200/K562_s2n/K562_bottom_200_signal2_noise.gmt\n",
      "CCAR2 1.0 deg_200/K562_edgeR_DE/DE_bottom_200.gmt\n",
      "CCAR2 1.0 deg_200/K562_DE/DE_top_200.gmt\n",
      "CELF1 2.0 deg_200/K562_fc/K562_bottom_200_fc.gmt\n",
      "CELF1 54.0 deg_200/K562_s2n/K562_bottom_200_signal2_noise.gmt\n",
      "CELF1 1.0 deg_200/K562_edgeR_DE/DE_bottom_200.gmt\n",
      "CELF1 1.0 deg_200/K562_DE/DE_top_200.gmt\n",
      "CIRBP 1.0 deg_200/K562_fc/K562_bottom_200_fc.gmt\n",
      "CIRBP 1.0 deg_200/K562_s2n/K562_bottom_200_signal2_noise.gmt\n",
      "CIRBP 1.0 deg_200/K562_edgeR_DE/DE_bottom_200.gmt\n",
      "CIRBP 1.0 deg_200/K562_DE/DE_top_200.gmt\n",
      "CKAP4 5.0 deg_200/K562_fc/K562_bottom_200_fc.gmt\n",
      "CKAP4 30.0 deg_200/K562_s2n/K562_bottom_200_signal2_noise.gmt\n",
      "CKAP4 3.0 deg_200/K562_edgeR_DE/DE_bottom_200.gmt\n",
      "CKAP4 11.0 deg_200/K562_DE/DE_top_200.gmt\n",
      "CNOT7 2.0 deg_200/K562_fc/K562_bottom_200_fc.gmt\n",
      "CNOT7 3.0 deg_200/K562_s2n/K562_bottom_200_signal2_noise.gmt\n",
      "CNOT7 2.0 deg_200/K562_edgeR_DE/DE_bottom_200.gmt\n",
      "CNOT7 1.0 deg_200/K562_DE/DE_top_200.gmt\n",
      "CPSF6 1.0 deg_200/K562_fc/K562_bottom_200_fc.gmt\n",
      "CPSF6 1.0 deg_200/K562_s2n/K562_bottom_200_signal2_noise.gmt\n",
      "CPSF6 1.0 deg_200/K562_edgeR_DE/DE_bottom_200.gmt\n",
      "CPSF6 1.0 deg_200/K562_DE/DE_top_200.gmt\n",
      "CPSF7 98.0 deg_200/K562_fc/K562_bottom_200_fc.gmt\n",
      "CPSF7 128.0 deg_200/K562_s2n/K562_bottom_200_signal2_noise.gmt\n",
      "CPSF7 97.0 deg_200/K562_edgeR_DE/DE_bottom_200.gmt\n",
      "CPSF7 161.0 deg_200/K562_DE/DE_top_200.gmt\n",
      "CSTF2 84.0 deg_200/K562_fc/K562_bottom_200_fc.gmt\n",
      "CSTF2 56.0 deg_200/K562_s2n/K562_bottom_200_signal2_noise.gmt\n",
      "CSTF2 29.0 deg_200/K562_edgeR_DE/DE_bottom_200.gmt\n",
      "CSTF2 69.0 deg_200/K562_DE/DE_top_200.gmt\n",
      "CSTF2T 2.0 deg_200/K562_fc/K562_bottom_200_fc.gmt\n",
      "CSTF2T 19.0 deg_200/K562_s2n/K562_bottom_200_signal2_noise.gmt\n",
      "CSTF2T 1.0 deg_200/K562_edgeR_DE/DE_bottom_200.gmt\n",
      "CSTF2T 2.0 deg_200/K562_DE/DE_top_200.gmt\n",
      "DAZAP1 1.0 deg_200/K562_fc/K562_bottom_200_fc.gmt\n",
      "DAZAP1 16.0 deg_200/K562_s2n/K562_bottom_200_signal2_noise.gmt\n",
      "DAZAP1 7.0 deg_200/K562_edgeR_DE/DE_bottom_200.gmt\n",
      "DAZAP1 6.0 deg_200/K562_DE/DE_top_200.gmt\n",
      "DDX1 1.0 deg_200/K562_fc/K562_bottom_200_fc.gmt\n",
      "DDX1 3.0 deg_200/K562_s2n/K562_bottom_200_signal2_noise.gmt\n",
      "DDX1 1.0 deg_200/K562_edgeR_DE/DE_bottom_200.gmt\n",
      "DDX1 1.0 deg_200/K562_DE/DE_top_200.gmt\n",
      "DDX19B 1.0 deg_200/K562_fc/K562_bottom_200_fc.gmt\n",
      "DDX19B 39.0 deg_200/K562_s2n/K562_bottom_200_signal2_noise.gmt\n",
      "DDX19B 1.0 deg_200/K562_edgeR_DE/DE_bottom_200.gmt\n",
      "DDX19B 1.0 deg_200/K562_DE/DE_top_200.gmt\n",
      "DDX24 16.0 deg_200/K562_fc/K562_bottom_200_fc.gmt\n",
      "DDX24 78.0 deg_200/K562_s2n/K562_bottom_200_signal2_noise.gmt\n",
      "DDX24 1.0 deg_200/K562_edgeR_DE/DE_bottom_200.gmt\n",
      "DDX24 1.0 deg_200/K562_DE/DE_top_200.gmt\n",
      "DDX27 1.0 deg_200/K562_fc/K562_bottom_200_fc.gmt\n",
      "DDX27 1.0 deg_200/K562_s2n/K562_bottom_200_signal2_noise.gmt\n",
      "DDX27 1.0 deg_200/K562_edgeR_DE/DE_bottom_200.gmt\n",
      "DDX27 1.0 deg_200/K562_DE/DE_top_200.gmt\n",
      "DDX28 12.0 deg_200/K562_fc/K562_bottom_200_fc.gmt\n",
      "DDX28 45.0 deg_200/K562_s2n/K562_bottom_200_signal2_noise.gmt\n",
      "DDX28 1.0 deg_200/K562_edgeR_DE/DE_bottom_200.gmt\n",
      "DDX28 1.0 deg_200/K562_DE/DE_top_200.gmt\n",
      "DDX3X 1.0 deg_200/K562_fc/K562_bottom_200_fc.gmt\n",
      "DDX3X 1.0 deg_200/K562_s2n/K562_bottom_200_signal2_noise.gmt\n",
      "DDX3X 1.0 deg_200/K562_edgeR_DE/DE_bottom_200.gmt\n",
      "DDX3X 1.0 deg_200/K562_DE/DE_top_200.gmt\n",
      "DDX47 154.0 deg_200/K562_fc/K562_bottom_200_fc.gmt\n",
      "DDX47 180.0 deg_200/K562_s2n/K562_bottom_200_signal2_noise.gmt\n",
      "DDX47 21.0 deg_200/K562_edgeR_DE/DE_bottom_200.gmt\n",
      "DDX47 59.0 deg_200/K562_DE/DE_top_200.gmt\n",
      "DDX52 1.0 deg_200/K562_fc/K562_bottom_200_fc.gmt\n",
      "DDX52 19.0 deg_200/K562_s2n/K562_bottom_200_signal2_noise.gmt\n",
      "DDX52 1.0 deg_200/K562_edgeR_DE/DE_bottom_200.gmt\n",
      "DDX52 1.0 deg_200/K562_DE/DE_top_200.gmt\n",
      "DDX55 3.0 deg_200/K562_fc/K562_bottom_200_fc.gmt\n",
      "DDX55 8.0 deg_200/K562_s2n/K562_bottom_200_signal2_noise.gmt\n",
      "DDX55 2.0 deg_200/K562_edgeR_DE/DE_bottom_200.gmt\n",
      "DDX55 98.0 deg_200/K562_DE/DE_top_200.gmt\n",
      "DDX6 4.0 deg_200/K562_fc/K562_bottom_200_fc.gmt\n",
      "DDX6 23.0 deg_200/K562_s2n/K562_bottom_200_signal2_noise.gmt\n",
      "DDX6 1.0 deg_200/K562_edgeR_DE/DE_bottom_200.gmt\n",
      "DDX6 1.0 deg_200/K562_DE/DE_top_200.gmt\n",
      "DHX30 165.0 deg_200/K562_fc/K562_bottom_200_fc.gmt\n",
      "DHX30 127.0 deg_200/K562_s2n/K562_bottom_200_signal2_noise.gmt\n",
      "DHX30 67.0 deg_200/K562_edgeR_DE/DE_bottom_200.gmt\n",
      "DHX30 42.0 deg_200/K562_DE/DE_top_200.gmt\n",
      "DKC1 141.0 deg_200/K562_fc/K562_bottom_200_fc.gmt\n",
      "DKC1 106.0 deg_200/K562_s2n/K562_bottom_200_signal2_noise.gmt\n",
      "DKC1 176.0 deg_200/K562_edgeR_DE/DE_bottom_200.gmt\n",
      "DKC1 29.0 deg_200/K562_DE/DE_top_200.gmt\n",
      "DNAJC2 1.0 deg_200/K562_fc/K562_bottom_200_fc.gmt\n",
      "DNAJC2 7.0 deg_200/K562_s2n/K562_bottom_200_signal2_noise.gmt\n",
      "DNAJC2 1.0 deg_200/K562_edgeR_DE/DE_bottom_200.gmt\n",
      "DNAJC2 4.0 deg_200/K562_DE/DE_top_200.gmt\n",
      "DNAJC21 48.0 deg_200/K562_fc/K562_bottom_200_fc.gmt\n",
      "DNAJC21 89.0 deg_200/K562_s2n/K562_bottom_200_signal2_noise.gmt\n",
      "DNAJC21 20.0 deg_200/K562_edgeR_DE/DE_bottom_200.gmt\n",
      "DNAJC21 1.0 deg_200/K562_DE/DE_top_200.gmt\n",
      "EEF2 12.0 deg_200/K562_fc/K562_bottom_200_fc.gmt\n",
      "EEF2 21.0 deg_200/K562_s2n/K562_bottom_200_signal2_noise.gmt\n",
      "EEF2 2.0 deg_200/K562_edgeR_DE/DE_bottom_200.gmt\n",
      "EEF2 7.0 deg_200/K562_DE/DE_top_200.gmt\n",
      "EFTUD2 3.0 deg_200/K562_fc/K562_bottom_200_fc.gmt\n",
      "EFTUD2 4.0 deg_200/K562_s2n/K562_bottom_200_signal2_noise.gmt\n",
      "EFTUD2 1.0 deg_200/K562_edgeR_DE/DE_bottom_200.gmt\n",
      "EFTUD2 1.0 deg_200/K562_DE/DE_top_200.gmt\n",
      "EIF2S1 1.0 deg_200/K562_fc/K562_bottom_200_fc.gmt\n",
      "EIF2S1 3.0 deg_200/K562_s2n/K562_bottom_200_signal2_noise.gmt\n",
      "EIF2S1 1.0 deg_200/K562_edgeR_DE/DE_bottom_200.gmt\n",
      "EIF2S1 1.0 deg_200/K562_DE/DE_top_200.gmt\n",
      "EIF2S2 8.0 deg_200/K562_fc/K562_bottom_200_fc.gmt\n",
      "EIF2S2 16.0 deg_200/K562_s2n/K562_bottom_200_signal2_noise.gmt\n",
      "EIF2S2 7.0 deg_200/K562_edgeR_DE/DE_bottom_200.gmt\n",
      "EIF2S2 13.0 deg_200/K562_DE/DE_top_200.gmt\n",
      "EIF3D 1.0 deg_200/K562_fc/K562_bottom_200_fc.gmt\n",
      "EIF3D 3.0 deg_200/K562_s2n/K562_bottom_200_signal2_noise.gmt\n",
      "EIF3D 1.0 deg_200/K562_edgeR_DE/DE_bottom_200.gmt\n",
      "EIF3D 1.0 deg_200/K562_DE/DE_top_200.gmt\n",
      "EIF3G 1.0 deg_200/K562_fc/K562_bottom_200_fc.gmt\n",
      "EIF3G 15.0 deg_200/K562_s2n/K562_bottom_200_signal2_noise.gmt\n",
      "EIF3G 1.0 deg_200/K562_edgeR_DE/DE_bottom_200.gmt\n",
      "EIF3G 1.0 deg_200/K562_DE/DE_top_200.gmt\n",
      "EIF4A3 9.0 deg_200/K562_fc/K562_bottom_200_fc.gmt\n",
      "EIF4A3 26.0 deg_200/K562_s2n/K562_bottom_200_signal2_noise.gmt\n",
      "EIF4A3 3.0 deg_200/K562_edgeR_DE/DE_bottom_200.gmt\n",
      "EIF4A3 4.0 deg_200/K562_DE/DE_top_200.gmt\n",
      "EIF4B 1.0 deg_200/K562_fc/K562_bottom_200_fc.gmt\n",
      "EIF4B 2.0 deg_200/K562_s2n/K562_bottom_200_signal2_noise.gmt\n",
      "EIF4B 1.0 deg_200/K562_edgeR_DE/DE_bottom_200.gmt\n",
      "EIF4B 1.0 deg_200/K562_DE/DE_top_200.gmt\n",
      "EIF4G1 3.0 deg_200/K562_fc/K562_bottom_200_fc.gmt\n",
      "EIF4G1 14.0 deg_200/K562_s2n/K562_bottom_200_signal2_noise.gmt\n",
      "EIF4G1 1.0 deg_200/K562_edgeR_DE/DE_bottom_200.gmt\n",
      "EIF4G1 1.0 deg_200/K562_DE/DE_top_200.gmt\n",
      "EIF4G2 14.0 deg_200/K562_fc/K562_bottom_200_fc.gmt\n",
      "EIF4G2 38.0 deg_200/K562_s2n/K562_bottom_200_signal2_noise.gmt\n",
      "EIF4G2 39.0 deg_200/K562_edgeR_DE/DE_bottom_200.gmt\n",
      "EIF4G2 4.0 deg_200/K562_DE/DE_top_200.gmt\n",
      "ESF1 181.0 deg_200/K562_fc/K562_bottom_200_fc.gmt\n",
      "ESF1 22.0 deg_200/K562_s2n/K562_bottom_200_signal2_noise.gmt\n",
      "ESF1 16.0 deg_200/K562_edgeR_DE/DE_bottom_200.gmt\n",
      "ESF1 38.0 deg_200/K562_DE/DE_top_200.gmt\n",
      "EWSR1 86.0 deg_200/K562_fc/K562_bottom_200_fc.gmt\n",
      "EWSR1 165.0 deg_200/K562_s2n/K562_bottom_200_signal2_noise.gmt\n",
      "EWSR1 32.0 deg_200/K562_edgeR_DE/DE_bottom_200.gmt\n",
      "EWSR1 70.0 deg_200/K562_DE/DE_top_200.gmt\n",
      "EXOSC9 69.0 deg_200/K562_fc/K562_bottom_200_fc.gmt\n",
      "EXOSC9 63.0 deg_200/K562_s2n/K562_bottom_200_signal2_noise.gmt\n",
      "EXOSC9 140.0 deg_200/K562_edgeR_DE/DE_bottom_200.gmt\n",
      "EXOSC9 58.0 deg_200/K562_DE/DE_top_200.gmt\n",
      "FAM120A 1.0 deg_200/K562_fc/K562_bottom_200_fc.gmt\n",
      "FAM120A 1.0 deg_200/K562_s2n/K562_bottom_200_signal2_noise.gmt\n",
      "FAM120A 1.0 deg_200/K562_edgeR_DE/DE_bottom_200.gmt\n",
      "FAM120A 5.0 deg_200/K562_DE/DE_top_200.gmt\n",
      "FASTKD2 1.0 deg_200/K562_fc/K562_bottom_200_fc.gmt\n",
      "FASTKD2 4.0 deg_200/K562_s2n/K562_bottom_200_signal2_noise.gmt\n",
      "FASTKD2 1.0 deg_200/K562_edgeR_DE/DE_bottom_200.gmt\n",
      "FASTKD2 1.0 deg_200/K562_DE/DE_top_200.gmt\n",
      "FIP1L1 17.0 deg_200/K562_fc/K562_bottom_200_fc.gmt\n",
      "FIP1L1 7.0 deg_200/K562_s2n/K562_bottom_200_signal2_noise.gmt\n",
      "FIP1L1 19.0 deg_200/K562_edgeR_DE/DE_bottom_200.gmt\n",
      "FIP1L1 1.0 deg_200/K562_DE/DE_top_200.gmt\n",
      "FKBP4 6.0 deg_200/K562_fc/K562_bottom_200_fc.gmt\n",
      "FKBP4 54.0 deg_200/K562_s2n/K562_bottom_200_signal2_noise.gmt\n",
      "FKBP4 8.0 deg_200/K562_edgeR_DE/DE_bottom_200.gmt\n",
      "FKBP4 15.0 deg_200/K562_DE/DE_top_200.gmt\n",
      "FMR1 96.0 deg_200/K562_fc/K562_bottom_200_fc.gmt\n",
      "FMR1 143.0 deg_200/K562_s2n/K562_bottom_200_signal2_noise.gmt\n",
      "FMR1 97.0 deg_200/K562_edgeR_DE/DE_bottom_200.gmt\n",
      "FMR1 149.0 deg_200/K562_DE/DE_top_200.gmt\n",
      "FTO 2.0 deg_200/K562_fc/K562_bottom_200_fc.gmt\n",
      "FTO 2.0 deg_200/K562_s2n/K562_bottom_200_signal2_noise.gmt\n",
      "FTO 1.0 deg_200/K562_edgeR_DE/DE_bottom_200.gmt\n",
      "FTO 1.0 deg_200/K562_DE/DE_top_200.gmt\n",
      "FUBP3 68.0 deg_200/K562_fc/K562_bottom_200_fc.gmt\n",
      "FUBP3 131.0 deg_200/K562_s2n/K562_bottom_200_signal2_noise.gmt\n",
      "FUBP3 19.0 deg_200/K562_edgeR_DE/DE_bottom_200.gmt\n",
      "FUBP3 38.0 deg_200/K562_DE/DE_top_200.gmt\n",
      "FUS 10.0 deg_200/K562_fc/K562_bottom_200_fc.gmt\n",
      "FUS 28.0 deg_200/K562_s2n/K562_bottom_200_signal2_noise.gmt\n",
      "FUS 2.0 deg_200/K562_edgeR_DE/DE_bottom_200.gmt\n",
      "FUS 1.0 deg_200/K562_DE/DE_top_200.gmt\n",
      "FXR1 14.0 deg_200/K562_fc/K562_bottom_200_fc.gmt\n",
      "FXR1 10.0 deg_200/K562_s2n/K562_bottom_200_signal2_noise.gmt\n",
      "FXR1 17.0 deg_200/K562_edgeR_DE/DE_bottom_200.gmt\n",
      "FXR1 5.0 deg_200/K562_DE/DE_top_200.gmt\n",
      "G3BP1 4.0 deg_200/K562_fc/K562_bottom_200_fc.gmt\n",
      "G3BP1 24.0 deg_200/K562_s2n/K562_bottom_200_signal2_noise.gmt\n",
      "G3BP1 1.0 deg_200/K562_edgeR_DE/DE_bottom_200.gmt\n",
      "G3BP1 1.0 deg_200/K562_DE/DE_top_200.gmt\n",
      "G3BP2 27.0 deg_200/K562_fc/K562_bottom_200_fc.gmt\n",
      "G3BP2 23.0 deg_200/K562_s2n/K562_bottom_200_signal2_noise.gmt\n",
      "G3BP2 63.0 deg_200/K562_edgeR_DE/DE_bottom_200.gmt\n",
      "G3BP2 1.0 deg_200/K562_DE/DE_top_200.gmt\n",
      "GEMIN5 11.0 deg_200/K562_fc/K562_bottom_200_fc.gmt\n",
      "GEMIN5 1.0 deg_200/K562_s2n/K562_bottom_200_signal2_noise.gmt\n",
      "GEMIN5 1.0 deg_200/K562_edgeR_DE/DE_bottom_200.gmt\n",
      "GEMIN5 1.0 deg_200/K562_DE/DE_top_200.gmt\n",
      "GPKOW 1.0 deg_200/K562_fc/K562_bottom_200_fc.gmt\n",
      "GPKOW 2.0 deg_200/K562_s2n/K562_bottom_200_signal2_noise.gmt\n",
      "GPKOW 1.0 deg_200/K562_edgeR_DE/DE_bottom_200.gmt\n",
      "GPKOW 1.0 deg_200/K562_DE/DE_top_200.gmt\n",
      "GRSF1 1.0 deg_200/K562_fc/K562_bottom_200_fc.gmt\n",
      "GRSF1 10.0 deg_200/K562_s2n/K562_bottom_200_signal2_noise.gmt\n",
      "GRSF1 2.0 deg_200/K562_edgeR_DE/DE_bottom_200.gmt\n",
      "GRSF1 1.0 deg_200/K562_DE/DE_top_200.gmt\n",
      "GRWD1 59.0 deg_200/K562_fc/K562_bottom_200_fc.gmt\n",
      "GRWD1 70.0 deg_200/K562_s2n/K562_bottom_200_signal2_noise.gmt\n",
      "GRWD1 10.0 deg_200/K562_edgeR_DE/DE_bottom_200.gmt\n",
      "GRWD1 1.0 deg_200/K562_DE/DE_top_200.gmt\n",
      "GTF2F1 1.0 deg_200/K562_fc/K562_bottom_200_fc.gmt\n",
      "GTF2F1 9.0 deg_200/K562_s2n/K562_bottom_200_signal2_noise.gmt\n",
      "GTF2F1 1.0 deg_200/K562_edgeR_DE/DE_bottom_200.gmt\n",
      "GTF2F1 1.0 deg_200/K562_DE/DE_top_200.gmt\n",
      "HLTF 9.0 deg_200/K562_fc/K562_bottom_200_fc.gmt\n",
      "HLTF 72.0 deg_200/K562_s2n/K562_bottom_200_signal2_noise.gmt\n",
      "HLTF 13.0 deg_200/K562_edgeR_DE/DE_bottom_200.gmt\n",
      "HLTF 15.0 deg_200/K562_DE/DE_top_200.gmt\n",
      "HNRNPA0 2.0 deg_200/K562_fc/K562_bottom_200_fc.gmt\n",
      "HNRNPA0 5.0 deg_200/K562_s2n/K562_bottom_200_signal2_noise.gmt\n",
      "HNRNPA0 1.0 deg_200/K562_edgeR_DE/DE_bottom_200.gmt\n",
      "HNRNPA0 1.0 deg_200/K562_DE/DE_top_200.gmt\n",
      "HNRNPA1 1.0 deg_200/K562_fc/K562_bottom_200_fc.gmt\n",
      "HNRNPA1 7.0 deg_200/K562_s2n/K562_bottom_200_signal2_noise.gmt\n",
      "HNRNPA1 1.0 deg_200/K562_edgeR_DE/DE_bottom_200.gmt\n",
      "HNRNPA1 1.0 deg_200/K562_DE/DE_top_200.gmt\n",
      "HNRNPA2B1 28.0 deg_200/K562_fc/K562_bottom_200_fc.gmt\n",
      "HNRNPA2B1 55.0 deg_200/K562_s2n/K562_bottom_200_signal2_noise.gmt\n",
      "HNRNPA2B1 105.0 deg_200/K562_edgeR_DE/DE_bottom_200.gmt\n",
      "HNRNPA2B1 117.0 deg_200/K562_DE/DE_top_200.gmt\n",
      "HNRNPAB 2.0 deg_200/K562_fc/K562_bottom_200_fc.gmt\n",
      "HNRNPAB 3.0 deg_200/K562_s2n/K562_bottom_200_signal2_noise.gmt\n",
      "HNRNPAB 1.0 deg_200/K562_edgeR_DE/DE_bottom_200.gmt\n",
      "HNRNPAB 1.0 deg_200/K562_DE/DE_top_200.gmt\n",
      "HNRNPC 1.0 deg_200/K562_fc/K562_bottom_200_fc.gmt\n",
      "HNRNPC 1.0 deg_200/K562_s2n/K562_bottom_200_signal2_noise.gmt\n",
      "HNRNPC 1.0 deg_200/K562_edgeR_DE/DE_bottom_200.gmt\n",
      "HNRNPC 1.0 deg_200/K562_DE/DE_top_200.gmt\n",
      "HNRNPK 1.0 deg_200/K562_fc/K562_bottom_200_fc.gmt\n",
      "HNRNPK 2.0 deg_200/K562_s2n/K562_bottom_200_signal2_noise.gmt\n",
      "HNRNPK 1.0 deg_200/K562_edgeR_DE/DE_bottom_200.gmt\n",
      "HNRNPK 1.0 deg_200/K562_DE/DE_top_200.gmt\n",
      "HNRNPL 1.0 deg_200/K562_fc/K562_bottom_200_fc.gmt\n",
      "HNRNPL 1.0 deg_200/K562_s2n/K562_bottom_200_signal2_noise.gmt\n",
      "HNRNPL 1.0 deg_200/K562_edgeR_DE/DE_bottom_200.gmt\n",
      "HNRNPL 1.0 deg_200/K562_DE/DE_top_200.gmt\n",
      "HNRNPM 6.0 deg_200/K562_fc/K562_bottom_200_fc.gmt\n",
      "HNRNPM 24.0 deg_200/K562_s2n/K562_bottom_200_signal2_noise.gmt\n",
      "HNRNPM 2.0 deg_200/K562_edgeR_DE/DE_bottom_200.gmt\n",
      "HNRNPM 2.0 deg_200/K562_DE/DE_top_200.gmt\n",
      "HNRNPU 1.0 deg_200/K562_fc/K562_bottom_200_fc.gmt\n",
      "HNRNPU 1.0 deg_200/K562_s2n/K562_bottom_200_signal2_noise.gmt\n",
      "HNRNPU 1.0 deg_200/K562_edgeR_DE/DE_bottom_200.gmt\n",
      "HNRNPU 1.0 deg_200/K562_DE/DE_top_200.gmt\n",
      "HNRNPUL1 1.0 deg_200/K562_fc/K562_bottom_200_fc.gmt\n",
      "HNRNPUL1 3.0 deg_200/K562_s2n/K562_bottom_200_signal2_noise.gmt\n",
      "HNRNPUL1 1.0 deg_200/K562_edgeR_DE/DE_bottom_200.gmt\n",
      "HNRNPUL1 1.0 deg_200/K562_DE/DE_top_200.gmt\n",
      "HSPD1 1.0 deg_200/K562_fc/K562_bottom_200_fc.gmt\n",
      "HSPD1 7.0 deg_200/K562_s2n/K562_bottom_200_signal2_noise.gmt\n",
      "HSPD1 1.0 deg_200/K562_edgeR_DE/DE_bottom_200.gmt\n",
      "HSPD1 1.0 deg_200/K562_DE/DE_top_200.gmt\n",
      "IGF2BP2 1.0 deg_200/K562_fc/K562_bottom_200_fc.gmt\n",
      "IGF2BP2 2.0 deg_200/K562_s2n/K562_bottom_200_signal2_noise.gmt\n",
      "IGF2BP2 1.0 deg_200/K562_edgeR_DE/DE_bottom_200.gmt\n",
      "IGF2BP2 1.0 deg_200/K562_DE/DE_top_200.gmt\n",
      "IGF2BP3 26.0 deg_200/K562_fc/K562_bottom_200_fc.gmt\n",
      "IGF2BP3 62.0 deg_200/K562_s2n/K562_bottom_200_signal2_noise.gmt\n",
      "IGF2BP3 1.0 deg_200/K562_edgeR_DE/DE_bottom_200.gmt\n",
      "IGF2BP3 1.0 deg_200/K562_DE/DE_top_200.gmt\n",
      "ILF2 1.0 deg_200/K562_fc/K562_bottom_200_fc.gmt\n",
      "ILF2 1.0 deg_200/K562_s2n/K562_bottom_200_signal2_noise.gmt\n",
      "ILF2 1.0 deg_200/K562_edgeR_DE/DE_bottom_200.gmt\n",
      "ILF2 1.0 deg_200/K562_DE/DE_top_200.gmt\n",
      "ILF3 1.0 deg_200/K562_fc/K562_bottom_200_fc.gmt\n",
      "ILF3 2.0 deg_200/K562_s2n/K562_bottom_200_signal2_noise.gmt\n",
      "ILF3 1.0 deg_200/K562_edgeR_DE/DE_bottom_200.gmt\n",
      "ILF3 1.0 deg_200/K562_DE/DE_top_200.gmt\n",
      "KHDRBS1 2.0 deg_200/K562_fc/K562_bottom_200_fc.gmt\n",
      "KHDRBS1 2.0 deg_200/K562_s2n/K562_bottom_200_signal2_noise.gmt\n",
      "KHDRBS1 1.0 deg_200/K562_edgeR_DE/DE_bottom_200.gmt\n",
      "KHDRBS1 1.0 deg_200/K562_DE/DE_top_200.gmt\n",
      "KHSRP 1.0 deg_200/K562_fc/K562_bottom_200_fc.gmt\n",
      "KHSRP 1.0 deg_200/K562_s2n/K562_bottom_200_signal2_noise.gmt\n",
      "KHSRP 1.0 deg_200/K562_edgeR_DE/DE_bottom_200.gmt\n",
      "KHSRP 1.0 deg_200/K562_DE/DE_top_200.gmt\n",
      "KIF1C 4.0 deg_200/K562_fc/K562_bottom_200_fc.gmt\n",
      "KIF1C 1.0 deg_200/K562_s2n/K562_bottom_200_signal2_noise.gmt\n",
      "KIF1C 26.0 deg_200/K562_edgeR_DE/DE_bottom_200.gmt\n",
      "KIF1C 1.0 deg_200/K562_DE/DE_top_200.gmt\n",
      "KRR1 17.0 deg_200/K562_fc/K562_bottom_200_fc.gmt\n",
      "KRR1 14.0 deg_200/K562_s2n/K562_bottom_200_signal2_noise.gmt\n",
      "KRR1 16.0 deg_200/K562_edgeR_DE/DE_bottom_200.gmt\n",
      "KRR1 40.0 deg_200/K562_DE/DE_top_200.gmt\n",
      "LARP4 2.0 deg_200/K562_fc/K562_bottom_200_fc.gmt\n",
      "LARP4 2.0 deg_200/K562_s2n/K562_bottom_200_signal2_noise.gmt\n",
      "LARP4 1.0 deg_200/K562_edgeR_DE/DE_bottom_200.gmt\n",
      "LARP4 1.0 deg_200/K562_DE/DE_top_200.gmt\n",
      "LARP7 22.0 deg_200/K562_fc/K562_bottom_200_fc.gmt\n",
      "LARP7 25.0 deg_200/K562_s2n/K562_bottom_200_signal2_noise.gmt\n",
      "LARP7 36.0 deg_200/K562_edgeR_DE/DE_bottom_200.gmt\n",
      "LARP7 13.0 deg_200/K562_DE/DE_top_200.gmt\n",
      "LIN28B 8.0 deg_200/K562_fc/K562_bottom_200_fc.gmt\n",
      "LIN28B 2.0 deg_200/K562_s2n/K562_bottom_200_signal2_noise.gmt\n",
      "LIN28B 2.0 deg_200/K562_edgeR_DE/DE_bottom_200.gmt\n",
      "LIN28B 1.0 deg_200/K562_DE/DE_top_200.gmt\n",
      "LSM11 47.0 deg_200/K562_fc/K562_bottom_200_fc.gmt\n",
      "LSM11 30.0 deg_200/K562_s2n/K562_bottom_200_signal2_noise.gmt\n",
      "LSM11 44.0 deg_200/K562_edgeR_DE/DE_bottom_200.gmt\n",
      "LSM11 13.0 deg_200/K562_DE/DE_top_200.gmt\n",
      "MAGOH 6.0 deg_200/K562_fc/K562_bottom_200_fc.gmt\n",
      "MAGOH 60.0 deg_200/K562_s2n/K562_bottom_200_signal2_noise.gmt\n",
      "MAGOH 1.0 deg_200/K562_edgeR_DE/DE_bottom_200.gmt\n",
      "MAGOH 2.0 deg_200/K562_DE/DE_top_200.gmt\n",
      "MATR3 1.0 deg_200/K562_fc/K562_bottom_200_fc.gmt\n",
      "MATR3 1.0 deg_200/K562_s2n/K562_bottom_200_signal2_noise.gmt\n",
      "MATR3 1.0 deg_200/K562_edgeR_DE/DE_bottom_200.gmt\n",
      "MATR3 1.0 deg_200/K562_DE/DE_top_200.gmt\n",
      "METAP2 24.0 deg_200/K562_fc/K562_bottom_200_fc.gmt\n",
      "METAP2 43.0 deg_200/K562_s2n/K562_bottom_200_signal2_noise.gmt\n",
      "METAP2 53.0 deg_200/K562_edgeR_DE/DE_bottom_200.gmt\n",
      "METAP2 95.0 deg_200/K562_DE/DE_top_200.gmt\n",
      "MSI2 13.0 deg_200/K562_fc/K562_bottom_200_fc.gmt\n",
      "MSI2 120.0 deg_200/K562_s2n/K562_bottom_200_signal2_noise.gmt\n",
      "MSI2 31.0 deg_200/K562_edgeR_DE/DE_bottom_200.gmt\n",
      "MSI2 26.0 deg_200/K562_DE/DE_top_200.gmt\n",
      "MTPAP 149.0 deg_200/K562_fc/K562_bottom_200_fc.gmt\n",
      "MTPAP 195.0 deg_200/K562_s2n/K562_bottom_200_signal2_noise.gmt\n",
      "MTPAP 34.0 deg_200/K562_edgeR_DE/DE_bottom_200.gmt\n",
      "MTPAP 9.0 deg_200/K562_DE/DE_top_200.gmt\n",
      "NAA15 15.0 deg_200/K562_fc/K562_bottom_200_fc.gmt\n",
      "NAA15 2.0 deg_200/K562_s2n/K562_bottom_200_signal2_noise.gmt\n",
      "NAA15 114.0 deg_200/K562_edgeR_DE/DE_bottom_200.gmt\n",
      "NAA15 3.0 deg_200/K562_DE/DE_top_200.gmt\n",
      "NCBP2 126.0 deg_200/K562_fc/K562_bottom_200_fc.gmt\n",
      "NCBP2 55.0 deg_200/K562_s2n/K562_bottom_200_signal2_noise.gmt\n",
      "NCBP2 5.0 deg_200/K562_edgeR_DE/DE_bottom_200.gmt\n",
      "NCBP2 1.0 deg_200/K562_DE/DE_top_200.gmt\n",
      "NELFE 1.0 deg_200/K562_fc/K562_bottom_200_fc.gmt\n",
      "NELFE 5.0 deg_200/K562_s2n/K562_bottom_200_signal2_noise.gmt\n",
      "NELFE 1.0 deg_200/K562_edgeR_DE/DE_bottom_200.gmt\n",
      "NELFE 1.0 deg_200/K562_DE/DE_top_200.gmt\n",
      "NOL12 1.0 deg_200/K562_fc/K562_bottom_200_fc.gmt\n",
      "NOL12 4.0 deg_200/K562_s2n/K562_bottom_200_signal2_noise.gmt\n",
      "NOL12 1.0 deg_200/K562_edgeR_DE/DE_bottom_200.gmt\n",
      "NOL12 1.0 deg_200/K562_DE/DE_top_200.gmt\n",
      "NONO 1.0 deg_200/K562_fc/K562_bottom_200_fc.gmt\n",
      "NONO 1.0 deg_200/K562_s2n/K562_bottom_200_signal2_noise.gmt\n",
      "NONO 1.0 deg_200/K562_edgeR_DE/DE_bottom_200.gmt\n",
      "NONO 1.0 deg_200/K562_DE/DE_top_200.gmt\n",
      "NPM1 8.0 deg_200/K562_fc/K562_bottom_200_fc.gmt\n",
      "NPM1 7.0 deg_200/K562_s2n/K562_bottom_200_signal2_noise.gmt\n",
      "NPM1 46.0 deg_200/K562_edgeR_DE/DE_bottom_200.gmt\n",
      "NPM1 6.0 deg_200/K562_DE/DE_top_200.gmt\n",
      "NSUN2 1.0 deg_200/K562_fc/K562_bottom_200_fc.gmt\n",
      "NSUN2 33.0 deg_200/K562_s2n/K562_bottom_200_signal2_noise.gmt\n",
      "NSUN2 1.0 deg_200/K562_edgeR_DE/DE_bottom_200.gmt\n",
      "NSUN2 1.0 deg_200/K562_DE/DE_top_200.gmt\n",
      "NUFIP2 197.0 deg_200/K562_fc/K562_bottom_200_fc.gmt\n",
      "NUFIP2 138.0 deg_200/K562_s2n/K562_bottom_200_signal2_noise.gmt\n",
      "NUFIP2 161.0 deg_200/K562_edgeR_DE/DE_bottom_200.gmt\n",
      "NUFIP2 115.0 deg_200/K562_DE/DE_top_200.gmt\n",
      "NUSAP1 1.0 deg_200/K562_fc/K562_bottom_200_fc.gmt\n",
      "NUSAP1 1.0 deg_200/K562_s2n/K562_bottom_200_signal2_noise.gmt\n",
      "NUSAP1 2.0 deg_200/K562_edgeR_DE/DE_bottom_200.gmt\n",
      "NUSAP1 1.0 deg_200/K562_DE/DE_top_200.gmt\n",
      "PA2G4 30.0 deg_200/K562_fc/K562_bottom_200_fc.gmt\n",
      "PA2G4 5.0 deg_200/K562_s2n/K562_bottom_200_signal2_noise.gmt\n",
      "PA2G4 45.0 deg_200/K562_edgeR_DE/DE_bottom_200.gmt\n",
      "PA2G4 8.0 deg_200/K562_DE/DE_top_200.gmt\n",
      "PABPC1 1.0 deg_200/K562_fc/K562_bottom_200_fc.gmt\n",
      "PABPC1 4.0 deg_200/K562_s2n/K562_bottom_200_signal2_noise.gmt\n",
      "PABPC1 1.0 deg_200/K562_edgeR_DE/DE_bottom_200.gmt\n",
      "PABPC1 1.0 deg_200/K562_DE/DE_top_200.gmt\n",
      "PABPC4 2.0 deg_200/K562_fc/K562_bottom_200_fc.gmt\n",
      "PABPC4 16.0 deg_200/K562_s2n/K562_bottom_200_signal2_noise.gmt\n",
      "PABPC4 1.0 deg_200/K562_edgeR_DE/DE_bottom_200.gmt\n",
      "PABPC4 1.0 deg_200/K562_DE/DE_top_200.gmt\n",
      "PARN 7.0 deg_200/K562_fc/K562_bottom_200_fc.gmt\n",
      "PARN 32.0 deg_200/K562_s2n/K562_bottom_200_signal2_noise.gmt\n",
      "PARN 2.0 deg_200/K562_edgeR_DE/DE_bottom_200.gmt\n",
      "PARN 19.0 deg_200/K562_DE/DE_top_200.gmt\n",
      "PCBP1 15.0 deg_200/K562_fc/K562_bottom_200_fc.gmt\n",
      "PCBP1 20.0 deg_200/K562_s2n/K562_bottom_200_signal2_noise.gmt\n",
      "PCBP1 1.0 deg_200/K562_edgeR_DE/DE_bottom_200.gmt\n",
      "PCBP1 1.0 deg_200/K562_DE/DE_top_200.gmt\n",
      "PCBP2 1.0 deg_200/K562_fc/K562_bottom_200_fc.gmt\n",
      "PCBP2 2.0 deg_200/K562_s2n/K562_bottom_200_signal2_noise.gmt\n",
      "PCBP2 1.0 deg_200/K562_edgeR_DE/DE_bottom_200.gmt\n",
      "PCBP2 1.0 deg_200/K562_DE/DE_top_200.gmt\n",
      "PES1 108.0 deg_200/K562_fc/K562_bottom_200_fc.gmt\n",
      "PES1 74.0 deg_200/K562_s2n/K562_bottom_200_signal2_noise.gmt\n",
      "PES1 56.0 deg_200/K562_edgeR_DE/DE_bottom_200.gmt\n",
      "PES1 14.0 deg_200/K562_DE/DE_top_200.gmt\n",
      "PHF6 55.0 deg_200/K562_fc/K562_bottom_200_fc.gmt\n",
      "PHF6 4.0 deg_200/K562_s2n/K562_bottom_200_signal2_noise.gmt\n",
      "PHF6 2.0 deg_200/K562_edgeR_DE/DE_bottom_200.gmt\n",
      "PHF6 6.0 deg_200/K562_DE/DE_top_200.gmt\n",
      "PKM 1.0 deg_200/K562_fc/K562_bottom_200_fc.gmt\n",
      "PKM 53.0 deg_200/K562_s2n/K562_bottom_200_signal2_noise.gmt\n",
      "PKM 3.0 deg_200/K562_edgeR_DE/DE_bottom_200.gmt\n",
      "PKM 4.0 deg_200/K562_DE/DE_top_200.gmt\n",
      "PNPT1 1.0 deg_200/K562_fc/K562_bottom_200_fc.gmt\n",
      "PNPT1 1.0 deg_200/K562_s2n/K562_bottom_200_signal2_noise.gmt\n",
      "PNPT1 1.0 deg_200/K562_edgeR_DE/DE_bottom_200.gmt\n",
      "PNPT1 1.0 deg_200/K562_DE/DE_top_200.gmt\n",
      "PPIG 2.0 deg_200/K562_fc/K562_bottom_200_fc.gmt\n",
      "PPIG 2.0 deg_200/K562_s2n/K562_bottom_200_signal2_noise.gmt\n",
      "PPIG 2.0 deg_200/K562_edgeR_DE/DE_bottom_200.gmt\n",
      "PPIG 1.0 deg_200/K562_DE/DE_top_200.gmt\n",
      "PPIL4 12.0 deg_200/K562_fc/K562_bottom_200_fc.gmt\n",
      "PPIL4 105.0 deg_200/K562_s2n/K562_bottom_200_signal2_noise.gmt\n",
      "PPIL4 48.0 deg_200/K562_edgeR_DE/DE_bottom_200.gmt\n",
      "PPIL4 1.0 deg_200/K562_DE/DE_top_200.gmt\n",
      "PRPF6 1.0 deg_200/K562_fc/K562_bottom_200_fc.gmt\n",
      "PRPF6 6.0 deg_200/K562_s2n/K562_bottom_200_signal2_noise.gmt\n",
      "PRPF6 1.0 deg_200/K562_edgeR_DE/DE_bottom_200.gmt\n",
      "PRPF6 1.0 deg_200/K562_DE/DE_top_200.gmt\n",
      "PRPF8 1.0 deg_200/K562_fc/K562_bottom_200_fc.gmt\n",
      "PRPF8 2.0 deg_200/K562_s2n/K562_bottom_200_signal2_noise.gmt\n",
      "PRPF8 4.0 deg_200/K562_edgeR_DE/DE_bottom_200.gmt\n",
      "PRPF8 6.0 deg_200/K562_DE/DE_top_200.gmt\n",
      "PSIP1 1.0 deg_200/K562_fc/K562_bottom_200_fc.gmt\n",
      "PSIP1 1.0 deg_200/K562_s2n/K562_bottom_200_signal2_noise.gmt\n",
      "PSIP1 1.0 deg_200/K562_edgeR_DE/DE_bottom_200.gmt\n",
      "PSIP1 1.0 deg_200/K562_DE/DE_top_200.gmt\n",
      "PTBP1 1.0 deg_200/K562_fc/K562_bottom_200_fc.gmt\n",
      "PTBP1 1.0 deg_200/K562_s2n/K562_bottom_200_signal2_noise.gmt\n",
      "PTBP1 1.0 deg_200/K562_edgeR_DE/DE_bottom_200.gmt\n",
      "PTBP1 1.0 deg_200/K562_DE/DE_top_200.gmt\n",
      "PUF60 1.0 deg_200/K562_fc/K562_bottom_200_fc.gmt\n",
      "PUF60 5.0 deg_200/K562_s2n/K562_bottom_200_signal2_noise.gmt\n",
      "PUF60 1.0 deg_200/K562_edgeR_DE/DE_bottom_200.gmt\n",
      "PUF60 1.0 deg_200/K562_DE/DE_top_200.gmt\n",
      "PUM1 9.0 deg_200/K562_fc/K562_bottom_200_fc.gmt\n",
      "PUM1 33.0 deg_200/K562_s2n/K562_bottom_200_signal2_noise.gmt\n",
      "PUM1 4.0 deg_200/K562_edgeR_DE/DE_bottom_200.gmt\n",
      "PUM1 1.0 deg_200/K562_DE/DE_top_200.gmt\n",
      "PUM2 2.0 deg_200/K562_fc/K562_bottom_200_fc.gmt\n",
      "PUM2 10.0 deg_200/K562_s2n/K562_bottom_200_signal2_noise.gmt\n",
      "PUM2 1.0 deg_200/K562_edgeR_DE/DE_bottom_200.gmt\n",
      "PUM2 1.0 deg_200/K562_DE/DE_top_200.gmt\n",
      "PUS1 19.0 deg_200/K562_fc/K562_bottom_200_fc.gmt\n",
      "PUS1 38.0 deg_200/K562_s2n/K562_bottom_200_signal2_noise.gmt\n",
      "PUS1 54.0 deg_200/K562_edgeR_DE/DE_bottom_200.gmt\n",
      "PUS1 1.0 deg_200/K562_DE/DE_top_200.gmt\n",
      "QKI 1.0 deg_200/K562_fc/K562_bottom_200_fc.gmt\n",
      "QKI 23.0 deg_200/K562_s2n/K562_bottom_200_signal2_noise.gmt\n",
      "QKI 1.0 deg_200/K562_edgeR_DE/DE_bottom_200.gmt\n",
      "QKI 1.0 deg_200/K562_DE/DE_top_200.gmt\n",
      "RAVER1 2.0 deg_200/K562_fc/K562_bottom_200_fc.gmt\n",
      "RAVER1 6.0 deg_200/K562_s2n/K562_bottom_200_signal2_noise.gmt\n",
      "RAVER1 1.0 deg_200/K562_edgeR_DE/DE_bottom_200.gmt\n",
      "RAVER1 1.0 deg_200/K562_DE/DE_top_200.gmt\n",
      "RBFOX2 24.0 deg_200/K562_fc/K562_bottom_200_fc.gmt\n",
      "RBFOX2 12.0 deg_200/K562_s2n/K562_bottom_200_signal2_noise.gmt\n",
      "RBFOX2 30.0 deg_200/K562_edgeR_DE/DE_bottom_200.gmt\n",
      "RBFOX2 20.0 deg_200/K562_DE/DE_top_200.gmt\n",
      "RBM15 120.0 deg_200/K562_fc/K562_bottom_200_fc.gmt\n",
      "RBM15 107.0 deg_200/K562_s2n/K562_bottom_200_signal2_noise.gmt\n",
      "RBM15 179.0 deg_200/K562_edgeR_DE/DE_bottom_200.gmt\n",
      "RBM15 38.0 deg_200/K562_DE/DE_top_200.gmt\n",
      "RBM17 14.0 deg_200/K562_fc/K562_bottom_200_fc.gmt\n",
      "RBM17 38.0 deg_200/K562_s2n/K562_bottom_200_signal2_noise.gmt\n",
      "RBM17 10.0 deg_200/K562_edgeR_DE/DE_bottom_200.gmt\n",
      "RBM17 1.0 deg_200/K562_DE/DE_top_200.gmt\n",
      "RBM22 7.0 deg_200/K562_fc/K562_bottom_200_fc.gmt\n",
      "RBM22 13.0 deg_200/K562_s2n/K562_bottom_200_signal2_noise.gmt\n",
      "RBM22 12.0 deg_200/K562_edgeR_DE/DE_bottom_200.gmt\n",
      "RBM22 19.0 deg_200/K562_DE/DE_top_200.gmt\n",
      "RBM25 1.0 deg_200/K562_fc/K562_bottom_200_fc.gmt\n",
      "RBM25 2.0 deg_200/K562_s2n/K562_bottom_200_signal2_noise.gmt\n",
      "RBM25 2.0 deg_200/K562_edgeR_DE/DE_bottom_200.gmt\n",
      "RBM25 2.0 deg_200/K562_DE/DE_top_200.gmt\n",
      "RBM34 43.0 deg_200/K562_fc/K562_bottom_200_fc.gmt\n",
      "RBM34 72.0 deg_200/K562_s2n/K562_bottom_200_signal2_noise.gmt\n",
      "RBM34 183.0 deg_200/K562_edgeR_DE/DE_bottom_200.gmt\n",
      "RBM34 78.0 deg_200/K562_DE/DE_top_200.gmt\n",
      "RBM39 36.0 deg_200/K562_fc/K562_bottom_200_fc.gmt\n",
      "RBM39 22.0 deg_200/K562_s2n/K562_bottom_200_signal2_noise.gmt\n",
      "RBM39 16.0 deg_200/K562_edgeR_DE/DE_bottom_200.gmt\n",
      "RBM39 2.0 deg_200/K562_DE/DE_top_200.gmt\n",
      "RCC2 1.0 deg_200/K562_fc/K562_bottom_200_fc.gmt\n",
      "RCC2 1.0 deg_200/K562_s2n/K562_bottom_200_signal2_noise.gmt\n",
      "RCC2 1.0 deg_200/K562_edgeR_DE/DE_bottom_200.gmt\n",
      "RCC2 1.0 deg_200/K562_DE/DE_top_200.gmt\n",
      "RECQL 19.0 deg_200/K562_fc/K562_bottom_200_fc.gmt\n",
      "RECQL 50.0 deg_200/K562_s2n/K562_bottom_200_signal2_noise.gmt\n",
      "RECQL 9.0 deg_200/K562_edgeR_DE/DE_bottom_200.gmt\n",
      "RECQL 1.0 deg_200/K562_DE/DE_top_200.gmt\n",
      "RPS10 1.0 deg_200/K562_fc/K562_bottom_200_fc.gmt\n",
      "RPS10 6.0 deg_200/K562_s2n/K562_bottom_200_signal2_noise.gmt\n",
      "RPS10 2.0 deg_200/K562_edgeR_DE/DE_bottom_200.gmt\n",
      "RPS10 2.0 deg_200/K562_DE/DE_top_200.gmt\n",
      "RPS19 19.0 deg_200/K562_fc/K562_bottom_200_fc.gmt\n",
      "RPS19 12.0 deg_200/K562_s2n/K562_bottom_200_signal2_noise.gmt\n",
      "RPS19 5.0 deg_200/K562_edgeR_DE/DE_bottom_200.gmt\n",
      "RPS19 4.0 deg_200/K562_DE/DE_top_200.gmt\n",
      "RPS3A 2.0 deg_200/K562_fc/K562_bottom_200_fc.gmt\n",
      "RPS3A 21.0 deg_200/K562_s2n/K562_bottom_200_signal2_noise.gmt\n"
     ]
    },
    {
     "name": "stdout",
     "output_type": "stream",
     "text": [
      "RPS3A 11.0 deg_200/K562_edgeR_DE/DE_bottom_200.gmt\n",
      "RPS3A 12.0 deg_200/K562_DE/DE_top_200.gmt\n",
      "RRP9 15.0 deg_200/K562_fc/K562_bottom_200_fc.gmt\n",
      "RRP9 9.0 deg_200/K562_s2n/K562_bottom_200_signal2_noise.gmt\n",
      "RRP9 22.0 deg_200/K562_edgeR_DE/DE_bottom_200.gmt\n",
      "RRP9 35.0 deg_200/K562_DE/DE_top_200.gmt\n",
      "RTF1 1.0 deg_200/K562_fc/K562_bottom_200_fc.gmt\n",
      "RTF1 2.0 deg_200/K562_s2n/K562_bottom_200_signal2_noise.gmt\n",
      "RTF1 1.0 deg_200/K562_edgeR_DE/DE_bottom_200.gmt\n",
      "RTF1 1.0 deg_200/K562_DE/DE_top_200.gmt\n",
      "SAFB2 2.0 deg_200/K562_fc/K562_bottom_200_fc.gmt\n",
      "SAFB2 4.0 deg_200/K562_s2n/K562_bottom_200_signal2_noise.gmt\n",
      "SAFB2 1.0 deg_200/K562_edgeR_DE/DE_bottom_200.gmt\n",
      "SAFB2 15.0 deg_200/K562_DE/DE_top_200.gmt\n",
      "SART3 1.0 deg_200/K562_fc/K562_bottom_200_fc.gmt\n",
      "SART3 1.0 deg_200/K562_s2n/K562_bottom_200_signal2_noise.gmt\n",
      "SART3 1.0 deg_200/K562_edgeR_DE/DE_bottom_200.gmt\n",
      "SART3 1.0 deg_200/K562_DE/DE_top_200.gmt\n",
      "SBDS 5.0 deg_200/K562_fc/K562_bottom_200_fc.gmt\n",
      "SBDS 1.0 deg_200/K562_s2n/K562_bottom_200_signal2_noise.gmt\n",
      "SBDS 11.0 deg_200/K562_edgeR_DE/DE_bottom_200.gmt\n",
      "SBDS 1.0 deg_200/K562_DE/DE_top_200.gmt\n",
      "SERBP1 1.0 deg_200/K562_fc/K562_bottom_200_fc.gmt\n",
      "SERBP1 1.0 deg_200/K562_s2n/K562_bottom_200_signal2_noise.gmt\n",
      "SERBP1 1.0 deg_200/K562_edgeR_DE/DE_bottom_200.gmt\n",
      "SERBP1 1.0 deg_200/K562_DE/DE_top_200.gmt\n",
      "SF1 13.0 deg_200/K562_fc/K562_bottom_200_fc.gmt\n",
      "SF1 38.0 deg_200/K562_s2n/K562_bottom_200_signal2_noise.gmt\n",
      "SF1 15.0 deg_200/K562_edgeR_DE/DE_bottom_200.gmt\n",
      "SF1 5.0 deg_200/K562_DE/DE_top_200.gmt\n",
      "SF3A3 7.0 deg_200/K562_fc/K562_bottom_200_fc.gmt\n",
      "SF3A3 13.0 deg_200/K562_s2n/K562_bottom_200_signal2_noise.gmt\n",
      "SF3A3 4.0 deg_200/K562_edgeR_DE/DE_bottom_200.gmt\n",
      "SF3A3 3.0 deg_200/K562_DE/DE_top_200.gmt\n",
      "SF3B1 1.0 deg_200/K562_fc/K562_bottom_200_fc.gmt\n",
      "SF3B1 12.0 deg_200/K562_s2n/K562_bottom_200_signal2_noise.gmt\n",
      "SF3B1 1.0 deg_200/K562_edgeR_DE/DE_bottom_200.gmt\n",
      "SF3B1 1.0 deg_200/K562_DE/DE_top_200.gmt\n",
      "SF3B4 1.0 deg_200/K562_fc/K562_bottom_200_fc.gmt\n",
      "SF3B4 4.0 deg_200/K562_s2n/K562_bottom_200_signal2_noise.gmt\n",
      "SF3B4 1.0 deg_200/K562_edgeR_DE/DE_bottom_200.gmt\n",
      "SF3B4 1.0 deg_200/K562_DE/DE_top_200.gmt\n",
      "SFPQ 13.0 deg_200/K562_fc/K562_bottom_200_fc.gmt\n",
      "SFPQ 18.0 deg_200/K562_s2n/K562_bottom_200_signal2_noise.gmt\n",
      "SFPQ 2.0 deg_200/K562_edgeR_DE/DE_bottom_200.gmt\n",
      "SFPQ 1.0 deg_200/K562_DE/DE_top_200.gmt\n",
      "SLBP 2.0 deg_200/K562_fc/K562_bottom_200_fc.gmt\n",
      "SLBP 5.0 deg_200/K562_s2n/K562_bottom_200_signal2_noise.gmt\n",
      "SLBP 4.0 deg_200/K562_edgeR_DE/DE_bottom_200.gmt\n",
      "SLBP 2.0 deg_200/K562_DE/DE_top_200.gmt\n",
      "SLTM 1.0 deg_200/K562_fc/K562_bottom_200_fc.gmt\n",
      "SLTM 3.0 deg_200/K562_s2n/K562_bottom_200_signal2_noise.gmt\n",
      "SLTM 1.0 deg_200/K562_edgeR_DE/DE_bottom_200.gmt\n",
      "SLTM 1.0 deg_200/K562_DE/DE_top_200.gmt\n",
      "SMN1 4.0 deg_200/K562_fc/K562_bottom_200_fc.gmt\n",
      "SMN1 31.0 deg_200/K562_s2n/K562_bottom_200_signal2_noise.gmt\n",
      "SMN1 2.0 deg_200/K562_edgeR_DE/DE_bottom_200.gmt\n",
      "SMN1 1.0 deg_200/K562_DE/DE_top_200.gmt\n",
      "SMNDC1 14.0 deg_200/K562_fc/K562_bottom_200_fc.gmt\n",
      "SMNDC1 14.0 deg_200/K562_s2n/K562_bottom_200_signal2_noise.gmt\n",
      "SMNDC1 2.0 deg_200/K562_edgeR_DE/DE_bottom_200.gmt\n",
      "SMNDC1 1.0 deg_200/K562_DE/DE_top_200.gmt\n",
      "SND1 82.0 deg_200/K562_fc/K562_bottom_200_fc.gmt\n",
      "SND1 31.0 deg_200/K562_s2n/K562_bottom_200_signal2_noise.gmt\n",
      "SND1 161.0 deg_200/K562_edgeR_DE/DE_bottom_200.gmt\n",
      "SND1 129.0 deg_200/K562_DE/DE_top_200.gmt\n",
      "SNRNP200 31.0 deg_200/K562_fc/K562_bottom_200_fc.gmt\n",
      "SNRNP200 96.0 deg_200/K562_s2n/K562_bottom_200_signal2_noise.gmt\n",
      "SNRNP200 119.0 deg_200/K562_edgeR_DE/DE_bottom_200.gmt\n",
      "SNRNP200 8.0 deg_200/K562_DE/DE_top_200.gmt\n",
      "SRFBP1 163.0 deg_200/K562_fc/K562_bottom_200_fc.gmt\n",
      "SRFBP1 116.0 deg_200/K562_s2n/K562_bottom_200_signal2_noise.gmt\n",
      "SRFBP1 129.0 deg_200/K562_edgeR_DE/DE_bottom_200.gmt\n",
      "SRFBP1 55.0 deg_200/K562_DE/DE_top_200.gmt\n",
      "SRP68 2.0 deg_200/K562_fc/K562_bottom_200_fc.gmt\n",
      "SRP68 8.0 deg_200/K562_s2n/K562_bottom_200_signal2_noise.gmt\n",
      "SRP68 1.0 deg_200/K562_edgeR_DE/DE_bottom_200.gmt\n",
      "SRP68 1.0 deg_200/K562_DE/DE_top_200.gmt\n",
      "SRSF1 10.0 deg_200/K562_fc/K562_bottom_200_fc.gmt\n",
      "SRSF1 12.0 deg_200/K562_s2n/K562_bottom_200_signal2_noise.gmt\n",
      "SRSF1 8.0 deg_200/K562_edgeR_DE/DE_bottom_200.gmt\n",
      "SRSF1 2.0 deg_200/K562_DE/DE_top_200.gmt\n",
      "SRSF5 28.0 deg_200/K562_fc/K562_bottom_200_fc.gmt\n",
      "SRSF5 60.0 deg_200/K562_s2n/K562_bottom_200_signal2_noise.gmt\n",
      "SRSF5 20.0 deg_200/K562_edgeR_DE/DE_bottom_200.gmt\n",
      "SRSF5 81.0 deg_200/K562_DE/DE_top_200.gmt\n",
      "SSB 21.0 deg_200/K562_fc/K562_bottom_200_fc.gmt\n",
      "SSB 42.0 deg_200/K562_s2n/K562_bottom_200_signal2_noise.gmt\n",
      "SSB 29.0 deg_200/K562_edgeR_DE/DE_bottom_200.gmt\n",
      "SSB 10.0 deg_200/K562_DE/DE_top_200.gmt\n",
      "SSRP1 27.0 deg_200/K562_fc/K562_bottom_200_fc.gmt\n",
      "SSRP1 14.0 deg_200/K562_s2n/K562_bottom_200_signal2_noise.gmt\n",
      "SSRP1 27.0 deg_200/K562_edgeR_DE/DE_bottom_200.gmt\n",
      "SSRP1 39.0 deg_200/K562_DE/DE_top_200.gmt\n",
      "STAU1 24.0 deg_200/K562_fc/K562_bottom_200_fc.gmt\n",
      "STAU1 75.0 deg_200/K562_s2n/K562_bottom_200_signal2_noise.gmt\n",
      "STAU1 12.0 deg_200/K562_edgeR_DE/DE_bottom_200.gmt\n",
      "STAU1 7.0 deg_200/K562_DE/DE_top_200.gmt\n",
      "STIP1 1.0 deg_200/K562_fc/K562_bottom_200_fc.gmt\n",
      "STIP1 1.0 deg_200/K562_s2n/K562_bottom_200_signal2_noise.gmt\n",
      "STIP1 1.0 deg_200/K562_edgeR_DE/DE_bottom_200.gmt\n",
      "STIP1 1.0 deg_200/K562_DE/DE_top_200.gmt\n",
      "SUB1 15.0 deg_200/K562_fc/K562_bottom_200_fc.gmt\n",
      "SUB1 15.0 deg_200/K562_s2n/K562_bottom_200_signal2_noise.gmt\n",
      "SUB1 1.0 deg_200/K562_edgeR_DE/DE_bottom_200.gmt\n",
      "SUB1 1.0 deg_200/K562_DE/DE_top_200.gmt\n",
      "SUCLG1 2.0 deg_200/K562_fc/K562_bottom_200_fc.gmt\n",
      "SUCLG1 6.0 deg_200/K562_s2n/K562_bottom_200_signal2_noise.gmt\n",
      "SUCLG1 2.0 deg_200/K562_edgeR_DE/DE_bottom_200.gmt\n",
      "SUCLG1 1.0 deg_200/K562_DE/DE_top_200.gmt\n",
      "SUGP2 33.0 deg_200/K562_fc/K562_bottom_200_fc.gmt\n",
      "SUGP2 21.0 deg_200/K562_s2n/K562_bottom_200_signal2_noise.gmt\n",
      "SUGP2 39.0 deg_200/K562_edgeR_DE/DE_bottom_200.gmt\n",
      "SUGP2 9.0 deg_200/K562_DE/DE_top_200.gmt\n",
      "SUPT6H 63.0 deg_200/K562_fc/K562_bottom_200_fc.gmt\n",
      "SUPT6H 60.0 deg_200/K562_s2n/K562_bottom_200_signal2_noise.gmt\n",
      "SUPT6H 151.0 deg_200/K562_edgeR_DE/DE_bottom_200.gmt\n",
      "SUPT6H 72.0 deg_200/K562_DE/DE_top_200.gmt\n",
      "SUPV3L1 1.0 deg_200/K562_fc/K562_bottom_200_fc.gmt\n",
      "SUPV3L1 1.0 deg_200/K562_s2n/K562_bottom_200_signal2_noise.gmt\n",
      "SUPV3L1 3.0 deg_200/K562_edgeR_DE/DE_bottom_200.gmt\n",
      "SUPV3L1 3.0 deg_200/K562_DE/DE_top_200.gmt\n",
      "TAF15 4.0 deg_200/K562_fc/K562_bottom_200_fc.gmt\n",
      "TAF15 4.0 deg_200/K562_s2n/K562_bottom_200_signal2_noise.gmt\n",
      "TAF15 5.0 deg_200/K562_edgeR_DE/DE_bottom_200.gmt\n",
      "TAF15 31.0 deg_200/K562_DE/DE_top_200.gmt\n",
      "TARDBP 7.0 deg_200/K562_fc/K562_bottom_200_fc.gmt\n",
      "TARDBP 5.0 deg_200/K562_s2n/K562_bottom_200_signal2_noise.gmt\n",
      "TARDBP 23.0 deg_200/K562_edgeR_DE/DE_bottom_200.gmt\n",
      "TARDBP 36.0 deg_200/K562_DE/DE_top_200.gmt\n",
      "TBRG4 104.0 deg_200/K562_fc/K562_bottom_200_fc.gmt\n",
      "TBRG4 57.0 deg_200/K562_s2n/K562_bottom_200_signal2_noise.gmt\n",
      "TBRG4 76.0 deg_200/K562_edgeR_DE/DE_bottom_200.gmt\n",
      "TBRG4 80.0 deg_200/K562_DE/DE_top_200.gmt\n",
      "TFIP11 10.0 deg_200/K562_fc/K562_bottom_200_fc.gmt\n",
      "TFIP11 4.0 deg_200/K562_s2n/K562_bottom_200_signal2_noise.gmt\n",
      "TFIP11 10.0 deg_200/K562_edgeR_DE/DE_bottom_200.gmt\n",
      "TFIP11 15.0 deg_200/K562_DE/DE_top_200.gmt\n",
      "TIA1 107.0 deg_200/K562_fc/K562_bottom_200_fc.gmt\n",
      "TIA1 80.0 deg_200/K562_s2n/K562_bottom_200_signal2_noise.gmt\n",
      "TIA1 6.0 deg_200/K562_edgeR_DE/DE_bottom_200.gmt\n",
      "TIA1 1.0 deg_200/K562_DE/DE_top_200.gmt\n",
      "TIAL1 1.0 deg_200/K562_fc/K562_bottom_200_fc.gmt\n",
      "TIAL1 1.0 deg_200/K562_s2n/K562_bottom_200_signal2_noise.gmt\n",
      "TIAL1 2.0 deg_200/K562_edgeR_DE/DE_bottom_200.gmt\n",
      "TIAL1 3.0 deg_200/K562_DE/DE_top_200.gmt\n",
      "TRA2A 17.0 deg_200/K562_fc/K562_bottom_200_fc.gmt\n",
      "TRA2A 104.0 deg_200/K562_s2n/K562_bottom_200_signal2_noise.gmt\n",
      "TRA2A 1.0 deg_200/K562_edgeR_DE/DE_bottom_200.gmt\n",
      "TRA2A 2.0 deg_200/K562_DE/DE_top_200.gmt\n",
      "TRIM56 1.0 deg_200/K562_fc/K562_bottom_200_fc.gmt\n",
      "TRIM56 2.0 deg_200/K562_s2n/K562_bottom_200_signal2_noise.gmt\n",
      "TRIM56 1.0 deg_200/K562_edgeR_DE/DE_bottom_200.gmt\n",
      "TRIM56 1.0 deg_200/K562_DE/DE_top_200.gmt\n",
      "TROVE2 68.0 deg_200/K562_fc/K562_bottom_200_fc.gmt\n",
      "TROVE2 174.0 deg_200/K562_s2n/K562_bottom_200_signal2_noise.gmt\n",
      "TROVE2 57.0 deg_200/K562_edgeR_DE/DE_bottom_200.gmt\n",
      "TROVE2 179.0 deg_200/K562_DE/DE_top_200.gmt\n",
      "TUFM 1.0 deg_200/K562_fc/K562_bottom_200_fc.gmt\n",
      "TUFM 2.0 deg_200/K562_s2n/K562_bottom_200_signal2_noise.gmt\n",
      "TUFM 1.0 deg_200/K562_edgeR_DE/DE_bottom_200.gmt\n",
      "TUFM 3.0 deg_200/K562_DE/DE_top_200.gmt\n",
      "U2AF1 7.0 deg_200/K562_fc/K562_bottom_200_fc.gmt\n",
      "U2AF1 34.0 deg_200/K562_s2n/K562_bottom_200_signal2_noise.gmt\n",
      "U2AF1 5.0 deg_200/K562_edgeR_DE/DE_bottom_200.gmt\n",
      "U2AF1 10.0 deg_200/K562_DE/DE_top_200.gmt\n",
      "U2AF2 2.0 deg_200/K562_fc/K562_bottom_200_fc.gmt\n",
      "U2AF2 2.0 deg_200/K562_s2n/K562_bottom_200_signal2_noise.gmt\n",
      "U2AF2 7.0 deg_200/K562_edgeR_DE/DE_bottom_200.gmt\n",
      "U2AF2 1.0 deg_200/K562_DE/DE_top_200.gmt\n",
      "UBE2L3 2.0 deg_200/K562_fc/K562_bottom_200_fc.gmt\n",
      "UBE2L3 4.0 deg_200/K562_s2n/K562_bottom_200_signal2_noise.gmt\n",
      "UBE2L3 1.0 deg_200/K562_edgeR_DE/DE_bottom_200.gmt\n",
      "UBE2L3 1.0 deg_200/K562_DE/DE_top_200.gmt\n",
      "UCHL5 6.0 deg_200/K562_fc/K562_bottom_200_fc.gmt\n",
      "UCHL5 9.0 deg_200/K562_s2n/K562_bottom_200_signal2_noise.gmt\n",
      "UCHL5 12.0 deg_200/K562_edgeR_DE/DE_bottom_200.gmt\n",
      "UCHL5 4.0 deg_200/K562_DE/DE_top_200.gmt\n",
      "UPF1 176.0 deg_200/K562_fc/K562_bottom_200_fc.gmt\n",
      "UPF1 195.0 deg_200/K562_s2n/K562_bottom_200_signal2_noise.gmt\n",
      "UPF1 172.0 deg_200/K562_edgeR_DE/DE_bottom_200.gmt\n",
      "UPF1 51.0 deg_200/K562_DE/DE_top_200.gmt\n",
      "UPF2 2.0 deg_200/K562_fc/K562_bottom_200_fc.gmt\n",
      "UPF2 43.0 deg_200/K562_s2n/K562_bottom_200_signal2_noise.gmt\n",
      "UPF2 1.0 deg_200/K562_edgeR_DE/DE_bottom_200.gmt\n",
      "UPF2 1.0 deg_200/K562_DE/DE_top_200.gmt\n",
      "UTP18 26.0 deg_200/K562_fc/K562_bottom_200_fc.gmt\n",
      "UTP18 37.0 deg_200/K562_s2n/K562_bottom_200_signal2_noise.gmt\n",
      "UTP18 6.0 deg_200/K562_edgeR_DE/DE_bottom_200.gmt\n",
      "UTP18 5.0 deg_200/K562_DE/DE_top_200.gmt\n",
      "UTP3 97.0 deg_200/K562_fc/K562_bottom_200_fc.gmt\n",
      "UTP3 122.0 deg_200/K562_s2n/K562_bottom_200_signal2_noise.gmt\n",
      "UTP3 126.0 deg_200/K562_edgeR_DE/DE_bottom_200.gmt\n",
      "UTP3 50.0 deg_200/K562_DE/DE_top_200.gmt\n",
      "XPO5 17.0 deg_200/K562_fc/K562_bottom_200_fc.gmt\n",
      "XPO5 11.0 deg_200/K562_s2n/K562_bottom_200_signal2_noise.gmt\n",
      "XPO5 38.0 deg_200/K562_edgeR_DE/DE_bottom_200.gmt\n",
      "XPO5 39.0 deg_200/K562_DE/DE_top_200.gmt\n",
      "XRCC5 1.0 deg_200/K562_fc/K562_bottom_200_fc.gmt\n",
      "XRCC5 7.0 deg_200/K562_s2n/K562_bottom_200_signal2_noise.gmt\n",
      "XRCC5 1.0 deg_200/K562_edgeR_DE/DE_bottom_200.gmt\n",
      "XRCC5 2.0 deg_200/K562_DE/DE_top_200.gmt\n",
      "XRCC6 19.0 deg_200/K562_fc/K562_bottom_200_fc.gmt\n",
      "XRCC6 29.0 deg_200/K562_s2n/K562_bottom_200_signal2_noise.gmt\n",
      "XRCC6 3.0 deg_200/K562_edgeR_DE/DE_bottom_200.gmt\n",
      "XRCC6 1.0 deg_200/K562_DE/DE_top_200.gmt\n",
      "XRN2 8.0 deg_200/K562_fc/K562_bottom_200_fc.gmt\n",
      "XRN2 8.0 deg_200/K562_s2n/K562_bottom_200_signal2_noise.gmt\n",
      "XRN2 7.0 deg_200/K562_edgeR_DE/DE_bottom_200.gmt\n",
      "XRN2 3.0 deg_200/K562_DE/DE_top_200.gmt\n",
      "YBX3 1.0 deg_200/K562_fc/K562_bottom_200_fc.gmt\n",
      "YBX3 4.0 deg_200/K562_s2n/K562_bottom_200_signal2_noise.gmt\n",
      "YBX3 1.0 deg_200/K562_edgeR_DE/DE_bottom_200.gmt\n",
      "YBX3 1.0 deg_200/K562_DE/DE_top_200.gmt\n",
      "ZC3H8 14.0 deg_200/K562_fc/K562_bottom_200_fc.gmt\n",
      "ZC3H8 8.0 deg_200/K562_s2n/K562_bottom_200_signal2_noise.gmt\n",
      "ZC3H8 43.0 deg_200/K562_edgeR_DE/DE_bottom_200.gmt\n",
      "ZC3H8 54.0 deg_200/K562_DE/DE_top_200.gmt\n",
      "ZRANB2 50.0 deg_200/K562_fc/K562_bottom_200_fc.gmt\n",
      "ZRANB2 73.0 deg_200/K562_s2n/K562_bottom_200_signal2_noise.gmt\n",
      "ZRANB2 4.0 deg_200/K562_edgeR_DE/DE_bottom_200.gmt\n",
      "ZRANB2 2.0 deg_200/K562_DE/DE_top_200.gmt\n"
     ]
    }
   ],
   "source": [
    "rank_dict = dict()\n",
    "for target in result_dict.keys():\n",
    "    rank_dict[target] = dict()\n",
    "    for pathway in result_dict[target]:\n",
    "        tmp_df = result_dict[target][pathway]\n",
    "        tmp_df['1'] = tmp_df['1']*(-1)\n",
    "        # break\n",
    "        ranks = rnk(tmp_df['1'])\n",
    "        rank = ranks[np.argwhere(tmp_df.index==target)[0, 0]]\n",
    "        print(target, rank, pathway)\n",
    "        rank_dict[target][pathway] = rank"
   ]
  },
  {
   "cell_type": "code",
   "execution_count": 13,
   "id": "5cf23e45",
   "metadata": {},
   "outputs": [
    {
     "data": {
      "text/plain": [
       "<AxesSubplot: >"
      ]
     },
     "execution_count": 13,
     "metadata": {},
     "output_type": "execute_result"
    },
    {
     "data": {
      "image/png": "[encoded data removed]",
      "text/plain": [
       "<Figure size 640x480 with 1 Axes>"
      ]
     },
     "metadata": {},
     "output_type": "display_data"
    }
   ],
   "source": [
    "rank_df = pd.DataFrame.from_dict(rank_dict)\n",
    "plt.xticks(rotation=45)\n",
    "sns.violinplot(data=rank_df.transpose())"
   ]
  },
  {
   "cell_type": "code",
   "execution_count": 14,
   "id": "33b0f7c1",
   "metadata": {},
   "outputs": [],
   "source": [
    "rank_df.transpose().to_csv('decoupler_results.contrast.txt', sep='\\t')"
   ]
  },
  {
   "cell_type": "code",
   "execution_count": 16,
   "id": "9b956c07",
   "metadata": {},
   "outputs": [],
   "source": [
    "! open decoupler_results.contrast.txt"
   ]
  },
  {
   "cell_type": "code",
   "execution_count": 49,
   "id": "94ac6c1a",
   "metadata": {},
   "outputs": [
    {
     "name": "stdout",
     "output_type": "stream",
     "text": [
      "AARS 50 deg_200/K562_fc/K562_bottom_200_fc.gmt\n",
      "AARS 31 deg_200/K562_s2n/K562_bottom_200_signal2_noise.gmt\n",
      "AARS 81 deg_200/K562_edgeR_DE/DE_bottom_200.gmt\n",
      "AARS 39 deg_200/K562_DE/DE_top_200.gmt\n",
      "AATF 90 deg_200/K562_fc/K562_bottom_200_fc.gmt\n",
      "AATF 24 deg_200/K562_s2n/K562_bottom_200_signal2_noise.gmt\n",
      "AATF 31 deg_200/K562_edgeR_DE/DE_bottom_200.gmt\n",
      "AATF 19 deg_200/K562_DE/DE_top_200.gmt\n",
      "ABCF1 23 deg_200/K562_fc/K562_bottom_200_fc.gmt\n",
      "ABCF1 38 deg_200/K562_s2n/K562_bottom_200_signal2_noise.gmt\n",
      "ABCF1 11 deg_200/K562_edgeR_DE/DE_bottom_200.gmt\n",
      "ABCF1 118 deg_200/K562_DE/DE_top_200.gmt\n",
      "ADAR 11 deg_200/K562_fc/K562_bottom_200_fc.gmt\n",
      "ADAR 22 deg_200/K562_s2n/K562_bottom_200_signal2_noise.gmt\n",
      "ADAR 22 deg_200/K562_edgeR_DE/DE_bottom_200.gmt\n",
      "ADAR 44 deg_200/K562_DE/DE_top_200.gmt\n",
      "AGO1 54 deg_200/K562_fc/K562_bottom_200_fc.gmt\n",
      "AGO1 73 deg_200/K562_s2n/K562_bottom_200_signal2_noise.gmt\n",
      "AGO1 84 deg_200/K562_edgeR_DE/DE_bottom_200.gmt\n",
      "AGO1 32 deg_200/K562_DE/DE_top_200.gmt\n",
      "AKAP1 92 deg_200/K562_fc/K562_bottom_200_fc.gmt\n",
      "AKAP1 96 deg_200/K562_s2n/K562_bottom_200_signal2_noise.gmt\n",
      "AKAP1 187 deg_200/K562_edgeR_DE/DE_bottom_200.gmt\n",
      "AKAP1 75 deg_200/K562_DE/DE_top_200.gmt\n",
      "AKAP8 24 deg_200/K562_fc/K562_bottom_200_fc.gmt\n",
      "AKAP8 187 deg_200/K562_s2n/K562_bottom_200_signal2_noise.gmt\n",
      "AKAP8 36 deg_200/K562_edgeR_DE/DE_bottom_200.gmt\n",
      "AKAP8 133 deg_200/K562_DE/DE_top_200.gmt\n",
      "AKAP8L 126 deg_200/K562_fc/K562_bottom_200_fc.gmt\n",
      "AKAP8L 118 deg_200/K562_s2n/K562_bottom_200_signal2_noise.gmt\n",
      "AKAP8L 116 deg_200/K562_edgeR_DE/DE_bottom_200.gmt\n",
      "AKAP8L 57 deg_200/K562_DE/DE_top_200.gmt\n",
      "APOBEC3C 18 deg_200/K562_fc/K562_bottom_200_fc.gmt\n",
      "APOBEC3C 22 deg_200/K562_s2n/K562_bottom_200_signal2_noise.gmt\n",
      "APOBEC3C 1 deg_200/K562_edgeR_DE/DE_bottom_200.gmt\n",
      "APOBEC3C 109 deg_200/K562_DE/DE_top_200.gmt\n",
      "ASCC1 32 deg_200/K562_fc/K562_bottom_200_fc.gmt\n",
      "ASCC1 53 deg_200/K562_s2n/K562_bottom_200_signal2_noise.gmt\n",
      "ASCC1 9 deg_200/K562_edgeR_DE/DE_bottom_200.gmt\n",
      "ASCC1 3 deg_200/K562_DE/DE_top_200.gmt\n",
      "ATP5C1 3 deg_200/K562_fc/K562_bottom_200_fc.gmt\n",
      "ATP5C1 1 deg_200/K562_s2n/K562_bottom_200_signal2_noise.gmt\n",
      "ATP5C1 127 deg_200/K562_edgeR_DE/DE_bottom_200.gmt\n",
      "ATP5C1 16 deg_200/K562_DE/DE_top_200.gmt\n",
      "AUH 46 deg_200/K562_fc/K562_bottom_200_fc.gmt\n",
      "AUH 74 deg_200/K562_s2n/K562_bottom_200_signal2_noise.gmt\n",
      "AUH 23 deg_200/K562_edgeR_DE/DE_bottom_200.gmt\n",
      "AUH 7 deg_200/K562_DE/DE_top_200.gmt\n",
      "BCCIP 14 deg_200/K562_fc/K562_bottom_200_fc.gmt\n",
      "BCCIP 59 deg_200/K562_s2n/K562_bottom_200_signal2_noise.gmt\n",
      "BCCIP 43 deg_200/K562_edgeR_DE/DE_bottom_200.gmt\n",
      "BCCIP 29 deg_200/K562_DE/DE_top_200.gmt\n",
      "BCLAF1 25 deg_200/K562_fc/K562_bottom_200_fc.gmt\n",
      "BCLAF1 125 deg_200/K562_s2n/K562_bottom_200_signal2_noise.gmt\n",
      "BCLAF1 13 deg_200/K562_edgeR_DE/DE_bottom_200.gmt\n",
      "BCLAF1 12 deg_200/K562_DE/DE_top_200.gmt\n",
      "BOP1 1 deg_200/K562_fc/K562_bottom_200_fc.gmt\n",
      "BOP1 1 deg_200/K562_s2n/K562_bottom_200_signal2_noise.gmt\n",
      "BOP1 17 deg_200/K562_edgeR_DE/DE_bottom_200.gmt\n",
      "BOP1 4 deg_200/K562_DE/DE_top_200.gmt\n",
      "BUD13 15 deg_200/K562_fc/K562_bottom_200_fc.gmt\n",
      "BUD13 11 deg_200/K562_s2n/K562_bottom_200_signal2_noise.gmt\n",
      "BUD13 4 deg_200/K562_edgeR_DE/DE_bottom_200.gmt\n",
      "BUD13 71 deg_200/K562_DE/DE_top_200.gmt\n",
      "CCAR1 26 deg_200/K562_fc/K562_bottom_200_fc.gmt\n",
      "CCAR1 41 deg_200/K562_s2n/K562_bottom_200_signal2_noise.gmt\n",
      "CCAR1 59 deg_200/K562_edgeR_DE/DE_bottom_200.gmt\n",
      "CCAR1 23 deg_200/K562_DE/DE_top_200.gmt\n",
      "CCAR2 4 deg_200/K562_fc/K562_bottom_200_fc.gmt\n",
      "CCAR2 4 deg_200/K562_s2n/K562_bottom_200_signal2_noise.gmt\n",
      "CCAR2 3 deg_200/K562_edgeR_DE/DE_bottom_200.gmt\n",
      "CCAR2 4 deg_200/K562_DE/DE_top_200.gmt\n",
      "CELF1 16 deg_200/K562_fc/K562_bottom_200_fc.gmt\n",
      "CELF1 68 deg_200/K562_s2n/K562_bottom_200_signal2_noise.gmt\n",
      "CELF1 8 deg_200/K562_edgeR_DE/DE_bottom_200.gmt\n",
      "CELF1 11 deg_200/K562_DE/DE_top_200.gmt\n",
      "CIRBP 17 deg_200/K562_fc/K562_bottom_200_fc.gmt\n",
      "CIRBP 23 deg_200/K562_s2n/K562_bottom_200_signal2_noise.gmt\n",
      "CIRBP 37 deg_200/K562_edgeR_DE/DE_bottom_200.gmt\n",
      "CIRBP 88 deg_200/K562_DE/DE_top_200.gmt\n",
      "CKAP4 3 deg_200/K562_fc/K562_bottom_200_fc.gmt\n",
      "CKAP4 8 deg_200/K562_s2n/K562_bottom_200_signal2_noise.gmt\n",
      "CKAP4 19 deg_200/K562_edgeR_DE/DE_bottom_200.gmt\n",
      "CKAP4 16 deg_200/K562_DE/DE_top_200.gmt\n",
      "CNOT7 76 deg_200/K562_fc/K562_bottom_200_fc.gmt\n",
      "CNOT7 24 deg_200/K562_s2n/K562_bottom_200_signal2_noise.gmt\n",
      "CNOT7 49 deg_200/K562_edgeR_DE/DE_bottom_200.gmt\n",
      "CNOT7 49 deg_200/K562_DE/DE_top_200.gmt\n",
      "CPSF6 180 deg_200/K562_fc/K562_bottom_200_fc.gmt\n",
      "CPSF6 55 deg_200/K562_s2n/K562_bottom_200_signal2_noise.gmt\n",
      "CPSF6 9 deg_200/K562_edgeR_DE/DE_bottom_200.gmt\n",
      "CPSF6 17 deg_200/K562_DE/DE_top_200.gmt\n",
      "CPSF7 165 deg_200/K562_fc/K562_bottom_200_fc.gmt\n",
      "CPSF7 94 deg_200/K562_s2n/K562_bottom_200_signal2_noise.gmt\n",
      "CPSF7 93 deg_200/K562_edgeR_DE/DE_bottom_200.gmt\n",
      "CPSF7 159 deg_200/K562_DE/DE_top_200.gmt\n",
      "CSTF2 51 deg_200/K562_fc/K562_bottom_200_fc.gmt\n",
      "CSTF2 55 deg_200/K562_s2n/K562_bottom_200_signal2_noise.gmt\n",
      "CSTF2 183 deg_200/K562_edgeR_DE/DE_bottom_200.gmt\n",
      "CSTF2 41 deg_200/K562_DE/DE_top_200.gmt\n",
      "CSTF2T 21 deg_200/K562_fc/K562_bottom_200_fc.gmt\n",
      "CSTF2T 85 deg_200/K562_s2n/K562_bottom_200_signal2_noise.gmt\n",
      "CSTF2T 107 deg_200/K562_edgeR_DE/DE_bottom_200.gmt\n",
      "CSTF2T 134 deg_200/K562_DE/DE_top_200.gmt\n",
      "DAZAP1 103 deg_200/K562_fc/K562_bottom_200_fc.gmt\n",
      "DAZAP1 125 deg_200/K562_s2n/K562_bottom_200_signal2_noise.gmt\n",
      "DAZAP1 127 deg_200/K562_edgeR_DE/DE_bottom_200.gmt\n",
      "DAZAP1 80 deg_200/K562_DE/DE_top_200.gmt\n",
      "DDX1 31 deg_200/K562_fc/K562_bottom_200_fc.gmt\n",
      "DDX1 37 deg_200/K562_s2n/K562_bottom_200_signal2_noise.gmt\n",
      "DDX1 6 deg_200/K562_edgeR_DE/DE_bottom_200.gmt\n",
      "DDX1 50 deg_200/K562_DE/DE_top_200.gmt\n",
      "DDX19B 70 deg_200/K562_fc/K562_bottom_200_fc.gmt\n",
      "DDX19B 54 deg_200/K562_s2n/K562_bottom_200_signal2_noise.gmt\n",
      "DDX19B 15 deg_200/K562_edgeR_DE/DE_bottom_200.gmt\n",
      "DDX19B 104 deg_200/K562_DE/DE_top_200.gmt\n",
      "DDX24 86 deg_200/K562_fc/K562_bottom_200_fc.gmt\n",
      "DDX24 92 deg_200/K562_s2n/K562_bottom_200_signal2_noise.gmt\n",
      "DDX24 92 deg_200/K562_edgeR_DE/DE_bottom_200.gmt\n",
      "DDX24 44 deg_200/K562_DE/DE_top_200.gmt\n",
      "DDX27 116 deg_200/K562_fc/K562_bottom_200_fc.gmt\n",
      "DDX27 114 deg_200/K562_s2n/K562_bottom_200_signal2_noise.gmt\n",
      "DDX27 4 deg_200/K562_edgeR_DE/DE_bottom_200.gmt\n",
      "DDX27 122 deg_200/K562_DE/DE_top_200.gmt\n",
      "DDX28 129 deg_200/K562_fc/K562_bottom_200_fc.gmt\n",
      "DDX28 59 deg_200/K562_s2n/K562_bottom_200_signal2_noise.gmt\n",
      "DDX28 82 deg_200/K562_edgeR_DE/DE_bottom_200.gmt\n",
      "DDX28 172 deg_200/K562_DE/DE_top_200.gmt\n",
      "DDX3X 3 deg_200/K562_fc/K562_bottom_200_fc.gmt\n",
      "DDX3X 19 deg_200/K562_s2n/K562_bottom_200_signal2_noise.gmt\n",
      "DDX3X 53 deg_200/K562_edgeR_DE/DE_bottom_200.gmt\n",
      "DDX3X 12 deg_200/K562_DE/DE_top_200.gmt\n",
      "DDX47 148 deg_200/K562_fc/K562_bottom_200_fc.gmt\n",
      "DDX47 161 deg_200/K562_s2n/K562_bottom_200_signal2_noise.gmt\n",
      "DDX47 169 deg_200/K562_edgeR_DE/DE_bottom_200.gmt\n",
      "DDX47 7 deg_200/K562_DE/DE_top_200.gmt\n",
      "DDX52 25 deg_200/K562_fc/K562_bottom_200_fc.gmt\n",
      "DDX52 59 deg_200/K562_s2n/K562_bottom_200_signal2_noise.gmt\n",
      "DDX52 28 deg_200/K562_edgeR_DE/DE_bottom_200.gmt\n",
      "DDX52 18 deg_200/K562_DE/DE_top_200.gmt\n",
      "DDX55 191 deg_200/K562_fc/K562_bottom_200_fc.gmt\n",
      "DDX55 190 deg_200/K562_s2n/K562_bottom_200_signal2_noise.gmt\n",
      "DDX55 43 deg_200/K562_edgeR_DE/DE_bottom_200.gmt\n",
      "DDX55 143 deg_200/K562_DE/DE_top_200.gmt\n",
      "DDX6 31 deg_200/K562_fc/K562_bottom_200_fc.gmt\n",
      "DDX6 71 deg_200/K562_s2n/K562_bottom_200_signal2_noise.gmt\n",
      "DDX6 12 deg_200/K562_edgeR_DE/DE_bottom_200.gmt\n",
      "DDX6 22 deg_200/K562_DE/DE_top_200.gmt\n",
      "DHX30 75 deg_200/K562_fc/K562_bottom_200_fc.gmt\n",
      "DHX30 116 deg_200/K562_s2n/K562_bottom_200_signal2_noise.gmt\n",
      "DHX30 16 deg_200/K562_edgeR_DE/DE_bottom_200.gmt\n",
      "DHX30 8 deg_200/K562_DE/DE_top_200.gmt\n",
      "DKC1 170 deg_200/K562_fc/K562_bottom_200_fc.gmt\n",
      "DKC1 56 deg_200/K562_s2n/K562_bottom_200_signal2_noise.gmt\n",
      "DKC1 184 deg_200/K562_edgeR_DE/DE_bottom_200.gmt\n",
      "DKC1 189 deg_200/K562_DE/DE_top_200.gmt\n",
      "DNAJC2 28 deg_200/K562_fc/K562_bottom_200_fc.gmt\n",
      "DNAJC2 18 deg_200/K562_s2n/K562_bottom_200_signal2_noise.gmt\n",
      "DNAJC2 63 deg_200/K562_edgeR_DE/DE_bottom_200.gmt\n",
      "DNAJC2 185 deg_200/K562_DE/DE_top_200.gmt\n",
      "DNAJC21 150 deg_200/K562_fc/K562_bottom_200_fc.gmt\n",
      "DNAJC21 151 deg_200/K562_s2n/K562_bottom_200_signal2_noise.gmt\n",
      "DNAJC21 39 deg_200/K562_edgeR_DE/DE_bottom_200.gmt\n",
      "DNAJC21 166 deg_200/K562_DE/DE_top_200.gmt\n",
      "EEF2 45 deg_200/K562_fc/K562_bottom_200_fc.gmt\n",
      "EEF2 34 deg_200/K562_s2n/K562_bottom_200_signal2_noise.gmt\n",
      "EEF2 94 deg_200/K562_edgeR_DE/DE_bottom_200.gmt\n",
      "EEF2 135 deg_200/K562_DE/DE_top_200.gmt\n",
      "EFTUD2 52 deg_200/K562_fc/K562_bottom_200_fc.gmt\n",
      "EFTUD2 42 deg_200/K562_s2n/K562_bottom_200_signal2_noise.gmt\n",
      "EFTUD2 69 deg_200/K562_edgeR_DE/DE_bottom_200.gmt\n",
      "EFTUD2 57 deg_200/K562_DE/DE_top_200.gmt\n",
      "EIF2S1 14 deg_200/K562_fc/K562_bottom_200_fc.gmt\n",
      "EIF2S1 38 deg_200/K562_s2n/K562_bottom_200_signal2_noise.gmt\n",
      "EIF2S1 58 deg_200/K562_edgeR_DE/DE_bottom_200.gmt\n",
      "EIF2S1 39 deg_200/K562_DE/DE_top_200.gmt\n",
      "EIF2S2 42 deg_200/K562_fc/K562_bottom_200_fc.gmt\n",
      "EIF2S2 59 deg_200/K562_s2n/K562_bottom_200_signal2_noise.gmt\n",
      "EIF2S2 114 deg_200/K562_edgeR_DE/DE_bottom_200.gmt\n",
      "EIF2S2 77 deg_200/K562_DE/DE_top_200.gmt\n",
      "EIF3D 32 deg_200/K562_fc/K562_bottom_200_fc.gmt\n",
      "EIF3D 76 deg_200/K562_s2n/K562_bottom_200_signal2_noise.gmt\n",
      "EIF3D 31 deg_200/K562_edgeR_DE/DE_bottom_200.gmt\n",
      "EIF3D 33 deg_200/K562_DE/DE_top_200.gmt\n",
      "EIF3G 28 deg_200/K562_fc/K562_bottom_200_fc.gmt\n",
      "EIF3G 81 deg_200/K562_s2n/K562_bottom_200_signal2_noise.gmt\n",
      "EIF3G 60 deg_200/K562_edgeR_DE/DE_bottom_200.gmt\n",
      "EIF3G 125 deg_200/K562_DE/DE_top_200.gmt\n",
      "EIF4A3 117 deg_200/K562_fc/K562_bottom_200_fc.gmt\n",
      "EIF4A3 51 deg_200/K562_s2n/K562_bottom_200_signal2_noise.gmt\n",
      "EIF4A3 101 deg_200/K562_edgeR_DE/DE_bottom_200.gmt\n",
      "EIF4A3 143 deg_200/K562_DE/DE_top_200.gmt\n",
      "EIF4B 2 deg_200/K562_fc/K562_bottom_200_fc.gmt\n",
      "EIF4B 30 deg_200/K562_s2n/K562_bottom_200_signal2_noise.gmt\n",
      "EIF4B 13 deg_200/K562_edgeR_DE/DE_bottom_200.gmt\n",
      "EIF4B 10 deg_200/K562_DE/DE_top_200.gmt\n",
      "EIF4G1 52 deg_200/K562_fc/K562_bottom_200_fc.gmt\n",
      "EIF4G1 45 deg_200/K562_s2n/K562_bottom_200_signal2_noise.gmt\n",
      "EIF4G1 29 deg_200/K562_edgeR_DE/DE_bottom_200.gmt\n",
      "EIF4G1 62 deg_200/K562_DE/DE_top_200.gmt\n",
      "EIF4G2 145 deg_200/K562_fc/K562_bottom_200_fc.gmt\n",
      "EIF4G2 170 deg_200/K562_s2n/K562_bottom_200_signal2_noise.gmt\n",
      "EIF4G2 178 deg_200/K562_edgeR_DE/DE_bottom_200.gmt\n",
      "EIF4G2 142 deg_200/K562_DE/DE_top_200.gmt\n",
      "ESF1 25 deg_200/K562_fc/K562_bottom_200_fc.gmt\n"
     ]
    },
    {
     "name": "stdout",
     "output_type": "stream",
     "text": [
      "ESF1 47 deg_200/K562_s2n/K562_bottom_200_signal2_noise.gmt\n",
      "ESF1 14 deg_200/K562_edgeR_DE/DE_bottom_200.gmt\n",
      "ESF1 191 deg_200/K562_DE/DE_top_200.gmt\n",
      "EWSR1 153 deg_200/K562_fc/K562_bottom_200_fc.gmt\n",
      "EWSR1 80 deg_200/K562_s2n/K562_bottom_200_signal2_noise.gmt\n",
      "EWSR1 118 deg_200/K562_edgeR_DE/DE_bottom_200.gmt\n",
      "EWSR1 118 deg_200/K562_DE/DE_top_200.gmt\n",
      "EXOSC9 182 deg_200/K562_fc/K562_bottom_200_fc.gmt\n",
      "EXOSC9 174 deg_200/K562_s2n/K562_bottom_200_signal2_noise.gmt\n",
      "EXOSC9 189 deg_200/K562_edgeR_DE/DE_bottom_200.gmt\n",
      "EXOSC9 181 deg_200/K562_DE/DE_top_200.gmt\n",
      "FAM120A 1 deg_200/K562_fc/K562_bottom_200_fc.gmt\n",
      "FAM120A 1 deg_200/K562_s2n/K562_bottom_200_signal2_noise.gmt\n",
      "FAM120A 29 deg_200/K562_edgeR_DE/DE_bottom_200.gmt\n",
      "FAM120A 18 deg_200/K562_DE/DE_top_200.gmt\n",
      "FASTKD2 76 deg_200/K562_fc/K562_bottom_200_fc.gmt\n",
      "FASTKD2 66 deg_200/K562_s2n/K562_bottom_200_signal2_noise.gmt\n",
      "FASTKD2 3 deg_200/K562_edgeR_DE/DE_bottom_200.gmt\n",
      "FASTKD2 3 deg_200/K562_DE/DE_top_200.gmt\n",
      "FIP1L1 124 deg_200/K562_fc/K562_bottom_200_fc.gmt\n",
      "FIP1L1 86 deg_200/K562_s2n/K562_bottom_200_signal2_noise.gmt\n",
      "FIP1L1 92 deg_200/K562_edgeR_DE/DE_bottom_200.gmt\n",
      "FIP1L1 71 deg_200/K562_DE/DE_top_200.gmt\n",
      "FKBP4 140 deg_200/K562_fc/K562_bottom_200_fc.gmt\n",
      "FKBP4 167 deg_200/K562_s2n/K562_bottom_200_signal2_noise.gmt\n",
      "FKBP4 85 deg_200/K562_edgeR_DE/DE_bottom_200.gmt\n",
      "FKBP4 69 deg_200/K562_DE/DE_top_200.gmt\n",
      "FMR1 174 deg_200/K562_fc/K562_bottom_200_fc.gmt\n",
      "FMR1 144 deg_200/K562_s2n/K562_bottom_200_signal2_noise.gmt\n",
      "FMR1 184 deg_200/K562_edgeR_DE/DE_bottom_200.gmt\n",
      "FMR1 192 deg_200/K562_DE/DE_top_200.gmt\n",
      "FTO 171 deg_200/K562_fc/K562_bottom_200_fc.gmt\n",
      "FTO 134 deg_200/K562_s2n/K562_bottom_200_signal2_noise.gmt\n",
      "FTO 167 deg_200/K562_edgeR_DE/DE_bottom_200.gmt\n",
      "FTO 176 deg_200/K562_DE/DE_top_200.gmt\n",
      "FUBP3 36 deg_200/K562_fc/K562_bottom_200_fc.gmt\n",
      "FUBP3 53 deg_200/K562_s2n/K562_bottom_200_signal2_noise.gmt\n",
      "FUBP3 54 deg_200/K562_edgeR_DE/DE_bottom_200.gmt\n",
      "FUBP3 59 deg_200/K562_DE/DE_top_200.gmt\n",
      "FUS 36 deg_200/K562_fc/K562_bottom_200_fc.gmt\n",
      "FUS 98 deg_200/K562_s2n/K562_bottom_200_signal2_noise.gmt\n",
      "FUS 24 deg_200/K562_edgeR_DE/DE_bottom_200.gmt\n",
      "FUS 25 deg_200/K562_DE/DE_top_200.gmt\n",
      "FXR1 36 deg_200/K562_fc/K562_bottom_200_fc.gmt\n",
      "FXR1 27 deg_200/K562_s2n/K562_bottom_200_signal2_noise.gmt\n",
      "FXR1 31 deg_200/K562_edgeR_DE/DE_bottom_200.gmt\n",
      "FXR1 152 deg_200/K562_DE/DE_top_200.gmt\n",
      "G3BP1 15 deg_200/K562_fc/K562_bottom_200_fc.gmt\n",
      "G3BP1 26 deg_200/K562_s2n/K562_bottom_200_signal2_noise.gmt\n",
      "G3BP1 23 deg_200/K562_edgeR_DE/DE_bottom_200.gmt\n",
      "G3BP1 24 deg_200/K562_DE/DE_top_200.gmt\n",
      "G3BP2 17 deg_200/K562_fc/K562_bottom_200_fc.gmt\n",
      "G3BP2 94 deg_200/K562_s2n/K562_bottom_200_signal2_noise.gmt\n",
      "G3BP2 46 deg_200/K562_edgeR_DE/DE_bottom_200.gmt\n",
      "G3BP2 4 deg_200/K562_DE/DE_top_200.gmt\n",
      "GEMIN5 91 deg_200/K562_fc/K562_bottom_200_fc.gmt\n",
      "GEMIN5 65 deg_200/K562_s2n/K562_bottom_200_signal2_noise.gmt\n",
      "GEMIN5 170 deg_200/K562_edgeR_DE/DE_bottom_200.gmt\n",
      "GEMIN5 97 deg_200/K562_DE/DE_top_200.gmt\n",
      "GPKOW 151 deg_200/K562_fc/K562_bottom_200_fc.gmt\n",
      "GPKOW 181 deg_200/K562_s2n/K562_bottom_200_signal2_noise.gmt\n",
      "GPKOW 60 deg_200/K562_edgeR_DE/DE_bottom_200.gmt\n",
      "GPKOW 168 deg_200/K562_DE/DE_top_200.gmt\n",
      "GRSF1 8 deg_200/K562_fc/K562_bottom_200_fc.gmt\n",
      "GRSF1 90 deg_200/K562_s2n/K562_bottom_200_signal2_noise.gmt\n",
      "GRSF1 89 deg_200/K562_edgeR_DE/DE_bottom_200.gmt\n",
      "GRSF1 36 deg_200/K562_DE/DE_top_200.gmt\n",
      "GRWD1 126 deg_200/K562_fc/K562_bottom_200_fc.gmt\n",
      "GRWD1 91 deg_200/K562_s2n/K562_bottom_200_signal2_noise.gmt\n",
      "GRWD1 14 deg_200/K562_edgeR_DE/DE_bottom_200.gmt\n",
      "GRWD1 13 deg_200/K562_DE/DE_top_200.gmt\n",
      "GTF2F1 38 deg_200/K562_fc/K562_bottom_200_fc.gmt\n",
      "GTF2F1 170 deg_200/K562_s2n/K562_bottom_200_signal2_noise.gmt\n",
      "GTF2F1 59 deg_200/K562_edgeR_DE/DE_bottom_200.gmt\n",
      "GTF2F1 76 deg_200/K562_DE/DE_top_200.gmt\n",
      "HLTF 62 deg_200/K562_fc/K562_bottom_200_fc.gmt\n",
      "HLTF 164 deg_200/K562_s2n/K562_bottom_200_signal2_noise.gmt\n",
      "HLTF 163 deg_200/K562_edgeR_DE/DE_bottom_200.gmt\n",
      "HLTF 156 deg_200/K562_DE/DE_top_200.gmt\n",
      "HNRNPA0 112 deg_200/K562_fc/K562_bottom_200_fc.gmt\n",
      "HNRNPA0 29 deg_200/K562_s2n/K562_bottom_200_signal2_noise.gmt\n",
      "HNRNPA0 79 deg_200/K562_edgeR_DE/DE_bottom_200.gmt\n",
      "HNRNPA0 178 deg_200/K562_DE/DE_top_200.gmt\n",
      "HNRNPA1 171 deg_200/K562_fc/K562_bottom_200_fc.gmt\n",
      "HNRNPA1 3 deg_200/K562_s2n/K562_bottom_200_signal2_noise.gmt\n",
      "HNRNPA1 8 deg_200/K562_edgeR_DE/DE_bottom_200.gmt\n",
      "HNRNPA1 1 deg_200/K562_DE/DE_top_200.gmt\n",
      "HNRNPA2B1 53 deg_200/K562_fc/K562_bottom_200_fc.gmt\n",
      "HNRNPA2B1 74 deg_200/K562_s2n/K562_bottom_200_signal2_noise.gmt\n",
      "HNRNPA2B1 108 deg_200/K562_edgeR_DE/DE_bottom_200.gmt\n",
      "HNRNPA2B1 88 deg_200/K562_DE/DE_top_200.gmt\n",
      "HNRNPAB 109 deg_200/K562_fc/K562_bottom_200_fc.gmt\n",
      "HNRNPAB 53 deg_200/K562_s2n/K562_bottom_200_signal2_noise.gmt\n",
      "HNRNPAB 61 deg_200/K562_edgeR_DE/DE_bottom_200.gmt\n",
      "HNRNPAB 53 deg_200/K562_DE/DE_top_200.gmt\n",
      "HNRNPC 11 deg_200/K562_fc/K562_bottom_200_fc.gmt\n",
      "HNRNPC 12 deg_200/K562_s2n/K562_bottom_200_signal2_noise.gmt\n",
      "HNRNPC 66 deg_200/K562_edgeR_DE/DE_bottom_200.gmt\n",
      "HNRNPC 3 deg_200/K562_DE/DE_top_200.gmt\n",
      "HNRNPK 2 deg_200/K562_fc/K562_bottom_200_fc.gmt\n",
      "HNRNPK 10 deg_200/K562_s2n/K562_bottom_200_signal2_noise.gmt\n",
      "HNRNPK 12 deg_200/K562_edgeR_DE/DE_bottom_200.gmt\n",
      "HNRNPK 16 deg_200/K562_DE/DE_top_200.gmt\n",
      "HNRNPL 2 deg_200/K562_fc/K562_bottom_200_fc.gmt\n",
      "HNRNPL 187 deg_200/K562_s2n/K562_bottom_200_signal2_noise.gmt\n",
      "HNRNPL 5 deg_200/K562_edgeR_DE/DE_bottom_200.gmt\n",
      "HNRNPL 30 deg_200/K562_DE/DE_top_200.gmt\n",
      "HNRNPM 59 deg_200/K562_fc/K562_bottom_200_fc.gmt\n",
      "HNRNPM 94 deg_200/K562_s2n/K562_bottom_200_signal2_noise.gmt\n",
      "HNRNPM 7 deg_200/K562_edgeR_DE/DE_bottom_200.gmt\n",
      "HNRNPM 14 deg_200/K562_DE/DE_top_200.gmt\n",
      "HNRNPU 14 deg_200/K562_fc/K562_bottom_200_fc.gmt\n",
      "HNRNPU 19 deg_200/K562_s2n/K562_bottom_200_signal2_noise.gmt\n",
      "HNRNPU 72 deg_200/K562_edgeR_DE/DE_bottom_200.gmt\n",
      "HNRNPU 34 deg_200/K562_DE/DE_top_200.gmt\n",
      "HNRNPUL1 36 deg_200/K562_fc/K562_bottom_200_fc.gmt\n",
      "HNRNPUL1 85 deg_200/K562_s2n/K562_bottom_200_signal2_noise.gmt\n",
      "HNRNPUL1 119 deg_200/K562_edgeR_DE/DE_bottom_200.gmt\n",
      "HNRNPUL1 23 deg_200/K562_DE/DE_top_200.gmt\n",
      "HSPD1 122 deg_200/K562_fc/K562_bottom_200_fc.gmt\n",
      "HSPD1 2 deg_200/K562_s2n/K562_bottom_200_signal2_noise.gmt\n",
      "HSPD1 174 deg_200/K562_edgeR_DE/DE_bottom_200.gmt\n",
      "HSPD1 5 deg_200/K562_DE/DE_top_200.gmt\n",
      "IGF2BP2 3 deg_200/K562_fc/K562_bottom_200_fc.gmt\n",
      "IGF2BP2 37 deg_200/K562_s2n/K562_bottom_200_signal2_noise.gmt\n",
      "IGF2BP2 30 deg_200/K562_edgeR_DE/DE_bottom_200.gmt\n",
      "IGF2BP2 26 deg_200/K562_DE/DE_top_200.gmt\n",
      "IGF2BP3 115 deg_200/K562_fc/K562_bottom_200_fc.gmt\n",
      "IGF2BP3 121 deg_200/K562_s2n/K562_bottom_200_signal2_noise.gmt\n",
      "IGF2BP3 34 deg_200/K562_edgeR_DE/DE_bottom_200.gmt\n",
      "IGF2BP3 63 deg_200/K562_DE/DE_top_200.gmt\n",
      "ILF2 46 deg_200/K562_fc/K562_bottom_200_fc.gmt\n",
      "ILF2 15 deg_200/K562_s2n/K562_bottom_200_signal2_noise.gmt\n",
      "ILF2 102 deg_200/K562_edgeR_DE/DE_bottom_200.gmt\n",
      "ILF2 4 deg_200/K562_DE/DE_top_200.gmt\n",
      "ILF3 8 deg_200/K562_fc/K562_bottom_200_fc.gmt\n",
      "ILF3 11 deg_200/K562_s2n/K562_bottom_200_signal2_noise.gmt\n",
      "ILF3 61 deg_200/K562_edgeR_DE/DE_bottom_200.gmt\n",
      "ILF3 26 deg_200/K562_DE/DE_top_200.gmt\n",
      "KHDRBS1 21 deg_200/K562_fc/K562_bottom_200_fc.gmt\n",
      "KHDRBS1 12 deg_200/K562_s2n/K562_bottom_200_signal2_noise.gmt\n",
      "KHDRBS1 7 deg_200/K562_edgeR_DE/DE_bottom_200.gmt\n",
      "KHDRBS1 45 deg_200/K562_DE/DE_top_200.gmt\n",
      "KHSRP 9 deg_200/K562_fc/K562_bottom_200_fc.gmt\n",
      "KHSRP 14 deg_200/K562_s2n/K562_bottom_200_signal2_noise.gmt\n",
      "KHSRP 32 deg_200/K562_edgeR_DE/DE_bottom_200.gmt\n",
      "KHSRP 15 deg_200/K562_DE/DE_top_200.gmt\n",
      "KIF1C 131 deg_200/K562_fc/K562_bottom_200_fc.gmt\n",
      "KIF1C 99 deg_200/K562_s2n/K562_bottom_200_signal2_noise.gmt\n",
      "KIF1C 96 deg_200/K562_edgeR_DE/DE_bottom_200.gmt\n",
      "KIF1C 190 deg_200/K562_DE/DE_top_200.gmt\n",
      "KRR1 89 deg_200/K562_fc/K562_bottom_200_fc.gmt\n",
      "KRR1 191 deg_200/K562_s2n/K562_bottom_200_signal2_noise.gmt\n",
      "KRR1 134 deg_200/K562_edgeR_DE/DE_bottom_200.gmt\n",
      "KRR1 47 deg_200/K562_DE/DE_top_200.gmt\n",
      "LARP4 61 deg_200/K562_fc/K562_bottom_200_fc.gmt\n",
      "LARP4 1 deg_200/K562_s2n/K562_bottom_200_signal2_noise.gmt\n",
      "LARP4 78 deg_200/K562_edgeR_DE/DE_bottom_200.gmt\n",
      "LARP4 27 deg_200/K562_DE/DE_top_200.gmt\n",
      "LARP7 169 deg_200/K562_fc/K562_bottom_200_fc.gmt\n",
      "LARP7 55 deg_200/K562_s2n/K562_bottom_200_signal2_noise.gmt\n",
      "LARP7 128 deg_200/K562_edgeR_DE/DE_bottom_200.gmt\n",
      "LARP7 185 deg_200/K562_DE/DE_top_200.gmt\n",
      "LIN28B 58 deg_200/K562_fc/K562_bottom_200_fc.gmt\n",
      "LIN28B 30 deg_200/K562_s2n/K562_bottom_200_signal2_noise.gmt\n",
      "LIN28B 12 deg_200/K562_edgeR_DE/DE_bottom_200.gmt\n",
      "LIN28B 39 deg_200/K562_DE/DE_top_200.gmt\n",
      "LSM11 52 deg_200/K562_fc/K562_bottom_200_fc.gmt\n",
      "LSM11 35 deg_200/K562_s2n/K562_bottom_200_signal2_noise.gmt\n",
      "LSM11 4 deg_200/K562_edgeR_DE/DE_bottom_200.gmt\n",
      "LSM11 21 deg_200/K562_DE/DE_top_200.gmt\n",
      "MAGOH 80 deg_200/K562_fc/K562_bottom_200_fc.gmt\n",
      "MAGOH 66 deg_200/K562_s2n/K562_bottom_200_signal2_noise.gmt\n",
      "MAGOH 104 deg_200/K562_edgeR_DE/DE_bottom_200.gmt\n",
      "MAGOH 89 deg_200/K562_DE/DE_top_200.gmt\n",
      "MATR3 24 deg_200/K562_fc/K562_bottom_200_fc.gmt\n",
      "MATR3 14 deg_200/K562_s2n/K562_bottom_200_signal2_noise.gmt\n",
      "MATR3 22 deg_200/K562_edgeR_DE/DE_bottom_200.gmt\n",
      "MATR3 25 deg_200/K562_DE/DE_top_200.gmt\n",
      "METAP2 7 deg_200/K562_fc/K562_bottom_200_fc.gmt\n",
      "METAP2 30 deg_200/K562_s2n/K562_bottom_200_signal2_noise.gmt\n",
      "METAP2 15 deg_200/K562_edgeR_DE/DE_bottom_200.gmt\n",
      "METAP2 15 deg_200/K562_DE/DE_top_200.gmt\n",
      "MSI2 137 deg_200/K562_fc/K562_bottom_200_fc.gmt\n",
      "MSI2 107 deg_200/K562_s2n/K562_bottom_200_signal2_noise.gmt\n",
      "MSI2 163 deg_200/K562_edgeR_DE/DE_bottom_200.gmt\n",
      "MSI2 88 deg_200/K562_DE/DE_top_200.gmt\n",
      "MTPAP 192 deg_200/K562_fc/K562_bottom_200_fc.gmt\n",
      "MTPAP 195 deg_200/K562_s2n/K562_bottom_200_signal2_noise.gmt\n",
      "MTPAP 193 deg_200/K562_edgeR_DE/DE_bottom_200.gmt\n",
      "MTPAP 166 deg_200/K562_DE/DE_top_200.gmt\n",
      "NAA15 184 deg_200/K562_fc/K562_bottom_200_fc.gmt\n",
      "NAA15 190 deg_200/K562_s2n/K562_bottom_200_signal2_noise.gmt\n",
      "NAA15 189 deg_200/K562_edgeR_DE/DE_bottom_200.gmt\n",
      "NAA15 191 deg_200/K562_DE/DE_top_200.gmt\n",
      "NCBP2 191 deg_200/K562_fc/K562_bottom_200_fc.gmt\n",
      "NCBP2 74 deg_200/K562_s2n/K562_bottom_200_signal2_noise.gmt\n",
      "NCBP2 147 deg_200/K562_edgeR_DE/DE_bottom_200.gmt\n",
      "NCBP2 78 deg_200/K562_DE/DE_top_200.gmt\n",
      "NELFE 110 deg_200/K562_fc/K562_bottom_200_fc.gmt\n",
      "NELFE 130 deg_200/K562_s2n/K562_bottom_200_signal2_noise.gmt\n",
      "NELFE 24 deg_200/K562_edgeR_DE/DE_bottom_200.gmt\n",
      "NELFE 19 deg_200/K562_DE/DE_top_200.gmt\n",
      "NOL12 73 deg_200/K562_fc/K562_bottom_200_fc.gmt\n",
      "NOL12 26 deg_200/K562_s2n/K562_bottom_200_signal2_noise.gmt\n",
      "NOL12 19 deg_200/K562_edgeR_DE/DE_bottom_200.gmt\n",
      "NOL12 17 deg_200/K562_DE/DE_top_200.gmt\n",
      "NONO 35 deg_200/K562_fc/K562_bottom_200_fc.gmt\n",
      "NONO 7 deg_200/K562_s2n/K562_bottom_200_signal2_noise.gmt\n",
      "NONO 71 deg_200/K562_edgeR_DE/DE_bottom_200.gmt\n",
      "NONO 6 deg_200/K562_DE/DE_top_200.gmt\n",
      "NPM1 19 deg_200/K562_fc/K562_bottom_200_fc.gmt\n",
      "NPM1 28 deg_200/K562_s2n/K562_bottom_200_signal2_noise.gmt\n",
      "NPM1 81 deg_200/K562_edgeR_DE/DE_bottom_200.gmt\n",
      "NPM1 152 deg_200/K562_DE/DE_top_200.gmt\n",
      "NSUN2 185 deg_200/K562_fc/K562_bottom_200_fc.gmt\n",
      "NSUN2 192 deg_200/K562_s2n/K562_bottom_200_signal2_noise.gmt\n",
      "NSUN2 190 deg_200/K562_edgeR_DE/DE_bottom_200.gmt\n",
      "NSUN2 96 deg_200/K562_DE/DE_top_200.gmt\n",
      "NUFIP2 8 deg_200/K562_fc/K562_bottom_200_fc.gmt\n",
      "NUFIP2 3 deg_200/K562_s2n/K562_bottom_200_signal2_noise.gmt\n",
      "NUFIP2 1 deg_200/K562_edgeR_DE/DE_bottom_200.gmt\n",
      "NUFIP2 9 deg_200/K562_DE/DE_top_200.gmt\n",
      "NUSAP1 5 deg_200/K562_fc/K562_bottom_200_fc.gmt\n",
      "NUSAP1 111 deg_200/K562_s2n/K562_bottom_200_signal2_noise.gmt\n",
      "NUSAP1 44 deg_200/K562_edgeR_DE/DE_bottom_200.gmt\n",
      "NUSAP1 55 deg_200/K562_DE/DE_top_200.gmt\n",
      "PA2G4 154 deg_200/K562_fc/K562_bottom_200_fc.gmt\n",
      "PA2G4 133 deg_200/K562_s2n/K562_bottom_200_signal2_noise.gmt\n",
      "PA2G4 74 deg_200/K562_edgeR_DE/DE_bottom_200.gmt\n",
      "PA2G4 91 deg_200/K562_DE/DE_top_200.gmt\n",
      "PABPC1 38 deg_200/K562_fc/K562_bottom_200_fc.gmt\n",
      "PABPC1 179 deg_200/K562_s2n/K562_bottom_200_signal2_noise.gmt\n",
      "PABPC1 41 deg_200/K562_edgeR_DE/DE_bottom_200.gmt\n",
      "PABPC1 76 deg_200/K562_DE/DE_top_200.gmt\n",
      "PABPC4 25 deg_200/K562_fc/K562_bottom_200_fc.gmt\n",
      "PABPC4 135 deg_200/K562_s2n/K562_bottom_200_signal2_noise.gmt\n",
      "PABPC4 27 deg_200/K562_edgeR_DE/DE_bottom_200.gmt\n",
      "PABPC4 165 deg_200/K562_DE/DE_top_200.gmt\n",
      "PARN 72 deg_200/K562_fc/K562_bottom_200_fc.gmt\n",
      "PARN 101 deg_200/K562_s2n/K562_bottom_200_signal2_noise.gmt\n",
      "PARN 27 deg_200/K562_edgeR_DE/DE_bottom_200.gmt\n",
      "PARN 116 deg_200/K562_DE/DE_top_200.gmt\n",
      "PCBP1 4 deg_200/K562_fc/K562_bottom_200_fc.gmt\n",
      "PCBP1 19 deg_200/K562_s2n/K562_bottom_200_signal2_noise.gmt\n",
      "PCBP1 35 deg_200/K562_edgeR_DE/DE_bottom_200.gmt\n",
      "PCBP1 27 deg_200/K562_DE/DE_top_200.gmt\n",
      "PCBP2 7 deg_200/K562_fc/K562_bottom_200_fc.gmt\n",
      "PCBP2 41 deg_200/K562_s2n/K562_bottom_200_signal2_noise.gmt\n",
      "PCBP2 46 deg_200/K562_edgeR_DE/DE_bottom_200.gmt\n",
      "PCBP2 41 deg_200/K562_DE/DE_top_200.gmt\n",
      "PES1 49 deg_200/K562_fc/K562_bottom_200_fc.gmt\n",
      "PES1 151 deg_200/K562_s2n/K562_bottom_200_signal2_noise.gmt\n",
      "PES1 73 deg_200/K562_edgeR_DE/DE_bottom_200.gmt\n",
      "PES1 99 deg_200/K562_DE/DE_top_200.gmt\n",
      "PHF6 17 deg_200/K562_fc/K562_bottom_200_fc.gmt\n",
      "PHF6 193 deg_200/K562_s2n/K562_bottom_200_signal2_noise.gmt\n",
      "PHF6 41 deg_200/K562_edgeR_DE/DE_bottom_200.gmt\n",
      "PHF6 65 deg_200/K562_DE/DE_top_200.gmt\n",
      "PKM 4 deg_200/K562_fc/K562_bottom_200_fc.gmt\n",
      "PKM 59 deg_200/K562_s2n/K562_bottom_200_signal2_noise.gmt\n",
      "PKM 13 deg_200/K562_edgeR_DE/DE_bottom_200.gmt\n",
      "PKM 75 deg_200/K562_DE/DE_top_200.gmt\n",
      "PNPT1 197 deg_200/K562_fc/K562_bottom_200_fc.gmt\n",
      "PNPT1 197 deg_200/K562_s2n/K562_bottom_200_signal2_noise.gmt\n",
      "PNPT1 196 deg_200/K562_edgeR_DE/DE_bottom_200.gmt\n",
      "PNPT1 197 deg_200/K562_DE/DE_top_200.gmt\n",
      "PPIG 18 deg_200/K562_fc/K562_bottom_200_fc.gmt\n",
      "PPIG 86 deg_200/K562_s2n/K562_bottom_200_signal2_noise.gmt\n",
      "PPIG 1 deg_200/K562_edgeR_DE/DE_bottom_200.gmt\n",
      "PPIG 179 deg_200/K562_DE/DE_top_200.gmt\n",
      "PPIL4 123 deg_200/K562_fc/K562_bottom_200_fc.gmt\n",
      "PPIL4 68 deg_200/K562_s2n/K562_bottom_200_signal2_noise.gmt\n",
      "PPIL4 100 deg_200/K562_edgeR_DE/DE_bottom_200.gmt\n",
      "PPIL4 62 deg_200/K562_DE/DE_top_200.gmt\n",
      "PRPF6 13 deg_200/K562_fc/K562_bottom_200_fc.gmt\n",
      "PRPF6 84 deg_200/K562_s2n/K562_bottom_200_signal2_noise.gmt\n",
      "PRPF6 15 deg_200/K562_edgeR_DE/DE_bottom_200.gmt\n",
      "PRPF6 18 deg_200/K562_DE/DE_top_200.gmt\n",
      "PRPF8 6 deg_200/K562_fc/K562_bottom_200_fc.gmt\n",
      "PRPF8 5 deg_200/K562_s2n/K562_bottom_200_signal2_noise.gmt\n",
      "PRPF8 27 deg_200/K562_edgeR_DE/DE_bottom_200.gmt\n",
      "PRPF8 23 deg_200/K562_DE/DE_top_200.gmt\n",
      "PSIP1 39 deg_200/K562_fc/K562_bottom_200_fc.gmt\n",
      "PSIP1 41 deg_200/K562_s2n/K562_bottom_200_signal2_noise.gmt\n",
      "PSIP1 122 deg_200/K562_edgeR_DE/DE_bottom_200.gmt\n",
      "PSIP1 89 deg_200/K562_DE/DE_top_200.gmt\n",
      "PTBP1 104 deg_200/K562_fc/K562_bottom_200_fc.gmt\n",
      "PTBP1 168 deg_200/K562_s2n/K562_bottom_200_signal2_noise.gmt\n",
      "PTBP1 109 deg_200/K562_edgeR_DE/DE_bottom_200.gmt\n",
      "PTBP1 22 deg_200/K562_DE/DE_top_200.gmt\n",
      "PUF60 10 deg_200/K562_fc/K562_bottom_200_fc.gmt\n",
      "PUF60 10 deg_200/K562_s2n/K562_bottom_200_signal2_noise.gmt\n",
      "PUF60 26 deg_200/K562_edgeR_DE/DE_bottom_200.gmt\n"
     ]
    },
    {
     "name": "stdout",
     "output_type": "stream",
     "text": [
      "PUF60 2 deg_200/K562_DE/DE_top_200.gmt\n",
      "PUM1 40 deg_200/K562_fc/K562_bottom_200_fc.gmt\n",
      "PUM1 39 deg_200/K562_s2n/K562_bottom_200_signal2_noise.gmt\n",
      "PUM1 40 deg_200/K562_edgeR_DE/DE_bottom_200.gmt\n",
      "PUM1 32 deg_200/K562_DE/DE_top_200.gmt\n",
      "PUM2 22 deg_200/K562_fc/K562_bottom_200_fc.gmt\n",
      "PUM2 187 deg_200/K562_s2n/K562_bottom_200_signal2_noise.gmt\n",
      "PUM2 25 deg_200/K562_edgeR_DE/DE_bottom_200.gmt\n",
      "PUM2 26 deg_200/K562_DE/DE_top_200.gmt\n",
      "PUS1 114 deg_200/K562_fc/K562_bottom_200_fc.gmt\n",
      "PUS1 145 deg_200/K562_s2n/K562_bottom_200_signal2_noise.gmt\n",
      "PUS1 137 deg_200/K562_edgeR_DE/DE_bottom_200.gmt\n",
      "PUS1 171 deg_200/K562_DE/DE_top_200.gmt\n",
      "QKI 113 deg_200/K562_fc/K562_bottom_200_fc.gmt\n",
      "QKI 133 deg_200/K562_s2n/K562_bottom_200_signal2_noise.gmt\n",
      "QKI 14 deg_200/K562_edgeR_DE/DE_bottom_200.gmt\n",
      "QKI 128 deg_200/K562_DE/DE_top_200.gmt\n",
      "RAVER1 31 deg_200/K562_fc/K562_bottom_200_fc.gmt\n",
      "RAVER1 42 deg_200/K562_s2n/K562_bottom_200_signal2_noise.gmt\n",
      "RAVER1 21 deg_200/K562_edgeR_DE/DE_bottom_200.gmt\n",
      "RAVER1 25 deg_200/K562_DE/DE_top_200.gmt\n",
      "RBFOX2 38 deg_200/K562_fc/K562_bottom_200_fc.gmt\n",
      "RBFOX2 10 deg_200/K562_s2n/K562_bottom_200_signal2_noise.gmt\n",
      "RBFOX2 50 deg_200/K562_edgeR_DE/DE_bottom_200.gmt\n",
      "RBFOX2 1 deg_200/K562_DE/DE_top_200.gmt\n",
      "RBM15 2 deg_200/K562_fc/K562_bottom_200_fc.gmt\n",
      "RBM15 193 deg_200/K562_s2n/K562_bottom_200_signal2_noise.gmt\n",
      "RBM15 145 deg_200/K562_edgeR_DE/DE_bottom_200.gmt\n",
      "RBM15 197 deg_200/K562_DE/DE_top_200.gmt\n",
      "RBM17 94 deg_200/K562_fc/K562_bottom_200_fc.gmt\n",
      "RBM17 188 deg_200/K562_s2n/K562_bottom_200_signal2_noise.gmt\n",
      "RBM17 146 deg_200/K562_edgeR_DE/DE_bottom_200.gmt\n",
      "RBM17 33 deg_200/K562_DE/DE_top_200.gmt\n",
      "RBM22 17 deg_200/K562_fc/K562_bottom_200_fc.gmt\n",
      "RBM22 24 deg_200/K562_s2n/K562_bottom_200_signal2_noise.gmt\n",
      "RBM22 19 deg_200/K562_edgeR_DE/DE_bottom_200.gmt\n",
      "RBM22 29 deg_200/K562_DE/DE_top_200.gmt\n",
      "RBM25 47 deg_200/K562_fc/K562_bottom_200_fc.gmt\n",
      "RBM25 100 deg_200/K562_s2n/K562_bottom_200_signal2_noise.gmt\n",
      "RBM25 127 deg_200/K562_edgeR_DE/DE_bottom_200.gmt\n",
      "RBM25 99 deg_200/K562_DE/DE_top_200.gmt\n",
      "RBM34 151 deg_200/K562_fc/K562_bottom_200_fc.gmt\n",
      "RBM34 112 deg_200/K562_s2n/K562_bottom_200_signal2_noise.gmt\n",
      "RBM34 183 deg_200/K562_edgeR_DE/DE_bottom_200.gmt\n",
      "RBM34 78 deg_200/K562_DE/DE_top_200.gmt\n",
      "RBM39 24 deg_200/K562_fc/K562_bottom_200_fc.gmt\n",
      "RBM39 98 deg_200/K562_s2n/K562_bottom_200_signal2_noise.gmt\n",
      "RBM39 2 deg_200/K562_edgeR_DE/DE_bottom_200.gmt\n",
      "RBM39 1 deg_200/K562_DE/DE_top_200.gmt\n",
      "RCC2 6 deg_200/K562_fc/K562_bottom_200_fc.gmt\n",
      "RCC2 2 deg_200/K562_s2n/K562_bottom_200_signal2_noise.gmt\n",
      "RCC2 2 deg_200/K562_edgeR_DE/DE_bottom_200.gmt\n",
      "RCC2 11 deg_200/K562_DE/DE_top_200.gmt\n",
      "RECQL 20 deg_200/K562_fc/K562_bottom_200_fc.gmt\n",
      "RECQL 11 deg_200/K562_s2n/K562_bottom_200_signal2_noise.gmt\n",
      "RECQL 75 deg_200/K562_edgeR_DE/DE_bottom_200.gmt\n",
      "RECQL 11 deg_200/K562_DE/DE_top_200.gmt\n",
      "RPS10 2 deg_200/K562_fc/K562_bottom_200_fc.gmt\n",
      "RPS10 7 deg_200/K562_s2n/K562_bottom_200_signal2_noise.gmt\n",
      "RPS10 51 deg_200/K562_edgeR_DE/DE_bottom_200.gmt\n",
      "RPS10 31 deg_200/K562_DE/DE_top_200.gmt\n",
      "RPS19 34 deg_200/K562_fc/K562_bottom_200_fc.gmt\n",
      "RPS19 43 deg_200/K562_s2n/K562_bottom_200_signal2_noise.gmt\n",
      "RPS19 18 deg_200/K562_edgeR_DE/DE_bottom_200.gmt\n",
      "RPS19 94 deg_200/K562_DE/DE_top_200.gmt\n",
      "RPS3A 19 deg_200/K562_fc/K562_bottom_200_fc.gmt\n",
      "RPS3A 3 deg_200/K562_s2n/K562_bottom_200_signal2_noise.gmt\n",
      "RPS3A 29 deg_200/K562_edgeR_DE/DE_bottom_200.gmt\n",
      "RPS3A 10 deg_200/K562_DE/DE_top_200.gmt\n",
      "RRP9 36 deg_200/K562_fc/K562_bottom_200_fc.gmt\n",
      "RRP9 55 deg_200/K562_s2n/K562_bottom_200_signal2_noise.gmt\n",
      "RRP9 78 deg_200/K562_edgeR_DE/DE_bottom_200.gmt\n",
      "RRP9 150 deg_200/K562_DE/DE_top_200.gmt\n",
      "RTF1 5 deg_200/K562_fc/K562_bottom_200_fc.gmt\n",
      "RTF1 9 deg_200/K562_s2n/K562_bottom_200_signal2_noise.gmt\n",
      "RTF1 7 deg_200/K562_edgeR_DE/DE_bottom_200.gmt\n",
      "RTF1 1 deg_200/K562_DE/DE_top_200.gmt\n",
      "SAFB2 63 deg_200/K562_fc/K562_bottom_200_fc.gmt\n",
      "SAFB2 61 deg_200/K562_s2n/K562_bottom_200_signal2_noise.gmt\n",
      "SAFB2 140 deg_200/K562_edgeR_DE/DE_bottom_200.gmt\n",
      "SAFB2 181 deg_200/K562_DE/DE_top_200.gmt\n",
      "SART3 83 deg_200/K562_fc/K562_bottom_200_fc.gmt\n",
      "SART3 74 deg_200/K562_s2n/K562_bottom_200_signal2_noise.gmt\n",
      "SART3 111 deg_200/K562_edgeR_DE/DE_bottom_200.gmt\n",
      "SART3 171 deg_200/K562_DE/DE_top_200.gmt\n",
      "SBDS 94 deg_200/K562_fc/K562_bottom_200_fc.gmt\n",
      "SBDS 29 deg_200/K562_s2n/K562_bottom_200_signal2_noise.gmt\n",
      "SBDS 57 deg_200/K562_edgeR_DE/DE_bottom_200.gmt\n",
      "SBDS 71 deg_200/K562_DE/DE_top_200.gmt\n",
      "SERBP1 12 deg_200/K562_fc/K562_bottom_200_fc.gmt\n",
      "SERBP1 13 deg_200/K562_s2n/K562_bottom_200_signal2_noise.gmt\n",
      "SERBP1 141 deg_200/K562_edgeR_DE/DE_bottom_200.gmt\n",
      "SERBP1 35 deg_200/K562_DE/DE_top_200.gmt\n",
      "SF1 41 deg_200/K562_fc/K562_bottom_200_fc.gmt\n",
      "SF1 160 deg_200/K562_s2n/K562_bottom_200_signal2_noise.gmt\n",
      "SF1 53 deg_200/K562_edgeR_DE/DE_bottom_200.gmt\n",
      "SF1 83 deg_200/K562_DE/DE_top_200.gmt\n",
      "SF3A3 10 deg_200/K562_fc/K562_bottom_200_fc.gmt\n",
      "SF3A3 13 deg_200/K562_s2n/K562_bottom_200_signal2_noise.gmt\n",
      "SF3A3 3 deg_200/K562_edgeR_DE/DE_bottom_200.gmt\n",
      "SF3A3 42 deg_200/K562_DE/DE_top_200.gmt\n",
      "SF3B1 9 deg_200/K562_fc/K562_bottom_200_fc.gmt\n",
      "SF3B1 173 deg_200/K562_s2n/K562_bottom_200_signal2_noise.gmt\n",
      "SF3B1 188 deg_200/K562_edgeR_DE/DE_bottom_200.gmt\n",
      "SF3B1 1 deg_200/K562_DE/DE_top_200.gmt\n",
      "SF3B4 165 deg_200/K562_fc/K562_bottom_200_fc.gmt\n",
      "SF3B4 141 deg_200/K562_s2n/K562_bottom_200_signal2_noise.gmt\n",
      "SF3B4 84 deg_200/K562_edgeR_DE/DE_bottom_200.gmt\n",
      "SF3B4 63 deg_200/K562_DE/DE_top_200.gmt\n",
      "SFPQ 86 deg_200/K562_fc/K562_bottom_200_fc.gmt\n",
      "SFPQ 59 deg_200/K562_s2n/K562_bottom_200_signal2_noise.gmt\n",
      "SFPQ 159 deg_200/K562_edgeR_DE/DE_bottom_200.gmt\n",
      "SFPQ 134 deg_200/K562_DE/DE_top_200.gmt\n",
      "SLBP 23 deg_200/K562_fc/K562_bottom_200_fc.gmt\n",
      "SLBP 6 deg_200/K562_s2n/K562_bottom_200_signal2_noise.gmt\n",
      "SLBP 27 deg_200/K562_edgeR_DE/DE_bottom_200.gmt\n",
      "SLBP 24 deg_200/K562_DE/DE_top_200.gmt\n",
      "SLTM 77 deg_200/K562_fc/K562_bottom_200_fc.gmt\n",
      "SLTM 46 deg_200/K562_s2n/K562_bottom_200_signal2_noise.gmt\n",
      "SLTM 47 deg_200/K562_edgeR_DE/DE_bottom_200.gmt\n",
      "SLTM 24 deg_200/K562_DE/DE_top_200.gmt\n",
      "SMN1 28 deg_200/K562_fc/K562_bottom_200_fc.gmt\n",
      "SMN1 11 deg_200/K562_s2n/K562_bottom_200_signal2_noise.gmt\n",
      "SMN1 35 deg_200/K562_edgeR_DE/DE_bottom_200.gmt\n",
      "SMN1 31 deg_200/K562_DE/DE_top_200.gmt\n",
      "SMNDC1 33 deg_200/K562_fc/K562_bottom_200_fc.gmt\n",
      "SMNDC1 109 deg_200/K562_s2n/K562_bottom_200_signal2_noise.gmt\n",
      "SMNDC1 157 deg_200/K562_edgeR_DE/DE_bottom_200.gmt\n",
      "SMNDC1 45 deg_200/K562_DE/DE_top_200.gmt\n",
      "SND1 197 deg_200/K562_fc/K562_bottom_200_fc.gmt\n",
      "SND1 181 deg_200/K562_s2n/K562_bottom_200_signal2_noise.gmt\n",
      "SND1 182 deg_200/K562_edgeR_DE/DE_bottom_200.gmt\n",
      "SND1 150 deg_200/K562_DE/DE_top_200.gmt\n",
      "SNRNP200 73 deg_200/K562_fc/K562_bottom_200_fc.gmt\n",
      "SNRNP200 123 deg_200/K562_s2n/K562_bottom_200_signal2_noise.gmt\n",
      "SNRNP200 36 deg_200/K562_edgeR_DE/DE_bottom_200.gmt\n",
      "SNRNP200 17 deg_200/K562_DE/DE_top_200.gmt\n",
      "SRFBP1 165 deg_200/K562_fc/K562_bottom_200_fc.gmt\n",
      "SRFBP1 147 deg_200/K562_s2n/K562_bottom_200_signal2_noise.gmt\n",
      "SRFBP1 127 deg_200/K562_edgeR_DE/DE_bottom_200.gmt\n",
      "SRFBP1 70 deg_200/K562_DE/DE_top_200.gmt\n",
      "SRP68 66 deg_200/K562_fc/K562_bottom_200_fc.gmt\n",
      "SRP68 64 deg_200/K562_s2n/K562_bottom_200_signal2_noise.gmt\n",
      "SRP68 43 deg_200/K562_edgeR_DE/DE_bottom_200.gmt\n",
      "SRP68 11 deg_200/K562_DE/DE_top_200.gmt\n",
      "SRSF1 46 deg_200/K562_fc/K562_bottom_200_fc.gmt\n",
      "SRSF1 51 deg_200/K562_s2n/K562_bottom_200_signal2_noise.gmt\n",
      "SRSF1 46 deg_200/K562_edgeR_DE/DE_bottom_200.gmt\n",
      "SRSF1 21 deg_200/K562_DE/DE_top_200.gmt\n",
      "SRSF5 7 deg_200/K562_fc/K562_bottom_200_fc.gmt\n",
      "SRSF5 83 deg_200/K562_s2n/K562_bottom_200_signal2_noise.gmt\n",
      "SRSF5 79 deg_200/K562_edgeR_DE/DE_bottom_200.gmt\n",
      "SRSF5 36 deg_200/K562_DE/DE_top_200.gmt\n",
      "SSB 64 deg_200/K562_fc/K562_bottom_200_fc.gmt\n",
      "SSB 56 deg_200/K562_s2n/K562_bottom_200_signal2_noise.gmt\n",
      "SSB 53 deg_200/K562_edgeR_DE/DE_bottom_200.gmt\n",
      "SSB 26 deg_200/K562_DE/DE_top_200.gmt\n",
      "SSRP1 106 deg_200/K562_fc/K562_bottom_200_fc.gmt\n",
      "SSRP1 110 deg_200/K562_s2n/K562_bottom_200_signal2_noise.gmt\n",
      "SSRP1 127 deg_200/K562_edgeR_DE/DE_bottom_200.gmt\n",
      "SSRP1 147 deg_200/K562_DE/DE_top_200.gmt\n",
      "STAU1 23 deg_200/K562_fc/K562_bottom_200_fc.gmt\n",
      "STAU1 28 deg_200/K562_s2n/K562_bottom_200_signal2_noise.gmt\n",
      "STAU1 4 deg_200/K562_edgeR_DE/DE_bottom_200.gmt\n",
      "STAU1 30 deg_200/K562_DE/DE_top_200.gmt\n",
      "STIP1 52 deg_200/K562_fc/K562_bottom_200_fc.gmt\n",
      "STIP1 16 deg_200/K562_s2n/K562_bottom_200_signal2_noise.gmt\n",
      "STIP1 10 deg_200/K562_edgeR_DE/DE_bottom_200.gmt\n",
      "STIP1 1 deg_200/K562_DE/DE_top_200.gmt\n",
      "SUB1 173 deg_200/K562_fc/K562_bottom_200_fc.gmt\n",
      "SUB1 71 deg_200/K562_s2n/K562_bottom_200_signal2_noise.gmt\n",
      "SUB1 141 deg_200/K562_edgeR_DE/DE_bottom_200.gmt\n",
      "SUB1 56 deg_200/K562_DE/DE_top_200.gmt\n",
      "SUCLG1 26 deg_200/K562_fc/K562_bottom_200_fc.gmt\n",
      "SUCLG1 24 deg_200/K562_s2n/K562_bottom_200_signal2_noise.gmt\n",
      "SUCLG1 34 deg_200/K562_edgeR_DE/DE_bottom_200.gmt\n",
      "SUCLG1 109 deg_200/K562_DE/DE_top_200.gmt\n",
      "SUGP2 58 deg_200/K562_fc/K562_bottom_200_fc.gmt\n",
      "SUGP2 139 deg_200/K562_s2n/K562_bottom_200_signal2_noise.gmt\n",
      "SUGP2 11 deg_200/K562_edgeR_DE/DE_bottom_200.gmt\n",
      "SUGP2 1 deg_200/K562_DE/DE_top_200.gmt\n",
      "SUPT6H 28 deg_200/K562_fc/K562_bottom_200_fc.gmt\n",
      "SUPT6H 22 deg_200/K562_s2n/K562_bottom_200_signal2_noise.gmt\n",
      "SUPT6H 12 deg_200/K562_edgeR_DE/DE_bottom_200.gmt\n",
      "SUPT6H 90 deg_200/K562_DE/DE_top_200.gmt\n",
      "SUPV3L1 4 deg_200/K562_fc/K562_bottom_200_fc.gmt\n",
      "SUPV3L1 2 deg_200/K562_s2n/K562_bottom_200_signal2_noise.gmt\n",
      "SUPV3L1 17 deg_200/K562_edgeR_DE/DE_bottom_200.gmt\n",
      "SUPV3L1 14 deg_200/K562_DE/DE_top_200.gmt\n",
      "TAF15 14 deg_200/K562_fc/K562_bottom_200_fc.gmt\n",
      "TAF15 10 deg_200/K562_s2n/K562_bottom_200_signal2_noise.gmt\n",
      "TAF15 28 deg_200/K562_edgeR_DE/DE_bottom_200.gmt\n",
      "TAF15 21 deg_200/K562_DE/DE_top_200.gmt\n",
      "TARDBP 15 deg_200/K562_fc/K562_bottom_200_fc.gmt\n",
      "TARDBP 9 deg_200/K562_s2n/K562_bottom_200_signal2_noise.gmt\n",
      "TARDBP 171 deg_200/K562_edgeR_DE/DE_bottom_200.gmt\n",
      "TARDBP 50 deg_200/K562_DE/DE_top_200.gmt\n",
      "TBRG4 23 deg_200/K562_fc/K562_bottom_200_fc.gmt\n",
      "TBRG4 73 deg_200/K562_s2n/K562_bottom_200_signal2_noise.gmt\n",
      "TBRG4 5 deg_200/K562_edgeR_DE/DE_bottom_200.gmt\n",
      "TBRG4 9 deg_200/K562_DE/DE_top_200.gmt\n",
      "TFIP11 22 deg_200/K562_fc/K562_bottom_200_fc.gmt\n",
      "TFIP11 29 deg_200/K562_s2n/K562_bottom_200_signal2_noise.gmt\n",
      "TFIP11 14 deg_200/K562_edgeR_DE/DE_bottom_200.gmt\n",
      "TFIP11 45 deg_200/K562_DE/DE_top_200.gmt\n",
      "TIA1 31 deg_200/K562_fc/K562_bottom_200_fc.gmt\n",
      "TIA1 55 deg_200/K562_s2n/K562_bottom_200_signal2_noise.gmt\n",
      "TIA1 61 deg_200/K562_edgeR_DE/DE_bottom_200.gmt\n",
      "TIA1 41 deg_200/K562_DE/DE_top_200.gmt\n",
      "TIAL1 14 deg_200/K562_fc/K562_bottom_200_fc.gmt\n",
      "TIAL1 9 deg_200/K562_s2n/K562_bottom_200_signal2_noise.gmt\n",
      "TIAL1 43 deg_200/K562_edgeR_DE/DE_bottom_200.gmt\n",
      "TIAL1 38 deg_200/K562_DE/DE_top_200.gmt\n",
      "TRA2A 104 deg_200/K562_fc/K562_bottom_200_fc.gmt\n",
      "TRA2A 106 deg_200/K562_s2n/K562_bottom_200_signal2_noise.gmt\n",
      "TRA2A 109 deg_200/K562_edgeR_DE/DE_bottom_200.gmt\n",
      "TRA2A 75 deg_200/K562_DE/DE_top_200.gmt\n",
      "TRIM56 4 deg_200/K562_fc/K562_bottom_200_fc.gmt\n",
      "TRIM56 31 deg_200/K562_s2n/K562_bottom_200_signal2_noise.gmt\n",
      "TRIM56 60 deg_200/K562_edgeR_DE/DE_bottom_200.gmt\n",
      "TRIM56 46 deg_200/K562_DE/DE_top_200.gmt\n",
      "TROVE2 41 deg_200/K562_fc/K562_bottom_200_fc.gmt\n",
      "TROVE2 151 deg_200/K562_s2n/K562_bottom_200_signal2_noise.gmt\n",
      "TROVE2 52 deg_200/K562_edgeR_DE/DE_bottom_200.gmt\n",
      "TROVE2 52 deg_200/K562_DE/DE_top_200.gmt\n",
      "TUFM 2 deg_200/K562_fc/K562_bottom_200_fc.gmt\n",
      "TUFM 100 deg_200/K562_s2n/K562_bottom_200_signal2_noise.gmt\n",
      "TUFM 6 deg_200/K562_edgeR_DE/DE_bottom_200.gmt\n",
      "TUFM 65 deg_200/K562_DE/DE_top_200.gmt\n",
      "U2AF1 21 deg_200/K562_fc/K562_bottom_200_fc.gmt\n",
      "U2AF1 89 deg_200/K562_s2n/K562_bottom_200_signal2_noise.gmt\n",
      "U2AF1 3 deg_200/K562_edgeR_DE/DE_bottom_200.gmt\n",
      "U2AF1 6 deg_200/K562_DE/DE_top_200.gmt\n",
      "U2AF2 89 deg_200/K562_fc/K562_bottom_200_fc.gmt\n",
      "U2AF2 91 deg_200/K562_s2n/K562_bottom_200_signal2_noise.gmt\n",
      "U2AF2 27 deg_200/K562_edgeR_DE/DE_bottom_200.gmt\n",
      "U2AF2 18 deg_200/K562_DE/DE_top_200.gmt\n",
      "UBE2L3 42 deg_200/K562_fc/K562_bottom_200_fc.gmt\n",
      "UBE2L3 20 deg_200/K562_s2n/K562_bottom_200_signal2_noise.gmt\n",
      "UBE2L3 27 deg_200/K562_edgeR_DE/DE_bottom_200.gmt\n",
      "UBE2L3 17 deg_200/K562_DE/DE_top_200.gmt\n",
      "UCHL5 18 deg_200/K562_fc/K562_bottom_200_fc.gmt\n",
      "UCHL5 32 deg_200/K562_s2n/K562_bottom_200_signal2_noise.gmt\n",
      "UCHL5 40 deg_200/K562_edgeR_DE/DE_bottom_200.gmt\n",
      "UCHL5 45 deg_200/K562_DE/DE_top_200.gmt\n",
      "UPF1 193 deg_200/K562_fc/K562_bottom_200_fc.gmt\n",
      "UPF1 196 deg_200/K562_s2n/K562_bottom_200_signal2_noise.gmt\n",
      "UPF1 195 deg_200/K562_edgeR_DE/DE_bottom_200.gmt\n",
      "UPF1 108 deg_200/K562_DE/DE_top_200.gmt\n",
      "UPF2 184 deg_200/K562_fc/K562_bottom_200_fc.gmt\n",
      "UPF2 64 deg_200/K562_s2n/K562_bottom_200_signal2_noise.gmt\n",
      "UPF2 6 deg_200/K562_edgeR_DE/DE_bottom_200.gmt\n",
      "UPF2 51 deg_200/K562_DE/DE_top_200.gmt\n",
      "UTP18 115 deg_200/K562_fc/K562_bottom_200_fc.gmt\n",
      "UTP18 66 deg_200/K562_s2n/K562_bottom_200_signal2_noise.gmt\n",
      "UTP18 10 deg_200/K562_edgeR_DE/DE_bottom_200.gmt\n",
      "UTP18 45 deg_200/K562_DE/DE_top_200.gmt\n",
      "UTP3 15 deg_200/K562_fc/K562_bottom_200_fc.gmt\n",
      "UTP3 25 deg_200/K562_s2n/K562_bottom_200_signal2_noise.gmt\n",
      "UTP3 170 deg_200/K562_edgeR_DE/DE_bottom_200.gmt\n",
      "UTP3 166 deg_200/K562_DE/DE_top_200.gmt\n",
      "XPO5 152 deg_200/K562_fc/K562_bottom_200_fc.gmt\n",
      "XPO5 150 deg_200/K562_s2n/K562_bottom_200_signal2_noise.gmt\n",
      "XPO5 102 deg_200/K562_edgeR_DE/DE_bottom_200.gmt\n",
      "XPO5 67 deg_200/K562_DE/DE_top_200.gmt\n",
      "XRCC5 158 deg_200/K562_fc/K562_bottom_200_fc.gmt\n",
      "XRCC5 194 deg_200/K562_s2n/K562_bottom_200_signal2_noise.gmt\n",
      "XRCC5 81 deg_200/K562_edgeR_DE/DE_bottom_200.gmt\n",
      "XRCC5 69 deg_200/K562_DE/DE_top_200.gmt\n",
      "XRCC6 52 deg_200/K562_fc/K562_bottom_200_fc.gmt\n",
      "XRCC6 97 deg_200/K562_s2n/K562_bottom_200_signal2_noise.gmt\n",
      "XRCC6 113 deg_200/K562_edgeR_DE/DE_bottom_200.gmt\n",
      "XRCC6 58 deg_200/K562_DE/DE_top_200.gmt\n",
      "XRN2 77 deg_200/K562_fc/K562_bottom_200_fc.gmt\n",
      "XRN2 61 deg_200/K562_s2n/K562_bottom_200_signal2_noise.gmt\n",
      "XRN2 6 deg_200/K562_edgeR_DE/DE_bottom_200.gmt\n",
      "XRN2 17 deg_200/K562_DE/DE_top_200.gmt\n",
      "YBX3 29 deg_200/K562_fc/K562_bottom_200_fc.gmt\n",
      "YBX3 131 deg_200/K562_s2n/K562_bottom_200_signal2_noise.gmt\n",
      "YBX3 24 deg_200/K562_edgeR_DE/DE_bottom_200.gmt\n",
      "YBX3 10 deg_200/K562_DE/DE_top_200.gmt\n",
      "ZC3H8 187 deg_200/K562_fc/K562_bottom_200_fc.gmt\n",
      "ZC3H8 194 deg_200/K562_s2n/K562_bottom_200_signal2_noise.gmt\n",
      "ZC3H8 193 deg_200/K562_edgeR_DE/DE_bottom_200.gmt\n",
      "ZC3H8 30 deg_200/K562_DE/DE_top_200.gmt\n",
      "ZRANB2 71 deg_200/K562_fc/K562_bottom_200_fc.gmt\n",
      "ZRANB2 151 deg_200/K562_s2n/K562_bottom_200_signal2_noise.gmt\n",
      "ZRANB2 80 deg_200/K562_edgeR_DE/DE_bottom_200.gmt\n",
      "ZRANB2 69 deg_200/K562_DE/DE_top_200.gmt\n"
     ]
    }
   ],
   "source": [
    "rank_dict = dict()\n",
    "for target in result_dict.keys():\n",
    "    rank_dict[target] = dict()\n",
    "    for pathway in result_dict[target]:\n",
    "        tmp_df = result_dict[target][pathway]\n",
    "        tmp_list = []\n",
    "        for p in tmp_df.columns:\n",
    "            col = tmp_df[p]\n",
    "            # fc = (tmp_df.iloc[0]+tmp_df.iloc[1])/(tmp_df.iloc[2]+tmp_df.iloc[3])\n",
    "            # fc = fc.sort_values()\n",
    "            diff =col[0] + col[1] - col[2] - col[3]\n",
    "            tmp_list.append([p, diff])\n",
    "        tmp_list.sort(key = lambda x: x[1])\n",
    "        tmp_list.reverse()\n",
    "        rank = 1\n",
    "        for t in tmp_list:\n",
    "            if t[0] == target:\n",
    "                break\n",
    "            else:\n",
    "                rank += 1\n",
    "        print(target, rank, pathway)\n",
    "        rank_dict[target][pathway] = rank"
   ]
  },
  {
   "cell_type": "code",
   "execution_count": 50,
   "id": "3931926c",
   "metadata": {},
   "outputs": [
    {
     "name": "stderr",
     "output_type": "stream",
     "text": [
      "/Users/luopin/opt/miniconda3/envs/scpa/lib/python3.10/site-packages/seaborn/categorical.py:82: FutureWarning: iteritems is deprecated and will be removed in a future version. Use .items instead.\n",
      "  plot_data = [np.asarray(s, float) for k, s in iter_data]\n"
     ]
    },
    {
     "data": {
      "text/plain": [
       "<AxesSubplot: >"
      ]
     },
     "execution_count": 50,
     "metadata": {},
     "output_type": "execute_result"
    },
    {
     "data": {
      "image/png": "[encoded data removed]",
      "text/plain": [
       "<Figure size 640x480 with 1 Axes>"
      ]
     },
     "metadata": {},
     "output_type": "display_data"
    }
   ],
   "source": [
    "rank_df = pd.DataFrame.from_dict(rank_dict)\n",
    "rank_df.transpose().to_csv('decoupler_results.diff.txt', sep='\\t')\n",
    "plt.xticks(rotation=45)\n",
    "sns.violinplot(data=rank_df.transpose())"
   ]
  },
  {
   "cell_type": "code",
   "execution_count": 52,
   "id": "b1198483",
   "metadata": {},
   "outputs": [
    {
     "name": "stdout",
     "output_type": "stream",
     "text": [
      "AARS 21 deg_200/K562_fc/K562_bottom_200_fc.gmt\n",
      "AARS 22 deg_200/K562_s2n/K562_bottom_200_signal2_noise.gmt\n",
      "AARS 17 deg_200/K562_edgeR_DE/DE_bottom_200.gmt\n",
      "AARS 38 deg_200/K562_DE/DE_top_200.gmt\n",
      "AATF 66 deg_200/K562_fc/K562_bottom_200_fc.gmt\n",
      "AATF 34 deg_200/K562_s2n/K562_bottom_200_signal2_noise.gmt\n",
      "AATF 153 deg_200/K562_edgeR_DE/DE_bottom_200.gmt\n",
      "AATF 133 deg_200/K562_DE/DE_top_200.gmt\n",
      "ABCF1 108 deg_200/K562_fc/K562_bottom_200_fc.gmt\n",
      "ABCF1 69 deg_200/K562_s2n/K562_bottom_200_signal2_noise.gmt\n",
      "ABCF1 20 deg_200/K562_edgeR_DE/DE_bottom_200.gmt\n",
      "ABCF1 68 deg_200/K562_DE/DE_top_200.gmt\n",
      "ADAR 29 deg_200/K562_fc/K562_bottom_200_fc.gmt\n",
      "ADAR 18 deg_200/K562_s2n/K562_bottom_200_signal2_noise.gmt\n",
      "ADAR 133 deg_200/K562_edgeR_DE/DE_bottom_200.gmt\n",
      "ADAR 71 deg_200/K562_DE/DE_top_200.gmt\n",
      "AGO1 186 deg_200/K562_fc/K562_bottom_200_fc.gmt\n",
      "AGO1 109 deg_200/K562_s2n/K562_bottom_200_signal2_noise.gmt\n",
      "AGO1 125 deg_200/K562_edgeR_DE/DE_bottom_200.gmt\n",
      "AGO1 197 deg_200/K562_DE/DE_top_200.gmt\n",
      "AKAP1 160 deg_200/K562_fc/K562_bottom_200_fc.gmt\n",
      "AKAP1 144 deg_200/K562_s2n/K562_bottom_200_signal2_noise.gmt\n",
      "AKAP1 50 deg_200/K562_edgeR_DE/DE_bottom_200.gmt\n",
      "AKAP1 104 deg_200/K562_DE/DE_top_200.gmt\n",
      "AKAP8 171 deg_200/K562_fc/K562_bottom_200_fc.gmt\n",
      "AKAP8 40 deg_200/K562_s2n/K562_bottom_200_signal2_noise.gmt\n",
      "AKAP8 47 deg_200/K562_edgeR_DE/DE_bottom_200.gmt\n",
      "AKAP8 21 deg_200/K562_DE/DE_top_200.gmt\n",
      "AKAP8L 29 deg_200/K562_fc/K562_bottom_200_fc.gmt\n",
      "AKAP8L 22 deg_200/K562_s2n/K562_bottom_200_signal2_noise.gmt\n",
      "AKAP8L 108 deg_200/K562_edgeR_DE/DE_bottom_200.gmt\n",
      "AKAP8L 11 deg_200/K562_DE/DE_top_200.gmt\n",
      "APOBEC3C 71 deg_200/K562_fc/K562_bottom_200_fc.gmt\n",
      "APOBEC3C 63 deg_200/K562_s2n/K562_bottom_200_signal2_noise.gmt\n",
      "APOBEC3C 102 deg_200/K562_edgeR_DE/DE_bottom_200.gmt\n",
      "APOBEC3C 46 deg_200/K562_DE/DE_top_200.gmt\n",
      "ASCC1 162 deg_200/K562_fc/K562_bottom_200_fc.gmt\n",
      "ASCC1 134 deg_200/K562_s2n/K562_bottom_200_signal2_noise.gmt\n",
      "ASCC1 16 deg_200/K562_edgeR_DE/DE_bottom_200.gmt\n",
      "ASCC1 28 deg_200/K562_DE/DE_top_200.gmt\n",
      "ATP5C1 102 deg_200/K562_fc/K562_bottom_200_fc.gmt\n",
      "ATP5C1 40 deg_200/K562_s2n/K562_bottom_200_signal2_noise.gmt\n",
      "ATP5C1 17 deg_200/K562_edgeR_DE/DE_bottom_200.gmt\n",
      "ATP5C1 1 deg_200/K562_DE/DE_top_200.gmt\n",
      "AUH 190 deg_200/K562_fc/K562_bottom_200_fc.gmt\n",
      "AUH 186 deg_200/K562_s2n/K562_bottom_200_signal2_noise.gmt\n",
      "AUH 88 deg_200/K562_edgeR_DE/DE_bottom_200.gmt\n",
      "AUH 120 deg_200/K562_DE/DE_top_200.gmt\n",
      "BCCIP 151 deg_200/K562_fc/K562_bottom_200_fc.gmt\n",
      "BCCIP 145 deg_200/K562_s2n/K562_bottom_200_signal2_noise.gmt\n",
      "BCCIP 84 deg_200/K562_edgeR_DE/DE_bottom_200.gmt\n",
      "BCCIP 139 deg_200/K562_DE/DE_top_200.gmt\n",
      "BCLAF1 158 deg_200/K562_fc/K562_bottom_200_fc.gmt\n",
      "BCLAF1 188 deg_200/K562_s2n/K562_bottom_200_signal2_noise.gmt\n",
      "BCLAF1 88 deg_200/K562_edgeR_DE/DE_bottom_200.gmt\n",
      "BCLAF1 45 deg_200/K562_DE/DE_top_200.gmt\n",
      "BOP1 43 deg_200/K562_fc/K562_bottom_200_fc.gmt\n",
      "BOP1 14 deg_200/K562_s2n/K562_bottom_200_signal2_noise.gmt\n",
      "BOP1 184 deg_200/K562_edgeR_DE/DE_bottom_200.gmt\n",
      "BOP1 84 deg_200/K562_DE/DE_top_200.gmt\n",
      "BUD13 28 deg_200/K562_fc/K562_bottom_200_fc.gmt\n",
      "BUD13 90 deg_200/K562_s2n/K562_bottom_200_signal2_noise.gmt\n",
      "BUD13 11 deg_200/K562_edgeR_DE/DE_bottom_200.gmt\n",
      "BUD13 141 deg_200/K562_DE/DE_top_200.gmt\n",
      "CCAR1 79 deg_200/K562_fc/K562_bottom_200_fc.gmt\n",
      "CCAR1 77 deg_200/K562_s2n/K562_bottom_200_signal2_noise.gmt\n",
      "CCAR1 54 deg_200/K562_edgeR_DE/DE_bottom_200.gmt\n",
      "CCAR1 123 deg_200/K562_DE/DE_top_200.gmt\n",
      "CCAR2 79 deg_200/K562_fc/K562_bottom_200_fc.gmt\n",
      "CCAR2 190 deg_200/K562_s2n/K562_bottom_200_signal2_noise.gmt\n",
      "CCAR2 2 deg_200/K562_edgeR_DE/DE_bottom_200.gmt\n",
      "CCAR2 17 deg_200/K562_DE/DE_top_200.gmt\n",
      "CELF1 95 deg_200/K562_fc/K562_bottom_200_fc.gmt\n",
      "CELF1 192 deg_200/K562_s2n/K562_bottom_200_signal2_noise.gmt\n",
      "CELF1 184 deg_200/K562_edgeR_DE/DE_bottom_200.gmt\n",
      "CELF1 80 deg_200/K562_DE/DE_top_200.gmt\n",
      "CIRBP 129 deg_200/K562_fc/K562_bottom_200_fc.gmt\n",
      "CIRBP 76 deg_200/K562_s2n/K562_bottom_200_signal2_noise.gmt\n",
      "CIRBP 108 deg_200/K562_edgeR_DE/DE_bottom_200.gmt\n",
      "CIRBP 140 deg_200/K562_DE/DE_top_200.gmt\n",
      "CKAP4 161 deg_200/K562_fc/K562_bottom_200_fc.gmt\n",
      "CKAP4 178 deg_200/K562_s2n/K562_bottom_200_signal2_noise.gmt\n",
      "CKAP4 188 deg_200/K562_edgeR_DE/DE_bottom_200.gmt\n",
      "CKAP4 71 deg_200/K562_DE/DE_top_200.gmt\n",
      "CNOT7 52 deg_200/K562_fc/K562_bottom_200_fc.gmt\n",
      "CNOT7 71 deg_200/K562_s2n/K562_bottom_200_signal2_noise.gmt\n",
      "CNOT7 91 deg_200/K562_edgeR_DE/DE_bottom_200.gmt\n",
      "CNOT7 89 deg_200/K562_DE/DE_top_200.gmt\n",
      "CPSF6 22 deg_200/K562_fc/K562_bottom_200_fc.gmt\n",
      "CPSF6 18 deg_200/K562_s2n/K562_bottom_200_signal2_noise.gmt\n",
      "CPSF6 24 deg_200/K562_edgeR_DE/DE_bottom_200.gmt\n",
      "CPSF6 129 deg_200/K562_DE/DE_top_200.gmt\n",
      "CPSF7 108 deg_200/K562_fc/K562_bottom_200_fc.gmt\n",
      "CPSF7 144 deg_200/K562_s2n/K562_bottom_200_signal2_noise.gmt\n",
      "CPSF7 55 deg_200/K562_edgeR_DE/DE_bottom_200.gmt\n",
      "CPSF7 69 deg_200/K562_DE/DE_top_200.gmt\n",
      "CSTF2 179 deg_200/K562_fc/K562_bottom_200_fc.gmt\n",
      "CSTF2 139 deg_200/K562_s2n/K562_bottom_200_signal2_noise.gmt\n",
      "CSTF2 15 deg_200/K562_edgeR_DE/DE_bottom_200.gmt\n",
      "CSTF2 164 deg_200/K562_DE/DE_top_200.gmt\n",
      "CSTF2T 37 deg_200/K562_fc/K562_bottom_200_fc.gmt\n",
      "CSTF2T 162 deg_200/K562_s2n/K562_bottom_200_signal2_noise.gmt\n",
      "CSTF2T 94 deg_200/K562_edgeR_DE/DE_bottom_200.gmt\n",
      "CSTF2T 63 deg_200/K562_DE/DE_top_200.gmt\n",
      "DAZAP1 162 deg_200/K562_fc/K562_bottom_200_fc.gmt\n",
      "DAZAP1 31 deg_200/K562_s2n/K562_bottom_200_signal2_noise.gmt\n",
      "DAZAP1 190 deg_200/K562_edgeR_DE/DE_bottom_200.gmt\n",
      "DAZAP1 78 deg_200/K562_DE/DE_top_200.gmt\n",
      "DDX1 28 deg_200/K562_fc/K562_bottom_200_fc.gmt\n",
      "DDX1 20 deg_200/K562_s2n/K562_bottom_200_signal2_noise.gmt\n",
      "DDX1 97 deg_200/K562_edgeR_DE/DE_bottom_200.gmt\n",
      "DDX1 104 deg_200/K562_DE/DE_top_200.gmt\n",
      "DDX19B 25 deg_200/K562_fc/K562_bottom_200_fc.gmt\n",
      "DDX19B 11 deg_200/K562_s2n/K562_bottom_200_signal2_noise.gmt\n",
      "DDX19B 65 deg_200/K562_edgeR_DE/DE_bottom_200.gmt\n",
      "DDX19B 16 deg_200/K562_DE/DE_top_200.gmt\n",
      "DDX24 147 deg_200/K562_fc/K562_bottom_200_fc.gmt\n",
      "DDX24 175 deg_200/K562_s2n/K562_bottom_200_signal2_noise.gmt\n",
      "DDX24 176 deg_200/K562_edgeR_DE/DE_bottom_200.gmt\n",
      "DDX24 104 deg_200/K562_DE/DE_top_200.gmt\n",
      "DDX27 171 deg_200/K562_fc/K562_bottom_200_fc.gmt\n",
      "DDX27 160 deg_200/K562_s2n/K562_bottom_200_signal2_noise.gmt\n",
      "DDX27 20 deg_200/K562_edgeR_DE/DE_bottom_200.gmt\n",
      "DDX27 156 deg_200/K562_DE/DE_top_200.gmt\n",
      "DDX28 57 deg_200/K562_fc/K562_bottom_200_fc.gmt\n",
      "DDX28 124 deg_200/K562_s2n/K562_bottom_200_signal2_noise.gmt\n",
      "DDX28 10 deg_200/K562_edgeR_DE/DE_bottom_200.gmt\n",
      "DDX28 16 deg_200/K562_DE/DE_top_200.gmt\n",
      "DDX3X 133 deg_200/K562_fc/K562_bottom_200_fc.gmt\n",
      "DDX3X 107 deg_200/K562_s2n/K562_bottom_200_signal2_noise.gmt\n",
      "DDX3X 108 deg_200/K562_edgeR_DE/DE_bottom_200.gmt\n",
      "DDX3X 133 deg_200/K562_DE/DE_top_200.gmt\n",
      "DDX47 84 deg_200/K562_fc/K562_bottom_200_fc.gmt\n",
      "DDX47 179 deg_200/K562_s2n/K562_bottom_200_signal2_noise.gmt\n",
      "DDX47 183 deg_200/K562_edgeR_DE/DE_bottom_200.gmt\n",
      "DDX47 29 deg_200/K562_DE/DE_top_200.gmt\n",
      "DDX52 180 deg_200/K562_fc/K562_bottom_200_fc.gmt\n",
      "DDX52 118 deg_200/K562_s2n/K562_bottom_200_signal2_noise.gmt\n",
      "DDX52 24 deg_200/K562_edgeR_DE/DE_bottom_200.gmt\n",
      "DDX52 47 deg_200/K562_DE/DE_top_200.gmt\n",
      "DDX55 141 deg_200/K562_fc/K562_bottom_200_fc.gmt\n",
      "DDX55 161 deg_200/K562_s2n/K562_bottom_200_signal2_noise.gmt\n",
      "DDX55 67 deg_200/K562_edgeR_DE/DE_bottom_200.gmt\n",
      "DDX55 188 deg_200/K562_DE/DE_top_200.gmt\n",
      "DDX6 156 deg_200/K562_fc/K562_bottom_200_fc.gmt\n",
      "DDX6 110 deg_200/K562_s2n/K562_bottom_200_signal2_noise.gmt\n",
      "DDX6 68 deg_200/K562_edgeR_DE/DE_bottom_200.gmt\n",
      "DDX6 116 deg_200/K562_DE/DE_top_200.gmt\n",
      "DHX30 44 deg_200/K562_fc/K562_bottom_200_fc.gmt\n",
      "DHX30 174 deg_200/K562_s2n/K562_bottom_200_signal2_noise.gmt\n",
      "DHX30 32 deg_200/K562_edgeR_DE/DE_bottom_200.gmt\n",
      "DHX30 22 deg_200/K562_DE/DE_top_200.gmt\n",
      "DKC1 48 deg_200/K562_fc/K562_bottom_200_fc.gmt\n",
      "DKC1 183 deg_200/K562_s2n/K562_bottom_200_signal2_noise.gmt\n",
      "DKC1 152 deg_200/K562_edgeR_DE/DE_bottom_200.gmt\n",
      "DKC1 21 deg_200/K562_DE/DE_top_200.gmt\n",
      "DNAJC2 130 deg_200/K562_fc/K562_bottom_200_fc.gmt\n",
      "DNAJC2 190 deg_200/K562_s2n/K562_bottom_200_signal2_noise.gmt\n",
      "DNAJC2 59 deg_200/K562_edgeR_DE/DE_bottom_200.gmt\n",
      "DNAJC2 179 deg_200/K562_DE/DE_top_200.gmt\n",
      "DNAJC21 70 deg_200/K562_fc/K562_bottom_200_fc.gmt\n",
      "DNAJC21 17 deg_200/K562_s2n/K562_bottom_200_signal2_noise.gmt\n",
      "DNAJC21 58 deg_200/K562_edgeR_DE/DE_bottom_200.gmt\n",
      "DNAJC21 134 deg_200/K562_DE/DE_top_200.gmt\n",
      "EEF2 22 deg_200/K562_fc/K562_bottom_200_fc.gmt\n",
      "EEF2 16 deg_200/K562_s2n/K562_bottom_200_signal2_noise.gmt\n",
      "EEF2 5 deg_200/K562_edgeR_DE/DE_bottom_200.gmt\n",
      "EEF2 49 deg_200/K562_DE/DE_top_200.gmt\n",
      "EFTUD2 115 deg_200/K562_fc/K562_bottom_200_fc.gmt\n",
      "EFTUD2 86 deg_200/K562_s2n/K562_bottom_200_signal2_noise.gmt\n",
      "EFTUD2 105 deg_200/K562_edgeR_DE/DE_bottom_200.gmt\n",
      "EFTUD2 92 deg_200/K562_DE/DE_top_200.gmt\n",
      "EIF2S1 127 deg_200/K562_fc/K562_bottom_200_fc.gmt\n",
      "EIF2S1 90 deg_200/K562_s2n/K562_bottom_200_signal2_noise.gmt\n",
      "EIF2S1 159 deg_200/K562_edgeR_DE/DE_bottom_200.gmt\n",
      "EIF2S1 141 deg_200/K562_DE/DE_top_200.gmt\n",
      "EIF2S2 157 deg_200/K562_fc/K562_bottom_200_fc.gmt\n",
      "EIF2S2 97 deg_200/K562_s2n/K562_bottom_200_signal2_noise.gmt\n",
      "EIF2S2 189 deg_200/K562_edgeR_DE/DE_bottom_200.gmt\n",
      "EIF2S2 178 deg_200/K562_DE/DE_top_200.gmt\n",
      "EIF3D 130 deg_200/K562_fc/K562_bottom_200_fc.gmt\n",
      "EIF3D 90 deg_200/K562_s2n/K562_bottom_200_signal2_noise.gmt\n",
      "EIF3D 168 deg_200/K562_edgeR_DE/DE_bottom_200.gmt\n",
      "EIF3D 116 deg_200/K562_DE/DE_top_200.gmt\n",
      "EIF3G 138 deg_200/K562_fc/K562_bottom_200_fc.gmt\n",
      "EIF3G 71 deg_200/K562_s2n/K562_bottom_200_signal2_noise.gmt\n",
      "EIF3G 130 deg_200/K562_edgeR_DE/DE_bottom_200.gmt\n",
      "EIF3G 132 deg_200/K562_DE/DE_top_200.gmt\n",
      "EIF4A3 111 deg_200/K562_fc/K562_bottom_200_fc.gmt\n",
      "EIF4A3 90 deg_200/K562_s2n/K562_bottom_200_signal2_noise.gmt\n",
      "EIF4A3 168 deg_200/K562_edgeR_DE/DE_bottom_200.gmt\n",
      "EIF4A3 154 deg_200/K562_DE/DE_top_200.gmt\n",
      "EIF4B 96 deg_200/K562_fc/K562_bottom_200_fc.gmt\n",
      "EIF4B 88 deg_200/K562_s2n/K562_bottom_200_signal2_noise.gmt\n",
      "EIF4B 162 deg_200/K562_edgeR_DE/DE_bottom_200.gmt\n",
      "EIF4B 85 deg_200/K562_DE/DE_top_200.gmt\n",
      "EIF4G1 42 deg_200/K562_fc/K562_bottom_200_fc.gmt\n",
      "EIF4G1 15 deg_200/K562_s2n/K562_bottom_200_signal2_noise.gmt\n",
      "EIF4G1 130 deg_200/K562_edgeR_DE/DE_bottom_200.gmt\n",
      "EIF4G1 95 deg_200/K562_DE/DE_top_200.gmt\n",
      "EIF4G2 125 deg_200/K562_fc/K562_bottom_200_fc.gmt\n",
      "EIF4G2 188 deg_200/K562_s2n/K562_bottom_200_signal2_noise.gmt\n",
      "EIF4G2 152 deg_200/K562_edgeR_DE/DE_bottom_200.gmt\n",
      "EIF4G2 184 deg_200/K562_DE/DE_top_200.gmt\n",
      "ESF1 127 deg_200/K562_fc/K562_bottom_200_fc.gmt\n",
      "ESF1 114 deg_200/K562_s2n/K562_bottom_200_signal2_noise.gmt\n",
      "ESF1 191 deg_200/K562_edgeR_DE/DE_bottom_200.gmt\n",
      "ESF1 8 deg_200/K562_DE/DE_top_200.gmt\n",
      "EWSR1 174 deg_200/K562_fc/K562_bottom_200_fc.gmt\n",
      "EWSR1 150 deg_200/K562_s2n/K562_bottom_200_signal2_noise.gmt\n",
      "EWSR1 133 deg_200/K562_edgeR_DE/DE_bottom_200.gmt\n",
      "EWSR1 190 deg_200/K562_DE/DE_top_200.gmt\n",
      "EXOSC9 169 deg_200/K562_fc/K562_bottom_200_fc.gmt\n",
      "EXOSC9 165 deg_200/K562_s2n/K562_bottom_200_signal2_noise.gmt\n",
      "EXOSC9 37 deg_200/K562_edgeR_DE/DE_bottom_200.gmt\n",
      "EXOSC9 56 deg_200/K562_DE/DE_top_200.gmt\n",
      "FAM120A 122 deg_200/K562_fc/K562_bottom_200_fc.gmt\n",
      "FAM120A 75 deg_200/K562_s2n/K562_bottom_200_signal2_noise.gmt\n",
      "FAM120A 170 deg_200/K562_edgeR_DE/DE_bottom_200.gmt\n",
      "FAM120A 175 deg_200/K562_DE/DE_top_200.gmt\n",
      "FASTKD2 185 deg_200/K562_fc/K562_bottom_200_fc.gmt\n",
      "FASTKD2 155 deg_200/K562_s2n/K562_bottom_200_signal2_noise.gmt\n",
      "FASTKD2 84 deg_200/K562_edgeR_DE/DE_bottom_200.gmt\n",
      "FASTKD2 185 deg_200/K562_DE/DE_top_200.gmt\n",
      "FIP1L1 187 deg_200/K562_fc/K562_bottom_200_fc.gmt\n",
      "FIP1L1 91 deg_200/K562_s2n/K562_bottom_200_signal2_noise.gmt\n",
      "FIP1L1 187 deg_200/K562_edgeR_DE/DE_bottom_200.gmt\n",
      "FIP1L1 178 deg_200/K562_DE/DE_top_200.gmt\n",
      "FKBP4 109 deg_200/K562_fc/K562_bottom_200_fc.gmt\n",
      "FKBP4 80 deg_200/K562_s2n/K562_bottom_200_signal2_noise.gmt\n",
      "FKBP4 93 deg_200/K562_edgeR_DE/DE_bottom_200.gmt\n",
      "FKBP4 89 deg_200/K562_DE/DE_top_200.gmt\n",
      "FMR1 10 deg_200/K562_fc/K562_bottom_200_fc.gmt\n",
      "FMR1 10 deg_200/K562_s2n/K562_bottom_200_signal2_noise.gmt\n",
      "FMR1 37 deg_200/K562_edgeR_DE/DE_bottom_200.gmt\n",
      "FMR1 10 deg_200/K562_DE/DE_top_200.gmt\n",
      "FTO 17 deg_200/K562_fc/K562_bottom_200_fc.gmt\n",
      "FTO 9 deg_200/K562_s2n/K562_bottom_200_signal2_noise.gmt\n",
      "FTO 118 deg_200/K562_edgeR_DE/DE_bottom_200.gmt\n",
      "FTO 38 deg_200/K562_DE/DE_top_200.gmt\n",
      "FUBP3 192 deg_200/K562_fc/K562_bottom_200_fc.gmt\n",
      "FUBP3 172 deg_200/K562_s2n/K562_bottom_200_signal2_noise.gmt\n",
      "FUBP3 138 deg_200/K562_edgeR_DE/DE_bottom_200.gmt\n",
      "FUBP3 107 deg_200/K562_DE/DE_top_200.gmt\n",
      "FUS 147 deg_200/K562_fc/K562_bottom_200_fc.gmt\n",
      "FUS 139 deg_200/K562_s2n/K562_bottom_200_signal2_noise.gmt\n",
      "FUS 92 deg_200/K562_edgeR_DE/DE_bottom_200.gmt\n",
      "FUS 178 deg_200/K562_DE/DE_top_200.gmt\n",
      "FXR1 59 deg_200/K562_fc/K562_bottom_200_fc.gmt\n",
      "FXR1 57 deg_200/K562_s2n/K562_bottom_200_signal2_noise.gmt\n",
      "FXR1 90 deg_200/K562_edgeR_DE/DE_bottom_200.gmt\n",
      "FXR1 18 deg_200/K562_DE/DE_top_200.gmt\n",
      "G3BP1 173 deg_200/K562_fc/K562_bottom_200_fc.gmt\n",
      "G3BP1 153 deg_200/K562_s2n/K562_bottom_200_signal2_noise.gmt\n",
      "G3BP1 135 deg_200/K562_edgeR_DE/DE_bottom_200.gmt\n",
      "G3BP1 144 deg_200/K562_DE/DE_top_200.gmt\n",
      "G3BP2 24 deg_200/K562_fc/K562_bottom_200_fc.gmt\n",
      "G3BP2 33 deg_200/K562_s2n/K562_bottom_200_signal2_noise.gmt\n",
      "G3BP2 50 deg_200/K562_edgeR_DE/DE_bottom_200.gmt\n",
      "G3BP2 19 deg_200/K562_DE/DE_top_200.gmt\n",
      "GEMIN5 168 deg_200/K562_fc/K562_bottom_200_fc.gmt\n",
      "GEMIN5 148 deg_200/K562_s2n/K562_bottom_200_signal2_noise.gmt\n",
      "GEMIN5 49 deg_200/K562_edgeR_DE/DE_bottom_200.gmt\n",
      "GEMIN5 142 deg_200/K562_DE/DE_top_200.gmt\n",
      "GPKOW 8 deg_200/K562_fc/K562_bottom_200_fc.gmt\n",
      "GPKOW 11 deg_200/K562_s2n/K562_bottom_200_signal2_noise.gmt\n",
      "GPKOW 4 deg_200/K562_edgeR_DE/DE_bottom_200.gmt\n",
      "GPKOW 117 deg_200/K562_DE/DE_top_200.gmt\n",
      "GRSF1 154 deg_200/K562_fc/K562_bottom_200_fc.gmt\n",
      "GRSF1 89 deg_200/K562_s2n/K562_bottom_200_signal2_noise.gmt\n",
      "GRSF1 196 deg_200/K562_edgeR_DE/DE_bottom_200.gmt\n",
      "GRSF1 173 deg_200/K562_DE/DE_top_200.gmt\n",
      "GRWD1 191 deg_200/K562_fc/K562_bottom_200_fc.gmt\n",
      "GRWD1 176 deg_200/K562_s2n/K562_bottom_200_signal2_noise.gmt\n",
      "GRWD1 64 deg_200/K562_edgeR_DE/DE_bottom_200.gmt\n",
      "GRWD1 56 deg_200/K562_DE/DE_top_200.gmt\n",
      "GTF2F1 22 deg_200/K562_fc/K562_bottom_200_fc.gmt\n",
      "GTF2F1 35 deg_200/K562_s2n/K562_bottom_200_signal2_noise.gmt\n",
      "GTF2F1 129 deg_200/K562_edgeR_DE/DE_bottom_200.gmt\n",
      "GTF2F1 115 deg_200/K562_DE/DE_top_200.gmt\n",
      "HLTF 187 deg_200/K562_fc/K562_bottom_200_fc.gmt\n",
      "HLTF 39 deg_200/K562_s2n/K562_bottom_200_signal2_noise.gmt\n",
      "HLTF 67 deg_200/K562_edgeR_DE/DE_bottom_200.gmt\n",
      "HLTF 43 deg_200/K562_DE/DE_top_200.gmt\n",
      "HNRNPA0 110 deg_200/K562_fc/K562_bottom_200_fc.gmt\n",
      "HNRNPA0 134 deg_200/K562_s2n/K562_bottom_200_signal2_noise.gmt\n",
      "HNRNPA0 77 deg_200/K562_edgeR_DE/DE_bottom_200.gmt\n",
      "HNRNPA0 95 deg_200/K562_DE/DE_top_200.gmt\n",
      "HNRNPA1 20 deg_200/K562_fc/K562_bottom_200_fc.gmt\n",
      "HNRNPA1 45 deg_200/K562_s2n/K562_bottom_200_signal2_noise.gmt\n",
      "HNRNPA1 167 deg_200/K562_edgeR_DE/DE_bottom_200.gmt\n",
      "HNRNPA1 156 deg_200/K562_DE/DE_top_200.gmt\n",
      "HNRNPA2B1 27 deg_200/K562_fc/K562_bottom_200_fc.gmt\n",
      "HNRNPA2B1 149 deg_200/K562_s2n/K562_bottom_200_signal2_noise.gmt\n",
      "HNRNPA2B1 99 deg_200/K562_edgeR_DE/DE_bottom_200.gmt\n",
      "HNRNPA2B1 54 deg_200/K562_DE/DE_top_200.gmt\n",
      "HNRNPAB 57 deg_200/K562_fc/K562_bottom_200_fc.gmt\n",
      "HNRNPAB 65 deg_200/K562_s2n/K562_bottom_200_signal2_noise.gmt\n",
      "HNRNPAB 154 deg_200/K562_edgeR_DE/DE_bottom_200.gmt\n",
      "HNRNPAB 150 deg_200/K562_DE/DE_top_200.gmt\n",
      "HNRNPC 35 deg_200/K562_fc/K562_bottom_200_fc.gmt\n",
      "HNRNPC 21 deg_200/K562_s2n/K562_bottom_200_signal2_noise.gmt\n",
      "HNRNPC 107 deg_200/K562_edgeR_DE/DE_bottom_200.gmt\n",
      "HNRNPC 66 deg_200/K562_DE/DE_top_200.gmt\n",
      "HNRNPK 110 deg_200/K562_fc/K562_bottom_200_fc.gmt\n",
      "HNRNPK 76 deg_200/K562_s2n/K562_bottom_200_signal2_noise.gmt\n",
      "HNRNPK 171 deg_200/K562_edgeR_DE/DE_bottom_200.gmt\n",
      "HNRNPK 118 deg_200/K562_DE/DE_top_200.gmt\n",
      "HNRNPL 111 deg_200/K562_fc/K562_bottom_200_fc.gmt\n",
      "HNRNPL 11 deg_200/K562_s2n/K562_bottom_200_signal2_noise.gmt\n"
     ]
    },
    {
     "name": "stdout",
     "output_type": "stream",
     "text": [
      "HNRNPL 35 deg_200/K562_edgeR_DE/DE_bottom_200.gmt\n",
      "HNRNPL 47 deg_200/K562_DE/DE_top_200.gmt\n",
      "HNRNPM 132 deg_200/K562_fc/K562_bottom_200_fc.gmt\n",
      "HNRNPM 142 deg_200/K562_s2n/K562_bottom_200_signal2_noise.gmt\n",
      "HNRNPM 177 deg_200/K562_edgeR_DE/DE_bottom_200.gmt\n",
      "HNRNPM 31 deg_200/K562_DE/DE_top_200.gmt\n",
      "HNRNPU 13 deg_200/K562_fc/K562_bottom_200_fc.gmt\n",
      "HNRNPU 70 deg_200/K562_s2n/K562_bottom_200_signal2_noise.gmt\n",
      "HNRNPU 164 deg_200/K562_edgeR_DE/DE_bottom_200.gmt\n",
      "HNRNPU 82 deg_200/K562_DE/DE_top_200.gmt\n",
      "HNRNPUL1 56 deg_200/K562_fc/K562_bottom_200_fc.gmt\n",
      "HNRNPUL1 98 deg_200/K562_s2n/K562_bottom_200_signal2_noise.gmt\n",
      "HNRNPUL1 124 deg_200/K562_edgeR_DE/DE_bottom_200.gmt\n",
      "HNRNPUL1 20 deg_200/K562_DE/DE_top_200.gmt\n",
      "HSPD1 6 deg_200/K562_fc/K562_bottom_200_fc.gmt\n",
      "HSPD1 119 deg_200/K562_s2n/K562_bottom_200_signal2_noise.gmt\n",
      "HSPD1 8 deg_200/K562_edgeR_DE/DE_bottom_200.gmt\n",
      "HSPD1 194 deg_200/K562_DE/DE_top_200.gmt\n",
      "IGF2BP2 112 deg_200/K562_fc/K562_bottom_200_fc.gmt\n",
      "IGF2BP2 136 deg_200/K562_s2n/K562_bottom_200_signal2_noise.gmt\n",
      "IGF2BP2 146 deg_200/K562_edgeR_DE/DE_bottom_200.gmt\n",
      "IGF2BP2 133 deg_200/K562_DE/DE_top_200.gmt\n",
      "IGF2BP3 59 deg_200/K562_fc/K562_bottom_200_fc.gmt\n",
      "IGF2BP3 125 deg_200/K562_s2n/K562_bottom_200_signal2_noise.gmt\n",
      "IGF2BP3 173 deg_200/K562_edgeR_DE/DE_bottom_200.gmt\n",
      "IGF2BP3 141 deg_200/K562_DE/DE_top_200.gmt\n",
      "ILF2 113 deg_200/K562_fc/K562_bottom_200_fc.gmt\n",
      "ILF2 125 deg_200/K562_s2n/K562_bottom_200_signal2_noise.gmt\n",
      "ILF2 140 deg_200/K562_edgeR_DE/DE_bottom_200.gmt\n",
      "ILF2 181 deg_200/K562_DE/DE_top_200.gmt\n",
      "ILF3 123 deg_200/K562_fc/K562_bottom_200_fc.gmt\n",
      "ILF3 134 deg_200/K562_s2n/K562_bottom_200_signal2_noise.gmt\n",
      "ILF3 143 deg_200/K562_edgeR_DE/DE_bottom_200.gmt\n",
      "ILF3 51 deg_200/K562_DE/DE_top_200.gmt\n",
      "KHDRBS1 46 deg_200/K562_fc/K562_bottom_200_fc.gmt\n",
      "KHDRBS1 44 deg_200/K562_s2n/K562_bottom_200_signal2_noise.gmt\n",
      "KHDRBS1 84 deg_200/K562_edgeR_DE/DE_bottom_200.gmt\n",
      "KHDRBS1 153 deg_200/K562_DE/DE_top_200.gmt\n",
      "KHSRP 195 deg_200/K562_fc/K562_bottom_200_fc.gmt\n",
      "KHSRP 95 deg_200/K562_s2n/K562_bottom_200_signal2_noise.gmt\n",
      "KHSRP 54 deg_200/K562_edgeR_DE/DE_bottom_200.gmt\n",
      "KHSRP 196 deg_200/K562_DE/DE_top_200.gmt\n",
      "KIF1C 55 deg_200/K562_fc/K562_bottom_200_fc.gmt\n",
      "KIF1C 179 deg_200/K562_s2n/K562_bottom_200_signal2_noise.gmt\n",
      "KIF1C 197 deg_200/K562_edgeR_DE/DE_bottom_200.gmt\n",
      "KIF1C 3 deg_200/K562_DE/DE_top_200.gmt\n",
      "KRR1 11 deg_200/K562_fc/K562_bottom_200_fc.gmt\n",
      "KRR1 9 deg_200/K562_s2n/K562_bottom_200_signal2_noise.gmt\n",
      "KRR1 27 deg_200/K562_edgeR_DE/DE_bottom_200.gmt\n",
      "KRR1 10 deg_200/K562_DE/DE_top_200.gmt\n",
      "LARP4 34 deg_200/K562_fc/K562_bottom_200_fc.gmt\n",
      "LARP4 19 deg_200/K562_s2n/K562_bottom_200_signal2_noise.gmt\n",
      "LARP4 79 deg_200/K562_edgeR_DE/DE_bottom_200.gmt\n",
      "LARP4 79 deg_200/K562_DE/DE_top_200.gmt\n",
      "LARP7 127 deg_200/K562_fc/K562_bottom_200_fc.gmt\n",
      "LARP7 131 deg_200/K562_s2n/K562_bottom_200_signal2_noise.gmt\n",
      "LARP7 22 deg_200/K562_edgeR_DE/DE_bottom_200.gmt\n",
      "LARP7 129 deg_200/K562_DE/DE_top_200.gmt\n",
      "LIN28B 76 deg_200/K562_fc/K562_bottom_200_fc.gmt\n",
      "LIN28B 64 deg_200/K562_s2n/K562_bottom_200_signal2_noise.gmt\n",
      "LIN28B 24 deg_200/K562_edgeR_DE/DE_bottom_200.gmt\n",
      "LIN28B 145 deg_200/K562_DE/DE_top_200.gmt\n",
      "LSM11 49 deg_200/K562_fc/K562_bottom_200_fc.gmt\n",
      "LSM11 10 deg_200/K562_s2n/K562_bottom_200_signal2_noise.gmt\n",
      "LSM11 19 deg_200/K562_edgeR_DE/DE_bottom_200.gmt\n",
      "LSM11 89 deg_200/K562_DE/DE_top_200.gmt\n",
      "MAGOH 22 deg_200/K562_fc/K562_bottom_200_fc.gmt\n",
      "MAGOH 81 deg_200/K562_s2n/K562_bottom_200_signal2_noise.gmt\n",
      "MAGOH 62 deg_200/K562_edgeR_DE/DE_bottom_200.gmt\n",
      "MAGOH 30 deg_200/K562_DE/DE_top_200.gmt\n",
      "MATR3 48 deg_200/K562_fc/K562_bottom_200_fc.gmt\n",
      "MATR3 59 deg_200/K562_s2n/K562_bottom_200_signal2_noise.gmt\n",
      "MATR3 72 deg_200/K562_edgeR_DE/DE_bottom_200.gmt\n",
      "MATR3 76 deg_200/K562_DE/DE_top_200.gmt\n",
      "METAP2 20 deg_200/K562_fc/K562_bottom_200_fc.gmt\n",
      "METAP2 88 deg_200/K562_s2n/K562_bottom_200_signal2_noise.gmt\n",
      "METAP2 41 deg_200/K562_edgeR_DE/DE_bottom_200.gmt\n",
      "METAP2 154 deg_200/K562_DE/DE_top_200.gmt\n",
      "MSI2 79 deg_200/K562_fc/K562_bottom_200_fc.gmt\n",
      "MSI2 65 deg_200/K562_s2n/K562_bottom_200_signal2_noise.gmt\n",
      "MSI2 172 deg_200/K562_edgeR_DE/DE_bottom_200.gmt\n",
      "MSI2 98 deg_200/K562_DE/DE_top_200.gmt\n",
      "MTPAP 3 deg_200/K562_fc/K562_bottom_200_fc.gmt\n",
      "MTPAP 2 deg_200/K562_s2n/K562_bottom_200_signal2_noise.gmt\n",
      "MTPAP 16 deg_200/K562_edgeR_DE/DE_bottom_200.gmt\n",
      "MTPAP 24 deg_200/K562_DE/DE_top_200.gmt\n",
      "NAA15 84 deg_200/K562_fc/K562_bottom_200_fc.gmt\n",
      "NAA15 34 deg_200/K562_s2n/K562_bottom_200_signal2_noise.gmt\n",
      "NAA15 155 deg_200/K562_edgeR_DE/DE_bottom_200.gmt\n",
      "NAA15 14 deg_200/K562_DE/DE_top_200.gmt\n",
      "NCBP2 149 deg_200/K562_fc/K562_bottom_200_fc.gmt\n",
      "NCBP2 174 deg_200/K562_s2n/K562_bottom_200_signal2_noise.gmt\n",
      "NCBP2 168 deg_200/K562_edgeR_DE/DE_bottom_200.gmt\n",
      "NCBP2 184 deg_200/K562_DE/DE_top_200.gmt\n",
      "NELFE 50 deg_200/K562_fc/K562_bottom_200_fc.gmt\n",
      "NELFE 53 deg_200/K562_s2n/K562_bottom_200_signal2_noise.gmt\n",
      "NELFE 31 deg_200/K562_edgeR_DE/DE_bottom_200.gmt\n",
      "NELFE 26 deg_200/K562_DE/DE_top_200.gmt\n",
      "NOL12 129 deg_200/K562_fc/K562_bottom_200_fc.gmt\n",
      "NOL12 192 deg_200/K562_s2n/K562_bottom_200_signal2_noise.gmt\n",
      "NOL12 125 deg_200/K562_edgeR_DE/DE_bottom_200.gmt\n",
      "NOL12 89 deg_200/K562_DE/DE_top_200.gmt\n",
      "NONO 134 deg_200/K562_fc/K562_bottom_200_fc.gmt\n",
      "NONO 82 deg_200/K562_s2n/K562_bottom_200_signal2_noise.gmt\n",
      "NONO 126 deg_200/K562_edgeR_DE/DE_bottom_200.gmt\n",
      "NONO 122 deg_200/K562_DE/DE_top_200.gmt\n",
      "NPM1 73 deg_200/K562_fc/K562_bottom_200_fc.gmt\n",
      "NPM1 79 deg_200/K562_s2n/K562_bottom_200_signal2_noise.gmt\n",
      "NPM1 147 deg_200/K562_edgeR_DE/DE_bottom_200.gmt\n",
      "NPM1 119 deg_200/K562_DE/DE_top_200.gmt\n",
      "NSUN2 14 deg_200/K562_fc/K562_bottom_200_fc.gmt\n",
      "NSUN2 6 deg_200/K562_s2n/K562_bottom_200_signal2_noise.gmt\n",
      "NSUN2 73 deg_200/K562_edgeR_DE/DE_bottom_200.gmt\n",
      "NSUN2 172 deg_200/K562_DE/DE_top_200.gmt\n",
      "NUFIP2 4 deg_200/K562_fc/K562_bottom_200_fc.gmt\n",
      "NUFIP2 3 deg_200/K562_s2n/K562_bottom_200_signal2_noise.gmt\n",
      "NUFIP2 5 deg_200/K562_edgeR_DE/DE_bottom_200.gmt\n",
      "NUFIP2 11 deg_200/K562_DE/DE_top_200.gmt\n",
      "NUSAP1 105 deg_200/K562_fc/K562_bottom_200_fc.gmt\n",
      "NUSAP1 108 deg_200/K562_s2n/K562_bottom_200_signal2_noise.gmt\n",
      "NUSAP1 110 deg_200/K562_edgeR_DE/DE_bottom_200.gmt\n",
      "NUSAP1 149 deg_200/K562_DE/DE_top_200.gmt\n",
      "PA2G4 156 deg_200/K562_fc/K562_bottom_200_fc.gmt\n",
      "PA2G4 154 deg_200/K562_s2n/K562_bottom_200_signal2_noise.gmt\n",
      "PA2G4 158 deg_200/K562_edgeR_DE/DE_bottom_200.gmt\n",
      "PA2G4 130 deg_200/K562_DE/DE_top_200.gmt\n",
      "PABPC1 84 deg_200/K562_fc/K562_bottom_200_fc.gmt\n",
      "PABPC1 72 deg_200/K562_s2n/K562_bottom_200_signal2_noise.gmt\n",
      "PABPC1 114 deg_200/K562_edgeR_DE/DE_bottom_200.gmt\n",
      "PABPC1 174 deg_200/K562_DE/DE_top_200.gmt\n",
      "PABPC4 158 deg_200/K562_fc/K562_bottom_200_fc.gmt\n",
      "PABPC4 170 deg_200/K562_s2n/K562_bottom_200_signal2_noise.gmt\n",
      "PABPC4 140 deg_200/K562_edgeR_DE/DE_bottom_200.gmt\n",
      "PABPC4 48 deg_200/K562_DE/DE_top_200.gmt\n",
      "PARN 149 deg_200/K562_fc/K562_bottom_200_fc.gmt\n",
      "PARN 165 deg_200/K562_s2n/K562_bottom_200_signal2_noise.gmt\n",
      "PARN 47 deg_200/K562_edgeR_DE/DE_bottom_200.gmt\n",
      "PARN 149 deg_200/K562_DE/DE_top_200.gmt\n",
      "PCBP1 90 deg_200/K562_fc/K562_bottom_200_fc.gmt\n",
      "PCBP1 58 deg_200/K562_s2n/K562_bottom_200_signal2_noise.gmt\n",
      "PCBP1 50 deg_200/K562_edgeR_DE/DE_bottom_200.gmt\n",
      "PCBP1 161 deg_200/K562_DE/DE_top_200.gmt\n",
      "PCBP2 99 deg_200/K562_fc/K562_bottom_200_fc.gmt\n",
      "PCBP2 68 deg_200/K562_s2n/K562_bottom_200_signal2_noise.gmt\n",
      "PCBP2 73 deg_200/K562_edgeR_DE/DE_bottom_200.gmt\n",
      "PCBP2 69 deg_200/K562_DE/DE_top_200.gmt\n",
      "PES1 166 deg_200/K562_fc/K562_bottom_200_fc.gmt\n",
      "PES1 158 deg_200/K562_s2n/K562_bottom_200_signal2_noise.gmt\n",
      "PES1 143 deg_200/K562_edgeR_DE/DE_bottom_200.gmt\n",
      "PES1 174 deg_200/K562_DE/DE_top_200.gmt\n",
      "PHF6 103 deg_200/K562_fc/K562_bottom_200_fc.gmt\n",
      "PHF6 40 deg_200/K562_s2n/K562_bottom_200_signal2_noise.gmt\n",
      "PHF6 103 deg_200/K562_edgeR_DE/DE_bottom_200.gmt\n",
      "PHF6 153 deg_200/K562_DE/DE_top_200.gmt\n",
      "PKM 8 deg_200/K562_fc/K562_bottom_200_fc.gmt\n",
      "PKM 50 deg_200/K562_s2n/K562_bottom_200_signal2_noise.gmt\n",
      "PKM 45 deg_200/K562_edgeR_DE/DE_bottom_200.gmt\n",
      "PKM 59 deg_200/K562_DE/DE_top_200.gmt\n",
      "PNPT1 2 deg_200/K562_fc/K562_bottom_200_fc.gmt\n",
      "PNPT1 2 deg_200/K562_s2n/K562_bottom_200_signal2_noise.gmt\n",
      "PNPT1 5 deg_200/K562_edgeR_DE/DE_bottom_200.gmt\n",
      "PNPT1 2 deg_200/K562_DE/DE_top_200.gmt\n",
      "PPIG 196 deg_200/K562_fc/K562_bottom_200_fc.gmt\n",
      "PPIG 125 deg_200/K562_s2n/K562_bottom_200_signal2_noise.gmt\n",
      "PPIG 193 deg_200/K562_edgeR_DE/DE_bottom_200.gmt\n",
      "PPIG 39 deg_200/K562_DE/DE_top_200.gmt\n",
      "PPIL4 92 deg_200/K562_fc/K562_bottom_200_fc.gmt\n",
      "PPIL4 102 deg_200/K562_s2n/K562_bottom_200_signal2_noise.gmt\n",
      "PPIL4 70 deg_200/K562_edgeR_DE/DE_bottom_200.gmt\n",
      "PPIL4 106 deg_200/K562_DE/DE_top_200.gmt\n",
      "PRPF6 93 deg_200/K562_fc/K562_bottom_200_fc.gmt\n",
      "PRPF6 28 deg_200/K562_s2n/K562_bottom_200_signal2_noise.gmt\n",
      "PRPF6 75 deg_200/K562_edgeR_DE/DE_bottom_200.gmt\n",
      "PRPF6 64 deg_200/K562_DE/DE_top_200.gmt\n",
      "PRPF8 97 deg_200/K562_fc/K562_bottom_200_fc.gmt\n",
      "PRPF8 44 deg_200/K562_s2n/K562_bottom_200_signal2_noise.gmt\n",
      "PRPF8 175 deg_200/K562_edgeR_DE/DE_bottom_200.gmt\n",
      "PRPF8 181 deg_200/K562_DE/DE_top_200.gmt\n",
      "PSIP1 129 deg_200/K562_fc/K562_bottom_200_fc.gmt\n",
      "PSIP1 62 deg_200/K562_s2n/K562_bottom_200_signal2_noise.gmt\n",
      "PSIP1 107 deg_200/K562_edgeR_DE/DE_bottom_200.gmt\n",
      "PSIP1 154 deg_200/K562_DE/DE_top_200.gmt\n",
      "PTBP1 95 deg_200/K562_fc/K562_bottom_200_fc.gmt\n",
      "PTBP1 50 deg_200/K562_s2n/K562_bottom_200_signal2_noise.gmt\n",
      "PTBP1 157 deg_200/K562_edgeR_DE/DE_bottom_200.gmt\n",
      "PTBP1 32 deg_200/K562_DE/DE_top_200.gmt\n",
      "PUF60 125 deg_200/K562_fc/K562_bottom_200_fc.gmt\n",
      "PUF60 181 deg_200/K562_s2n/K562_bottom_200_signal2_noise.gmt\n",
      "PUF60 130 deg_200/K562_edgeR_DE/DE_bottom_200.gmt\n",
      "PUF60 190 deg_200/K562_DE/DE_top_200.gmt\n",
      "PUM1 184 deg_200/K562_fc/K562_bottom_200_fc.gmt\n",
      "PUM1 194 deg_200/K562_s2n/K562_bottom_200_signal2_noise.gmt\n",
      "PUM1 126 deg_200/K562_edgeR_DE/DE_bottom_200.gmt\n",
      "PUM1 32 deg_200/K562_DE/DE_top_200.gmt\n",
      "PUM2 135 deg_200/K562_fc/K562_bottom_200_fc.gmt\n",
      "PUM2 115 deg_200/K562_s2n/K562_bottom_200_signal2_noise.gmt\n",
      "PUM2 182 deg_200/K562_edgeR_DE/DE_bottom_200.gmt\n",
      "PUM2 84 deg_200/K562_DE/DE_top_200.gmt\n",
      "PUS1 46 deg_200/K562_fc/K562_bottom_200_fc.gmt\n",
      "PUS1 19 deg_200/K562_s2n/K562_bottom_200_signal2_noise.gmt\n",
      "PUS1 142 deg_200/K562_edgeR_DE/DE_bottom_200.gmt\n",
      "PUS1 20 deg_200/K562_DE/DE_top_200.gmt\n",
      "QKI 36 deg_200/K562_fc/K562_bottom_200_fc.gmt\n",
      "QKI 27 deg_200/K562_s2n/K562_bottom_200_signal2_noise.gmt\n",
      "QKI 95 deg_200/K562_edgeR_DE/DE_bottom_200.gmt\n",
      "QKI 63 deg_200/K562_DE/DE_top_200.gmt\n",
      "RAVER1 77 deg_200/K562_fc/K562_bottom_200_fc.gmt\n",
      "RAVER1 21 deg_200/K562_s2n/K562_bottom_200_signal2_noise.gmt\n",
      "RAVER1 172 deg_200/K562_edgeR_DE/DE_bottom_200.gmt\n",
      "RAVER1 68 deg_200/K562_DE/DE_top_200.gmt\n",
      "RBFOX2 78 deg_200/K562_fc/K562_bottom_200_fc.gmt\n",
      "RBFOX2 41 deg_200/K562_s2n/K562_bottom_200_signal2_noise.gmt\n",
      "RBFOX2 59 deg_200/K562_edgeR_DE/DE_bottom_200.gmt\n",
      "RBFOX2 167 deg_200/K562_DE/DE_top_200.gmt\n",
      "RBM15 70 deg_200/K562_fc/K562_bottom_200_fc.gmt\n",
      "RBM15 158 deg_200/K562_s2n/K562_bottom_200_signal2_noise.gmt\n",
      "RBM15 85 deg_200/K562_edgeR_DE/DE_bottom_200.gmt\n"
     ]
    },
    {
     "name": "stdout",
     "output_type": "stream",
     "text": [
      "RBM15 3 deg_200/K562_DE/DE_top_200.gmt\n",
      "RBM17 192 deg_200/K562_fc/K562_bottom_200_fc.gmt\n",
      "RBM17 186 deg_200/K562_s2n/K562_bottom_200_signal2_noise.gmt\n",
      "RBM17 57 deg_200/K562_edgeR_DE/DE_bottom_200.gmt\n",
      "RBM17 97 deg_200/K562_DE/DE_top_200.gmt\n",
      "RBM22 130 deg_200/K562_fc/K562_bottom_200_fc.gmt\n",
      "RBM22 121 deg_200/K562_s2n/K562_bottom_200_signal2_noise.gmt\n",
      "RBM22 113 deg_200/K562_edgeR_DE/DE_bottom_200.gmt\n",
      "RBM22 74 deg_200/K562_DE/DE_top_200.gmt\n",
      "RBM25 167 deg_200/K562_fc/K562_bottom_200_fc.gmt\n",
      "RBM25 127 deg_200/K562_s2n/K562_bottom_200_signal2_noise.gmt\n",
      "RBM25 166 deg_200/K562_edgeR_DE/DE_bottom_200.gmt\n",
      "RBM25 177 deg_200/K562_DE/DE_top_200.gmt\n",
      "RBM34 132 deg_200/K562_fc/K562_bottom_200_fc.gmt\n",
      "RBM34 122 deg_200/K562_s2n/K562_bottom_200_signal2_noise.gmt\n",
      "RBM34 9 deg_200/K562_edgeR_DE/DE_bottom_200.gmt\n",
      "RBM34 50 deg_200/K562_DE/DE_top_200.gmt\n",
      "RBM39 91 deg_200/K562_fc/K562_bottom_200_fc.gmt\n",
      "RBM39 137 deg_200/K562_s2n/K562_bottom_200_signal2_noise.gmt\n",
      "RBM39 185 deg_200/K562_edgeR_DE/DE_bottom_200.gmt\n",
      "RBM39 183 deg_200/K562_DE/DE_top_200.gmt\n",
      "RCC2 36 deg_200/K562_fc/K562_bottom_200_fc.gmt\n",
      "RCC2 35 deg_200/K562_s2n/K562_bottom_200_signal2_noise.gmt\n",
      "RCC2 33 deg_200/K562_edgeR_DE/DE_bottom_200.gmt\n",
      "RCC2 22 deg_200/K562_DE/DE_top_200.gmt\n",
      "RECQL 154 deg_200/K562_fc/K562_bottom_200_fc.gmt\n",
      "RECQL 24 deg_200/K562_s2n/K562_bottom_200_signal2_noise.gmt\n",
      "RECQL 131 deg_200/K562_edgeR_DE/DE_bottom_200.gmt\n",
      "RECQL 187 deg_200/K562_DE/DE_top_200.gmt\n",
      "RPS10 65 deg_200/K562_fc/K562_bottom_200_fc.gmt\n",
      "RPS10 48 deg_200/K562_s2n/K562_bottom_200_signal2_noise.gmt\n",
      "RPS10 80 deg_200/K562_edgeR_DE/DE_bottom_200.gmt\n",
      "RPS10 112 deg_200/K562_DE/DE_top_200.gmt\n",
      "RPS19 69 deg_200/K562_fc/K562_bottom_200_fc.gmt\n",
      "RPS19 77 deg_200/K562_s2n/K562_bottom_200_signal2_noise.gmt\n",
      "RPS19 63 deg_200/K562_edgeR_DE/DE_bottom_200.gmt\n",
      "RPS19 142 deg_200/K562_DE/DE_top_200.gmt\n",
      "RPS3A 27 deg_200/K562_fc/K562_bottom_200_fc.gmt\n",
      "RPS3A 43 deg_200/K562_s2n/K562_bottom_200_signal2_noise.gmt\n",
      "RPS3A 58 deg_200/K562_edgeR_DE/DE_bottom_200.gmt\n",
      "RPS3A 29 deg_200/K562_DE/DE_top_200.gmt\n",
      "RRP9 166 deg_200/K562_fc/K562_bottom_200_fc.gmt\n",
      "RRP9 159 deg_200/K562_s2n/K562_bottom_200_signal2_noise.gmt\n",
      "RRP9 162 deg_200/K562_edgeR_DE/DE_bottom_200.gmt\n",
      "RRP9 52 deg_200/K562_DE/DE_top_200.gmt\n",
      "RTF1 35 deg_200/K562_fc/K562_bottom_200_fc.gmt\n",
      "RTF1 37 deg_200/K562_s2n/K562_bottom_200_signal2_noise.gmt\n",
      "RTF1 93 deg_200/K562_edgeR_DE/DE_bottom_200.gmt\n",
      "RTF1 24 deg_200/K562_DE/DE_top_200.gmt\n",
      "SAFB2 58 deg_200/K562_fc/K562_bottom_200_fc.gmt\n",
      "SAFB2 174 deg_200/K562_s2n/K562_bottom_200_signal2_noise.gmt\n",
      "SAFB2 27 deg_200/K562_edgeR_DE/DE_bottom_200.gmt\n",
      "SAFB2 33 deg_200/K562_DE/DE_top_200.gmt\n",
      "SART3 138 deg_200/K562_fc/K562_bottom_200_fc.gmt\n",
      "SART3 163 deg_200/K562_s2n/K562_bottom_200_signal2_noise.gmt\n",
      "SART3 179 deg_200/K562_edgeR_DE/DE_bottom_200.gmt\n",
      "SART3 65 deg_200/K562_DE/DE_top_200.gmt\n",
      "SBDS 59 deg_200/K562_fc/K562_bottom_200_fc.gmt\n",
      "SBDS 142 deg_200/K562_s2n/K562_bottom_200_signal2_noise.gmt\n",
      "SBDS 122 deg_200/K562_edgeR_DE/DE_bottom_200.gmt\n",
      "SBDS 156 deg_200/K562_DE/DE_top_200.gmt\n",
      "SERBP1 79 deg_200/K562_fc/K562_bottom_200_fc.gmt\n",
      "SERBP1 49 deg_200/K562_s2n/K562_bottom_200_signal2_noise.gmt\n",
      "SERBP1 166 deg_200/K562_edgeR_DE/DE_bottom_200.gmt\n",
      "SERBP1 54 deg_200/K562_DE/DE_top_200.gmt\n",
      "SF1 84 deg_200/K562_fc/K562_bottom_200_fc.gmt\n",
      "SF1 119 deg_200/K562_s2n/K562_bottom_200_signal2_noise.gmt\n",
      "SF1 148 deg_200/K562_edgeR_DE/DE_bottom_200.gmt\n",
      "SF1 168 deg_200/K562_DE/DE_top_200.gmt\n",
      "SF3A3 5 deg_200/K562_fc/K562_bottom_200_fc.gmt\n",
      "SF3A3 4 deg_200/K562_s2n/K562_bottom_200_signal2_noise.gmt\n",
      "SF3A3 14 deg_200/K562_edgeR_DE/DE_bottom_200.gmt\n",
      "SF3A3 106 deg_200/K562_DE/DE_top_200.gmt\n",
      "SF3B1 19 deg_200/K562_fc/K562_bottom_200_fc.gmt\n",
      "SF3B1 48 deg_200/K562_s2n/K562_bottom_200_signal2_noise.gmt\n",
      "SF3B1 107 deg_200/K562_edgeR_DE/DE_bottom_200.gmt\n",
      "SF3B1 172 deg_200/K562_DE/DE_top_200.gmt\n",
      "SF3B4 116 deg_200/K562_fc/K562_bottom_200_fc.gmt\n",
      "SF3B4 146 deg_200/K562_s2n/K562_bottom_200_signal2_noise.gmt\n",
      "SF3B4 107 deg_200/K562_edgeR_DE/DE_bottom_200.gmt\n",
      "SF3B4 120 deg_200/K562_DE/DE_top_200.gmt\n",
      "SFPQ 29 deg_200/K562_fc/K562_bottom_200_fc.gmt\n",
      "SFPQ 84 deg_200/K562_s2n/K562_bottom_200_signal2_noise.gmt\n",
      "SFPQ 41 deg_200/K562_edgeR_DE/DE_bottom_200.gmt\n",
      "SFPQ 45 deg_200/K562_DE/DE_top_200.gmt\n",
      "SLBP 90 deg_200/K562_fc/K562_bottom_200_fc.gmt\n",
      "SLBP 38 deg_200/K562_s2n/K562_bottom_200_signal2_noise.gmt\n",
      "SLBP 63 deg_200/K562_edgeR_DE/DE_bottom_200.gmt\n",
      "SLBP 138 deg_200/K562_DE/DE_top_200.gmt\n",
      "SLTM 123 deg_200/K562_fc/K562_bottom_200_fc.gmt\n",
      "SLTM 97 deg_200/K562_s2n/K562_bottom_200_signal2_noise.gmt\n",
      "SLTM 95 deg_200/K562_edgeR_DE/DE_bottom_200.gmt\n",
      "SLTM 171 deg_200/K562_DE/DE_top_200.gmt\n",
      "SMN1 85 deg_200/K562_fc/K562_bottom_200_fc.gmt\n",
      "SMN1 31 deg_200/K562_s2n/K562_bottom_200_signal2_noise.gmt\n",
      "SMN1 54 deg_200/K562_edgeR_DE/DE_bottom_200.gmt\n",
      "SMN1 77 deg_200/K562_DE/DE_top_200.gmt\n",
      "SMNDC1 177 deg_200/K562_fc/K562_bottom_200_fc.gmt\n",
      "SMNDC1 190 deg_200/K562_s2n/K562_bottom_200_signal2_noise.gmt\n",
      "SMNDC1 120 deg_200/K562_edgeR_DE/DE_bottom_200.gmt\n",
      "SMNDC1 125 deg_200/K562_DE/DE_top_200.gmt\n",
      "SND1 124 deg_200/K562_fc/K562_bottom_200_fc.gmt\n",
      "SND1 144 deg_200/K562_s2n/K562_bottom_200_signal2_noise.gmt\n",
      "SND1 28 deg_200/K562_edgeR_DE/DE_bottom_200.gmt\n",
      "SND1 159 deg_200/K562_DE/DE_top_200.gmt\n",
      "SNRNP200 130 deg_200/K562_fc/K562_bottom_200_fc.gmt\n",
      "SNRNP200 104 deg_200/K562_s2n/K562_bottom_200_signal2_noise.gmt\n",
      "SNRNP200 195 deg_200/K562_edgeR_DE/DE_bottom_200.gmt\n",
      "SNRNP200 180 deg_200/K562_DE/DE_top_200.gmt\n",
      "SRFBP1 104 deg_200/K562_fc/K562_bottom_200_fc.gmt\n",
      "SRFBP1 89 deg_200/K562_s2n/K562_bottom_200_signal2_noise.gmt\n",
      "SRFBP1 108 deg_200/K562_edgeR_DE/DE_bottom_200.gmt\n",
      "SRFBP1 77 deg_200/K562_DE/DE_top_200.gmt\n",
      "SRP68 162 deg_200/K562_fc/K562_bottom_200_fc.gmt\n",
      "SRP68 109 deg_200/K562_s2n/K562_bottom_200_signal2_noise.gmt\n",
      "SRP68 31 deg_200/K562_edgeR_DE/DE_bottom_200.gmt\n",
      "SRP68 42 deg_200/K562_DE/DE_top_200.gmt\n",
      "SRSF1 48 deg_200/K562_fc/K562_bottom_200_fc.gmt\n",
      "SRSF1 89 deg_200/K562_s2n/K562_bottom_200_signal2_noise.gmt\n",
      "SRSF1 109 deg_200/K562_edgeR_DE/DE_bottom_200.gmt\n",
      "SRSF1 25 deg_200/K562_DE/DE_top_200.gmt\n",
      "SRSF5 95 deg_200/K562_fc/K562_bottom_200_fc.gmt\n",
      "SRSF5 100 deg_200/K562_s2n/K562_bottom_200_signal2_noise.gmt\n",
      "SRSF5 99 deg_200/K562_edgeR_DE/DE_bottom_200.gmt\n",
      "SRSF5 110 deg_200/K562_DE/DE_top_200.gmt\n",
      "SSB 182 deg_200/K562_fc/K562_bottom_200_fc.gmt\n",
      "SSB 182 deg_200/K562_s2n/K562_bottom_200_signal2_noise.gmt\n",
      "SSB 164 deg_200/K562_edgeR_DE/DE_bottom_200.gmt\n",
      "SSB 190 deg_200/K562_DE/DE_top_200.gmt\n",
      "SSRP1 187 deg_200/K562_fc/K562_bottom_200_fc.gmt\n",
      "SSRP1 103 deg_200/K562_s2n/K562_bottom_200_signal2_noise.gmt\n",
      "SSRP1 35 deg_200/K562_edgeR_DE/DE_bottom_200.gmt\n",
      "SSRP1 93 deg_200/K562_DE/DE_top_200.gmt\n",
      "STAU1 197 deg_200/K562_fc/K562_bottom_200_fc.gmt\n",
      "STAU1 183 deg_200/K562_s2n/K562_bottom_200_signal2_noise.gmt\n",
      "STAU1 20 deg_200/K562_edgeR_DE/DE_bottom_200.gmt\n",
      "STAU1 76 deg_200/K562_DE/DE_top_200.gmt\n",
      "STIP1 65 deg_200/K562_fc/K562_bottom_200_fc.gmt\n",
      "STIP1 168 deg_200/K562_s2n/K562_bottom_200_signal2_noise.gmt\n",
      "STIP1 92 deg_200/K562_edgeR_DE/DE_bottom_200.gmt\n",
      "STIP1 161 deg_200/K562_DE/DE_top_200.gmt\n",
      "SUB1 52 deg_200/K562_fc/K562_bottom_200_fc.gmt\n",
      "SUB1 114 deg_200/K562_s2n/K562_bottom_200_signal2_noise.gmt\n",
      "SUB1 56 deg_200/K562_edgeR_DE/DE_bottom_200.gmt\n",
      "SUB1 91 deg_200/K562_DE/DE_top_200.gmt\n",
      "SUCLG1 145 deg_200/K562_fc/K562_bottom_200_fc.gmt\n",
      "SUCLG1 196 deg_200/K562_s2n/K562_bottom_200_signal2_noise.gmt\n",
      "SUCLG1 47 deg_200/K562_edgeR_DE/DE_bottom_200.gmt\n",
      "SUCLG1 64 deg_200/K562_DE/DE_top_200.gmt\n",
      "SUGP2 84 deg_200/K562_fc/K562_bottom_200_fc.gmt\n",
      "SUGP2 153 deg_200/K562_s2n/K562_bottom_200_signal2_noise.gmt\n",
      "SUGP2 179 deg_200/K562_edgeR_DE/DE_bottom_200.gmt\n",
      "SUGP2 177 deg_200/K562_DE/DE_top_200.gmt\n",
      "SUPT6H 149 deg_200/K562_fc/K562_bottom_200_fc.gmt\n",
      "SUPT6H 175 deg_200/K562_s2n/K562_bottom_200_signal2_noise.gmt\n",
      "SUPT6H 187 deg_200/K562_edgeR_DE/DE_bottom_200.gmt\n",
      "SUPT6H 184 deg_200/K562_DE/DE_top_200.gmt\n",
      "SUPV3L1 77 deg_200/K562_fc/K562_bottom_200_fc.gmt\n",
      "SUPV3L1 58 deg_200/K562_s2n/K562_bottom_200_signal2_noise.gmt\n",
      "SUPV3L1 87 deg_200/K562_edgeR_DE/DE_bottom_200.gmt\n",
      "SUPV3L1 25 deg_200/K562_DE/DE_top_200.gmt\n",
      "TAF15 71 deg_200/K562_fc/K562_bottom_200_fc.gmt\n",
      "TAF15 71 deg_200/K562_s2n/K562_bottom_200_signal2_noise.gmt\n",
      "TAF15 54 deg_200/K562_edgeR_DE/DE_bottom_200.gmt\n",
      "TAF15 184 deg_200/K562_DE/DE_top_200.gmt\n",
      "TARDBP 38 deg_200/K562_fc/K562_bottom_200_fc.gmt\n",
      "TARDBP 33 deg_200/K562_s2n/K562_bottom_200_signal2_noise.gmt\n",
      "TARDBP 94 deg_200/K562_edgeR_DE/DE_bottom_200.gmt\n",
      "TARDBP 69 deg_200/K562_DE/DE_top_200.gmt\n",
      "TBRG4 16 deg_200/K562_fc/K562_bottom_200_fc.gmt\n",
      "TBRG4 87 deg_200/K562_s2n/K562_bottom_200_signal2_noise.gmt\n",
      "TBRG4 10 deg_200/K562_edgeR_DE/DE_bottom_200.gmt\n",
      "TBRG4 31 deg_200/K562_DE/DE_top_200.gmt\n",
      "TFIP11 172 deg_200/K562_fc/K562_bottom_200_fc.gmt\n",
      "TFIP11 89 deg_200/K562_s2n/K562_bottom_200_signal2_noise.gmt\n",
      "TFIP11 77 deg_200/K562_edgeR_DE/DE_bottom_200.gmt\n",
      "TFIP11 108 deg_200/K562_DE/DE_top_200.gmt\n",
      "TIA1 78 deg_200/K562_fc/K562_bottom_200_fc.gmt\n",
      "TIA1 78 deg_200/K562_s2n/K562_bottom_200_signal2_noise.gmt\n",
      "TIA1 126 deg_200/K562_edgeR_DE/DE_bottom_200.gmt\n",
      "TIA1 78 deg_200/K562_DE/DE_top_200.gmt\n",
      "TIAL1 31 deg_200/K562_fc/K562_bottom_200_fc.gmt\n",
      "TIAL1 50 deg_200/K562_s2n/K562_bottom_200_signal2_noise.gmt\n",
      "TIAL1 131 deg_200/K562_edgeR_DE/DE_bottom_200.gmt\n",
      "TIAL1 83 deg_200/K562_DE/DE_top_200.gmt\n",
      "TRA2A 157 deg_200/K562_fc/K562_bottom_200_fc.gmt\n",
      "TRA2A 113 deg_200/K562_s2n/K562_bottom_200_signal2_noise.gmt\n",
      "TRA2A 95 deg_200/K562_edgeR_DE/DE_bottom_200.gmt\n",
      "TRA2A 92 deg_200/K562_DE/DE_top_200.gmt\n",
      "TRIM56 58 deg_200/K562_fc/K562_bottom_200_fc.gmt\n",
      "TRIM56 156 deg_200/K562_s2n/K562_bottom_200_signal2_noise.gmt\n",
      "TRIM56 79 deg_200/K562_edgeR_DE/DE_bottom_200.gmt\n",
      "TRIM56 134 deg_200/K562_DE/DE_top_200.gmt\n",
      "TROVE2 119 deg_200/K562_fc/K562_bottom_200_fc.gmt\n",
      "TROVE2 104 deg_200/K562_s2n/K562_bottom_200_signal2_noise.gmt\n",
      "TROVE2 126 deg_200/K562_edgeR_DE/DE_bottom_200.gmt\n",
      "TROVE2 156 deg_200/K562_DE/DE_top_200.gmt\n",
      "TUFM 154 deg_200/K562_fc/K562_bottom_200_fc.gmt\n",
      "TUFM 197 deg_200/K562_s2n/K562_bottom_200_signal2_noise.gmt\n",
      "TUFM 83 deg_200/K562_edgeR_DE/DE_bottom_200.gmt\n",
      "TUFM 193 deg_200/K562_DE/DE_top_200.gmt\n",
      "U2AF1 134 deg_200/K562_fc/K562_bottom_200_fc.gmt\n",
      "U2AF1 139 deg_200/K562_s2n/K562_bottom_200_signal2_noise.gmt\n",
      "U2AF1 135 deg_200/K562_edgeR_DE/DE_bottom_200.gmt\n",
      "U2AF1 172 deg_200/K562_DE/DE_top_200.gmt\n",
      "U2AF2 124 deg_200/K562_fc/K562_bottom_200_fc.gmt\n",
      "U2AF2 83 deg_200/K562_s2n/K562_bottom_200_signal2_noise.gmt\n",
      "U2AF2 138 deg_200/K562_edgeR_DE/DE_bottom_200.gmt\n",
      "U2AF2 99 deg_200/K562_DE/DE_top_200.gmt\n",
      "UBE2L3 169 deg_200/K562_fc/K562_bottom_200_fc.gmt\n",
      "UBE2L3 136 deg_200/K562_s2n/K562_bottom_200_signal2_noise.gmt\n",
      "UBE2L3 138 deg_200/K562_edgeR_DE/DE_bottom_200.gmt\n",
      "UBE2L3 91 deg_200/K562_DE/DE_top_200.gmt\n",
      "UCHL5 80 deg_200/K562_fc/K562_bottom_200_fc.gmt\n",
      "UCHL5 61 deg_200/K562_s2n/K562_bottom_200_signal2_noise.gmt\n",
      "UCHL5 91 deg_200/K562_edgeR_DE/DE_bottom_200.gmt\n",
      "UCHL5 71 deg_200/K562_DE/DE_top_200.gmt\n"
     ]
    },
    {
     "name": "stdout",
     "output_type": "stream",
     "text": [
      "UPF1 7 deg_200/K562_fc/K562_bottom_200_fc.gmt\n",
      "UPF1 5 deg_200/K562_s2n/K562_bottom_200_signal2_noise.gmt\n",
      "UPF1 16 deg_200/K562_edgeR_DE/DE_bottom_200.gmt\n",
      "UPF1 34 deg_200/K562_DE/DE_top_200.gmt\n",
      "UPF2 39 deg_200/K562_fc/K562_bottom_200_fc.gmt\n",
      "UPF2 187 deg_200/K562_s2n/K562_bottom_200_signal2_noise.gmt\n",
      "UPF2 7 deg_200/K562_edgeR_DE/DE_bottom_200.gmt\n",
      "UPF2 136 deg_200/K562_DE/DE_top_200.gmt\n",
      "UTP18 32 deg_200/K562_fc/K562_bottom_200_fc.gmt\n",
      "UTP18 165 deg_200/K562_s2n/K562_bottom_200_signal2_noise.gmt\n",
      "UTP18 195 deg_200/K562_edgeR_DE/DE_bottom_200.gmt\n",
      "UTP18 187 deg_200/K562_DE/DE_top_200.gmt\n",
      "UTP3 13 deg_200/K562_fc/K562_bottom_200_fc.gmt\n",
      "UTP3 29 deg_200/K562_s2n/K562_bottom_200_signal2_noise.gmt\n",
      "UTP3 13 deg_200/K562_edgeR_DE/DE_bottom_200.gmt\n",
      "UTP3 52 deg_200/K562_DE/DE_top_200.gmt\n",
      "XPO5 82 deg_200/K562_fc/K562_bottom_200_fc.gmt\n",
      "XPO5 127 deg_200/K562_s2n/K562_bottom_200_signal2_noise.gmt\n",
      "XPO5 153 deg_200/K562_edgeR_DE/DE_bottom_200.gmt\n",
      "XPO5 58 deg_200/K562_DE/DE_top_200.gmt\n",
      "XRCC5 52 deg_200/K562_fc/K562_bottom_200_fc.gmt\n",
      "XRCC5 49 deg_200/K562_s2n/K562_bottom_200_signal2_noise.gmt\n",
      "XRCC5 41 deg_200/K562_edgeR_DE/DE_bottom_200.gmt\n",
      "XRCC5 126 deg_200/K562_DE/DE_top_200.gmt\n",
      "XRCC6 55 deg_200/K562_fc/K562_bottom_200_fc.gmt\n",
      "XRCC6 135 deg_200/K562_s2n/K562_bottom_200_signal2_noise.gmt\n",
      "XRCC6 128 deg_200/K562_edgeR_DE/DE_bottom_200.gmt\n",
      "XRCC6 167 deg_200/K562_DE/DE_top_200.gmt\n",
      "XRN2 188 deg_200/K562_fc/K562_bottom_200_fc.gmt\n",
      "XRN2 125 deg_200/K562_s2n/K562_bottom_200_signal2_noise.gmt\n",
      "XRN2 45 deg_200/K562_edgeR_DE/DE_bottom_200.gmt\n",
      "XRN2 102 deg_200/K562_DE/DE_top_200.gmt\n",
      "YBX3 159 deg_200/K562_fc/K562_bottom_200_fc.gmt\n",
      "YBX3 151 deg_200/K562_s2n/K562_bottom_200_signal2_noise.gmt\n",
      "YBX3 94 deg_200/K562_edgeR_DE/DE_bottom_200.gmt\n",
      "YBX3 52 deg_200/K562_DE/DE_top_200.gmt\n",
      "ZC3H8 18 deg_200/K562_fc/K562_bottom_200_fc.gmt\n",
      "ZC3H8 6 deg_200/K562_s2n/K562_bottom_200_signal2_noise.gmt\n",
      "ZC3H8 111 deg_200/K562_edgeR_DE/DE_bottom_200.gmt\n",
      "ZC3H8 99 deg_200/K562_DE/DE_top_200.gmt\n",
      "ZRANB2 166 deg_200/K562_fc/K562_bottom_200_fc.gmt\n",
      "ZRANB2 128 deg_200/K562_s2n/K562_bottom_200_signal2_noise.gmt\n",
      "ZRANB2 151 deg_200/K562_edgeR_DE/DE_bottom_200.gmt\n",
      "ZRANB2 86 deg_200/K562_DE/DE_top_200.gmt\n"
     ]
    }
   ],
   "source": [
    "rank_dict = dict()\n",
    "for target in result_dict.keys():\n",
    "    rank_dict[target] = dict()\n",
    "    for pathway in result_dict[target]:\n",
    "        tmp_df = result_dict[target][pathway]\n",
    "        tmp_list = []\n",
    "        for p in tmp_df.columns:\n",
    "            col = tmp_df[p]\n",
    "            # fc = (tmp_df.iloc[0]+tmp_df.iloc[1])/(tmp_df.iloc[2]+tmp_df.iloc[3])\n",
    "            # fc = fc.sort_values()\n",
    "            diff =col[0] + col[1]\n",
    "            tmp_list.append([p, diff])\n",
    "        tmp_list.sort(key = lambda x: x[1])\n",
    "        tmp_list.reverse()\n",
    "        rank = 1\n",
    "        for t in tmp_list:\n",
    "            if t[0] == target:\n",
    "                break\n",
    "            else:\n",
    "                rank += 1\n",
    "        print(target, rank, pathway)\n",
    "        rank_dict[target][pathway] = rank"
   ]
  },
  {
   "cell_type": "code",
   "execution_count": 53,
   "id": "574ea86a",
   "metadata": {},
   "outputs": [
    {
     "name": "stderr",
     "output_type": "stream",
     "text": [
      "/Users/luopin/opt/miniconda3/envs/scpa/lib/python3.10/site-packages/seaborn/categorical.py:82: FutureWarning: iteritems is deprecated and will be removed in a future version. Use .items instead.\n",
      "  plot_data = [np.asarray(s, float) for k, s in iter_data]\n"
     ]
    },
    {
     "data": {
      "text/plain": [
       "<AxesSubplot: >"
      ]
     },
     "execution_count": 53,
     "metadata": {},
     "output_type": "execute_result"
    },
    {
     "data": {
      "image/png": "[encoded data removed]",
      "text/plain": [
       "<Figure size 640x480 with 1 Axes>"
      ]
     },
     "metadata": {},
     "output_type": "display_data"
    }
   ],
   "source": [
    "rank_df = pd.DataFrame.from_dict(rank_dict)\n",
    "rank_df.transpose().to_csv('decoupler_results.control_Score.txt', sep='\\t')\n",
    "plt.xticks(rotation=45)\n",
    "sns.violinplot(data=rank_df.transpose())"
   ]
  },
  {
   "cell_type": "code",
   "execution_count": null,
   "id": "a34388ff",
   "metadata": {},
   "outputs": [],
   "source": []
  }
 ],
 "metadata": {
  "kernelspec": {
   "display_name": "scpa",
   "language": "python",
   "name": "scpa"
  },
  "language_info": {
   "codemirror_mode": {
    "name": "ipython",
    "version": 3
   },
   "file_extension": ".py",
   "mimetype": "text/x-python",
   "name": "python",
   "nbconvert_exporter": "python",
   "pygments_lexer": "ipython3",
   "version": "3.10.6"
  }
 },
 "nbformat": 4,
 "nbformat_minor": 5
}
