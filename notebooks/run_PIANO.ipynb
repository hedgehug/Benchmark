{
 "cells": [
  {
   "cell_type": "code",
   "execution_count": 1,
   "id": "d481d2f6",
   "metadata": {
    "ExecuteTime": {
     "end_time": "2024-05-30T14:12:08.978894Z",
     "start_time": "2024-05-30T14:12:08.974879Z"
    }
   },
   "outputs": [],
   "source": [
    "import os, sys\n",
    "import pandas as pd\n",
    "import scipy.stats as stat\n",
    "import numpy as np\n",
    "import seaborn as sns\n",
    "import matplotlib.pyplot as plt"
   ]
  },
  {
   "cell_type": "code",
   "execution_count": 19,
   "id": "b890a3ea",
   "metadata": {
    "ExecuteTime": {
     "end_time": "2024-05-24T15:03:37.782155Z",
     "start_time": "2024-05-24T15:03:37.777212Z"
    }
   },
   "outputs": [
    {
     "data": {
      "text/plain": "'# Load piano and example data:\\nlibrary(piano)\\n\\npval_table <- read.table(\\'PVAL_FILE\\')\\npvals <- setNames(pval_table$V2,pval_table$V1)\\nabs_pvals <- unlist(lapply(pvals, abs))\\noriginal_pval <- unlist(lapply(abs_pvals, function(i) 10^(-i)))\\n\\ndirections <- lapply(pval_table$V2, sign)\\ndirections <- unlist(directions)\\ndirections <- setNames(directions,pval_table$V1)\\n\\ntval_table <- read.table(\\'TVAL_FILE\\')\\ntvals <- setNames(pval_table$V2,pval_table$V1)\\n\\n\\npathways <- loadGSC(\\'PATHWAY_FILE\\')\\n\\n# Run gene-set analysis:\\ngsares_1 <- runGSA(geneLevelStats=original_pval,\\n                 directions = directions, \\n                 gsc = pathways, geneSetStat=\"mean\")\\n\\ngsares_2 <- runGSA(geneLevelStats=original_pval,\\n                 directions = directions,\\n                 gsc = pathways, geneSetStat=\"median\")\\n\\ngsares_3 <- runGSA(geneLevelStats=original_pval,\\n                   directions = directions,\\n                   gsc = pathways, geneSetStat=\"sum\")\\n\\ngsares_5 <- runGSA(geneLevelStats=original_pval,\\n                   directions = directions,\\n                   gsc = pathways, geneSetStat=\"fisher\")\\n\\ngsares_6 <- runGSA(geneLevelStats=original_pval,\\n                   directions = directions,\\n                   gsc = pathways, geneSetStat=\"stouffer\")\\n\\ngsares_7 <- runGSA(geneLevelStats=original_pval,\\n                   directions = directions,\\n                   gsc = pathways, geneSetStat=\"reporter\")\\n\\n\\ngsares_8 <- runGSA(geneLevelStats=original_pval,\\n                   directions = directions, nPerm = 1000,\\n                   gsc = pathways, geneSetStat=\"wilcoxon\")\\n\\ngsares_9 <- runGSA(geneLevelStats=original_pval,\\n                   directions = directions,\\n                   gsc = pathways, geneSetStat=\"tailStrength\")\\n\\n# t-val statts needed\\n\\ngsares_4 <- runGSA(geneLevelStats=tvals,\\n                   gsc = pathways, geneSetStat=\"maxmean\")\\n\\ngsares_10 <- runGSA(geneLevelStats=tvals,\\n                   gsc = pathways, geneSetStat=\"gsea\")\\n\\n\\ngsares_11 <- runGSA(geneLevelStats=tvals,\\n                    gsc = pathways, geneSetStat=\"fgsea\")\\n\\ngsares_12 <- runGSA(geneLevelStats=tvals,\\n                    gsc = pathways, geneSetStat=\"page\")\\n\\n\\ncombres <- consensusScores(resList=list(gsares_1, gsares_2, gsares_3, gsares_4, gsares_5, gsares_8,\\n                                        gsares_6, gsares_7, gsares_9, gsares_10, gsares_11, gsares_12),\\n                           class=\\'distinct\\', direction=\\'up\\', n=200)\\n\\nwrite.table(combres$rankMat, file=\\'OUTFILE_RANK\\', sep=\\'\\\\t\\', quote = FALSE)\\n# write.table(combres$pMat, file=\\'OUTFILE_PVAL\\', sep=\\'\\\\t\\', quote = FALSE)\\n\\n'"
     },
     "execution_count": 19,
     "metadata": {},
     "output_type": "execute_result"
    }
   ],
   "source": [
    "# load the template file\n",
    "template_file = open('../template_script/piano_template.R', 'r')\n",
    "template_file_info = template_file.read()\n",
    "template_file.close()\n",
    "template_file_info"
   ]
  },
  {
   "cell_type": "markdown",
   "source": [
    "In order to run all underlying methods, PIANO requires two types of information as input:\n",
    "- P-value for each gene\n",
    "- fold change for each gene"
   ],
   "metadata": {
    "collapsed": false
   },
   "id": "7ee34633352164c"
  },
  {
   "cell_type": "code",
   "execution_count": 40,
   "id": "1759834b",
   "metadata": {
    "ExecuteTime": {
     "end_time": "2024-05-24T15:15:20.887347Z",
     "start_time": "2024-05-24T15:15:20.879006Z"
    }
   },
   "outputs": [
    {
     "data": {
      "text/plain": "['AARS.rnk',\n 'AATF.rnk',\n 'ABCF1.rnk',\n 'ADAR.rnk',\n 'AGO1.rnk',\n 'AKAP1.rnk',\n 'AKAP8.rnk',\n 'AKAP8L.rnk',\n 'APOBEC3C.rnk',\n 'ASCC1.rnk']"
     },
     "execution_count": 40,
     "metadata": {},
     "output_type": "execute_result"
    }
   ],
   "source": [
    "# change the directory accordingly, if needed\n",
    "pval_data_dir = '../data/prerank_DESeq2/'\n",
    "all_pval_data_file = os.listdir(pval_data_dir)\n",
    "all_pval_data_file.sort()\n",
    "# to show an example, here we're using first 3 files\n",
    "\n",
    "all_pval_data_file = all_pval_data_file[:10]\n",
    "all_pval_data_file"
   ]
  },
  {
   "cell_type": "code",
   "execution_count": 41,
   "id": "0eca392b",
   "metadata": {
    "ExecuteTime": {
     "end_time": "2024-05-24T15:15:23.482Z",
     "start_time": "2024-05-24T15:15:23.479515Z"
    }
   },
   "outputs": [],
   "source": [
    "tval_data_dir = '../data/prerank_fc/'"
   ]
  },
  {
   "cell_type": "code",
   "execution_count": 3,
   "id": "e09a70b6",
   "metadata": {
    "ExecuteTime": {
     "end_time": "2024-05-30T14:12:33.473007Z",
     "start_time": "2024-05-30T14:12:33.467530Z"
    }
   },
   "outputs": [],
   "source": [
    "# directory for storing all output results\n",
    "result_dir = '../example_results/PIANO_results/'\n",
    "# write the scripts for each target to a seperate R script to enable parallel running\n",
    "script_dir = '../example_scripts/PIANO_scripts/'"
   ]
  },
  {
   "cell_type": "code",
   "execution_count": 43,
   "id": "b05af8ba",
   "metadata": {
    "ExecuteTime": {
     "end_time": "2024-05-24T15:15:26.554796Z",
     "start_time": "2024-05-24T15:15:26.551213Z"
    }
   },
   "outputs": [],
   "source": [
    "pathway_file = '../pathway_files/K562_DESEq2.gmt'"
   ]
  },
  {
   "cell_type": "code",
   "execution_count": 44,
   "id": "0053dc6e",
   "metadata": {
    "ExecuteTime": {
     "end_time": "2024-05-24T15:15:27.278711Z",
     "start_time": "2024-05-24T15:15:27.271275Z"
    }
   },
   "outputs": [],
   "source": [
    "for file in all_pval_data_file:\n",
    "    target = file.split('.')[0]\n",
    "    new_info = template_file_info.replace('PVAL_FILE', pval_data_dir+file)\n",
    "    new_info = new_info.replace('TVAL_FILE', tval_data_dir+target+'.txt')\n",
    "    new_info = new_info.replace('PATHWAY_FILE', pathway_file)\n",
    "    new_info = new_info.replace('OUTFILE_RANK', result_dir+target+'.rank.txt')\n",
    "    new_file = open(script_dir+target+'.r', 'w')\n",
    "    new_file.write(new_info)\n",
    "    new_file.close()\n",
    "   "
   ]
  },
  {
   "cell_type": "markdown",
   "source": [
    "Run the R scripts. And the results will be saved in example_results/PIANO_results/"
   ],
   "metadata": {
    "collapsed": false
   },
   "id": "c5852954c1a3f516"
  },
  {
   "cell_type": "code",
   "execution_count": 4,
   "outputs": [],
   "source": [
    "# extract the results into single text file\n",
    "all_results_file = os.listdir(result_dir)\n",
    "all_results_file.sort()\n",
    "# save the results in format\n",
    "# target_name \\t rank\n",
    "out_file = open('../example_results/PIANO_result.txt', 'w')\n",
    "for f in all_results_file:\n",
    "    target = f.split('.')[0]\n",
    "    df = pd.read_csv(result_dir+f, sep='\\t')\n",
    "    # compute the average rank of all underlying columns\n",
    "    # PIANO itself only keeps integer, which results in ties\n",
    "    avg_column = df.iloc[:, 3:].mean(axis=1)\n",
    "    df['avg_rank']  = avg_column\n",
    "    df['rank'] = stat.rankdata(df['avg_rank'], method='min')\n",
    "    rank = df.loc[target]['rank']\n",
    "    out_file.write(target+'\\t'+str(rank)+'\\n')\n",
    "out_file.close()\n",
    "    "
   ],
   "metadata": {
    "collapsed": false,
    "ExecuteTime": {
     "end_time": "2024-05-30T14:12:36.164703Z",
     "start_time": "2024-05-30T14:12:36.118787Z"
    }
   },
   "id": "d7d14cea8a7721e3"
  },
  {
   "cell_type": "code",
   "execution_count": 6,
   "outputs": [
    {
     "data": {
      "text/plain": "        Correct pathway rank\n0                           \nAARS                     1.0\nAATF                     4.0\nABCF1                   10.0\nADAR                     1.0\nAGO1                     6.0\n...                      ...\nXRCC6                    NaN\nXRN2                     NaN\nYBX3                     NaN\nZC3H8                    NaN\nZRANB2                   NaN\n\n[197 rows x 1 columns]",
      "text/html": "<div>\n<style scoped>\n    .dataframe tbody tr th:only-of-type {\n        vertical-align: middle;\n    }\n\n    .dataframe tbody tr th {\n        vertical-align: top;\n    }\n\n    .dataframe thead th {\n        text-align: right;\n    }\n</style>\n<table border=\"1\" class=\"dataframe\">\n  <thead>\n    <tr style=\"text-align: right;\">\n      <th></th>\n      <th>Correct pathway rank</th>\n    </tr>\n    <tr>\n      <th>0</th>\n      <th></th>\n    </tr>\n  </thead>\n  <tbody>\n    <tr>\n      <th>AARS</th>\n      <td>1.0</td>\n    </tr>\n    <tr>\n      <th>AATF</th>\n      <td>4.0</td>\n    </tr>\n    <tr>\n      <th>ABCF1</th>\n      <td>10.0</td>\n    </tr>\n    <tr>\n      <th>ADAR</th>\n      <td>1.0</td>\n    </tr>\n    <tr>\n      <th>AGO1</th>\n      <td>6.0</td>\n    </tr>\n    <tr>\n      <th>...</th>\n      <td>...</td>\n    </tr>\n    <tr>\n      <th>XRCC6</th>\n      <td>NaN</td>\n    </tr>\n    <tr>\n      <th>XRN2</th>\n      <td>NaN</td>\n    </tr>\n    <tr>\n      <th>YBX3</th>\n      <td>NaN</td>\n    </tr>\n    <tr>\n      <th>ZC3H8</th>\n      <td>NaN</td>\n    </tr>\n    <tr>\n      <th>ZRANB2</th>\n      <td>NaN</td>\n    </tr>\n  </tbody>\n</table>\n<p>197 rows × 1 columns</p>\n</div>"
     },
     "execution_count": 6,
     "metadata": {},
     "output_type": "execute_result"
    }
   ],
   "source": [
    "# plot the results\n",
    "result_df = pd.read_csv('../Benchmark_results/PIANO_result.txt', header=None, sep='\\t', index_col=0)\n",
    "result_df.columns = ['Correct pathway rank']\n",
    "result_df"
   ],
   "metadata": {
    "collapsed": false,
    "ExecuteTime": {
     "end_time": "2024-05-30T14:12:48.138002Z",
     "start_time": "2024-05-30T14:12:48.123033Z"
    }
   },
   "id": "c5789b9792610ace"
  },
  {
   "cell_type": "code",
   "execution_count": 7,
   "outputs": [],
   "source": [
    "def apk(predicted, k=10):\n",
    "    \"\"\"\n",
    "    Computes the average precision at k.\n",
    "    This function computes the average precision at k between two lists of items.\n",
    "    \"\"\"\n",
    "    total_num = len(predicted)\n",
    "    precision_list = []\n",
    "    for idx in range(k):\n",
    "        precision_list.append(np.where(predicted<=idx+1)[0].shape[0]/total_num)\n",
    "        # print(np.where(predicted<=idx+1)[0].shape[0])\n",
    "    # return P@10 and AP@10\n",
    "    return precision_list[-1], np.mean(precision_list)"
   ],
   "metadata": {
    "collapsed": false,
    "ExecuteTime": {
     "end_time": "2024-05-30T14:12:49.023815Z",
     "start_time": "2024-05-30T14:12:49.016352Z"
    }
   },
   "id": "5b67c259b02fcbda"
  },
  {
   "cell_type": "code",
   "execution_count": 8,
   "outputs": [
    {
     "name": "stdout",
     "output_type": "stream",
     "text": [
      "Median rank:  5.0\n",
      "Precision@10:  0.5786802030456852\n",
      "Average Precision@10:  0.4827411167512691\n"
     ]
    },
    {
     "data": {
      "text/plain": "<Figure size 640x480 with 1 Axes>",
      "image/png": "[encoded data removed]"
     },
     "metadata": {},
     "output_type": "display_data"
    }
   ],
   "source": [
    "sns.boxplot(data=result_df['Correct pathway rank'])\n",
    "print('Median rank: ', result_df['Correct pathway rank'].median())\n",
    "print('Precision@10: ', apk(result_df['Correct pathway rank'])[0])\n",
    "print('Average Precision@10: ', apk(result_df['Correct pathway rank'])[1])"
   ],
   "metadata": {
    "collapsed": false,
    "ExecuteTime": {
     "end_time": "2024-05-30T14:12:50.457061Z",
     "start_time": "2024-05-30T14:12:50.251152Z"
    }
   },
   "id": "21097ab9cb608535"
  },
  {
   "cell_type": "code",
   "execution_count": 9,
   "outputs": [
    {
     "data": {
      "text/plain": "<AxesSubplot: xlabel='Correct pathway rank', ylabel='Percent'>"
     },
     "execution_count": 9,
     "metadata": {},
     "output_type": "execute_result"
    },
    {
     "data": {
      "text/plain": "<Figure size 640x480 with 1 Axes>",
      "image/png": "[encoded data removed]"
     },
     "metadata": {},
     "output_type": "display_data"
    }
   ],
   "source": [
    "plt.grid(False)\n",
    "plt.xlim(1, 200)\n",
    "# plt.ylim(0, 100)\n",
    "sns.ecdfplot(data=result_df['Correct pathway rank'], stat='percent')"
   ],
   "metadata": {
    "collapsed": false,
    "ExecuteTime": {
     "end_time": "2024-05-30T14:12:52.053893Z",
     "start_time": "2024-05-30T14:12:51.794664Z"
    }
   },
   "id": "49345b7fadd92cf2"
  },
  {
   "cell_type": "code",
   "execution_count": null,
   "outputs": [],
   "source": [],
   "metadata": {
    "collapsed": false
   },
   "id": "d8e467ebed812da9"
  }
 ],
 "metadata": {
  "kernelspec": {
   "name": "scpa",
   "language": "python",
   "display_name": "scpa"
  },
  "language_info": {
   "codemirror_mode": {
    "name": "ipython",
    "version": 3
   },
   "file_extension": ".py",
   "mimetype": "text/x-python",
   "name": "python",
   "nbconvert_exporter": "python",
   "pygments_lexer": "ipython3",
   "version": "3.9.7"
  }
 },
 "nbformat": 4,
 "nbformat_minor": 5
}
