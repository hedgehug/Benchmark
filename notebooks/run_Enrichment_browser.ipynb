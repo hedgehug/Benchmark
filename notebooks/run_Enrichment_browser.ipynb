{
 "cells": [
  {
   "cell_type": "code",
   "execution_count": 1,
   "outputs": [],
   "source": [
    "import sys, os\n",
    "import numpy as np\n",
    "import pandas as pd\n",
    "import scipy.stats as stat\n",
    "import numpy as np\n",
    "import seaborn as sns\n",
    "import matplotlib.pyplot as plt"
   ],
   "metadata": {
    "collapsed": false,
    "ExecuteTime": {
     "end_time": "2024-05-29T18:23:57.289603Z",
     "start_time": "2024-05-29T18:23:57.278412Z"
    }
   },
   "id": "c316fe3e0ad2651e"
  },
  {
   "cell_type": "code",
   "execution_count": 13,
   "outputs": [],
   "source": [
    "template_file = open('../template_script/enrichment_browser.R', 'r')\n",
    "template_file_info = template_file.read()\n",
    "template_file.close()"
   ],
   "metadata": {
    "collapsed": false,
    "ExecuteTime": {
     "end_time": "2024-05-28T14:25:35.005052Z",
     "start_time": "2024-05-28T14:25:34.999942Z"
    }
   },
   "id": "267c8abc0bd5d8b5"
  },
  {
   "cell_type": "code",
   "execution_count": 14,
   "outputs": [
    {
     "data": {
      "text/plain": "['AARS.colData.tab',\n 'AARS.exprs.tab',\n 'AARS.rowData.tab',\n 'AATF.colData.tab',\n 'AATF.exprs.tab',\n 'AATF.rowData.tab',\n 'ABCF1.colData.tab',\n 'ABCF1.exprs.tab',\n 'ABCF1.rowData.tab',\n 'ADAR.colData.tab',\n 'ADAR.exprs.tab',\n 'ADAR.rowData.tab',\n 'AGO1.colData.tab',\n 'AGO1.exprs.tab',\n 'AGO1.rowData.tab',\n 'AKAP1.colData.tab',\n 'AKAP1.exprs.tab',\n 'AKAP1.rowData.tab',\n 'AKAP8.colData.tab',\n 'AKAP8.exprs.tab',\n 'AKAP8.rowData.tab',\n 'AKAP8L.colData.tab',\n 'AKAP8L.exprs.tab',\n 'AKAP8L.rowData.tab',\n 'APOBEC3C.colData.tab',\n 'APOBEC3C.exprs.tab',\n 'APOBEC3C.rowData.tab',\n 'ASCC1.colData.tab',\n 'ASCC1.exprs.tab',\n 'ASCC1.rowData.tab']"
     },
     "execution_count": 14,
     "metadata": {},
     "output_type": "execute_result"
    }
   ],
   "source": [
    "# load gene expression files in raw read count matrix format\n",
    "expr_dir = '../data/Enrichment_browser_data/'\n",
    "all_file = os.listdir(expr_dir)\n",
    "all_file.sort()\n",
    "all_file"
   ],
   "metadata": {
    "collapsed": false,
    "ExecuteTime": {
     "end_time": "2024-05-28T14:25:35.152920Z",
     "start_time": "2024-05-28T14:25:35.146006Z"
    }
   },
   "id": "e9413b3e87f88d13"
  },
  {
   "cell_type": "code",
   "execution_count": 15,
   "outputs": [],
   "source": [
    "pathway_file = '../pathway_files/K562_DESEq2.gmt'"
   ],
   "metadata": {
    "collapsed": false,
    "ExecuteTime": {
     "end_time": "2024-05-28T14:25:35.329218Z",
     "start_time": "2024-05-28T14:25:35.325801Z"
    }
   },
   "id": "e8cea859248dd0e2"
  },
  {
   "cell_type": "code",
   "execution_count": 16,
   "outputs": [],
   "source": [
    "# directory for storing all output results\n",
    "result_dir = '../example_results/Enrichment_browser_results/'\n",
    "# write the scripts for each target to a seperate R script to enable parallel running\n",
    "script_dir = '../example_scripts/Enrichment_browser_scripts/'"
   ],
   "metadata": {
    "collapsed": false,
    "ExecuteTime": {
     "end_time": "2024-05-28T14:25:35.559714Z",
     "start_time": "2024-05-28T14:25:35.552417Z"
    }
   },
   "id": "20e79dcf62245371"
  },
  {
   "cell_type": "code",
   "execution_count": 17,
   "outputs": [],
   "source": [
    "added_target = set()\n",
    "for expr_file in all_file:\n",
    "    target = expr_file.split('.')[0]\n",
    "    if target in added_target:\n",
    "        continue\n",
    "    new_template_info = template_file_info.replace('DATA_DIR.txt', expr_dir)\n",
    "    new_template_info = new_template_info.replace('PATHWAY_FILE', pathway_file)\n",
    "    new_template_info = new_template_info.replace('TARGET', target)\n",
    "    new_template_info = new_template_info.replace('OUTPUT_FILE', result_dir+target+'.ebrowser_result.txt')\n",
    "    script = open(script_dir+target+'.r', 'w')\n",
    "    script.write(new_template_info)\n",
    "    script.close()   \n",
    "    added_target.add(target)"
   ],
   "metadata": {
    "collapsed": false,
    "ExecuteTime": {
     "end_time": "2024-05-28T14:25:36.245377Z",
     "start_time": "2024-05-28T14:25:36.240535Z"
    }
   },
   "id": "8abd65f315d986c4"
  },
  {
   "cell_type": "markdown",
   "source": [
    "Run the R scripts. And the results will be saved in example_results/Enrichment_browser_results/"
   ],
   "metadata": {
    "collapsed": false
   },
   "id": "610c3e9f33f32966"
  },
  {
   "cell_type": "code",
   "execution_count": 29,
   "outputs": [],
   "source": [
    "# extract Enrichment browser results\n",
    "all_result_file = os.listdir(result_dir)\n",
    "all_result_file.sort()\n",
    "out_file = open('../example_results/enrichment_browser_result.txt', 'w')\n",
    "for file in all_result_file:\n",
    "    target = file.split('.')[0]\n",
    "    df = pd.read_csv(result_dir+file, sep='\\t')\n",
    "    # the result file of enrichment browser is already sorted\n",
    "    # just need to get the index of the target\n",
    "    rank = np.where(df['GENE.SET']==target)[0][0]+1\n",
    "    out_file.write(target+'\\t'+str(rank)+'\\n')\n",
    "out_file.close() "
   ],
   "metadata": {
    "collapsed": false,
    "ExecuteTime": {
     "end_time": "2024-05-28T14:38:19.457084Z",
     "start_time": "2024-05-28T14:38:19.426332Z"
    }
   },
   "id": "ceddaff235a5af4"
  },
  {
   "cell_type": "code",
   "execution_count": 2,
   "outputs": [
    {
     "data": {
      "text/plain": "          Correct pathway rank\n0                             \nAARS                         3\nAATF                         1\nABCF1                        1\nADAR                         2\nAGO1                        11\nAKAP1                        1\nAKAP8                       25\nAKAP8L                       9\nAPOBEC3C                     7\nASCC1                        2",
      "text/html": "<div>\n<style scoped>\n    .dataframe tbody tr th:only-of-type {\n        vertical-align: middle;\n    }\n\n    .dataframe tbody tr th {\n        vertical-align: top;\n    }\n\n    .dataframe thead th {\n        text-align: right;\n    }\n</style>\n<table border=\"1\" class=\"dataframe\">\n  <thead>\n    <tr style=\"text-align: right;\">\n      <th></th>\n      <th>Correct pathway rank</th>\n    </tr>\n    <tr>\n      <th>0</th>\n      <th></th>\n    </tr>\n  </thead>\n  <tbody>\n    <tr>\n      <th>AARS</th>\n      <td>3</td>\n    </tr>\n    <tr>\n      <th>AATF</th>\n      <td>1</td>\n    </tr>\n    <tr>\n      <th>ABCF1</th>\n      <td>1</td>\n    </tr>\n    <tr>\n      <th>ADAR</th>\n      <td>2</td>\n    </tr>\n    <tr>\n      <th>AGO1</th>\n      <td>11</td>\n    </tr>\n    <tr>\n      <th>AKAP1</th>\n      <td>1</td>\n    </tr>\n    <tr>\n      <th>AKAP8</th>\n      <td>25</td>\n    </tr>\n    <tr>\n      <th>AKAP8L</th>\n      <td>9</td>\n    </tr>\n    <tr>\n      <th>APOBEC3C</th>\n      <td>7</td>\n    </tr>\n    <tr>\n      <th>ASCC1</th>\n      <td>2</td>\n    </tr>\n  </tbody>\n</table>\n</div>"
     },
     "execution_count": 2,
     "metadata": {},
     "output_type": "execute_result"
    }
   ],
   "source": [
    "# plot the results\n",
    "result_df = pd.read_csv('../example_results/enrichment_browser_result.txt', header=None, sep='\\t', index_col=0)\n",
    "result_df.columns = ['Correct pathway rank']\n",
    "result_df"
   ],
   "metadata": {
    "collapsed": false,
    "ExecuteTime": {
     "end_time": "2024-05-29T18:24:17.817735Z",
     "start_time": "2024-05-29T18:24:17.796752Z"
    }
   },
   "id": "685ed962b7cf1e99"
  },
  {
   "cell_type": "code",
   "execution_count": 3,
   "outputs": [],
   "source": [
    "def apk(predicted, k=10):\n",
    "    \"\"\"\n",
    "    Computes the average precision at k.\n",
    "    This function computes the average precision at k between two lists of items.\n",
    "    \"\"\"\n",
    "    total_num = len(predicted)\n",
    "    precision_list = []\n",
    "    for idx in range(k):\n",
    "        precision_list.append(np.where(predicted<=idx+1)[0].shape[0]/total_num)\n",
    "        # print(np.where(predicted<=idx+1)[0].shape[0])\n",
    "    # return P@10 and AP@10\n",
    "    return precision_list[-1], np.mean(precision_list)"
   ],
   "metadata": {
    "collapsed": false,
    "ExecuteTime": {
     "end_time": "2024-05-29T18:24:24.720849Z",
     "start_time": "2024-05-29T18:24:24.706278Z"
    }
   },
   "id": "2a8f91e499111831"
  },
  {
   "cell_type": "code",
   "execution_count": 4,
   "outputs": [
    {
     "name": "stdout",
     "output_type": "stream",
     "text": [
      "Median rank:  2.5\n",
      "Precision@10:  0.8\n",
      "Average Precision@10:  0.6199999999999999\n"
     ]
    },
    {
     "data": {
      "text/plain": "<Figure size 640x480 with 1 Axes>",
      "image/png": "[encoded data removed]"
     },
     "metadata": {},
     "output_type": "display_data"
    }
   ],
   "source": [
    "sns.boxplot(data=result_df['Correct pathway rank'])\n",
    "print('Median rank: ', result_df['Correct pathway rank'].median())\n",
    "print('Precision@10: ', apk(result_df['Correct pathway rank'])[0])\n",
    "print('Average Precision@10: ', apk(result_df['Correct pathway rank'])[1])"
   ],
   "metadata": {
    "collapsed": false,
    "ExecuteTime": {
     "end_time": "2024-05-29T18:24:29.037113Z",
     "start_time": "2024-05-29T18:24:28.772489Z"
    }
   },
   "id": "2004d5433a498af7"
  },
  {
   "cell_type": "code",
   "execution_count": 5,
   "outputs": [
    {
     "data": {
      "text/plain": "<AxesSubplot: xlabel='Correct pathway rank', ylabel='Percent'>"
     },
     "execution_count": 5,
     "metadata": {},
     "output_type": "execute_result"
    },
    {
     "data": {
      "text/plain": "<Figure size 640x480 with 1 Axes>",
      "image/png": "[encoded data removed]"
     },
     "metadata": {},
     "output_type": "display_data"
    }
   ],
   "source": [
    "plt.grid(False)\n",
    "plt.xlim(1, 200)\n",
    "# plt.ylim(0, 100)\n",
    "sns.ecdfplot(data=result_df['Correct pathway rank'], stat='percent')"
   ],
   "metadata": {
    "collapsed": false,
    "ExecuteTime": {
     "end_time": "2024-05-29T18:24:40.168723Z",
     "start_time": "2024-05-29T18:24:39.897461Z"
    }
   },
   "id": "70713c719adf8d3b"
  }
 ],
 "metadata": {
  "kernelspec": {
   "name": "scpa",
   "language": "python",
   "display_name": "scpa"
  },
  "language_info": {
   "codemirror_mode": {
    "name": "ipython",
    "version": 3
   },
   "file_extension": ".py",
   "mimetype": "text/x-python",
   "name": "python",
   "nbconvert_exporter": "python",
   "pygments_lexer": "ipython3",
   "version": "3.9.7"
  }
 },
 "nbformat": 4,
 "nbformat_minor": 5
}
