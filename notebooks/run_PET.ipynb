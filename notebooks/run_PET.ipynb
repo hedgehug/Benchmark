{
 "cells": [
  {
   "cell_type": "markdown",
   "id": "1dba7033",
   "metadata": {},
   "source": [
    "This notebook runs Ora, GSEA, Enrichr and PET under Benchmark."
   ]
  },
  {
   "cell_type": "code",
   "execution_count": 26,
   "id": "e4c4e48a",
   "metadata": {
    "scrolled": false,
    "ExecuteTime": {
     "end_time": "2024-05-29T22:07:59.725361Z",
     "start_time": "2024-05-29T22:07:59.719873Z"
    }
   },
   "outputs": [],
   "source": [
    "import os, sys\n",
    "import pandas as pd\n",
    "from PET import *\n",
    "import matplotlib.pyplot as plt\n",
    "import seaborn as sns"
   ]
  },
  {
   "cell_type": "code",
   "execution_count": 27,
   "outputs": [],
   "source": [
    "data_dir = '../data/prerank_DESeq2/'\n",
    "all_rank_file = os.listdir(data_dir)\n",
    "all_rank_file.sort()"
   ],
   "metadata": {
    "collapsed": false,
    "ExecuteTime": {
     "end_time": "2024-05-29T22:07:59.947016Z",
     "start_time": "2024-05-29T22:07:59.938325Z"
    }
   },
   "id": "9948df8949909295"
  },
  {
   "cell_type": "code",
   "execution_count": 28,
   "id": "ee6cb66c69ec89a8",
   "metadata": {
    "ExecuteTime": {
     "end_time": "2024-05-29T22:09:44.668743Z",
     "start_time": "2024-05-29T22:08:00.748424Z"
    }
   },
   "outputs": [
    {
     "name": "stderr",
     "output_type": "stream",
     "text": [
      "2024-05-29 18:08:00,796 [WARNING] Duplicated values found in preranked stats: 73.85% of genes\n",
      "The order of those genes will be arbitrary, which may produce unexpected results.\n",
      "2024-05-29 18:08:00,797 [INFO] Parsing data files for GSEA.............................\n",
      "2024-05-29 18:08:00,824 [INFO] 0000 gene_sets have been filtered out when max_size=500 and min_size=15\n",
      "2024-05-29 18:08:00,825 [INFO] 0197 gene_sets used for further statistical testing.....\n",
      "2024-05-29 18:08:00,825 [INFO] Start to run GSEA...Might take a while..................\n",
      "2024-05-29 18:08:11,018 [INFO] Start to generate gseapy reports, and produce figures...\n",
      "2024-05-29 18:08:11,019 [INFO] Congratulations. GSEApy runs successfully................\n",
      "\n",
      "2024-05-29 18:08:11,307 [WARNING] Duplicated values found in preranked stats: 57.37% of genes\n",
      "The order of those genes will be arbitrary, which may produce unexpected results.\n",
      "2024-05-29 18:08:11,308 [INFO] Parsing data files for GSEA.............................\n",
      "2024-05-29 18:08:11,330 [INFO] 0000 gene_sets have been filtered out when max_size=500 and min_size=15\n",
      "2024-05-29 18:08:11,331 [INFO] 0197 gene_sets used for further statistical testing.....\n",
      "2024-05-29 18:08:11,331 [INFO] Start to run GSEA...Might take a while..................\n",
      "2024-05-29 18:08:21,941 [INFO] Start to generate gseapy reports, and produce figures...\n",
      "2024-05-29 18:08:21,942 [INFO] Congratulations. GSEApy runs successfully................\n",
      "\n",
      "2024-05-29 18:08:22,160 [WARNING] Duplicated values found in preranked stats: 53.81% of genes\n",
      "The order of those genes will be arbitrary, which may produce unexpected results.\n",
      "2024-05-29 18:08:22,160 [INFO] Parsing data files for GSEA.............................\n",
      "2024-05-29 18:08:22,178 [INFO] 0000 gene_sets have been filtered out when max_size=500 and min_size=15\n",
      "2024-05-29 18:08:22,179 [INFO] 0197 gene_sets used for further statistical testing.....\n",
      "2024-05-29 18:08:22,180 [INFO] Start to run GSEA...Might take a while..................\n",
      "2024-05-29 18:08:33,023 [INFO] Start to generate gseapy reports, and produce figures...\n",
      "2024-05-29 18:08:33,023 [INFO] Congratulations. GSEApy runs successfully................\n",
      "\n",
      "2024-05-29 18:08:33,280 [WARNING] Duplicated values found in preranked stats: 56.76% of genes\n",
      "The order of those genes will be arbitrary, which may produce unexpected results.\n",
      "2024-05-29 18:08:33,280 [INFO] Parsing data files for GSEA.............................\n",
      "2024-05-29 18:08:33,307 [INFO] 0000 gene_sets have been filtered out when max_size=500 and min_size=15\n",
      "2024-05-29 18:08:33,308 [INFO] 0197 gene_sets used for further statistical testing.....\n",
      "2024-05-29 18:08:33,309 [INFO] Start to run GSEA...Might take a while..................\n",
      "2024-05-29 18:08:44,189 [INFO] Start to generate gseapy reports, and produce figures...\n",
      "2024-05-29 18:08:44,189 [INFO] Congratulations. GSEApy runs successfully................\n",
      "\n",
      "2024-05-29 18:08:44,500 [WARNING] Duplicated values found in preranked stats: 60.86% of genes\n",
      "The order of those genes will be arbitrary, which may produce unexpected results.\n",
      "2024-05-29 18:08:44,501 [INFO] Parsing data files for GSEA.............................\n",
      "2024-05-29 18:08:44,528 [INFO] 0000 gene_sets have been filtered out when max_size=500 and min_size=15\n",
      "2024-05-29 18:08:44,530 [INFO] 0197 gene_sets used for further statistical testing.....\n",
      "2024-05-29 18:08:44,530 [INFO] Start to run GSEA...Might take a while..................\n",
      "2024-05-29 18:08:54,146 [INFO] Start to generate gseapy reports, and produce figures...\n",
      "2024-05-29 18:08:54,147 [INFO] Congratulations. GSEApy runs successfully................\n",
      "\n",
      "2024-05-29 18:08:54,483 [WARNING] Duplicated values found in preranked stats: 35.56% of genes\n",
      "The order of those genes will be arbitrary, which may produce unexpected results.\n",
      "2024-05-29 18:08:54,484 [INFO] Parsing data files for GSEA.............................\n",
      "2024-05-29 18:08:54,503 [INFO] 0000 gene_sets have been filtered out when max_size=500 and min_size=15\n",
      "2024-05-29 18:08:54,504 [INFO] 0197 gene_sets used for further statistical testing.....\n",
      "2024-05-29 18:08:54,505 [INFO] Start to run GSEA...Might take a while..................\n",
      "2024-05-29 18:09:04,728 [INFO] Start to generate gseapy reports, and produce figures...\n",
      "2024-05-29 18:09:04,729 [INFO] Congratulations. GSEApy runs successfully................\n",
      "\n",
      "2024-05-29 18:09:04,974 [WARNING] Duplicated values found in preranked stats: 47.94% of genes\n",
      "The order of those genes will be arbitrary, which may produce unexpected results.\n",
      "2024-05-29 18:09:04,974 [INFO] Parsing data files for GSEA.............................\n",
      "2024-05-29 18:09:05,000 [INFO] 0000 gene_sets have been filtered out when max_size=500 and min_size=15\n",
      "2024-05-29 18:09:05,001 [INFO] 0197 gene_sets used for further statistical testing.....\n",
      "2024-05-29 18:09:05,002 [INFO] Start to run GSEA...Might take a while..................\n",
      "2024-05-29 18:09:14,812 [INFO] Start to generate gseapy reports, and produce figures...\n",
      "2024-05-29 18:09:14,813 [INFO] Congratulations. GSEApy runs successfully................\n",
      "\n",
      "2024-05-29 18:09:15,131 [WARNING] Duplicated values found in preranked stats: 48.37% of genes\n",
      "The order of those genes will be arbitrary, which may produce unexpected results.\n",
      "2024-05-29 18:09:15,132 [INFO] Parsing data files for GSEA.............................\n",
      "2024-05-29 18:09:15,151 [INFO] 0000 gene_sets have been filtered out when max_size=500 and min_size=15\n",
      "2024-05-29 18:09:15,152 [INFO] 0197 gene_sets used for further statistical testing.....\n",
      "2024-05-29 18:09:15,152 [INFO] Start to run GSEA...Might take a while..................\n",
      "2024-05-29 18:09:25,102 [INFO] Start to generate gseapy reports, and produce figures...\n",
      "2024-05-29 18:09:25,103 [INFO] Congratulations. GSEApy runs successfully................\n",
      "\n",
      "2024-05-29 18:09:25,349 [WARNING] Duplicated values found in preranked stats: 86.60% of genes\n",
      "The order of those genes will be arbitrary, which may produce unexpected results.\n",
      "2024-05-29 18:09:25,350 [INFO] Parsing data files for GSEA.............................\n",
      "2024-05-29 18:09:25,377 [INFO] 0000 gene_sets have been filtered out when max_size=500 and min_size=15\n",
      "2024-05-29 18:09:25,378 [INFO] 0197 gene_sets used for further statistical testing.....\n",
      "2024-05-29 18:09:25,379 [INFO] Start to run GSEA...Might take a while..................\n",
      "2024-05-29 18:09:34,450 [INFO] Start to generate gseapy reports, and produce figures...\n",
      "2024-05-29 18:09:34,451 [INFO] Congratulations. GSEApy runs successfully................\n",
      "\n",
      "2024-05-29 18:09:34,706 [WARNING] Duplicated values found in preranked stats: 44.93% of genes\n",
      "The order of those genes will be arbitrary, which may produce unexpected results.\n",
      "2024-05-29 18:09:34,707 [INFO] Parsing data files for GSEA.............................\n",
      "2024-05-29 18:09:34,724 [INFO] 0000 gene_sets have been filtered out when max_size=500 and min_size=15\n",
      "2024-05-29 18:09:34,725 [INFO] 0197 gene_sets used for further statistical testing.....\n",
      "2024-05-29 18:09:34,726 [INFO] Start to run GSEA...Might take a while..................\n",
      "2024-05-29 18:09:44,392 [INFO] Start to generate gseapy reports, and produce figures...\n",
      "2024-05-29 18:09:44,393 [INFO] Congratulations. GSEApy runs successfully................\n",
      "\n"
     ]
    }
   ],
   "source": [
    "# run GSEA\n",
    "gsea_result_dir = '../example_results/GSEA_results/'\n",
    "for file in all_rank_file:\n",
    "    target = file.split('.')[0]\n",
    "    run_GSEA(prerank_file_path=data_dir+file, out_dir=gsea_result_dir, thread_num=20,\n",
    "         pathway_file='../pathway_files/K562_DESEq2.gmt', no_plot=True,\n",
    "         min_size=15, max_size=500)\n",
    "    # rename the GSEA report file\n",
    "    os.system('mv '+gsea_result_dir+'/gseapy.gene_set.prerank.report.csv '+gsea_result_dir+'/'+target+'.gsea.csv')"
   ]
  },
  {
   "cell_type": "code",
   "execution_count": 29,
   "id": "27924173",
   "metadata": {
    "scrolled": false,
    "ExecuteTime": {
     "end_time": "2024-05-29T22:09:44.678513Z",
     "start_time": "2024-05-29T22:09:44.670415Z"
    }
   },
   "outputs": [],
   "source": [
    "# read pathway information for Ora and enrichr\n",
    "pathway_dict = read_gmt('../pathway_files/K562_DESEq2.gmt')"
   ]
  },
  {
   "cell_type": "code",
   "execution_count": 30,
   "outputs": [],
   "source": [
    "# get top 200 DEGs from rank file\n",
    "deg_dict = dict()\n",
    "for file in all_rank_file:\n",
    "    target = file.split('.')[0]\n",
    "    deg_dict[target] = extract_deg_rnk(data_dir+file, deg_num=200, ascending=False)"
   ],
   "metadata": {
    "collapsed": false,
    "ExecuteTime": {
     "end_time": "2024-05-29T22:09:45.050891Z",
     "start_time": "2024-05-29T22:09:44.845584Z"
    }
   },
   "id": "fd045d96d6dcba3c"
  },
  {
   "cell_type": "code",
   "execution_count": 31,
   "outputs": [],
   "source": [
    "gene_universe = set(pd.read_csv(data_dir+file, sep='\\t', header=None)[0])"
   ],
   "metadata": {
    "collapsed": false,
    "ExecuteTime": {
     "end_time": "2024-05-29T22:09:45.081239Z",
     "start_time": "2024-05-29T22:09:45.053516Z"
    }
   },
   "id": "b7848689ecf3ab7a"
  },
  {
   "cell_type": "code",
   "execution_count": 32,
   "id": "5c3a30a1",
   "metadata": {
    "scrolled": true,
    "ExecuteTime": {
     "end_time": "2024-05-29T22:09:45.547819Z",
     "start_time": "2024-05-29T22:09:45.082569Z"
    }
   },
   "outputs": [
    {
     "name": "stdout",
     "output_type": "stream",
     "text": [
      "Running ORA for genes in  AARS\n",
      "Results written to  ../example_results/Ora_results//AARS.ora_result.txt\n",
      "********************\n",
      "Running ORA for genes in  AATF\n",
      "Results written to  ../example_results/Ora_results//AATF.ora_result.txt\n",
      "********************\n",
      "Running ORA for genes in  ABCF1\n",
      "Results written to  ../example_results/Ora_results//ABCF1.ora_result.txt\n",
      "********************\n",
      "Running ORA for genes in  ADAR\n",
      "Results written to  ../example_results/Ora_results//ADAR.ora_result.txt\n",
      "********************\n",
      "Running ORA for genes in  AGO1\n",
      "Results written to  ../example_results/Ora_results//AGO1.ora_result.txt\n",
      "********************\n",
      "Running ORA for genes in  AKAP1\n",
      "Results written to  ../example_results/Ora_results//AKAP1.ora_result.txt\n",
      "********************\n",
      "Running ORA for genes in  AKAP8\n",
      "Results written to  ../example_results/Ora_results//AKAP8.ora_result.txt\n",
      "********************\n",
      "Running ORA for genes in  AKAP8L\n",
      "Results written to  ../example_results/Ora_results//AKAP8L.ora_result.txt\n",
      "********************\n",
      "Running ORA for genes in  APOBEC3C\n",
      "Results written to  ../example_results/Ora_results//APOBEC3C.ora_result.txt\n",
      "********************\n",
      "Running ORA for genes in  ASCC1\n",
      "Results written to  ../example_results/Ora_results//ASCC1.ora_result.txt\n",
      "********************\n"
     ]
    }
   ],
   "source": [
    "# run ORA \n",
    "ora_result_dir = '../example_results/Ora_results/'\n",
    "run_ora(pathway_dict=pathway_dict, deg_dict = deg_dict,\n",
    "        gene_universe_num=len(gene_universe), out_dir=ora_result_dir)\n"
   ]
  },
  {
   "cell_type": "code",
   "execution_count": 33,
   "id": "4c814d45889a5864",
   "metadata": {
    "ExecuteTime": {
     "end_time": "2024-05-29T22:10:29.060200Z",
     "start_time": "2024-05-29T22:09:45.548525Z"
    }
   },
   "outputs": [
    {
     "name": "stdout",
     "output_type": "stream",
     "text": [
      "Running Enrichr for genes in  AARS\n",
      "../example_results/Enrichr_results/enrichr_kegg_permutation_1000.txt does not exist, initializing permutation\n",
      "Permutation 0\n",
      "Permutation 50\n",
      "Permutation 100\n",
      "Permutation 150\n",
      "Permutation 200\n",
      "Permutation 250\n",
      "Permutation 300\n",
      "Permutation 350\n",
      "Permutation 400\n",
      "Permutation 450\n",
      "Permutation 500\n",
      "Permutation 550\n",
      "Permutation 600\n",
      "Permutation 650\n",
      "Permutation 700\n",
      "Permutation 750\n",
      "Permutation 800\n",
      "Permutation 850\n",
      "Permutation 900\n",
      "Permutation 950\n",
      "Permutation result written to  ../example_results/Enrichr_results/enrichr_kegg_permutation_1000.txt\n",
      "Results written to  ../example_results/Enrichr_results//AARS.enrichr_result.txt\n",
      "********************\n",
      "Running Enrichr for genes in  AATF\n",
      "../example_results/Enrichr_results/enrichr_kegg_permutation_1000.txt already exists, reading file now...\n",
      "Results written to  ../example_results/Enrichr_results//AATF.enrichr_result.txt\n",
      "********************\n",
      "Running Enrichr for genes in  ABCF1\n",
      "../example_results/Enrichr_results/enrichr_kegg_permutation_1000.txt already exists, reading file now...\n",
      "Results written to  ../example_results/Enrichr_results//ABCF1.enrichr_result.txt\n",
      "********************\n",
      "Running Enrichr for genes in  ADAR\n",
      "../example_results/Enrichr_results/enrichr_kegg_permutation_1000.txt already exists, reading file now...\n",
      "Results written to  ../example_results/Enrichr_results//ADAR.enrichr_result.txt\n",
      "********************\n",
      "Running Enrichr for genes in  AGO1\n",
      "../example_results/Enrichr_results/enrichr_kegg_permutation_1000.txt already exists, reading file now...\n",
      "Results written to  ../example_results/Enrichr_results//AGO1.enrichr_result.txt\n",
      "********************\n",
      "Running Enrichr for genes in  AKAP1\n",
      "../example_results/Enrichr_results/enrichr_kegg_permutation_1000.txt already exists, reading file now...\n",
      "Results written to  ../example_results/Enrichr_results//AKAP1.enrichr_result.txt\n",
      "********************\n",
      "Running Enrichr for genes in  AKAP8\n",
      "../example_results/Enrichr_results/enrichr_kegg_permutation_1000.txt already exists, reading file now...\n",
      "Results written to  ../example_results/Enrichr_results//AKAP8.enrichr_result.txt\n",
      "********************\n",
      "Running Enrichr for genes in  AKAP8L\n",
      "../example_results/Enrichr_results/enrichr_kegg_permutation_1000.txt already exists, reading file now...\n",
      "Results written to  ../example_results/Enrichr_results//AKAP8L.enrichr_result.txt\n",
      "********************\n",
      "Running Enrichr for genes in  APOBEC3C\n",
      "../example_results/Enrichr_results/enrichr_kegg_permutation_1000.txt already exists, reading file now...\n",
      "Results written to  ../example_results/Enrichr_results//APOBEC3C.enrichr_result.txt\n",
      "********************\n",
      "Running Enrichr for genes in  ASCC1\n",
      "../example_results/Enrichr_results/enrichr_kegg_permutation_1000.txt already exists, reading file now...\n",
      "Results written to  ../example_results/Enrichr_results//ASCC1.enrichr_result.txt\n",
      "********************\n"
     ]
    }
   ],
   "source": [
    "# Run Enrichr \n",
    "enrichr_result_dir = '../example_results/Enrichr_results/'\n",
    "\n",
    "run_enrichr(pathway_dict=pathway_dict, deg_dict=deg_dict,\n",
    "            gene_universe=gene_universe, \n",
    "            permutation_num=1000, permutation_file_name=enrichr_result_dir+'enrichr_kegg_permutation_1000.txt',\n",
    "            out_dir=enrichr_result_dir)"
   ]
  },
  {
   "cell_type": "code",
   "execution_count": 34,
   "outputs": [
    {
     "name": "stdout",
     "output_type": "stream",
     "text": [
      "GSEA path was provided as file, GSEAPY used.\n",
      "Calculating ora rank...\n",
      "Calculating enrichr rank...\n",
      "Calculating GSEA rank...\n",
      "Ensembling results...\n",
      "Results written to  ../example_results/PET_results//AARS.PET.txt\n",
      "GSEA path was provided as file, GSEAPY used.\n",
      "Calculating ora rank...\n",
      "Calculating enrichr rank...\n",
      "Calculating GSEA rank...\n",
      "Ensembling results...\n",
      "Results written to  ../example_results/PET_results//AATF.PET.txt\n",
      "GSEA path was provided as file, GSEAPY used.\n",
      "Calculating ora rank...\n",
      "Calculating enrichr rank...\n",
      "Calculating GSEA rank...\n",
      "Ensembling results...\n",
      "Results written to  ../example_results/PET_results//ABCF1.PET.txt\n",
      "GSEA path was provided as file, GSEAPY used.\n",
      "Calculating ora rank...\n",
      "Calculating enrichr rank...\n",
      "Calculating GSEA rank...\n",
      "Ensembling results...\n",
      "Results written to  ../example_results/PET_results//ADAR.PET.txt\n",
      "GSEA path was provided as file, GSEAPY used.\n",
      "Calculating ora rank...\n",
      "Calculating enrichr rank...\n",
      "Calculating GSEA rank...\n",
      "Ensembling results...\n",
      "Results written to  ../example_results/PET_results//AGO1.PET.txt\n",
      "GSEA path was provided as file, GSEAPY used.\n",
      "Calculating ora rank...\n",
      "Calculating enrichr rank...\n",
      "Calculating GSEA rank...\n",
      "Ensembling results...\n",
      "Results written to  ../example_results/PET_results//AKAP1.PET.txt\n",
      "GSEA path was provided as file, GSEAPY used.\n",
      "Calculating ora rank...\n",
      "Calculating enrichr rank...\n",
      "Calculating GSEA rank...\n",
      "Ensembling results...\n",
      "Results written to  ../example_results/PET_results//AKAP8.PET.txt\n",
      "GSEA path was provided as file, GSEAPY used.\n",
      "Calculating ora rank...\n",
      "Calculating enrichr rank...\n",
      "Calculating GSEA rank...\n",
      "Ensembling results...\n",
      "Results written to  ../example_results/PET_results//AKAP8L.PET.txt\n",
      "GSEA path was provided as file, GSEAPY used.\n",
      "Calculating ora rank...\n",
      "Calculating enrichr rank...\n",
      "Calculating GSEA rank...\n",
      "Ensembling results...\n",
      "Results written to  ../example_results/PET_results//APOBEC3C.PET.txt\n",
      "GSEA path was provided as file, GSEAPY used.\n",
      "Calculating ora rank...\n",
      "Calculating enrichr rank...\n",
      "Calculating GSEA rank...\n",
      "Ensembling results...\n",
      "Results written to  ../example_results/PET_results//ASCC1.PET.txt\n"
     ]
    }
   ],
   "source": [
    "pet_out_dir = '../example_results/PET_results/'\n",
    "for file in all_rank_file:\n",
    "    target = file.split('.')[0]\n",
    "    run_PET(ora_result_file=ora_result_dir+target+'.ora_result.txt', \n",
    "            enrichr_result_file=enrichr_result_dir+target+'.enrichr_result.txt', \n",
    "            gsea_result_file=gsea_result_dir+target+'.gsea.csv', \n",
    "            pathway_dict = pathway_dict,\n",
    "            out_dir = pet_out_dir, gsea_pos_label='pos', file_prefix=target)"
   ],
   "metadata": {
    "collapsed": false,
    "ExecuteTime": {
     "end_time": "2024-05-29T22:10:30.248267Z",
     "start_time": "2024-05-29T22:10:29.061564Z"
    }
   },
   "id": "dbd9833037919e37"
  },
  {
   "cell_type": "code",
   "execution_count": 35,
   "id": "174b833d",
   "metadata": {
    "ExecuteTime": {
     "end_time": "2024-05-29T22:10:30.337290Z",
     "start_time": "2024-05-29T22:10:30.248880Z"
    }
   },
   "outputs": [],
   "source": [
    "# summarize results from Ora, enrichr, GSEApy and PET\n",
    "all_pet_results = os.listdir(pet_out_dir)\n",
    "all_pet_results.sort()\n",
    "rank_dict = dict()\n",
    "methods = ['PET', 'Enrichr', 'GSEA', 'ora']\n",
    "for m in methods:\n",
    "    rank_dict[m] = dict()\n",
    "for file in all_pet_results:\n",
    "    target = file.split('.')[0]\n",
    "    df = pd.read_csv(pet_out_dir+file, sep='\\t', index_col=0)\n",
    "    for m in methods:\n",
    "        rank_dict[m][target] = int(df.loc[target][m+' rank'])"
   ]
  },
  {
   "cell_type": "code",
   "execution_count": 51,
   "outputs": [],
   "source": [
    "rank_df = pd.DataFrame.from_dict(rank_dict)\n",
    "for m in methods:\n",
    "    rank_df[m].to_csv('../example_results/'+m+'_result.txt', sep='\\t', header=None)"
   ],
   "metadata": {
    "collapsed": false,
    "ExecuteTime": {
     "end_time": "2024-05-30T14:02:30.923833Z",
     "start_time": "2024-05-30T14:02:30.902303Z"
    }
   },
   "id": "41aca99a4ef6322"
  },
  {
   "cell_type": "code",
   "execution_count": 45,
   "outputs": [
    {
     "data": {
      "text/plain": "        PET  Enrichr  GSEA  ora\n0                              \nAARS      1        1     3    3\nAATF      1        4     6    2\nABCF1     6       16    13   47\nADAR      1        1     1    1\nAGO1      1        4     1    1\n...     ...      ...   ...  ...\nXRCC6     1        1     2   13\nXRN2      2        1    20    6\nYBX3      1        1     1    1\nZC3H8     6       49    19   26\nZRANB2    1        2     1    1\n\n[197 rows x 4 columns]",
      "text/html": "<div>\n<style scoped>\n    .dataframe tbody tr th:only-of-type {\n        vertical-align: middle;\n    }\n\n    .dataframe tbody tr th {\n        vertical-align: top;\n    }\n\n    .dataframe thead th {\n        text-align: right;\n    }\n</style>\n<table border=\"1\" class=\"dataframe\">\n  <thead>\n    <tr style=\"text-align: right;\">\n      <th></th>\n      <th>PET</th>\n      <th>Enrichr</th>\n      <th>GSEA</th>\n      <th>ora</th>\n    </tr>\n    <tr>\n      <th>0</th>\n      <th></th>\n      <th></th>\n      <th></th>\n      <th></th>\n    </tr>\n  </thead>\n  <tbody>\n    <tr>\n      <th>AARS</th>\n      <td>1</td>\n      <td>1</td>\n      <td>3</td>\n      <td>3</td>\n    </tr>\n    <tr>\n      <th>AATF</th>\n      <td>1</td>\n      <td>4</td>\n      <td>6</td>\n      <td>2</td>\n    </tr>\n    <tr>\n      <th>ABCF1</th>\n      <td>6</td>\n      <td>16</td>\n      <td>13</td>\n      <td>47</td>\n    </tr>\n    <tr>\n      <th>ADAR</th>\n      <td>1</td>\n      <td>1</td>\n      <td>1</td>\n      <td>1</td>\n    </tr>\n    <tr>\n      <th>AGO1</th>\n      <td>1</td>\n      <td>4</td>\n      <td>1</td>\n      <td>1</td>\n    </tr>\n    <tr>\n      <th>...</th>\n      <td>...</td>\n      <td>...</td>\n      <td>...</td>\n      <td>...</td>\n    </tr>\n    <tr>\n      <th>XRCC6</th>\n      <td>1</td>\n      <td>1</td>\n      <td>2</td>\n      <td>13</td>\n    </tr>\n    <tr>\n      <th>XRN2</th>\n      <td>2</td>\n      <td>1</td>\n      <td>20</td>\n      <td>6</td>\n    </tr>\n    <tr>\n      <th>YBX3</th>\n      <td>1</td>\n      <td>1</td>\n      <td>1</td>\n      <td>1</td>\n    </tr>\n    <tr>\n      <th>ZC3H8</th>\n      <td>6</td>\n      <td>49</td>\n      <td>19</td>\n      <td>26</td>\n    </tr>\n    <tr>\n      <th>ZRANB2</th>\n      <td>1</td>\n      <td>2</td>\n      <td>1</td>\n      <td>1</td>\n    </tr>\n  </tbody>\n</table>\n<p>197 rows × 4 columns</p>\n</div>"
     },
     "execution_count": 45,
     "metadata": {},
     "output_type": "execute_result"
    }
   ],
   "source": [
    "# plot all results\n",
    "result_dfs = []\n",
    "result_dir = '../Benchmark_results/'\n",
    "methods = ['PET', 'Enrichr', 'GSEA', 'ora']\n",
    "for m in methods:\n",
    "    res_df = pd.read_csv(result_dir+m+'_result.txt', sep='\\t', header=None, index_col=0)\n",
    "    result_dfs.append(res_df)\n",
    "# combine the results\n",
    "all_result_df = pd.concat(result_dfs, axis=1)\n",
    "all_result_df.columns = methods\n",
    "all_result_df"
   ],
   "metadata": {
    "collapsed": false,
    "ExecuteTime": {
     "end_time": "2024-05-29T22:15:25.995232Z",
     "start_time": "2024-05-29T22:15:25.970023Z"
    }
   },
   "id": "3bd210b13d437f69"
  },
  {
   "cell_type": "code",
   "execution_count": 46,
   "outputs": [],
   "source": [
    "def apk(predicted, k=10):\n",
    "    \"\"\"\n",
    "    Computes the average precision at k.\n",
    "    This function computes the average precision at k between two lists of items.\n",
    "    \"\"\"\n",
    "    total_num = len(predicted)\n",
    "    precision_list = []\n",
    "    for idx in range(k):\n",
    "        precision_list.append(np.where(predicted<=idx+1)[0].shape[0]/total_num)\n",
    "        # print(np.where(predicted<=idx+1)[0].shape[0])\n",
    "    # return P@10 and AP@10\n",
    "    return precision_list[-1], np.mean(precision_list)"
   ],
   "metadata": {
    "collapsed": false,
    "ExecuteTime": {
     "end_time": "2024-05-29T22:15:26.810949Z",
     "start_time": "2024-05-29T22:15:26.802602Z"
    }
   },
   "id": "3b1b2080acf3f55e"
  },
  {
   "cell_type": "code",
   "execution_count": 47,
   "outputs": [
    {
     "data": {
      "text/plain": "<Axes: ylabel='Ground truth pathway rank'>"
     },
     "execution_count": 47,
     "metadata": {},
     "output_type": "execute_result"
    },
    {
     "data": {
      "text/plain": "<Figure size 640x480 with 1 Axes>",
      "image/png": "[encoded data removed]"
     },
     "metadata": {},
     "output_type": "display_data"
    }
   ],
   "source": [
    "# plot the results\n",
    "plt.xticks(rotation=90)\n",
    "plt.ylabel('Ground truth pathway rank')\n",
    "sns.boxplot(data=all_result_df)"
   ],
   "metadata": {
    "collapsed": false,
    "ExecuteTime": {
     "end_time": "2024-05-29T22:15:27.866157Z",
     "start_time": "2024-05-29T22:15:27.419506Z"
    }
   },
   "id": "67b5d516edbe6367"
  },
  {
   "cell_type": "code",
   "execution_count": 48,
   "outputs": [
    {
     "data": {
      "text/plain": "<Axes: ylabel='Proportion'>"
     },
     "execution_count": 48,
     "metadata": {},
     "output_type": "execute_result"
    },
    {
     "data": {
      "text/plain": "<Figure size 640x480 with 1 Axes>",
      "image/png": "[encoded data removed]"
     },
     "metadata": {},
     "output_type": "display_data"
    }
   ],
   "source": [
    "plt.grid(False)\n",
    "plt.xlim(1, 200)\n",
    "# plt.ylim(0, 100)\n",
    "sns.ecdfplot(data=all_result_df, stat='proportion')"
   ],
   "metadata": {
    "collapsed": false,
    "ExecuteTime": {
     "end_time": "2024-05-29T22:15:30.027236Z",
     "start_time": "2024-05-29T22:15:29.705575Z"
    }
   },
   "id": "587864ddf80e82e4"
  },
  {
   "cell_type": "code",
   "execution_count": 49,
   "outputs": [
    {
     "name": "stdout",
     "output_type": "stream",
     "text": [
      "--------------------\n",
      "PET summary:\n",
      "Median rank:  1.0\n",
      "Precision@10:  0.817258883248731\n",
      "Average Precision@10:  0.7335025380710659\n",
      "--------------------\n",
      "Enrichr summary:\n",
      "Median rank:  3.0\n",
      "Precision@10:  0.6751269035532995\n",
      "Average Precision@10:  0.5695431472081218\n",
      "--------------------\n",
      "GSEA summary:\n",
      "Median rank:  3.0\n",
      "Precision@10:  0.6345177664974619\n",
      "Average Precision@10:  0.5543147208121827\n",
      "--------------------\n",
      "ora summary:\n",
      "Median rank:  3.0\n",
      "Precision@10:  0.6649746192893401\n",
      "Average Precision@10:  0.5842639593908628\n"
     ]
    }
   ],
   "source": [
    "for method in all_result_df.columns:\n",
    "    print('-'*20)\n",
    "    print(method, 'summary:')\n",
    "    print('Median rank: ', all_result_df[method].median())\n",
    "    print('Precision@10: ', apk(all_result_df[method])[0])\n",
    "    print('Average Precision@10: ', apk(all_result_df[method])[1])"
   ],
   "metadata": {
    "collapsed": false,
    "ExecuteTime": {
     "end_time": "2024-05-29T22:15:31.592521Z",
     "start_time": "2024-05-29T22:15:31.587811Z"
    }
   },
   "id": "41fb9692e0db5cfa"
  },
  {
   "cell_type": "code",
   "execution_count": null,
   "outputs": [],
   "source": [],
   "metadata": {
    "collapsed": false
   },
   "id": "8cd484fd78044335"
  }
 ],
 "metadata": {
  "kernelspec": {
   "name": "pt",
   "language": "python",
   "display_name": "pt"
  },
  "language_info": {
   "codemirror_mode": {
    "name": "ipython",
    "version": 3
   },
   "file_extension": ".py",
   "mimetype": "text/x-python",
   "name": "python",
   "nbconvert_exporter": "python",
   "pygments_lexer": "ipython3",
   "version": "3.10.12"
  }
 },
 "nbformat": 4,
 "nbformat_minor": 5
}
