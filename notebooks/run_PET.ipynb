{
 "cells": [
  {
   "cell_type": "markdown",
   "id": "1dba7033",
   "metadata": {},
   "source": [
    "This notebook runs Ora, GSEA, Enrichr and PET under Benchmark."
   ]
  },
  {
   "cell_type": "code",
   "execution_count": 1,
   "id": "e4c4e48a",
   "metadata": {
    "scrolled": false,
    "ExecuteTime": {
     "end_time": "2024-05-29T20:25:01.988244Z",
     "start_time": "2024-05-29T20:25:01.903781Z"
    }
   },
   "outputs": [],
   "source": [
    "import os\n",
    "\n",
    "import pandas as pd\n",
    "\n",
    "from PET import *\n",
    "import matplotlib.pyplot as plt\n",
    "import seaborn as sns"
   ]
  },
  {
   "cell_type": "code",
   "execution_count": 4,
   "outputs": [],
   "source": [
    "data_dir = '../data/prerank_DESeq2/'\n",
    "all_rank_file = os.listdir(data_dir)\n",
    "all_rank_file.sort()"
   ],
   "metadata": {
    "collapsed": false,
    "ExecuteTime": {
     "end_time": "2024-05-29T20:06:02.693634Z",
     "start_time": "2024-05-29T20:06:02.687159Z"
    }
   },
   "id": "9948df8949909295"
  },
  {
   "cell_type": "code",
   "execution_count": 3,
   "id": "ee6cb66c69ec89a8",
   "metadata": {
    "ExecuteTime": {
     "end_time": "2024-05-28T19:36:22.525033Z",
     "start_time": "2024-05-28T19:34:57.373020Z"
    }
   },
   "outputs": [
    {
     "name": "stderr",
     "output_type": "stream",
     "text": [
      "2024-05-28 15:34:57,398 [WARNING] Duplicated values found in preranked stats: 73.85% of genes\n",
      "The order of those genes will be arbitrary, which may produce unexpected results.\n",
      "2024-05-28 15:34:57,399 [INFO] Parsing data files for GSEA.............................\n",
      "2024-05-28 15:34:57,418 [INFO] 0000 gene_sets have been filtered out when max_size=500 and min_size=15\n",
      "2024-05-28 15:34:57,419 [INFO] 0197 gene_sets used for further statistical testing.....\n",
      "2024-05-28 15:34:57,419 [INFO] Start to run GSEA...Might take a while..................\n",
      "2024-05-28 15:35:04,772 [INFO] Start to generate gseapy reports, and produce figures...\n",
      "2024-05-28 15:35:04,773 [INFO] Congratulations. GSEApy runs successfully................\n",
      "\n",
      "2024-05-28 15:35:04,943 [WARNING] Duplicated values found in preranked stats: 57.37% of genes\n",
      "The order of those genes will be arbitrary, which may produce unexpected results.\n",
      "2024-05-28 15:35:04,944 [INFO] Parsing data files for GSEA.............................\n",
      "2024-05-28 15:35:04,960 [INFO] 0000 gene_sets have been filtered out when max_size=500 and min_size=15\n",
      "2024-05-28 15:35:04,961 [INFO] 0197 gene_sets used for further statistical testing.....\n",
      "2024-05-28 15:35:04,962 [INFO] Start to run GSEA...Might take a while..................\n",
      "2024-05-28 15:35:12,403 [INFO] Start to generate gseapy reports, and produce figures...\n",
      "2024-05-28 15:35:12,403 [INFO] Congratulations. GSEApy runs successfully................\n",
      "\n",
      "2024-05-28 15:35:12,602 [WARNING] Duplicated values found in preranked stats: 53.81% of genes\n",
      "The order of those genes will be arbitrary, which may produce unexpected results.\n",
      "2024-05-28 15:35:12,603 [INFO] Parsing data files for GSEA.............................\n",
      "2024-05-28 15:35:12,625 [INFO] 0000 gene_sets have been filtered out when max_size=500 and min_size=15\n",
      "2024-05-28 15:35:12,626 [INFO] 0197 gene_sets used for further statistical testing.....\n",
      "2024-05-28 15:35:12,627 [INFO] Start to run GSEA...Might take a while..................\n",
      "2024-05-28 15:35:19,661 [INFO] Start to generate gseapy reports, and produce figures...\n",
      "2024-05-28 15:35:19,662 [INFO] Congratulations. GSEApy runs successfully................\n",
      "\n",
      "2024-05-28 15:35:19,920 [WARNING] Duplicated values found in preranked stats: 56.76% of genes\n",
      "The order of those genes will be arbitrary, which may produce unexpected results.\n",
      "2024-05-28 15:35:19,921 [INFO] Parsing data files for GSEA.............................\n",
      "2024-05-28 15:35:19,944 [INFO] 0000 gene_sets have been filtered out when max_size=500 and min_size=15\n",
      "2024-05-28 15:35:19,945 [INFO] 0197 gene_sets used for further statistical testing.....\n",
      "2024-05-28 15:35:19,946 [INFO] Start to run GSEA...Might take a while..................\n",
      "2024-05-28 15:35:28,394 [INFO] Start to generate gseapy reports, and produce figures...\n",
      "2024-05-28 15:35:28,394 [INFO] Congratulations. GSEApy runs successfully................\n",
      "\n",
      "2024-05-28 15:35:28,647 [WARNING] Duplicated values found in preranked stats: 60.86% of genes\n",
      "The order of those genes will be arbitrary, which may produce unexpected results.\n",
      "2024-05-28 15:35:28,647 [INFO] Parsing data files for GSEA.............................\n",
      "2024-05-28 15:35:28,666 [INFO] 0000 gene_sets have been filtered out when max_size=500 and min_size=15\n",
      "2024-05-28 15:35:28,667 [INFO] 0197 gene_sets used for further statistical testing.....\n",
      "2024-05-28 15:35:28,667 [INFO] Start to run GSEA...Might take a while..................\n",
      "2024-05-28 15:35:37,110 [INFO] Start to generate gseapy reports, and produce figures...\n",
      "2024-05-28 15:35:37,110 [INFO] Congratulations. GSEApy runs successfully................\n",
      "\n",
      "2024-05-28 15:35:37,368 [WARNING] Duplicated values found in preranked stats: 35.56% of genes\n",
      "The order of those genes will be arbitrary, which may produce unexpected results.\n",
      "2024-05-28 15:35:37,369 [INFO] Parsing data files for GSEA.............................\n",
      "2024-05-28 15:35:37,388 [INFO] 0000 gene_sets have been filtered out when max_size=500 and min_size=15\n",
      "2024-05-28 15:35:37,389 [INFO] 0197 gene_sets used for further statistical testing.....\n",
      "2024-05-28 15:35:37,389 [INFO] Start to run GSEA...Might take a while..................\n",
      "2024-05-28 15:35:45,439 [INFO] Start to generate gseapy reports, and produce figures...\n",
      "2024-05-28 15:35:45,440 [INFO] Congratulations. GSEApy runs successfully................\n",
      "\n",
      "2024-05-28 15:35:45,676 [WARNING] Duplicated values found in preranked stats: 47.94% of genes\n",
      "The order of those genes will be arbitrary, which may produce unexpected results.\n",
      "2024-05-28 15:35:45,677 [INFO] Parsing data files for GSEA.............................\n",
      "2024-05-28 15:35:45,701 [INFO] 0000 gene_sets have been filtered out when max_size=500 and min_size=15\n",
      "2024-05-28 15:35:45,702 [INFO] 0197 gene_sets used for further statistical testing.....\n",
      "2024-05-28 15:35:45,703 [INFO] Start to run GSEA...Might take a while..................\n",
      "2024-05-28 15:35:54,341 [INFO] Start to generate gseapy reports, and produce figures...\n",
      "2024-05-28 15:35:54,342 [INFO] Congratulations. GSEApy runs successfully................\n",
      "\n",
      "2024-05-28 15:35:54,585 [WARNING] Duplicated values found in preranked stats: 48.37% of genes\n",
      "The order of those genes will be arbitrary, which may produce unexpected results.\n",
      "2024-05-28 15:35:54,586 [INFO] Parsing data files for GSEA.............................\n",
      "2024-05-28 15:35:54,612 [INFO] 0000 gene_sets have been filtered out when max_size=500 and min_size=15\n",
      "2024-05-28 15:35:54,613 [INFO] 0197 gene_sets used for further statistical testing.....\n",
      "2024-05-28 15:35:54,614 [INFO] Start to run GSEA...Might take a while..................\n",
      "2024-05-28 15:36:03,181 [INFO] Start to generate gseapy reports, and produce figures...\n",
      "2024-05-28 15:36:03,181 [INFO] Congratulations. GSEApy runs successfully................\n",
      "\n",
      "2024-05-28 15:36:03,476 [WARNING] Duplicated values found in preranked stats: 86.60% of genes\n",
      "The order of those genes will be arbitrary, which may produce unexpected results.\n",
      "2024-05-28 15:36:03,477 [INFO] Parsing data files for GSEA.............................\n",
      "2024-05-28 15:36:03,499 [INFO] 0000 gene_sets have been filtered out when max_size=500 and min_size=15\n",
      "2024-05-28 15:36:03,500 [INFO] 0197 gene_sets used for further statistical testing.....\n",
      "2024-05-28 15:36:03,501 [INFO] Start to run GSEA...Might take a while..................\n",
      "2024-05-28 15:36:12,351 [INFO] Start to generate gseapy reports, and produce figures...\n",
      "2024-05-28 15:36:12,352 [INFO] Congratulations. GSEApy runs successfully................\n",
      "\n",
      "2024-05-28 15:36:12,624 [WARNING] Duplicated values found in preranked stats: 44.93% of genes\n",
      "The order of those genes will be arbitrary, which may produce unexpected results.\n",
      "2024-05-28 15:36:12,625 [INFO] Parsing data files for GSEA.............................\n",
      "2024-05-28 15:36:12,646 [INFO] 0000 gene_sets have been filtered out when max_size=500 and min_size=15\n",
      "2024-05-28 15:36:12,647 [INFO] 0197 gene_sets used for further statistical testing.....\n",
      "2024-05-28 15:36:12,648 [INFO] Start to run GSEA...Might take a while..................\n",
      "2024-05-28 15:36:22,286 [INFO] Start to generate gseapy reports, and produce figures...\n",
      "2024-05-28 15:36:22,287 [INFO] Congratulations. GSEApy runs successfully................\n",
      "\n"
     ]
    }
   ],
   "source": [
    "# run GSEA\n",
    "gsea_result_dir = '../example_results/GSEA_results/'\n",
    "for file in all_rank_file:\n",
    "    target = file.split('.')[0]\n",
    "    run_GSEA(prerank_file_path=data_dir+file, out_dir=gsea_result_dir, thread_num=10,\n",
    "         pathway_file='../pathway_files/K562_DESEq2.gmt', no_plot=True,\n",
    "         min_size=15, max_size=500)\n",
    "    # rename the GSEA report file\n",
    "    os.system('mv '+gsea_result_dir+'/gseapy.gene_set.prerank.report.csv '+gsea_result_dir+'/'+target+'.gsea.csv')"
   ]
  },
  {
   "cell_type": "code",
   "execution_count": 5,
   "id": "27924173",
   "metadata": {
    "scrolled": false,
    "ExecuteTime": {
     "end_time": "2024-05-29T20:06:05.318109Z",
     "start_time": "2024-05-29T20:06:05.307805Z"
    }
   },
   "outputs": [],
   "source": [
    "# read pathway information for Ora and enrichr\n",
    "pathway_dict = read_gmt('../pathway_files/K562_DESEq2.gmt')"
   ]
  },
  {
   "cell_type": "code",
   "execution_count": 6,
   "outputs": [],
   "source": [
    "# get top 200 DEGs from rank file\n",
    "deg_dict = dict()\n",
    "for file in all_rank_file:\n",
    "    target = file.split('.')[0]\n",
    "    deg_dict[target] = extract_deg_rnk(data_dir+file, deg_num=200, ascending=False)"
   ],
   "metadata": {
    "collapsed": false,
    "ExecuteTime": {
     "end_time": "2024-05-29T20:06:05.697125Z",
     "start_time": "2024-05-29T20:06:05.533587Z"
    }
   },
   "id": "fd045d96d6dcba3c"
  },
  {
   "cell_type": "code",
   "execution_count": 7,
   "outputs": [],
   "source": [
    "gene_universe = set(pd.read_csv(data_dir+file, sep='\\t', header=None)[0])"
   ],
   "metadata": {
    "collapsed": false,
    "ExecuteTime": {
     "end_time": "2024-05-29T20:06:06.738984Z",
     "start_time": "2024-05-29T20:06:06.713802Z"
    }
   },
   "id": "b7848689ecf3ab7a"
  },
  {
   "cell_type": "code",
   "execution_count": 8,
   "id": "5c3a30a1",
   "metadata": {
    "scrolled": true,
    "ExecuteTime": {
     "end_time": "2024-05-29T20:06:07.394982Z",
     "start_time": "2024-05-29T20:06:06.943506Z"
    }
   },
   "outputs": [
    {
     "name": "stdout",
     "output_type": "stream",
     "text": [
      "Running ORA for genes in  AARS\n",
      "Results written to  ../example_results/Ora_results//AARS.ora_result.txt\n",
      "********************\n",
      "Running ORA for genes in  AATF\n",
      "Results written to  ../example_results/Ora_results//AATF.ora_result.txt\n",
      "********************\n",
      "Running ORA for genes in  ABCF1\n",
      "Results written to  ../example_results/Ora_results//ABCF1.ora_result.txt\n",
      "********************\n",
      "Running ORA for genes in  ADAR\n",
      "Results written to  ../example_results/Ora_results//ADAR.ora_result.txt\n",
      "********************\n",
      "Running ORA for genes in  AGO1\n",
      "Results written to  ../example_results/Ora_results//AGO1.ora_result.txt\n",
      "********************\n",
      "Running ORA for genes in  AKAP1\n",
      "Results written to  ../example_results/Ora_results//AKAP1.ora_result.txt\n",
      "********************\n",
      "Running ORA for genes in  AKAP8\n",
      "Results written to  ../example_results/Ora_results//AKAP8.ora_result.txt\n",
      "********************\n",
      "Running ORA for genes in  AKAP8L\n",
      "Results written to  ../example_results/Ora_results//AKAP8L.ora_result.txt\n",
      "********************\n",
      "Running ORA for genes in  APOBEC3C\n",
      "Results written to  ../example_results/Ora_results//APOBEC3C.ora_result.txt\n",
      "********************\n",
      "Running ORA for genes in  ASCC1\n",
      "Results written to  ../example_results/Ora_results//ASCC1.ora_result.txt\n",
      "********************\n"
     ]
    }
   ],
   "source": [
    "# run ORA \n",
    "ora_result_dir = '../example_results/Ora_results/'\n",
    "run_ora(pathway_dict=pathway_dict, deg_dict = deg_dict,\n",
    "        gene_universe_num=len(gene_universe), out_dir=ora_result_dir)\n"
   ]
  },
  {
   "cell_type": "code",
   "execution_count": 9,
   "id": "4c814d45889a5864",
   "metadata": {
    "ExecuteTime": {
     "end_time": "2024-05-29T20:06:12.991791Z",
     "start_time": "2024-05-29T20:06:10.506248Z"
    }
   },
   "outputs": [
    {
     "name": "stdout",
     "output_type": "stream",
     "text": [
      "Running Enrichr for genes in  AARS\n",
      "../example_results/Enrichr_results/enrichr_kegg_permutation_1000.txt already exists, reading file now...\n",
      "Results written to  ../example_results/Enrichr_results//AARS.enrichr_result.txt\n",
      "********************\n",
      "Running Enrichr for genes in  AATF\n",
      "../example_results/Enrichr_results/enrichr_kegg_permutation_1000.txt already exists, reading file now...\n",
      "Results written to  ../example_results/Enrichr_results//AATF.enrichr_result.txt\n",
      "********************\n",
      "Running Enrichr for genes in  ABCF1\n",
      "../example_results/Enrichr_results/enrichr_kegg_permutation_1000.txt already exists, reading file now...\n",
      "Results written to  ../example_results/Enrichr_results//ABCF1.enrichr_result.txt\n",
      "********************\n",
      "Running Enrichr for genes in  ADAR\n",
      "../example_results/Enrichr_results/enrichr_kegg_permutation_1000.txt already exists, reading file now...\n",
      "Results written to  ../example_results/Enrichr_results//ADAR.enrichr_result.txt\n",
      "********************\n",
      "Running Enrichr for genes in  AGO1\n",
      "../example_results/Enrichr_results/enrichr_kegg_permutation_1000.txt already exists, reading file now...\n",
      "Results written to  ../example_results/Enrichr_results//AGO1.enrichr_result.txt\n",
      "********************\n",
      "Running Enrichr for genes in  AKAP1\n",
      "../example_results/Enrichr_results/enrichr_kegg_permutation_1000.txt already exists, reading file now...\n",
      "Results written to  ../example_results/Enrichr_results//AKAP1.enrichr_result.txt\n",
      "********************\n",
      "Running Enrichr for genes in  AKAP8\n",
      "../example_results/Enrichr_results/enrichr_kegg_permutation_1000.txt already exists, reading file now...\n",
      "Results written to  ../example_results/Enrichr_results//AKAP8.enrichr_result.txt\n",
      "********************\n",
      "Running Enrichr for genes in  AKAP8L\n",
      "../example_results/Enrichr_results/enrichr_kegg_permutation_1000.txt already exists, reading file now...\n",
      "Results written to  ../example_results/Enrichr_results//AKAP8L.enrichr_result.txt\n",
      "********************\n",
      "Running Enrichr for genes in  APOBEC3C\n",
      "../example_results/Enrichr_results/enrichr_kegg_permutation_1000.txt already exists, reading file now...\n",
      "Results written to  ../example_results/Enrichr_results//APOBEC3C.enrichr_result.txt\n",
      "********************\n",
      "Running Enrichr for genes in  ASCC1\n",
      "../example_results/Enrichr_results/enrichr_kegg_permutation_1000.txt already exists, reading file now...\n",
      "Results written to  ../example_results/Enrichr_results//ASCC1.enrichr_result.txt\n",
      "********************\n"
     ]
    }
   ],
   "source": [
    "# Run Enrichr \n",
    "enrichr_result_dir = '../example_results/Enrichr_results/'\n",
    "\n",
    "run_enrichr(pathway_dict=pathway_dict, deg_dict=deg_dict,\n",
    "            gene_universe=gene_universe, \n",
    "            permutation_num=1000, permutation_file_name=enrichr_result_dir+'enrichr_kegg_permutation_1000.txt',\n",
    "            out_dir=enrichr_result_dir)"
   ]
  },
  {
   "cell_type": "code",
   "execution_count": 10,
   "outputs": [],
   "source": [
    "enrichr_result_dir = '../example_results/Enrichr_results/'\n",
    "ora_result_dir = '../example_results/Ora_results/'\n",
    "gsea_result_dir = '../example_results/GSEA_results/'\n"
   ],
   "metadata": {
    "collapsed": false,
    "ExecuteTime": {
     "end_time": "2024-05-29T20:06:12.992617Z",
     "start_time": "2024-05-29T20:06:12.990004Z"
    }
   },
   "id": "d55afc6723725c44"
  },
  {
   "cell_type": "code",
   "execution_count": 11,
   "outputs": [
    {
     "name": "stdout",
     "output_type": "stream",
     "text": [
      "GSEA path was provided as file, GSEAPY used.\n",
      "Calculating ora rank...\n",
      "Calculating enrichr rank...\n",
      "Calculating GSEA rank...\n",
      "Ensembling results...\n",
      "Results written to  ../example_results/PET_results//AARS.PET.txt\n",
      "GSEA path was provided as file, GSEAPY used.\n",
      "Calculating ora rank...\n",
      "Calculating enrichr rank...\n",
      "Calculating GSEA rank...\n",
      "Ensembling results...\n",
      "Results written to  ../example_results/PET_results//AATF.PET.txt\n",
      "GSEA path was provided as file, GSEAPY used.\n",
      "Calculating ora rank...\n",
      "Calculating enrichr rank...\n",
      "Calculating GSEA rank...\n",
      "Ensembling results...\n",
      "Results written to  ../example_results/PET_results//ABCF1.PET.txt\n",
      "GSEA path was provided as file, GSEAPY used.\n",
      "Calculating ora rank...\n",
      "Calculating enrichr rank...\n",
      "Calculating GSEA rank...\n",
      "Ensembling results...\n",
      "Results written to  ../example_results/PET_results//ADAR.PET.txt\n",
      "GSEA path was provided as file, GSEAPY used.\n",
      "Calculating ora rank...\n",
      "Calculating enrichr rank...\n",
      "Calculating GSEA rank...\n",
      "Ensembling results...\n",
      "Results written to  ../example_results/PET_results//AGO1.PET.txt\n",
      "GSEA path was provided as file, GSEAPY used.\n",
      "Calculating ora rank...\n",
      "Calculating enrichr rank...\n",
      "Calculating GSEA rank...\n",
      "Ensembling results...\n",
      "Results written to  ../example_results/PET_results//AKAP1.PET.txt\n",
      "GSEA path was provided as file, GSEAPY used.\n",
      "Calculating ora rank...\n",
      "Calculating enrichr rank...\n",
      "Calculating GSEA rank...\n",
      "Ensembling results...\n",
      "Results written to  ../example_results/PET_results//AKAP8.PET.txt\n",
      "GSEA path was provided as file, GSEAPY used.\n",
      "Calculating ora rank...\n",
      "Calculating enrichr rank...\n",
      "Calculating GSEA rank...\n",
      "Ensembling results...\n",
      "Results written to  ../example_results/PET_results//AKAP8L.PET.txt\n",
      "GSEA path was provided as file, GSEAPY used.\n",
      "Calculating ora rank...\n",
      "Calculating enrichr rank...\n",
      "Calculating GSEA rank...\n",
      "Ensembling results...\n",
      "Results written to  ../example_results/PET_results//APOBEC3C.PET.txt\n",
      "GSEA path was provided as file, GSEAPY used.\n",
      "Calculating ora rank...\n",
      "Calculating enrichr rank...\n",
      "Calculating GSEA rank...\n",
      "Ensembling results...\n",
      "Results written to  ../example_results/PET_results//ASCC1.PET.txt\n"
     ]
    }
   ],
   "source": [
    "pet_out_dir = '../example_results/PET_results/'\n",
    "for file in all_rank_file:\n",
    "    target = file.split('.')[0]\n",
    "    run_PET(ora_result_file=ora_result_dir+target+'.ora_result.txt', \n",
    "            enrichr_result_file=enrichr_result_dir+target+'.enrichr_result.txt', \n",
    "            gsea_result_file=gsea_result_dir+target+'.gsea.csv', \n",
    "            pathway_dict = pathway_dict,\n",
    "            out_dir = pet_out_dir, gsea_pos_label='pos', file_prefix=target)"
   ],
   "metadata": {
    "collapsed": false,
    "ExecuteTime": {
     "end_time": "2024-05-29T20:06:20.906241Z",
     "start_time": "2024-05-29T20:06:19.839836Z"
    }
   },
   "id": "dbd9833037919e37"
  },
  {
   "cell_type": "code",
   "execution_count": 14,
   "id": "174b833d",
   "metadata": {
    "ExecuteTime": {
     "end_time": "2024-05-29T20:12:50.453220Z",
     "start_time": "2024-05-29T20:12:50.421803Z"
    }
   },
   "outputs": [],
   "source": [
    "# summarize results from Ora, enrichr, GSEApy and PET\n",
    "all_pet_results = os.listdir(pet_out_dir)\n",
    "all_pet_results.sort()\n",
    "rank_dict = dict()\n",
    "methods = ['PET', 'Enrichr', 'GSEA', 'ora']\n",
    "for m in methods:\n",
    "    rank_dict[m] = dict()\n",
    "for file in all_pet_results:\n",
    "    target = file.split('.')[0]\n",
    "    df = pd.read_csv(pet_out_dir+file, sep='\\t', index_col=0)\n",
    "    for m in methods:\n",
    "        rank_dict[m][target] = int(df.loc[target][m+' rank'])"
   ]
  },
  {
   "cell_type": "code",
   "execution_count": 17,
   "outputs": [],
   "source": [
    "rank_df = pd.DataFrame.from_dict(rank_dict)\n",
    "for m in methods:\n",
    "    rank_df[m].to_csv('../example_results/'+m+'_result.txt', sep='\\t', header=None)"
   ],
   "metadata": {
    "collapsed": false,
    "ExecuteTime": {
     "end_time": "2024-05-29T20:23:35.208743Z",
     "start_time": "2024-05-29T20:23:35.170191Z"
    }
   },
   "id": "41aca99a4ef6322"
  },
  {
   "cell_type": "code",
   "execution_count": 3,
   "outputs": [
    {
     "data": {
      "text/plain": "          PET  Enrichr  GSEA  ora\n0                                \nAARS        1        1     2    1\nAATF        3        4     6    6\nABCF1      10       15    16   15\nADAR        1        1     1    1\nAGO1        1        4     1    4\nAKAP1      40       50    36   44\nAKAP8       6       17    13   12\nAKAP8L      1        1     1    1\nAPOBEC3C   22       18    64   22\nASCC1       1        1     1    1",
      "text/html": "<div>\n<style scoped>\n    .dataframe tbody tr th:only-of-type {\n        vertical-align: middle;\n    }\n\n    .dataframe tbody tr th {\n        vertical-align: top;\n    }\n\n    .dataframe thead th {\n        text-align: right;\n    }\n</style>\n<table border=\"1\" class=\"dataframe\">\n  <thead>\n    <tr style=\"text-align: right;\">\n      <th></th>\n      <th>PET</th>\n      <th>Enrichr</th>\n      <th>GSEA</th>\n      <th>ora</th>\n    </tr>\n    <tr>\n      <th>0</th>\n      <th></th>\n      <th></th>\n      <th></th>\n      <th></th>\n    </tr>\n  </thead>\n  <tbody>\n    <tr>\n      <th>AARS</th>\n      <td>1</td>\n      <td>1</td>\n      <td>2</td>\n      <td>1</td>\n    </tr>\n    <tr>\n      <th>AATF</th>\n      <td>3</td>\n      <td>4</td>\n      <td>6</td>\n      <td>6</td>\n    </tr>\n    <tr>\n      <th>ABCF1</th>\n      <td>10</td>\n      <td>15</td>\n      <td>16</td>\n      <td>15</td>\n    </tr>\n    <tr>\n      <th>ADAR</th>\n      <td>1</td>\n      <td>1</td>\n      <td>1</td>\n      <td>1</td>\n    </tr>\n    <tr>\n      <th>AGO1</th>\n      <td>1</td>\n      <td>4</td>\n      <td>1</td>\n      <td>4</td>\n    </tr>\n    <tr>\n      <th>AKAP1</th>\n      <td>40</td>\n      <td>50</td>\n      <td>36</td>\n      <td>44</td>\n    </tr>\n    <tr>\n      <th>AKAP8</th>\n      <td>6</td>\n      <td>17</td>\n      <td>13</td>\n      <td>12</td>\n    </tr>\n    <tr>\n      <th>AKAP8L</th>\n      <td>1</td>\n      <td>1</td>\n      <td>1</td>\n      <td>1</td>\n    </tr>\n    <tr>\n      <th>APOBEC3C</th>\n      <td>22</td>\n      <td>18</td>\n      <td>64</td>\n      <td>22</td>\n    </tr>\n    <tr>\n      <th>ASCC1</th>\n      <td>1</td>\n      <td>1</td>\n      <td>1</td>\n      <td>1</td>\n    </tr>\n  </tbody>\n</table>\n</div>"
     },
     "execution_count": 3,
     "metadata": {},
     "output_type": "execute_result"
    }
   ],
   "source": [
    "# plot all results\n",
    "result_dfs = []\n",
    "result_dir = '../example_results/'\n",
    "methods = ['PET', 'Enrichr', 'GSEA', 'ora']\n",
    "for m in methods:\n",
    "    res_df = pd.read_csv(result_dir+m+'_result.txt', sep='\\t', header=None, index_col=0)\n",
    "    result_dfs.append(res_df)\n",
    "# combine the results\n",
    "all_result_df = pd.concat(result_dfs, axis=1)\n",
    "all_result_df.columns = methods\n",
    "all_result_df"
   ],
   "metadata": {
    "collapsed": false,
    "ExecuteTime": {
     "end_time": "2024-05-29T20:25:24.015416Z",
     "start_time": "2024-05-29T20:25:23.995982Z"
    }
   },
   "id": "3bd210b13d437f69"
  },
  {
   "cell_type": "code",
   "execution_count": 4,
   "outputs": [],
   "source": [
    "def apk(predicted, k=10):\n",
    "    \"\"\"\n",
    "    Computes the average precision at k.\n",
    "    This function computes the average precision at k between two lists of items.\n",
    "    \"\"\"\n",
    "    total_num = len(predicted)\n",
    "    precision_list = []\n",
    "    for idx in range(k):\n",
    "        precision_list.append(np.where(predicted<=idx+1)[0].shape[0]/total_num)\n",
    "        # print(np.where(predicted<=idx+1)[0].shape[0])\n",
    "    # return P@10 and AP@10\n",
    "    return precision_list[-1], np.mean(precision_list)"
   ],
   "metadata": {
    "collapsed": false,
    "ExecuteTime": {
     "end_time": "2024-05-29T20:25:24.740742Z",
     "start_time": "2024-05-29T20:25:24.734125Z"
    }
   },
   "id": "3b1b2080acf3f55e"
  },
  {
   "cell_type": "code",
   "execution_count": 5,
   "outputs": [
    {
     "data": {
      "text/plain": "<Axes: ylabel='Ground truth pathway rank'>"
     },
     "execution_count": 5,
     "metadata": {},
     "output_type": "execute_result"
    },
    {
     "data": {
      "text/plain": "<Figure size 640x480 with 1 Axes>",
      "image/png": "[encoded data removed]"
     },
     "metadata": {},
     "output_type": "display_data"
    }
   ],
   "source": [
    "# plot the results\n",
    "plt.xticks(rotation=90)\n",
    "plt.ylabel('Ground truth pathway rank')\n",
    "sns.boxplot(data=all_result_df)"
   ],
   "metadata": {
    "collapsed": false,
    "ExecuteTime": {
     "end_time": "2024-05-29T20:25:25.262378Z",
     "start_time": "2024-05-29T20:25:25.021473Z"
    }
   },
   "id": "67b5d516edbe6367"
  },
  {
   "cell_type": "code",
   "execution_count": 7,
   "outputs": [
    {
     "data": {
      "text/plain": "<Axes: ylabel='Proportion'>"
     },
     "execution_count": 7,
     "metadata": {},
     "output_type": "execute_result"
    },
    {
     "data": {
      "text/plain": "<Figure size 640x480 with 1 Axes>",
      "image/png": "[encoded data removed]"
     },
     "metadata": {},
     "output_type": "display_data"
    }
   ],
   "source": [
    "plt.grid(False)\n",
    "plt.xlim(1, 200)\n",
    "# plt.ylim(0, 100)\n",
    "sns.ecdfplot(data=all_result_df, stat='proportion')"
   ],
   "metadata": {
    "collapsed": false,
    "ExecuteTime": {
     "end_time": "2024-05-29T20:25:31.035582Z",
     "start_time": "2024-05-29T20:25:30.705581Z"
    }
   },
   "id": "587864ddf80e82e4"
  },
  {
   "cell_type": "code",
   "execution_count": 8,
   "outputs": [
    {
     "name": "stdout",
     "output_type": "stream",
     "text": [
      "--------------------\n",
      "PET summary:\n",
      "Median rank:  2.0\n",
      "Precision@10:  0.8\n",
      "Average Precision@10:  0.64\n",
      "--------------------\n",
      "Enrichr summary:\n",
      "Median rank:  4.0\n",
      "Precision@10:  0.6\n",
      "Average Precision@10:  0.5399999999999999\n",
      "--------------------\n",
      "GSEA summary:\n",
      "Median rank:  4.0\n",
      "Precision@10:  0.6\n",
      "Average Precision@10:  0.5399999999999998\n",
      "--------------------\n",
      "ora summary:\n",
      "Median rank:  5.0\n",
      "Precision@10:  0.6\n",
      "Average Precision@10:  0.5199999999999999\n"
     ]
    }
   ],
   "source": [
    "for method in all_result_df.columns:\n",
    "    print('-'*20)\n",
    "    print(method, 'summary:')\n",
    "    print('Median rank: ', all_result_df[method].median())\n",
    "    print('Precision@10: ', apk(all_result_df[method])[0])\n",
    "    print('Average Precision@10: ', apk(all_result_df[method])[1])"
   ],
   "metadata": {
    "collapsed": false,
    "ExecuteTime": {
     "end_time": "2024-05-29T20:25:56.531528Z",
     "start_time": "2024-05-29T20:25:56.517961Z"
    }
   },
   "id": "41fb9692e0db5cfa"
  }
 ],
 "metadata": {
  "kernelspec": {
   "name": "pt",
   "language": "python",
   "display_name": "pt"
  },
  "language_info": {
   "codemirror_mode": {
    "name": "ipython",
    "version": 3
   },
   "file_extension": ".py",
   "mimetype": "text/x-python",
   "name": "python",
   "nbconvert_exporter": "python",
   "pygments_lexer": "ipython3",
   "version": "3.10.12"
  }
 },
 "nbformat": 4,
 "nbformat_minor": 5
}
