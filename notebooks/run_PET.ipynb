{
 "cells": [
  {
   "cell_type": "markdown",
   "id": "1dba7033",
   "metadata": {},
   "source": [
    "This notebook runs Ora, GSEA, Enrichr and PET under Benchmark."
   ]
  },
  {
   "cell_type": "code",
   "execution_count": 15,
   "id": "e4c4e48a",
   "metadata": {
    "scrolled": false,
    "ExecuteTime": {
     "end_time": "2024-05-28T18:38:26.836374Z",
     "start_time": "2024-05-28T18:38:26.824687Z"
    }
   },
   "outputs": [
    {
     "ename": "ImportError",
     "evalue": "cannot import name 'run_GSEA' from 'PET' (/Users/luopin/GSEA_test/ENCODE_RNA-seq/Benchmark/notebooks/PET.py)",
     "output_type": "error",
     "traceback": [
      "\u001B[0;31m---------------------------------------------------------------------------\u001B[0m",
      "\u001B[0;31mImportError\u001B[0m                               Traceback (most recent call last)",
      "Cell \u001B[0;32mIn[15], line 3\u001B[0m\n\u001B[1;32m      1\u001B[0m \u001B[38;5;28;01mimport\u001B[39;00m \u001B[38;5;21;01mos\u001B[39;00m\n\u001B[0;32m----> 3\u001B[0m \u001B[38;5;28;01mfrom\u001B[39;00m \u001B[38;5;21;01mPET\u001B[39;00m \u001B[38;5;28;01mimport\u001B[39;00m run_GSEA\n",
      "\u001B[0;31mImportError\u001B[0m: cannot import name 'run_GSEA' from 'PET' (/Users/luopin/GSEA_test/ENCODE_RNA-seq/Benchmark/notebooks/PET.py)"
     ]
    }
   ],
   "source": [
    "import os\n",
    "\n",
    "from PET import run_GSEA"
   ]
  },
  {
   "cell_type": "code",
   "execution_count": 2,
   "outputs": [],
   "source": [
    "data_dir = '../data/prerank_DESeq2/'\n",
    "all_rank_file = os.listdir(data_dir)\n",
    "all_rank_file.sort()"
   ],
   "metadata": {
    "collapsed": false,
    "ExecuteTime": {
     "end_time": "2024-05-28T18:30:37.607799Z",
     "start_time": "2024-05-28T18:30:37.601844Z"
    }
   },
   "id": "9948df8949909295"
  },
  {
   "cell_type": "code",
   "execution_count": 13,
   "id": "ee6cb66c69ec89a8",
   "metadata": {
    "ExecuteTime": {
     "end_time": "2024-05-28T18:37:40.577277Z",
     "start_time": "2024-05-28T18:37:40.574672Z"
    }
   },
   "outputs": [
    {
     "ename": "AttributeError",
     "evalue": "module 'PET' has no attribute 'run_GSEA'",
     "output_type": "error",
     "traceback": [
      "\u001B[0;31m---------------------------------------------------------------------------\u001B[0m",
      "\u001B[0;31mAttributeError\u001B[0m                            Traceback (most recent call last)",
      "Cell \u001B[0;32mIn[13], line 4\u001B[0m\n\u001B[1;32m      2\u001B[0m gsea_result_dir \u001B[38;5;241m=\u001B[39m \u001B[38;5;124m'\u001B[39m\u001B[38;5;124m../example_results/GSEA_results/\u001B[39m\u001B[38;5;124m'\u001B[39m\n\u001B[1;32m      3\u001B[0m \u001B[38;5;28;01mfor\u001B[39;00m file \u001B[38;5;129;01min\u001B[39;00m all_rank_file:\n\u001B[0;32m----> 4\u001B[0m     \u001B[43mPET\u001B[49m\u001B[38;5;241;43m.\u001B[39;49m\u001B[43mrun_GSEA\u001B[49m(prerank_file_path\u001B[38;5;241m=\u001B[39mdata_dir\u001B[38;5;241m+\u001B[39mfile, out_dir\u001B[38;5;241m=\u001B[39mgsea_result_dir, thread_num\u001B[38;5;241m=\u001B[39m\u001B[38;5;241m10\u001B[39m,\n\u001B[1;32m      5\u001B[0m          pathway_file\u001B[38;5;241m=\u001B[39m\u001B[38;5;124m'\u001B[39m\u001B[38;5;124m../pathway_files/K562_DESEq2.gmt\u001B[39m\u001B[38;5;124m'\u001B[39m, plot\u001B[38;5;241m=\u001B[39m\u001B[38;5;28;01mFalse\u001B[39;00m,\n\u001B[1;32m      6\u001B[0m          min_size\u001B[38;5;241m=\u001B[39m\u001B[38;5;241m15\u001B[39m, max_size\u001B[38;5;241m=\u001B[39m\u001B[38;5;241m500\u001B[39m)\n",
      "\u001B[0;31mAttributeError\u001B[0m: module 'PET' has no attribute 'run_GSEA'"
     ]
    }
   ],
   "source": [
    "# run GSEA\n",
    "gsea_result_dir = '../example_results/GSEA_results/'\n",
    "for file in all_rank_file:\n",
    "    run_GSEA(prerank_file_path=data_dir+file, out_dir=gsea_result_dir, thread_num=10,\n",
    "         pathway_file='../pathway_files/K562_DESEq2.gmt', plot=False,\n",
    "         min_size=15, max_size=500)"
   ]
  },
  {
   "cell_type": "code",
   "execution_count": 10,
   "id": "5243979eb4467d76",
   "metadata": {
    "ExecuteTime": {
     "end_time": "2024-01-31T22:10:03.017787Z",
     "start_time": "2024-01-31T22:09:27.348458Z"
    },
    "scrolled": true
   },
   "outputs": [
    {
     "name": "stdout",
     "output_type": "stream",
     "text": [
      "Start running GSEA!\n",
      "Commandas to run GSEA: ../../GSEA_cmd/gsea-cli.sh GSEAPreranked -gmx example/c2.cp.kegg.v2023.1.Hs.symbols.gmt -collapse No_Collapse -mode Max_probe -norm meandiv -nperm 1000 -rnk example/cond1.vs.cond3.rnk -scoring_scheme weighted -rpt_label cond1.vs.cond3 -create_svgs false -include_only_symbols true -make_sets true -plot_top_x 5 -rnd_seed 42 -set_max 500 -set_min 15 -zip_report false -out example/\n",
      "Using system JDK.\n"
     ]
    },
    {
     "name": "stderr",
     "output_type": "stream",
     "text": [
      "WARNING: package com.sun.java.swing.plaf.windows not in java.desktop\n",
      "WARNING: package sun.awt.windows not in java.desktop\n"
     ]
    },
    {
     "name": "stdout",
     "output_type": "stream",
     "text": [
      "485      [INFO  ] - Parameters passing to GSEAPreranked.main:\n",
      "487      [INFO  ] - rnk\texample/cond1.vs.cond3.rnk\n",
      "487      [INFO  ] - gmx\texample/c2.cp.kegg.v2023.1.Hs.symbols.gmt\n",
      "487      [INFO  ] - rpt_label\tcond1.vs.cond3\n",
      "487      [INFO  ] - collapse\tNo_Collapse\n",
      "487      [INFO  ] - zip_report\tfalse\n",
      "487      [INFO  ] - gui\tfalse\n",
      "487      [INFO  ] - out\texample/\n",
      "487      [INFO  ] - mode\tMax_probe\n",
      "487      [INFO  ] - norm\tmeandiv\n",
      "487      [INFO  ] - nperm\t1000\n",
      "487      [INFO  ] - scoring_scheme\tweighted\n",
      "487      [INFO  ] - include_only_symbols\ttrue\n",
      "487      [INFO  ] - make_sets\ttrue\n",
      "487      [INFO  ] - plot_top_x\t5\n",
      "487      [INFO  ] - rnd_seed\t42\n",
      "487      [INFO  ] - create_svgs\tfalse\n",
      "487      [INFO  ] - set_max\t500\n",
      "487      [INFO  ] - set_min\t15\n",
      "524      [INFO  ] - Begun importing: RankedList from: example/cond1.vs.cond3.rnk\n",
      "952      [INFO  ] - No ranked list collapsing was done .. using original as is\n",
      "to parse>example/c2.cp.kegg.v2023.1.Hs.symbols.gmt< got: [example/c2.cp.kegg.v2023.1.Hs.symbols.gmt]\n",
      "953      [INFO  ] - Begun importing: GeneSetMatrix from: c2.cp.kegg.v2023.1.Hs.symbols.gmt\n",
      "981      [INFO  ] - Got gsets: 186 now preprocessing them ... min: 15 max: 500\n",
      "1000     [INFO  ] - Done preproc for smaller than: 15\n",
      "shuffleGeneSet for GeneSet 1/176 nperm: 1000\n",
      "GeneSetCohorted: 501 / 1000\n",
      "GeneSetCohorted_scored: 501 / 1000\n",
      "GeneSetCohorted: 501 / 1000\n",
      "GeneSetCohorted_scored: 501 / 1000\n",
      "GeneSetCohorted: 501 / 1000\n",
      "GeneSetCohorted_scored: 501 / 1000\n",
      "GeneSetCohorted: 501 / 1000\n",
      "GeneSetCohorted_scored: 501 / 1000\n",
      "GeneSetCohorted: 501 / 1000\n",
      "GeneSetCohorted_scored: 501 / 1000\n",
      "shuffleGeneSet for GeneSet 6/176 nperm: 1000\n",
      "GeneSetCohorted: 501 / 1000\n",
      "GeneSetCohorted_scored: 501 / 1000\n",
      "GeneSetCohorted: 501 / 1000\n",
      "GeneSetCohorted_scored: 501 / 1000\n",
      "GeneSetCohorted: 501 / 1000\n",
      "GeneSetCohorted_scored: 501 / 1000\n",
      "GeneSetCohorted: 501 / 1000\n",
      "GeneSetCohorted_scored: 501 / 1000\n",
      "GeneSetCohorted: 501 / 1000\n",
      "GeneSetCohorted_scored: 501 / 1000\n",
      "shuffleGeneSet for GeneSet 11/176 nperm: 1000\n",
      "GeneSetCohorted: 501 / 1000\n",
      "GeneSetCohorted_scored: 501 / 1000\n",
      "GeneSetCohorted: 501 / 1000\n",
      "GeneSetCohorted_scored: 501 / 1000\n",
      "GeneSetCohorted: 501 / 1000\n",
      "GeneSetCohorted_scored: 501 / 1000\n",
      "GeneSetCohorted: 501 / 1000\n",
      "GeneSetCohorted_scored: 501 / 1000\n",
      "GeneSetCohorted: 501 / 1000\n",
      "GeneSetCohorted_scored: 501 / 1000\n",
      "shuffleGeneSet for GeneSet 16/176 nperm: 1000\n",
      "GeneSetCohorted: 501 / 1000\n",
      "GeneSetCohorted_scored: 501 / 1000\n",
      "GeneSetCohorted: 501 / 1000\n",
      "GeneSetCohorted_scored: 501 / 1000\n",
      "GeneSetCohorted: 501 / 1000\n",
      "GeneSetCohorted_scored: 501 / 1000\n",
      "GeneSetCohorted: 501 / 1000\n",
      "GeneSetCohorted_scored: 501 / 1000\n",
      "GeneSetCohorted: 501 / 1000\n",
      "GeneSetCohorted_scored: 501 / 1000\n",
      "shuffleGeneSet for GeneSet 21/176 nperm: 1000\n",
      "GeneSetCohorted: 501 / 1000\n",
      "GeneSetCohorted_scored: 501 / 1000\n",
      "GeneSetCohorted: 501 / 1000\n",
      "GeneSetCohorted_scored: 501 / 1000\n",
      "GeneSetCohorted: 501 / 1000\n",
      "GeneSetCohorted_scored: 501 / 1000\n",
      "GeneSetCohorted: 501 / 1000\n",
      "GeneSetCohorted_scored: 501 / 1000\n",
      "GeneSetCohorted: 501 / 1000\n",
      "GeneSetCohorted_scored: 501 / 1000\n",
      "shuffleGeneSet for GeneSet 26/176 nperm: 1000\n",
      "GeneSetCohorted: 501 / 1000\n",
      "GeneSetCohorted_scored: 501 / 1000\n",
      "GeneSetCohorted: 501 / 1000\n",
      "GeneSetCohorted_scored: 501 / 1000\n",
      "GeneSetCohorted: 501 / 1000\n",
      "GeneSetCohorted_scored: 501 / 1000\n",
      "GeneSetCohorted: 501 / 1000\n",
      "GeneSetCohorted_scored: 501 / 1000\n",
      "GeneSetCohorted: 501 / 1000\n",
      "GeneSetCohorted_scored: 501 / 1000\n",
      "shuffleGeneSet for GeneSet 31/176 nperm: 1000\n",
      "GeneSetCohorted: 501 / 1000\n",
      "GeneSetCohorted_scored: 501 / 1000\n",
      "GeneSetCohorted: 501 / 1000\n",
      "GeneSetCohorted_scored: 501 / 1000\n",
      "GeneSetCohorted: 501 / 1000\n",
      "GeneSetCohorted_scored: 501 / 1000\n",
      "GeneSetCohorted: 501 / 1000\n",
      "GeneSetCohorted_scored: 501 / 1000\n",
      "GeneSetCohorted: 501 / 1000\n",
      "GeneSetCohorted_scored: 501 / 1000\n",
      "shuffleGeneSet for GeneSet 36/176 nperm: 1000\n",
      "GeneSetCohorted: 501 / 1000\n",
      "GeneSetCohorted_scored: 501 / 1000\n",
      "GeneSetCohorted: 501 / 1000\n",
      "GeneSetCohorted_scored: 501 / 1000\n",
      "GeneSetCohorted: 501 / 1000\n",
      "GeneSetCohorted_scored: 501 / 1000\n",
      "GeneSetCohorted: 501 / 1000\n",
      "GeneSetCohorted_scored: 501 / 1000\n",
      "GeneSetCohorted: 501 / 1000\n",
      "GeneSetCohorted_scored: 501 / 1000\n",
      "shuffleGeneSet for GeneSet 41/176 nperm: 1000\n",
      "GeneSetCohorted: 501 / 1000\n",
      "GeneSetCohorted_scored: 501 / 1000\n",
      "GeneSetCohorted: 501 / 1000\n",
      "GeneSetCohorted_scored: 501 / 1000\n",
      "GeneSetCohorted: 501 / 1000\n",
      "GeneSetCohorted_scored: 501 / 1000\n",
      "GeneSetCohorted: 501 / 1000\n",
      "GeneSetCohorted_scored: 501 / 1000\n",
      "GeneSetCohorted: 501 / 1000\n",
      "GeneSetCohorted_scored: 501 / 1000\n",
      "shuffleGeneSet for GeneSet 46/176 nperm: 1000\n",
      "GeneSetCohorted: 501 / 1000\n",
      "GeneSetCohorted_scored: 501 / 1000\n",
      "GeneSetCohorted: 501 / 1000\n",
      "GeneSetCohorted_scored: 501 / 1000\n",
      "GeneSetCohorted: 501 / 1000\n",
      "GeneSetCohorted_scored: 501 / 1000\n",
      "GeneSetCohorted: 501 / 1000\n",
      "GeneSetCohorted_scored: 501 / 1000\n",
      "GeneSetCohorted: 501 / 1000\n",
      "GeneSetCohorted_scored: 501 / 1000\n",
      "shuffleGeneSet for GeneSet 51/176 nperm: 1000\n",
      "GeneSetCohorted: 501 / 1000\n",
      "GeneSetCohorted_scored: 501 / 1000\n",
      "GeneSetCohorted: 501 / 1000\n",
      "GeneSetCohorted_scored: 501 / 1000\n",
      "GeneSetCohorted: 501 / 1000\n",
      "GeneSetCohorted_scored: 501 / 1000\n",
      "GeneSetCohorted: 501 / 1000\n",
      "GeneSetCohorted_scored: 501 / 1000\n",
      "GeneSetCohorted: 501 / 1000\n",
      "GeneSetCohorted_scored: 501 / 1000\n",
      "shuffleGeneSet for GeneSet 56/176 nperm: 1000\n",
      "GeneSetCohorted: 501 / 1000\n",
      "GeneSetCohorted_scored: 501 / 1000\n",
      "GeneSetCohorted: 501 / 1000\n",
      "GeneSetCohorted_scored: 501 / 1000\n",
      "GeneSetCohorted: 501 / 1000\n",
      "GeneSetCohorted_scored: 501 / 1000\n",
      "GeneSetCohorted: 501 / 1000\n",
      "GeneSetCohorted_scored: 501 / 1000\n",
      "GeneSetCohorted: 501 / 1000\n",
      "GeneSetCohorted_scored: 501 / 1000\n",
      "shuffleGeneSet for GeneSet 61/176 nperm: 1000\n",
      "GeneSetCohorted: 501 / 1000\n",
      "GeneSetCohorted_scored: 501 / 1000\n",
      "GeneSetCohorted: 501 / 1000\n",
      "GeneSetCohorted_scored: 501 / 1000\n",
      "GeneSetCohorted: 501 / 1000\n",
      "GeneSetCohorted_scored: 501 / 1000\n",
      "GeneSetCohorted: 501 / 1000\n",
      "GeneSetCohorted_scored: 501 / 1000\n",
      "GeneSetCohorted: 501 / 1000\n",
      "GeneSetCohorted_scored: 501 / 1000\n",
      "shuffleGeneSet for GeneSet 66/176 nperm: 1000\n",
      "GeneSetCohorted: 501 / 1000\n",
      "GeneSetCohorted_scored: 501 / 1000\n",
      "GeneSetCohorted: 501 / 1000\n",
      "GeneSetCohorted_scored: 501 / 1000\n",
      "GeneSetCohorted: 501 / 1000\n",
      "GeneSetCohorted_scored: 501 / 1000\n",
      "GeneSetCohorted: 501 / 1000\n",
      "GeneSetCohorted_scored: 501 / 1000\n",
      "GeneSetCohorted: 501 / 1000\n",
      "GeneSetCohorted_scored: 501 / 1000\n",
      "shuffleGeneSet for GeneSet 71/176 nperm: 1000\n",
      "GeneSetCohorted: 501 / 1000\n",
      "GeneSetCohorted_scored: 501 / 1000\n",
      "GeneSetCohorted: 501 / 1000\n",
      "GeneSetCohorted_scored: 501 / 1000\n",
      "GeneSetCohorted: 501 / 1000\n",
      "GeneSetCohorted_scored: 501 / 1000\n",
      "GeneSetCohorted: 501 / 1000\n",
      "GeneSetCohorted_scored: 501 / 1000\n",
      "GeneSetCohorted: 501 / 1000\n",
      "GeneSetCohorted_scored: 501 / 1000\n",
      "shuffleGeneSet for GeneSet 76/176 nperm: 1000\n",
      "GeneSetCohorted: 501 / 1000\n",
      "GeneSetCohorted_scored: 501 / 1000\n",
      "GeneSetCohorted: 501 / 1000\n",
      "GeneSetCohorted_scored: 501 / 1000\n",
      "GeneSetCohorted: 501 / 1000\n",
      "GeneSetCohorted_scored: 501 / 1000\n",
      "GeneSetCohorted: 501 / 1000\n",
      "GeneSetCohorted_scored: 501 / 1000\n",
      "GeneSetCohorted: 501 / 1000\n",
      "GeneSetCohorted_scored: 501 / 1000\n",
      "shuffleGeneSet for GeneSet 81/176 nperm: 1000\n",
      "GeneSetCohorted: 501 / 1000\n",
      "GeneSetCohorted_scored: 501 / 1000\n",
      "GeneSetCohorted: 501 / 1000\n",
      "GeneSetCohorted_scored: 501 / 1000\n",
      "GeneSetCohorted: 501 / 1000\n",
      "GeneSetCohorted_scored: 501 / 1000\n",
      "GeneSetCohorted: 501 / 1000\n",
      "GeneSetCohorted_scored: 501 / 1000\n",
      "GeneSetCohorted: 501 / 1000\n",
      "GeneSetCohorted_scored: 501 / 1000\n",
      "shuffleGeneSet for GeneSet 86/176 nperm: 1000\n",
      "GeneSetCohorted: 501 / 1000\n",
      "GeneSetCohorted_scored: 501 / 1000\n",
      "GeneSetCohorted: 501 / 1000\n",
      "GeneSetCohorted_scored: 501 / 1000\n",
      "GeneSetCohorted: 501 / 1000\n",
      "GeneSetCohorted_scored: 501 / 1000\n",
      "GeneSetCohorted: 501 / 1000\n",
      "GeneSetCohorted_scored: 501 / 1000\n",
      "GeneSetCohorted: 501 / 1000\n",
      "GeneSetCohorted_scored: 501 / 1000\n",
      "shuffleGeneSet for GeneSet 91/176 nperm: 1000\n",
      "GeneSetCohorted: 501 / 1000\n",
      "GeneSetCohorted_scored: 501 / 1000\n",
      "GeneSetCohorted: 501 / 1000\n",
      "GeneSetCohorted_scored: 501 / 1000\n",
      "GeneSetCohorted: 501 / 1000\n",
      "GeneSetCohorted_scored: 501 / 1000\n",
      "GeneSetCohorted: 501 / 1000\n",
      "GeneSetCohorted_scored: 501 / 1000\n",
      "GeneSetCohorted: 501 / 1000\n",
      "GeneSetCohorted_scored: 501 / 1000\n",
      "shuffleGeneSet for GeneSet 96/176 nperm: 1000\n",
      "GeneSetCohorted: 501 / 1000\n",
      "GeneSetCohorted_scored: 501 / 1000\n"
     ]
    },
    {
     "name": "stdout",
     "output_type": "stream",
     "text": [
      "GeneSetCohorted: 501 / 1000\n",
      "GeneSetCohorted_scored: 501 / 1000\n",
      "GeneSetCohorted: 501 / 1000\n",
      "GeneSetCohorted_scored: 501 / 1000\n",
      "GeneSetCohorted: 501 / 1000\n",
      "GeneSetCohorted_scored: 501 / 1000\n",
      "GeneSetCohorted: 501 / 1000\n",
      "GeneSetCohorted_scored: 501 / 1000\n",
      "shuffleGeneSet for GeneSet 101/176 nperm: 1000\n",
      "GeneSetCohorted: 501 / 1000\n",
      "GeneSetCohorted_scored: 501 / 1000\n",
      "GeneSetCohorted: 501 / 1000\n",
      "GeneSetCohorted_scored: 501 / 1000\n",
      "GeneSetCohorted: 501 / 1000\n",
      "GeneSetCohorted_scored: 501 / 1000\n",
      "GeneSetCohorted: 501 / 1000\n",
      "GeneSetCohorted_scored: 501 / 1000\n",
      "GeneSetCohorted: 501 / 1000\n",
      "GeneSetCohorted_scored: 501 / 1000\n",
      "shuffleGeneSet for GeneSet 106/176 nperm: 1000\n",
      "GeneSetCohorted: 501 / 1000\n",
      "GeneSetCohorted_scored: 501 / 1000\n",
      "GeneSetCohorted: 501 / 1000\n",
      "GeneSetCohorted_scored: 501 / 1000\n",
      "GeneSetCohorted: 501 / 1000\n",
      "GeneSetCohorted_scored: 501 / 1000\n",
      "GeneSetCohorted: 501 / 1000\n",
      "GeneSetCohorted_scored: 501 / 1000\n",
      "GeneSetCohorted: 501 / 1000\n",
      "GeneSetCohorted_scored: 501 / 1000\n",
      "shuffleGeneSet for GeneSet 111/176 nperm: 1000\n",
      "GeneSetCohorted: 501 / 1000\n",
      "GeneSetCohorted_scored: 501 / 1000\n",
      "GeneSetCohorted: 501 / 1000\n",
      "GeneSetCohorted_scored: 501 / 1000\n",
      "GeneSetCohorted: 501 / 1000\n",
      "GeneSetCohorted_scored: 501 / 1000\n",
      "GeneSetCohorted: 501 / 1000\n",
      "GeneSetCohorted_scored: 501 / 1000\n",
      "GeneSetCohorted: 501 / 1000\n",
      "GeneSetCohorted_scored: 501 / 1000\n",
      "shuffleGeneSet for GeneSet 116/176 nperm: 1000\n",
      "GeneSetCohorted: 501 / 1000\n",
      "GeneSetCohorted_scored: 501 / 1000\n",
      "GeneSetCohorted: 501 / 1000\n",
      "GeneSetCohorted_scored: 501 / 1000\n",
      "GeneSetCohorted: 501 / 1000\n",
      "GeneSetCohorted_scored: 501 / 1000\n",
      "GeneSetCohorted: 501 / 1000\n",
      "GeneSetCohorted_scored: 501 / 1000\n",
      "GeneSetCohorted: 501 / 1000\n",
      "GeneSetCohorted_scored: 501 / 1000\n",
      "shuffleGeneSet for GeneSet 121/176 nperm: 1000\n",
      "GeneSetCohorted: 501 / 1000\n",
      "GeneSetCohorted_scored: 501 / 1000\n",
      "GeneSetCohorted: 501 / 1000\n",
      "GeneSetCohorted_scored: 501 / 1000\n",
      "GeneSetCohorted: 501 / 1000\n",
      "GeneSetCohorted_scored: 501 / 1000\n",
      "GeneSetCohorted: 501 / 1000\n",
      "GeneSetCohorted_scored: 501 / 1000\n",
      "GeneSetCohorted: 501 / 1000\n",
      "GeneSetCohorted_scored: 501 / 1000\n",
      "shuffleGeneSet for GeneSet 126/176 nperm: 1000\n",
      "GeneSetCohorted: 501 / 1000\n",
      "GeneSetCohorted_scored: 501 / 1000\n",
      "GeneSetCohorted: 501 / 1000\n",
      "GeneSetCohorted_scored: 501 / 1000\n",
      "GeneSetCohorted: 501 / 1000\n",
      "GeneSetCohorted_scored: 501 / 1000\n",
      "GeneSetCohorted: 501 / 1000\n",
      "GeneSetCohorted_scored: 501 / 1000\n",
      "GeneSetCohorted: 501 / 1000\n",
      "GeneSetCohorted_scored: 501 / 1000\n",
      "shuffleGeneSet for GeneSet 131/176 nperm: 1000\n",
      "GeneSetCohorted: 501 / 1000\n",
      "GeneSetCohorted_scored: 501 / 1000\n",
      "GeneSetCohorted: 501 / 1000\n",
      "GeneSetCohorted_scored: 501 / 1000\n",
      "GeneSetCohorted: 501 / 1000\n",
      "GeneSetCohorted_scored: 501 / 1000\n",
      "GeneSetCohorted: 501 / 1000\n",
      "GeneSetCohorted_scored: 501 / 1000\n",
      "GeneSetCohorted: 501 / 1000\n",
      "GeneSetCohorted_scored: 501 / 1000\n",
      "shuffleGeneSet for GeneSet 136/176 nperm: 1000\n",
      "GeneSetCohorted: 501 / 1000\n",
      "GeneSetCohorted_scored: 501 / 1000\n",
      "GeneSetCohorted: 501 / 1000\n",
      "GeneSetCohorted_scored: 501 / 1000\n",
      "GeneSetCohorted: 501 / 1000\n",
      "GeneSetCohorted_scored: 501 / 1000\n",
      "GeneSetCohorted: 501 / 1000\n",
      "GeneSetCohorted_scored: 501 / 1000\n",
      "GeneSetCohorted: 501 / 1000\n",
      "GeneSetCohorted_scored: 501 / 1000\n",
      "shuffleGeneSet for GeneSet 141/176 nperm: 1000\n",
      "GeneSetCohorted: 501 / 1000\n",
      "GeneSetCohorted_scored: 501 / 1000\n",
      "GeneSetCohorted: 501 / 1000\n",
      "GeneSetCohorted_scored: 501 / 1000\n",
      "GeneSetCohorted: 501 / 1000\n",
      "GeneSetCohorted_scored: 501 / 1000\n",
      "GeneSetCohorted: 501 / 1000\n",
      "GeneSetCohorted_scored: 501 / 1000\n",
      "GeneSetCohorted: 501 / 1000\n",
      "GeneSetCohorted_scored: 501 / 1000\n",
      "shuffleGeneSet for GeneSet 146/176 nperm: 1000\n",
      "GeneSetCohorted: 501 / 1000\n",
      "GeneSetCohorted_scored: 501 / 1000\n",
      "GeneSetCohorted: 501 / 1000\n",
      "GeneSetCohorted_scored: 501 / 1000\n",
      "GeneSetCohorted: 501 / 1000\n",
      "GeneSetCohorted_scored: 501 / 1000\n",
      "GeneSetCohorted: 501 / 1000\n",
      "GeneSetCohorted_scored: 501 / 1000\n",
      "GeneSetCohorted: 501 / 1000\n",
      "GeneSetCohorted_scored: 501 / 1000\n",
      "shuffleGeneSet for GeneSet 151/176 nperm: 1000\n",
      "GeneSetCohorted: 501 / 1000\n",
      "GeneSetCohorted_scored: 501 / 1000\n",
      "GeneSetCohorted: 501 / 1000\n",
      "GeneSetCohorted_scored: 501 / 1000\n",
      "GeneSetCohorted: 501 / 1000\n",
      "GeneSetCohorted_scored: 501 / 1000\n",
      "GeneSetCohorted: 501 / 1000\n",
      "GeneSetCohorted_scored: 501 / 1000\n",
      "GeneSetCohorted: 501 / 1000\n",
      "GeneSetCohorted_scored: 501 / 1000\n",
      "shuffleGeneSet for GeneSet 156/176 nperm: 1000\n",
      "GeneSetCohorted: 501 / 1000\n",
      "GeneSetCohorted_scored: 501 / 1000\n",
      "GeneSetCohorted: 501 / 1000\n",
      "GeneSetCohorted_scored: 501 / 1000\n",
      "GeneSetCohorted: 501 / 1000\n",
      "GeneSetCohorted_scored: 501 / 1000\n",
      "GeneSetCohorted: 501 / 1000\n",
      "GeneSetCohorted_scored: 501 / 1000\n",
      "GeneSetCohorted: 501 / 1000\n",
      "GeneSetCohorted_scored: 501 / 1000\n",
      "shuffleGeneSet for GeneSet 161/176 nperm: 1000\n",
      "GeneSetCohorted: 501 / 1000\n",
      "GeneSetCohorted_scored: 501 / 1000\n",
      "GeneSetCohorted: 501 / 1000\n",
      "GeneSetCohorted_scored: 501 / 1000\n",
      "GeneSetCohorted: 501 / 1000\n",
      "GeneSetCohorted_scored: 501 / 1000\n",
      "GeneSetCohorted: 501 / 1000\n",
      "GeneSetCohorted_scored: 501 / 1000\n",
      "GeneSetCohorted: 501 / 1000\n",
      "GeneSetCohorted_scored: 501 / 1000\n",
      "shuffleGeneSet for GeneSet 166/176 nperm: 1000\n",
      "GeneSetCohorted: 501 / 1000\n",
      "GeneSetCohorted_scored: 501 / 1000\n",
      "GeneSetCohorted: 501 / 1000\n",
      "GeneSetCohorted_scored: 501 / 1000\n",
      "GeneSetCohorted: 501 / 1000\n",
      "GeneSetCohorted_scored: 501 / 1000\n",
      "GeneSetCohorted: 501 / 1000\n",
      "GeneSetCohorted_scored: 501 / 1000\n",
      "GeneSetCohorted: 501 / 1000\n",
      "GeneSetCohorted_scored: 501 / 1000\n",
      "shuffleGeneSet for GeneSet 171/176 nperm: 1000\n",
      "GeneSetCohorted: 501 / 1000\n",
      "GeneSetCohorted_scored: 501 / 1000\n",
      "GeneSetCohorted: 501 / 1000\n",
      "GeneSetCohorted_scored: 501 / 1000\n",
      "GeneSetCohorted: 501 / 1000\n",
      "GeneSetCohorted_scored: 501 / 1000\n",
      "GeneSetCohorted: 501 / 1000\n",
      "GeneSetCohorted_scored: 501 / 1000\n",
      "GeneSetCohorted: 501 / 1000\n",
      "GeneSetCohorted_scored: 501 / 1000\n",
      "shuffleGeneSet for GeneSet 176/176 nperm: 1000\n",
      "GeneSetCohorted: 501 / 1000\n",
      "GeneSetCohorted_scored: 501 / 1000\n",
      "29814    [INFO  ] - Creating marker selection reports ...\n",
      "29899    [INFO  ] - Creating FDR reports ...\n",
      "31380    [INFO  ] - Done FDR reports for positive phenotype\n",
      "31940    [INFO  ] - Done FDR reports for negative phenotype\n",
      "32035    [INFO  ] - Creating global reports ...\n",
      "32035    [INFO  ] - Done all reports!!\n",
      "Time taken: 31 secs\n"
     ]
    }
   ],
   "source": [
    "# To run GSEA command line, You need to specify the path to gsea-cli.sh\n",
    "run_GSEA(prerank_file_path=out_dir+prefix+'.rnk', out_dir=out_dir,\n",
    "         pathway_file='example/c2.cp.kegg.v2023.1.Hs.symbols.gmt', gsea_out_label=prefix,\n",
    "         min_size=15, max_size=500, gsea_cli_path='../../GSEA_cmd/gsea-cli.sh', method='cli')"
   ]
  },
  {
   "cell_type": "code",
   "execution_count": 4,
   "id": "82553708",
   "metadata": {
    "ExecuteTime": {
     "end_time": "2024-01-31T22:10:09.085955Z",
     "start_time": "2024-01-31T22:10:08.849999Z"
    },
    "scrolled": false
   },
   "outputs": [
    {
     "name": "stdout",
     "output_type": "stream",
     "text": [
      "53658 genes in the expression matrix\n",
      "KEGG_GLYCOSPHINGOLIPID_BIOSYNTHESIS_GLOBO_SERIES removed due to gene number\n",
      "KEGG_NON_HOMOLOGOUS_END_JOINING removed due to gene number\n",
      "KEGG_CIRCADIAN_RHYTHM_MAMMAL removed due to gene number\n",
      "KEGG_VALINE_LEUCINE_AND_ISOLEUCINE_BIOSYNTHESIS removed due to gene number\n",
      "KEGG_TAURINE_AND_HYPOTAURINE_METABOLISM removed due to gene number\n",
      "KEGG_FOLATE_BIOSYNTHESIS removed due to gene number\n",
      "KEGG_LIMONENE_AND_PINENE_DEGRADATION removed due to gene number\n",
      "KEGG_SULFUR_METABOLISM removed due to gene number\n",
      "KEGG_RIBOSOME removed due to gene number\n",
      "KEGG_PROTEASOME removed due to gene number\n"
     ]
    }
   ],
   "source": [
    "# To prune the pathways that have too few or too many genes:\n",
    "# please keep the min and max gene number setting same as GSEA \n",
    "pruned_pathway_dict, gene_universe = prune_gmt(file_name='example/c2.cp.kegg.v2023.1.Hs.symbols.gmt', \n",
    "                                        out_file_name=out_dir+'c2.cp.kegg.v2023.1.Hs.symbols.cleaned.gmt', \n",
    "                                        expr_matrix_file='example/example_data.txt', \n",
    "                                        min_gene_num=15, max_gene_num=500)"
   ]
  },
  {
   "cell_type": "code",
   "execution_count": 21,
   "id": "27924173",
   "metadata": {
    "ExecuteTime": {
     "end_time": "2024-01-31T22:10:20.644761Z",
     "start_time": "2024-01-31T22:10:20.512747Z"
    },
    "scrolled": false
   },
   "outputs": [
    {
     "name": "stdout",
     "output_type": "stream",
     "text": [
      "Based on:\n",
      "p-value <=  0.1\n",
      "adjusted p-value <=  0.1\n",
      "fold change threshold >=  1.5\n",
      "base Mean >=  2\n",
      "top N =  200\n",
      "200 up-regulated DEGs\n",
      "200 down-regulated DEGs\n"
     ]
    }
   ],
   "source": [
    "# To perform a pre-processing step (i.e. extracting the top DEGs from DESeq2 results) needed for ORA and Enrichr analyses : \n",
    "# By default the following thresholds will be used: pval_threshold=0.05, padj_threshold=0.05, fc_threshold=1, basemean_threshold=2.\n",
    "# but feel free to adjust the thresholds as needed and keep direction the same as before\n",
    "# For this toy example, the samples, we have selected a loose threshold of pval_threshold=0.1, padj_threshold=0.1, and fc_threshold=1.5\n",
    "deg_dict = extract_top_gene(deseq_result_file=out_dir+prefix+'.csv', \n",
    "                            num_gene=200, pval_threshold=0.1, padj_threshold=0.1,\n",
    "                            fc_threshold=1.5, basemean_threshold=2,\n",
    "                            direction=1)\n"
   ]
  },
  {
   "cell_type": "code",
   "execution_count": 20,
   "id": "5c3a30a1",
   "metadata": {
    "ExecuteTime": {
     "end_time": "2024-01-31T22:10:29.146344Z",
     "start_time": "2024-01-31T22:10:29.032628Z"
    },
    "scrolled": true
   },
   "outputs": [
    {
     "name": "stdout",
     "output_type": "stream",
     "text": [
      "Running ORA for genes in  up\n",
      "Results written to  example//cond1.vs.cond3.up.ora_result.txt\n",
      "********************\n",
      "Running ORA for genes in  down\n",
      "Results written to  example//cond1.vs.cond3.down.ora_result.txt\n",
      "********************\n"
     ]
    }
   ],
   "source": [
    "# To run ORA for up and down-regulated gene lists against the pathway file\n",
    "run_ora(pathway_dict=pruned_pathway_dict, deg_dict = deg_dict,\n",
    "        gene_universe_num=len(gene_universe), out_dir=out_dir, out_file_prefix=prefix)\n"
   ]
  },
  {
   "cell_type": "code",
   "execution_count": 21,
   "id": "4c814d45889a5864",
   "metadata": {
    "ExecuteTime": {
     "end_time": "2024-01-31T22:10:37.871734Z",
     "start_time": "2024-01-31T22:10:37.437195Z"
    }
   },
   "outputs": [
    {
     "name": "stdout",
     "output_type": "stream",
     "text": [
      "Running Enrichr for genes in  up\n",
      "example/enrichr_kegg_permutation_1000.txt does not exist, initializing permutation\n",
      "Permutation 0\n",
      "Permutation 50\n",
      "Permutation 100\n",
      "Permutation 150\n",
      "Permutation 200\n",
      "Permutation 250\n",
      "Permutation 300\n",
      "Permutation 350\n",
      "Permutation 400\n",
      "Permutation 450\n",
      "Permutation 500\n",
      "Permutation 550\n",
      "Permutation 600\n",
      "Permutation 650\n",
      "Permutation 700\n",
      "Permutation 750\n",
      "Permutation 800\n",
      "Permutation 850\n",
      "Permutation 900\n",
      "Permutation 950\n",
      "Permutation result written to  example/enrichr_kegg_permutation_1000.txt\n",
      "Results written to  example//cond1.vs.cond3.up.enrichr_result.txt\n",
      "********************\n",
      "Running Enrichr for genes in  down\n",
      "example/enrichr_kegg_permutation_1000.txt already exists, reading file now...\n",
      "Results written to  example//cond1.vs.cond3.down.enrichr_result.txt\n",
      "********************\n"
     ]
    }
   ],
   "source": [
    "# To run Enrichr :\n",
    "# if the permutation file already exists, it could be directly provided as permutation_file_name to save time\n",
    "run_enrichr(pathway_dict=pruned_pathway_dict, deg_dict=deg_dict,\n",
    "            gene_universe=gene_universe, out_file_prefix=prefix, \n",
    "            permutation_num=1000, permutation_file_name=out_dir+'enrichr_kegg_permutation_1000.txt',\n",
    "            out_dir=out_dir)"
   ]
  },
  {
   "cell_type": "markdown",
   "id": "9dab8b90",
   "metadata": {},
   "source": [
    "**Step 3. Combine the outputs from above methods using PET**\n"
   ]
  },
  {
   "cell_type": "code",
   "execution_count": 6,
   "id": "c0e43b4eb1a15d2f",
   "metadata": {
    "ExecuteTime": {
     "end_time": "2024-02-01T16:38:55.790931Z",
     "start_time": "2024-02-01T16:38:55.606782Z"
    }
   },
   "outputs": [
    {
     "name": "stdout",
     "output_type": "stream",
     "text": [
      "GSEA path was provided as file, GSEAPY used.\n",
      "For genes in  up direction, result files found: \n",
      "example/cond1.vs.cond3.up.ora_result.txt \n",
      " example/cond1.vs.cond3.up.enrichr_result.txt \n",
      " example/gseapy.gene_set.prerank.report.up.tmp.csv\n",
      "Calculating ora rank...\n",
      "Calculating enrichr rank...\n",
      "Calculating GSEA rank...\n",
      "Ensembling results...\n",
      "Results written to  example//cond1.vs.cond3.up.PET.txt\n",
      "For genes in  down direction, result files found: \n",
      "example/cond1.vs.cond3.down.ora_result.txt \n",
      " example/cond1.vs.cond3.down.enrichr_result.txt \n",
      " example/gseapy.gene_set.prerank.report.down.tmp.csv\n",
      "Calculating ora rank...\n",
      "Calculating enrichr rank...\n",
      "Calculating GSEA rank...\n",
      "Ensembling results...\n",
      "Results written to  example//cond1.vs.cond3.down.PET.txt\n"
     ]
    }
   ],
   "source": [
    "# To run PET when using GSEApy (default):\n",
    "run_PET(file_prefix=prefix, deg_dict=deg_dict, pathway_dict=pruned_pathway_dict, \n",
    "        result_dir=out_dir, gsea_path=out_dir+'gseapy.gene_set.prerank.report.csv', \n",
    "        gsea_pos_label='pos', out_dir=out_dir)"
   ]
  },
  {
   "cell_type": "code",
   "execution_count": 7,
   "id": "940fa83b19d73acb",
   "metadata": {
    "ExecuteTime": {
     "end_time": "2024-02-01T16:42:18.087692Z",
     "start_time": "2024-02-01T16:42:17.867663Z"
    }
   },
   "outputs": [
    {
     "name": "stdout",
     "output_type": "stream",
     "text": [
      "GSEA path was provided as directory, command line version used.\n",
      "For genes in  up direction, result files found: \n",
      "example/cond1.vs.cond3.up.ora_result.txt \n",
      " example/cond1.vs.cond3.up.enrichr_result.txt \n",
      " example/cond1.vs.cond3.GseaPreranked.1706807267627//tmp_result.up.txt\n",
      "Calculating ora rank...\n",
      "Calculating enrichr rank...\n",
      "Calculating GSEA rank...\n",
      "Ensembling results...\n",
      "Results written to  example//cond1.vs.cond3.up.PET.txt\n",
      "For genes in  down direction, result files found: \n",
      "example/cond1.vs.cond3.down.ora_result.txt \n",
      " example/cond1.vs.cond3.down.enrichr_result.txt \n",
      " example/cond1.vs.cond3.GseaPreranked.1706807267627//tmp_result.down.txt\n",
      "Calculating ora rank...\n",
      "Calculating enrichr rank...\n",
      "Calculating GSEA rank...\n",
      "Ensembling results...\n",
      "Results written to  example//cond1.vs.cond3.down.PET.txt\n"
     ]
    }
   ],
   "source": [
    "# Alternatively, To run PET when using GSEA command line:\n",
    "# you need to specify the gsea_path as the path to the GSEA output directory\n",
    "run_PET(file_prefix=prefix, deg_dict=deg_dict, pathway_dict=pruned_pathway_dict, \n",
    "        result_dir=out_dir, gsea_path='example/cond1.vs.cond3.GseaPreranked.1706807267627/', \n",
    "        gsea_pos_label='pos', out_dir=out_dir)"
   ]
  },
  {
   "cell_type": "markdown",
   "id": "dde1977c",
   "metadata": {},
   "source": [
    "***\n",
    "The PET output is a tab-delimited text file. Users may sort the output based on their preferred criteria. \n",
    "By default, we have ordered the output based on the **average rank**, which was found to be the most reliable metric according to Benchmark."
   ]
  },
  {
   "cell_type": "code",
   "execution_count": null,
   "id": "174b833d",
   "metadata": {},
   "outputs": [],
   "source": []
  }
 ],
 "metadata": {
  "kernelspec": {
   "display_name": "pt",
   "language": "python",
   "name": "pt"
  },
  "language_info": {
   "codemirror_mode": {
    "name": "ipython",
    "version": 3
   },
   "file_extension": ".py",
   "mimetype": "text/x-python",
   "name": "python",
   "nbconvert_exporter": "python",
   "pygments_lexer": "ipython3",
   "version": "3.10.12"
  }
 },
 "nbformat": 4,
 "nbformat_minor": 5
}
