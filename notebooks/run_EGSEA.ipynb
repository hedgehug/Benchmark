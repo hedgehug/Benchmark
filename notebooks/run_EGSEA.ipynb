{
 "cells": [
  {
   "cell_type": "code",
   "execution_count": 1,
   "outputs": [],
   "source": [
    "import sys, os\n",
    "import numpy as np\n",
    "import pandas as pd\n",
    "import scipy.stats as stat\n",
    "import numpy as np\n",
    "import seaborn as sns\n",
    "import matplotlib.pyplot as plt"
   ],
   "metadata": {
    "collapsed": false,
    "ExecuteTime": {
     "end_time": "2024-05-29T18:25:28.357612Z",
     "start_time": "2024-05-29T18:25:28.356148Z"
    }
   },
   "id": "c316fe3e0ad2651e"
  },
  {
   "cell_type": "code",
   "execution_count": 24,
   "outputs": [],
   "source": [
    "template_file = open('../template_script/egsea_template.R', 'r')\n",
    "template_file_info = template_file.read()\n",
    "template_file.close()"
   ],
   "metadata": {
    "collapsed": false,
    "ExecuteTime": {
     "end_time": "2024-05-24T16:58:44.630895Z",
     "start_time": "2024-05-24T16:58:44.626765Z"
    }
   },
   "id": "267c8abc0bd5d8b5"
  },
  {
   "cell_type": "code",
   "execution_count": 25,
   "outputs": [
    {
     "data": {
      "text/plain": "['AARS.txt',\n 'AATF.txt',\n 'ABCF1.txt',\n 'ADAR.txt',\n 'AGO1.txt',\n 'AKAP1.txt',\n 'AKAP8.txt',\n 'AKAP8L.txt',\n 'APOBEC3C.txt',\n 'ASCC1.txt']"
     },
     "execution_count": 25,
     "metadata": {},
     "output_type": "execute_result"
    }
   ],
   "source": [
    "# load gene expression files in raw read count matrix format\n",
    "expr_dir = '../data/count_matrix/'\n",
    "all_file = os.listdir(expr_dir)\n",
    "all_file.sort()\n",
    "all_file"
   ],
   "metadata": {
    "collapsed": false,
    "ExecuteTime": {
     "end_time": "2024-05-24T16:58:44.893496Z",
     "start_time": "2024-05-24T16:58:44.889593Z"
    }
   },
   "id": "e9413b3e87f88d13"
  },
  {
   "cell_type": "code",
   "execution_count": 26,
   "outputs": [],
   "source": [
    "pathway_file = '../pathway_files/K562_DESEq2.gmt'"
   ],
   "metadata": {
    "collapsed": false,
    "ExecuteTime": {
     "end_time": "2024-05-24T16:58:48.693418Z",
     "start_time": "2024-05-24T16:58:48.691279Z"
    }
   },
   "id": "e8cea859248dd0e2"
  },
  {
   "cell_type": "code",
   "execution_count": 27,
   "outputs": [],
   "source": [
    "# directory for storing all output results\n",
    "result_dir = '../example_results/EGSEA_results/'\n",
    "# write the scripts for each target to a seperate R script to enable parallel running\n",
    "script_dir = '../example_scripts/EGSEA_scripts/'"
   ],
   "metadata": {
    "collapsed": false,
    "ExecuteTime": {
     "end_time": "2024-05-24T16:58:48.873750Z",
     "start_time": "2024-05-24T16:58:48.871100Z"
    }
   },
   "id": "20e79dcf62245371"
  },
  {
   "cell_type": "code",
   "execution_count": 28,
   "outputs": [],
   "source": [
    "for expr_file in all_file:\n",
    "    target = expr_file.split('.')[0]\n",
    "    new_template_info = template_file_info.replace('TARGET_data_matrix.txt', expr_dir+expr_file)\n",
    "    new_template_info = new_template_info.replace('pathway_file_name', pathway_file)\n",
    "    new_template_info = new_template_info.replace('output_file', result_dir+target+'.egsea_result.txt')\n",
    "    script = open(script_dir+target+'.r', 'w')\n",
    "    script.write(new_template_info)\n",
    "    script.close()        "
   ],
   "metadata": {
    "collapsed": false,
    "ExecuteTime": {
     "end_time": "2024-05-24T16:58:50.080794Z",
     "start_time": "2024-05-24T16:58:50.075679Z"
    }
   },
   "id": "8abd65f315d986c4"
  },
  {
   "cell_type": "markdown",
   "source": [
    "Run the R scripts. And the results will be saved in example_results/EGSEA_results/"
   ],
   "metadata": {
    "collapsed": false
   },
   "id": "610c3e9f33f32966"
  },
  {
   "cell_type": "code",
   "execution_count": 36,
   "outputs": [],
   "source": [
    "# extract EGSEA results and its underlying methods results\n",
    "methods_egsea = ['EGSEA', 'camera', 'safe', 'gage', 'padog', 'plage', \n",
    "                 'zscore', 'gsva', 'ssgsea', 'ora']\n",
    "all_result_file = os.listdir(result_dir)\n",
    "all_result_file.sort()\n",
    "rank_dict = dict()\n",
    "for m in methods_egsea:\n",
    "    rank_dict[m] = dict()\n",
    "for file in all_result_file:\n",
    "    target = file.split('.')[0]\n",
    "    df = pd.read_csv(result_dir+file, sep='\\t')\n",
    "    df['pathway_rank'] = stat.rankdata(df['avg.rank'])\n",
    "    egsea_rank = df.loc[target]['pathway_rank']\n",
    "    rank_dict['EGSEA'][target] = egsea_rank\n",
    "    # extract results of underlying methods of EGSEA\n",
    "    for m in methods_egsea[1:]:\n",
    "        df[m+'_rank'] = stat.rankdata(df[m])\n",
    "        method_rank = df.loc[target][m+'_rank']\n",
    "        rank_dict[m][target] = method_rank"
   ],
   "metadata": {
    "collapsed": false,
    "ExecuteTime": {
     "end_time": "2024-05-27T19:10:35.904350Z",
     "start_time": "2024-05-27T19:10:35.809767Z"
    }
   },
   "id": "ceddaff235a5af4"
  },
  {
   "cell_type": "code",
   "execution_count": 41,
   "outputs": [],
   "source": [
    "rank_df = pd.DataFrame.from_dict(rank_dict)\n",
    "# write the results to seperate files\n",
    "for m in methods_egsea:\n",
    "    rank_df[m].to_csv('../example_results/'+m+'_result.txt', sep='\\t', header=None)"
   ],
   "metadata": {
    "collapsed": false,
    "ExecuteTime": {
     "end_time": "2024-05-27T19:12:35.509117Z",
     "start_time": "2024-05-27T19:12:35.496574Z"
    }
   },
   "id": "2520e3eafea427ae"
  },
  {
   "cell_type": "code",
   "execution_count": 2,
   "outputs": [
    {
     "data": {
      "text/plain": "          EGSEA  camera   safe  gage  padog  plage  zscore  gsva  ssgsea  ora\n0                                                                            \nAARS       11.0     2.0   30.0  44.0   87.0  128.0     8.0  13.0     7.0    3\nAATF        1.0    18.0   10.0  72.0   83.0    2.0    14.0  71.0     1.0    2\nABCF1       5.0     2.0    1.0  54.0    1.0  113.0     1.0   1.0     5.0   47\nADAR        1.0     1.0   89.0   2.0    1.0   18.0     1.0   1.0     1.0    1\nAGO1       24.0    18.0  129.0  15.0  141.0   33.0    13.0  45.0     5.0    1\nAKAP1       2.0     9.0    2.0  20.0    1.0  100.0     7.0  16.0     5.0   31\nAKAP8       3.0     5.0    5.0  51.0   19.0   44.0     2.0   2.0     9.0   44\nAKAP8L      2.0     1.0    1.0  45.0    1.0  161.0     1.0   1.0     1.0    1\nAPOBEC3C   10.0     7.0   33.0  11.0   29.0   47.0     2.0   2.0     1.0   67\nASCC1       2.0     1.0   10.0  20.0    1.0   11.0     1.0   1.0     1.0    1",
      "text/html": "<div>\n<style scoped>\n    .dataframe tbody tr th:only-of-type {\n        vertical-align: middle;\n    }\n\n    .dataframe tbody tr th {\n        vertical-align: top;\n    }\n\n    .dataframe thead th {\n        text-align: right;\n    }\n</style>\n<table border=\"1\" class=\"dataframe\">\n  <thead>\n    <tr style=\"text-align: right;\">\n      <th></th>\n      <th>EGSEA</th>\n      <th>camera</th>\n      <th>safe</th>\n      <th>gage</th>\n      <th>padog</th>\n      <th>plage</th>\n      <th>zscore</th>\n      <th>gsva</th>\n      <th>ssgsea</th>\n      <th>ora</th>\n    </tr>\n    <tr>\n      <th>0</th>\n      <th></th>\n      <th></th>\n      <th></th>\n      <th></th>\n      <th></th>\n      <th></th>\n      <th></th>\n      <th></th>\n      <th></th>\n      <th></th>\n    </tr>\n  </thead>\n  <tbody>\n    <tr>\n      <th>AARS</th>\n      <td>11.0</td>\n      <td>2.0</td>\n      <td>30.0</td>\n      <td>44.0</td>\n      <td>87.0</td>\n      <td>128.0</td>\n      <td>8.0</td>\n      <td>13.0</td>\n      <td>7.0</td>\n      <td>3</td>\n    </tr>\n    <tr>\n      <th>AATF</th>\n      <td>1.0</td>\n      <td>18.0</td>\n      <td>10.0</td>\n      <td>72.0</td>\n      <td>83.0</td>\n      <td>2.0</td>\n      <td>14.0</td>\n      <td>71.0</td>\n      <td>1.0</td>\n      <td>2</td>\n    </tr>\n    <tr>\n      <th>ABCF1</th>\n      <td>5.0</td>\n      <td>2.0</td>\n      <td>1.0</td>\n      <td>54.0</td>\n      <td>1.0</td>\n      <td>113.0</td>\n      <td>1.0</td>\n      <td>1.0</td>\n      <td>5.0</td>\n      <td>47</td>\n    </tr>\n    <tr>\n      <th>ADAR</th>\n      <td>1.0</td>\n      <td>1.0</td>\n      <td>89.0</td>\n      <td>2.0</td>\n      <td>1.0</td>\n      <td>18.0</td>\n      <td>1.0</td>\n      <td>1.0</td>\n      <td>1.0</td>\n      <td>1</td>\n    </tr>\n    <tr>\n      <th>AGO1</th>\n      <td>24.0</td>\n      <td>18.0</td>\n      <td>129.0</td>\n      <td>15.0</td>\n      <td>141.0</td>\n      <td>33.0</td>\n      <td>13.0</td>\n      <td>45.0</td>\n      <td>5.0</td>\n      <td>1</td>\n    </tr>\n    <tr>\n      <th>AKAP1</th>\n      <td>2.0</td>\n      <td>9.0</td>\n      <td>2.0</td>\n      <td>20.0</td>\n      <td>1.0</td>\n      <td>100.0</td>\n      <td>7.0</td>\n      <td>16.0</td>\n      <td>5.0</td>\n      <td>31</td>\n    </tr>\n    <tr>\n      <th>AKAP8</th>\n      <td>3.0</td>\n      <td>5.0</td>\n      <td>5.0</td>\n      <td>51.0</td>\n      <td>19.0</td>\n      <td>44.0</td>\n      <td>2.0</td>\n      <td>2.0</td>\n      <td>9.0</td>\n      <td>44</td>\n    </tr>\n    <tr>\n      <th>AKAP8L</th>\n      <td>2.0</td>\n      <td>1.0</td>\n      <td>1.0</td>\n      <td>45.0</td>\n      <td>1.0</td>\n      <td>161.0</td>\n      <td>1.0</td>\n      <td>1.0</td>\n      <td>1.0</td>\n      <td>1</td>\n    </tr>\n    <tr>\n      <th>APOBEC3C</th>\n      <td>10.0</td>\n      <td>7.0</td>\n      <td>33.0</td>\n      <td>11.0</td>\n      <td>29.0</td>\n      <td>47.0</td>\n      <td>2.0</td>\n      <td>2.0</td>\n      <td>1.0</td>\n      <td>67</td>\n    </tr>\n    <tr>\n      <th>ASCC1</th>\n      <td>2.0</td>\n      <td>1.0</td>\n      <td>10.0</td>\n      <td>20.0</td>\n      <td>1.0</td>\n      <td>11.0</td>\n      <td>1.0</td>\n      <td>1.0</td>\n      <td>1.0</td>\n      <td>1</td>\n    </tr>\n  </tbody>\n</table>\n</div>"
     },
     "execution_count": 2,
     "metadata": {},
     "output_type": "execute_result"
    }
   ],
   "source": [
    "# plot all results\n",
    "result_dfs = []\n",
    "result_dir = '../example_results/'\n",
    "methods_egsea = ['EGSEA', 'camera', 'safe', 'gage', 'padog', 'plage', \n",
    "                 'zscore', 'gsva', 'ssgsea', 'ora']\n",
    "for m in methods_egsea:\n",
    "    res_df = pd.read_csv(result_dir+m+'_result.txt', sep='\\t', header=None, index_col=0)\n",
    "    result_dfs.append(res_df)\n",
    "# combine the results\n",
    "all_result_df = pd.concat(result_dfs, axis=1)\n",
    "all_result_df.columns = methods_egsea\n",
    "all_result_df"
   ],
   "metadata": {
    "collapsed": false,
    "ExecuteTime": {
     "end_time": "2024-05-29T18:27:07.651077Z",
     "start_time": "2024-05-29T18:27:07.611253Z"
    }
   },
   "id": "28aa41527f9f8b3a"
  },
  {
   "cell_type": "code",
   "execution_count": 3,
   "outputs": [],
   "source": [
    "def apk(predicted, k=10):\n",
    "    \"\"\"\n",
    "    Computes the average precision at k.\n",
    "    This function computes the average precision at k between two lists of items.\n",
    "    \"\"\"\n",
    "    total_num = len(predicted)\n",
    "    precision_list = []\n",
    "    for idx in range(k):\n",
    "        precision_list.append(np.where(predicted<=idx+1)[0].shape[0]/total_num)\n",
    "        # print(np.where(predicted<=idx+1)[0].shape[0])\n",
    "    # return P@10 and AP@10\n",
    "    return precision_list[-1], np.mean(precision_list)"
   ],
   "metadata": {
    "collapsed": false,
    "ExecuteTime": {
     "end_time": "2024-05-29T18:27:26.037174Z",
     "start_time": "2024-05-29T18:27:26.013667Z"
    }
   },
   "id": "d5d32456f3758262"
  },
  {
   "cell_type": "code",
   "execution_count": 4,
   "outputs": [
    {
     "data": {
      "text/plain": "<AxesSubplot: ylabel='Ground truth pathway rank'>"
     },
     "execution_count": 4,
     "metadata": {},
     "output_type": "execute_result"
    },
    {
     "data": {
      "text/plain": "<Figure size 640x480 with 1 Axes>",
      "image/png": "[encoded data removed]"
     },
     "metadata": {},
     "output_type": "display_data"
    }
   ],
   "source": [
    "# plot the results\n",
    "plt.xticks(rotation=90)\n",
    "plt.ylabel('Ground truth pathway rank')\n",
    "sns.boxplot(data=all_result_df)"
   ],
   "metadata": {
    "collapsed": false,
    "ExecuteTime": {
     "end_time": "2024-05-29T18:27:46.213287Z",
     "start_time": "2024-05-29T18:27:45.740069Z"
    }
   },
   "id": "57276586ea72149e"
  },
  {
   "cell_type": "code",
   "execution_count": 5,
   "outputs": [
    {
     "data": {
      "text/plain": "<AxesSubplot: ylabel='Percent'>"
     },
     "execution_count": 5,
     "metadata": {},
     "output_type": "execute_result"
    },
    {
     "data": {
      "text/plain": "<Figure size 640x480 with 1 Axes>",
      "image/png": "[encoded data removed]"
     },
     "metadata": {},
     "output_type": "display_data"
    }
   ],
   "source": [
    "plt.grid(False)\n",
    "plt.xlim(1, 200)\n",
    "# plt.ylim(0, 100)\n",
    "sns.ecdfplot(data=all_result_df, stat='percent')"
   ],
   "metadata": {
    "collapsed": false,
    "ExecuteTime": {
     "end_time": "2024-05-29T18:31:14.898100Z",
     "start_time": "2024-05-29T18:31:14.538633Z"
    }
   },
   "id": "845935b6dc3e6ebc"
  },
  {
   "cell_type": "code",
   "execution_count": 7,
   "outputs": [
    {
     "name": "stdout",
     "output_type": "stream",
     "text": [
      "--------------------\n",
      "EGSEA summary:\n",
      "Median rank:  2.5\n",
      "Precision@10:  0.8\n",
      "Average Precision@10:  0.6199999999999999\n",
      "--------------------\n",
      "camera summary:\n",
      "Median rank:  3.5\n",
      "Precision@10:  0.8\n",
      "Average Precision@10:  0.5999999999999999\n",
      "--------------------\n",
      "safe summary:\n",
      "Median rank:  10.0\n",
      "Precision@10:  0.6\n",
      "Average Precision@10:  0.37\n",
      "--------------------\n",
      "gage summary:\n",
      "Median rank:  32.0\n",
      "Precision@10:  0.1\n",
      "Average Precision@10:  0.09\n",
      "--------------------\n",
      "padog summary:\n",
      "Median rank:  10.0\n",
      "Precision@10:  0.5\n",
      "Average Precision@10:  0.5\n",
      "--------------------\n",
      "plage summary:\n",
      "Median rank:  45.5\n",
      "Precision@10:  0.1\n",
      "Average Precision@10:  0.09\n",
      "--------------------\n",
      "zscore summary:\n",
      "Median rank:  2.0\n",
      "Precision@10:  0.8\n",
      "Average Precision@10:  0.65\n",
      "--------------------\n",
      "gsva summary:\n",
      "Median rank:  2.0\n",
      "Precision@10:  0.6\n",
      "Average Precision@10:  0.5799999999999998\n",
      "--------------------\n",
      "ssgsea summary:\n",
      "Median rank:  3.0\n",
      "Precision@10:  1.0\n",
      "Average Precision@10:  0.74\n",
      "--------------------\n",
      "ora summary:\n",
      "Median rank:  2.5\n",
      "Precision@10:  0.6\n",
      "Average Precision@10:  0.57\n"
     ]
    }
   ],
   "source": [
    "for method in all_result_df.columns:\n",
    "    print('-'*20)\n",
    "    print(method, 'summary:')\n",
    "    print('Median rank: ', all_result_df[method].median())\n",
    "    print('Precision@10: ', apk(all_result_df[method])[0])\n",
    "    print('Average Precision@10: ', apk(all_result_df[method])[1])"
   ],
   "metadata": {
    "collapsed": false,
    "ExecuteTime": {
     "end_time": "2024-05-29T18:32:42.908689Z",
     "start_time": "2024-05-29T18:32:42.880836Z"
    }
   },
   "id": "210f27d75fa16f5b"
  },
  {
   "cell_type": "code",
   "execution_count": null,
   "outputs": [],
   "source": [],
   "metadata": {
    "collapsed": false
   },
   "id": "a7776b59c42d6d4d"
  }
 ],
 "metadata": {
  "kernelspec": {
   "name": "scpa",
   "language": "python",
   "display_name": "scpa"
  },
  "language_info": {
   "codemirror_mode": {
    "name": "ipython",
    "version": 3
   },
   "file_extension": ".py",
   "mimetype": "text/x-python",
   "name": "python",
   "nbconvert_exporter": "python",
   "pygments_lexer": "ipython3",
   "version": "3.9.7"
  }
 },
 "nbformat": 4,
 "nbformat_minor": 5
}
