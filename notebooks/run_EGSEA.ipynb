{
 "cells": [
  {
   "cell_type": "code",
   "execution_count": 18,
   "outputs": [],
   "source": [
    "import sys, os\n",
    "import numpy as np\n",
    "import pandas as pd\n",
    "import scipy.stats as stat"
   ],
   "metadata": {
    "collapsed": false,
    "ExecuteTime": {
     "end_time": "2024-05-24T16:55:08.486129Z",
     "start_time": "2024-05-24T16:55:08.482212Z"
    }
   },
   "id": "c316fe3e0ad2651e"
  },
  {
   "cell_type": "code",
   "execution_count": 24,
   "outputs": [],
   "source": [
    "template_file = open('../template_script/egsea_template.R', 'r')\n",
    "template_file_info = template_file.read()\n",
    "template_file.close()"
   ],
   "metadata": {
    "collapsed": false,
    "ExecuteTime": {
     "end_time": "2024-05-24T16:58:44.630895Z",
     "start_time": "2024-05-24T16:58:44.626765Z"
    }
   },
   "id": "267c8abc0bd5d8b5"
  },
  {
   "cell_type": "code",
   "execution_count": 25,
   "outputs": [
    {
     "data": {
      "text/plain": "['AARS.txt',\n 'AATF.txt',\n 'ABCF1.txt',\n 'ADAR.txt',\n 'AGO1.txt',\n 'AKAP1.txt',\n 'AKAP8.txt',\n 'AKAP8L.txt',\n 'APOBEC3C.txt',\n 'ASCC1.txt']"
     },
     "execution_count": 25,
     "metadata": {},
     "output_type": "execute_result"
    }
   ],
   "source": [
    "# load gene expression files in raw read count matrix format\n",
    "expr_dir = '../data/count_matrix/'\n",
    "all_file = os.listdir(expr_dir)\n",
    "all_file.sort()\n",
    "all_file"
   ],
   "metadata": {
    "collapsed": false,
    "ExecuteTime": {
     "end_time": "2024-05-24T16:58:44.893496Z",
     "start_time": "2024-05-24T16:58:44.889593Z"
    }
   },
   "id": "e9413b3e87f88d13"
  },
  {
   "cell_type": "code",
   "execution_count": 26,
   "outputs": [],
   "source": [
    "pathway_file = '../pathway_files/K562_DESEq2.gmt'"
   ],
   "metadata": {
    "collapsed": false,
    "ExecuteTime": {
     "end_time": "2024-05-24T16:58:48.693418Z",
     "start_time": "2024-05-24T16:58:48.691279Z"
    }
   },
   "id": "e8cea859248dd0e2"
  },
  {
   "cell_type": "code",
   "execution_count": 27,
   "outputs": [],
   "source": [
    "# directory for storing all output results\n",
    "result_dir = '../example_results/EGSEA_results/'\n",
    "# write the scripts for each target to a seperate R script to enable parallel running\n",
    "script_dir = '../example_scripts/EGSEA_scripts/'"
   ],
   "metadata": {
    "collapsed": false,
    "ExecuteTime": {
     "end_time": "2024-05-24T16:58:48.873750Z",
     "start_time": "2024-05-24T16:58:48.871100Z"
    }
   },
   "id": "20e79dcf62245371"
  },
  {
   "cell_type": "code",
   "execution_count": 28,
   "outputs": [],
   "source": [
    "for expr_file in all_file:\n",
    "    target = expr_file.split('.')[0]\n",
    "    new_template_info = template_file_info.replace('TARGET_data_matrix.txt', expr_dir+expr_file)\n",
    "    new_template_info = new_template_info.replace('pathway_file_name', pathway_file)\n",
    "    new_template_info = new_template_info.replace('output_file', result_dir+target+'.egsea_result.txt')\n",
    "    script = open(script_dir+target+'.r', 'w')\n",
    "    script.write(new_template_info)\n",
    "    script.close()        "
   ],
   "metadata": {
    "collapsed": false,
    "ExecuteTime": {
     "end_time": "2024-05-24T16:58:50.080794Z",
     "start_time": "2024-05-24T16:58:50.075679Z"
    }
   },
   "id": "8abd65f315d986c4"
  },
  {
   "cell_type": "markdown",
   "source": [
    "Run the R scripts. And the results will be saved in example_results/EGSEA_results/"
   ],
   "metadata": {
    "collapsed": false
   },
   "id": "610c3e9f33f32966"
  },
  {
   "cell_type": "code",
   "execution_count": 36,
   "outputs": [],
   "source": [
    "# extract EGSEA results and its underlying methods results\n",
    "methods_egsea = ['EGSEA', 'camera', 'safe', 'gage', 'padog', 'plage', \n",
    "                 'zscore', 'gsva', 'ssgsea', 'ora']\n",
    "all_result_file = os.listdir(result_dir)\n",
    "all_result_file.sort()\n",
    "rank_dict = dict()\n",
    "for m in methods_egsea:\n",
    "    rank_dict[m] = dict()\n",
    "for file in all_result_file:\n",
    "    target = file.split('.')[0]\n",
    "    df = pd.read_csv(result_dir+file, sep='\\t')\n",
    "    df['pathway_rank'] = stat.rankdata(df['avg.rank'])\n",
    "    egsea_rank = df.loc[target]['pathway_rank']\n",
    "    rank_dict['EGSEA'][target] = egsea_rank\n",
    "    # extract results of underlying methods of EGSEA\n",
    "    for m in methods_egsea[1:]:\n",
    "        df[m+'_rank'] = stat.rankdata(df[m])\n",
    "        method_rank = df.loc[target][m+'_rank']\n",
    "        rank_dict[m][target] = method_rank"
   ],
   "metadata": {
    "collapsed": false,
    "ExecuteTime": {
     "end_time": "2024-05-27T19:10:35.904350Z",
     "start_time": "2024-05-27T19:10:35.809767Z"
    }
   },
   "id": "ceddaff235a5af4"
  },
  {
   "cell_type": "code",
   "execution_count": 41,
   "outputs": [],
   "source": [
    "rank_df = pd.DataFrame.from_dict(rank_dict)\n",
    "# write the results to seperate files\n",
    "for m in methods_egsea:\n",
    "    rank_df[m].to_csv('../example_results/'+m+'_result.txt', sep='\\t', header=None)"
   ],
   "metadata": {
    "collapsed": false,
    "ExecuteTime": {
     "end_time": "2024-05-27T19:12:35.509117Z",
     "start_time": "2024-05-27T19:12:35.496574Z"
    }
   },
   "id": "2520e3eafea427ae"
  }
 ],
 "metadata": {
  "kernelspec": {
   "display_name": "Python 3.9 (Default)",
   "language": "python",
   "name": "python3"
  },
  "language_info": {
   "codemirror_mode": {
    "name": "ipython",
    "version": 3
   },
   "file_extension": ".py",
   "mimetype": "text/x-python",
   "name": "python",
   "nbconvert_exporter": "python",
   "pygments_lexer": "ipython3",
   "version": "3.9.7"
  }
 },
 "nbformat": 4,
 "nbformat_minor": 5
}
