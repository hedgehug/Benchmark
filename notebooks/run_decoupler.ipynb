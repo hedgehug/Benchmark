{
 "cells": [
  {
   "cell_type": "code",
   "execution_count": 3,
   "id": "597ce7a8",
   "metadata": {
    "ExecuteTime": {
     "end_time": "2024-05-29T18:00:10.989141Z",
     "start_time": "2024-05-29T18:00:06.898298Z"
    }
   },
   "outputs": [],
   "source": [
    "import decoupler as dc\n",
    "import os, sys\n",
    "# Only needed for visualization:\n",
    "import matplotlib.pyplot as plt\n",
    "import seaborn as sns\n",
    "import pandas as pd\n",
    "import anndata as ad\n",
    "import numpy as np"
   ]
  },
  {
   "cell_type": "code",
   "execution_count": 12,
   "outputs": [],
   "source": [
    "import warnings\n",
    "warnings.filterwarnings(\"ignore\")"
   ],
   "metadata": {
    "collapsed": false,
    "ExecuteTime": {
     "end_time": "2024-05-08T19:02:47.498897Z",
     "start_time": "2024-05-08T19:02:47.464640Z"
    }
   },
   "id": "7d995c4176d068c1"
  },
  {
   "cell_type": "code",
   "execution_count": 5,
   "id": "dcadadbd",
   "metadata": {
    "ExecuteTime": {
     "end_time": "2024-05-08T18:57:19.298047Z",
     "start_time": "2024-05-08T18:57:19.296776Z"
    }
   },
   "outputs": [],
   "source": [
    "pathway_file = '../pathway_files/K562_DESEq2.gmt'"
   ]
  },
  {
   "cell_type": "code",
   "execution_count": 6,
   "id": "570cce20",
   "metadata": {
    "ExecuteTime": {
     "end_time": "2024-05-08T18:58:09.451740Z",
     "start_time": "2024-05-08T18:58:09.379364Z"
    }
   },
   "outputs": [],
   "source": [
    "# process pathway file\n",
    "symbol_list = []\n",
    "collection_list = []\n",
    "geneset_list = []\n",
    "file = open(pathway_file, 'r')\n",
    "info = file.readlines()\n",
    "for line in info:\n",
    "    line = line.strip().split('\\t')\n",
    "    for gene in line[2:]:\n",
    "        symbol_list.append(gene)\n",
    "        collection_list.append('custom')\n",
    "        geneset_list.append(line[0])\n",
    "pathway_df = pd.DataFrame()\n",
    "pathway_df['genesymbol'] = symbol_list\n",
    "pathway_df['collection'] = collection_list\n",
    "pathway_df['geneset'] = geneset_list\n",
    "file.close()"
   ]
  },
  {
   "cell_type": "code",
   "execution_count": 7,
   "id": "fe273191",
   "metadata": {
    "ExecuteTime": {
     "end_time": "2024-05-08T18:58:14.613680Z",
     "start_time": "2024-05-08T18:58:14.552778Z"
    }
   },
   "outputs": [
    {
     "data": {
      "text/plain": "               genesymbol collection geneset\n0       ENSG00000211459.2     custom   DDX3X\n1      ENSG00000130600.11     custom   DDX3X\n2       ENSG00000139269.2     custom   DDX3X\n3       ENSG00000135069.9     custom   DDX3X\n4       ENSG00000151012.9     custom   DDX3X\n...                   ...        ...     ...\n39395   ENSG00000228327.2     custom   CCAR2\n39396  ENSG00000163399.11     custom   CCAR2\n39397   ENSG00000066557.5     custom   CCAR2\n39398   ENSG00000105058.7     custom   CCAR2\n39399   ENSG00000203499.6     custom   CCAR2\n\n[39400 rows x 3 columns]",
      "text/html": "<div>\n<style scoped>\n    .dataframe tbody tr th:only-of-type {\n        vertical-align: middle;\n    }\n\n    .dataframe tbody tr th {\n        vertical-align: top;\n    }\n\n    .dataframe thead th {\n        text-align: right;\n    }\n</style>\n<table border=\"1\" class=\"dataframe\">\n  <thead>\n    <tr style=\"text-align: right;\">\n      <th></th>\n      <th>genesymbol</th>\n      <th>collection</th>\n      <th>geneset</th>\n    </tr>\n  </thead>\n  <tbody>\n    <tr>\n      <th>0</th>\n      <td>ENSG00000211459.2</td>\n      <td>custom</td>\n      <td>DDX3X</td>\n    </tr>\n    <tr>\n      <th>1</th>\n      <td>ENSG00000130600.11</td>\n      <td>custom</td>\n      <td>DDX3X</td>\n    </tr>\n    <tr>\n      <th>2</th>\n      <td>ENSG00000139269.2</td>\n      <td>custom</td>\n      <td>DDX3X</td>\n    </tr>\n    <tr>\n      <th>3</th>\n      <td>ENSG00000135069.9</td>\n      <td>custom</td>\n      <td>DDX3X</td>\n    </tr>\n    <tr>\n      <th>4</th>\n      <td>ENSG00000151012.9</td>\n      <td>custom</td>\n      <td>DDX3X</td>\n    </tr>\n    <tr>\n      <th>...</th>\n      <td>...</td>\n      <td>...</td>\n      <td>...</td>\n    </tr>\n    <tr>\n      <th>39395</th>\n      <td>ENSG00000228327.2</td>\n      <td>custom</td>\n      <td>CCAR2</td>\n    </tr>\n    <tr>\n      <th>39396</th>\n      <td>ENSG00000163399.11</td>\n      <td>custom</td>\n      <td>CCAR2</td>\n    </tr>\n    <tr>\n      <th>39397</th>\n      <td>ENSG00000066557.5</td>\n      <td>custom</td>\n      <td>CCAR2</td>\n    </tr>\n    <tr>\n      <th>39398</th>\n      <td>ENSG00000105058.7</td>\n      <td>custom</td>\n      <td>CCAR2</td>\n    </tr>\n    <tr>\n      <th>39399</th>\n      <td>ENSG00000203499.6</td>\n      <td>custom</td>\n      <td>CCAR2</td>\n    </tr>\n  </tbody>\n</table>\n<p>39400 rows × 3 columns</p>\n</div>"
     },
     "execution_count": 7,
     "metadata": {},
     "output_type": "execute_result"
    }
   ],
   "source": [
    "pathway_df"
   ]
  },
  {
   "cell_type": "code",
   "execution_count": 13,
   "id": "cc216bab",
   "metadata": {
    "scrolled": true,
    "ExecuteTime": {
     "end_time": "2024-05-08T19:16:30.543825Z",
     "start_time": "2024-05-08T19:02:55.606137Z"
    }
   },
   "outputs": [
    {
     "name": "stdout",
     "output_type": "stream",
     "text": [
      "AARS.rnk\n",
      "AATF.rnk\n",
      "ABCF1.rnk\n",
      "ADAR.rnk\n",
      "AGO1.rnk\n",
      "AKAP1.rnk\n",
      "AKAP8.rnk\n",
      "AKAP8L.rnk\n",
      "APOBEC3C.rnk\n",
      "ASCC1.rnk\n",
      "ATP5C1.rnk\n",
      "AUH.rnk\n",
      "BCCIP.rnk\n",
      "BCLAF1.rnk\n",
      "BOP1.rnk\n",
      "BUD13.rnk\n",
      "CCAR1.rnk\n",
      "CCAR2.rnk\n",
      "CELF1.rnk\n",
      "CIRBP.rnk\n",
      "CKAP4.rnk\n",
      "CNOT7.rnk\n",
      "CPSF6.rnk\n",
      "CPSF7.rnk\n",
      "CSTF2.rnk\n",
      "CSTF2T.rnk\n",
      "DAZAP1.rnk\n",
      "DDX1.rnk\n",
      "DDX19B.rnk\n",
      "DDX24.rnk\n",
      "DDX27.rnk\n",
      "DDX28.rnk\n",
      "DDX3X.rnk\n",
      "DDX47.rnk\n",
      "DDX52.rnk\n",
      "DDX55.rnk\n",
      "DDX6.rnk\n",
      "DHX30.rnk\n",
      "DKC1.rnk\n",
      "DNAJC2.rnk\n",
      "DNAJC21.rnk\n",
      "EEF2.rnk\n",
      "EFTUD2.rnk\n",
      "EIF2S1.rnk\n",
      "EIF2S2.rnk\n",
      "EIF3D.rnk\n",
      "EIF3G.rnk\n",
      "EIF4A3.rnk\n",
      "EIF4B.rnk\n",
      "EIF4G1.rnk\n",
      "EIF4G2.rnk\n",
      "ESF1.rnk\n",
      "EWSR1.rnk\n",
      "EXOSC9.rnk\n",
      "FAM120A.rnk\n",
      "FASTKD2.rnk\n",
      "FIP1L1.rnk\n",
      "FKBP4.rnk\n",
      "FMR1.rnk\n",
      "FTO.rnk\n",
      "FUBP3.rnk\n",
      "FUS.rnk\n",
      "FXR1.rnk\n",
      "G3BP1.rnk\n",
      "G3BP2.rnk\n",
      "GEMIN5.rnk\n",
      "GPKOW.rnk\n",
      "GRSF1.rnk\n",
      "GRWD1.rnk\n",
      "GTF2F1.rnk\n",
      "HLTF.rnk\n",
      "HNRNPA0.rnk\n",
      "HNRNPA1.rnk\n",
      "HNRNPA2B1.rnk\n",
      "HNRNPAB.rnk\n",
      "HNRNPC.rnk\n",
      "HNRNPK.rnk\n",
      "HNRNPL.rnk\n",
      "HNRNPM.rnk\n",
      "HNRNPU.rnk\n",
      "HNRNPUL1.rnk\n",
      "HSPD1.rnk\n",
      "IGF2BP2.rnk\n",
      "IGF2BP3.rnk\n",
      "ILF2.rnk\n",
      "ILF3.rnk\n",
      "KHDRBS1.rnk\n",
      "KHSRP.rnk\n",
      "KIF1C.rnk\n",
      "KRR1.rnk\n",
      "LARP4.rnk\n",
      "LARP7.rnk\n",
      "LIN28B.rnk\n",
      "LSM11.rnk\n",
      "MAGOH.rnk\n",
      "MATR3.rnk\n",
      "METAP2.rnk\n",
      "MSI2.rnk\n",
      "MTPAP.rnk\n",
      "NAA15.rnk\n",
      "NCBP2.rnk\n",
      "NELFE.rnk\n",
      "NOL12.rnk\n",
      "NONO.rnk\n",
      "NPM1.rnk\n",
      "NSUN2.rnk\n",
      "NUFIP2.rnk\n",
      "NUSAP1.rnk\n",
      "PA2G4.rnk\n",
      "PABPC1.rnk\n",
      "PABPC4.rnk\n",
      "PARN.rnk\n",
      "PCBP1.rnk\n",
      "PCBP2.rnk\n",
      "PES1.rnk\n",
      "PHF6.rnk\n",
      "PKM.rnk\n",
      "PNPT1.rnk\n",
      "PPIG.rnk\n",
      "PPIL4.rnk\n",
      "PRPF6.rnk\n",
      "PRPF8.rnk\n",
      "PSIP1.rnk\n",
      "PTBP1.rnk\n",
      "PUF60.rnk\n",
      "PUM1.rnk\n",
      "PUM2.rnk\n",
      "PUS1.rnk\n",
      "QKI.rnk\n",
      "RAVER1.rnk\n",
      "RBFOX2.rnk\n",
      "RBM15.rnk\n",
      "RBM17.rnk\n",
      "RBM22.rnk\n",
      "RBM25.rnk\n",
      "RBM34.rnk\n",
      "RBM39.rnk\n",
      "RCC2.rnk\n",
      "RECQL.rnk\n",
      "RPS10.rnk\n",
      "RPS19.rnk\n",
      "RPS3A.rnk\n",
      "RRP9.rnk\n",
      "RTF1.rnk\n",
      "SAFB2.rnk\n",
      "SART3.rnk\n",
      "SBDS.rnk\n",
      "SERBP1.rnk\n",
      "SF1.rnk\n",
      "SF3A3.rnk\n",
      "SF3B1.rnk\n",
      "SF3B4.rnk\n",
      "SFPQ.rnk\n",
      "SLBP.rnk\n",
      "SLTM.rnk\n",
      "SMN1.rnk\n",
      "SMNDC1.rnk\n",
      "SND1.rnk\n",
      "SNRNP200.rnk\n",
      "SRFBP1.rnk\n",
      "SRP68.rnk\n",
      "SRSF1.rnk\n",
      "SRSF5.rnk\n",
      "SSB.rnk\n",
      "SSRP1.rnk\n",
      "STAU1.rnk\n",
      "STIP1.rnk\n",
      "SUB1.rnk\n",
      "SUCLG1.rnk\n",
      "SUGP2.rnk\n",
      "SUPT6H.rnk\n",
      "SUPV3L1.rnk\n",
      "TAF15.rnk\n",
      "TARDBP.rnk\n",
      "TBRG4.rnk\n",
      "TFIP11.rnk\n",
      "TIA1.rnk\n",
      "TIAL1.rnk\n",
      "TRA2A.rnk\n",
      "TRIM56.rnk\n",
      "TROVE2.rnk\n",
      "TUFM.rnk\n",
      "U2AF1.rnk\n",
      "U2AF2.rnk\n",
      "UBE2L3.rnk\n",
      "UCHL5.rnk\n",
      "UPF1.rnk\n",
      "UPF2.rnk\n",
      "UTP18.rnk\n",
      "UTP3.rnk\n",
      "XPO5.rnk\n",
      "XRCC5.rnk\n",
      "XRCC6.rnk\n",
      "XRN2.rnk\n",
      "YBX3.rnk\n",
      "ZC3H8.rnk\n",
      "ZRANB2.rnk\n"
     ]
    }
   ],
   "source": [
    "# provide contrast level, -log10(p-value) from DESeq2 results\n",
    "expr_dir = '../data/prerank_DESeq2/'\n",
    "all_expr_file = os.listdir(expr_dir)\n",
    "all_expr_file.sort()\n",
    "result_dict = dict()\n",
    "for f in all_expr_file:\n",
    "    if f.endswith('rnk'):\n",
    "        print(f)\n",
    "        target = f.split('.')[0]\n",
    "        data = pd.read_csv(expr_dir+f, delimiter='\\t', index_col=0, header=None)\n",
    "        adata = ad.AnnData(data)\n",
    "        adata = adata.transpose()\n",
    "        # break3\n",
    "        results = dc.run_consensus(mat=adata, net=pathway_df, source='geneset',\n",
    "                                  target='genesymbol', weight=None, verbose=False, use_raw=False)\n",
    "        result_dict[target] = adata.obsm['consensus_estimate'].transpose()"
   ]
  },
  {
   "cell_type": "code",
   "execution_count": 14,
   "id": "5e511797",
   "metadata": {
    "ExecuteTime": {
     "end_time": "2024-05-22T15:10:01.841157Z",
     "start_time": "2024-05-22T15:10:01.832306Z"
    }
   },
   "outputs": [],
   "source": [
    "from scipy.stats import rankdata as rnk"
   ]
  },
  {
   "cell_type": "code",
   "execution_count": 15,
   "id": "091778e1",
   "metadata": {
    "ExecuteTime": {
     "end_time": "2024-05-22T15:11:33.324369Z",
     "start_time": "2024-05-22T15:11:33.174931Z"
    }
   },
   "outputs": [
    {
     "name": "stdout",
     "output_type": "stream",
     "text": [
      "AARS 1.0\n",
      "AATF 2.0\n",
      "ABCF1 13.0\n",
      "ADAR 1.0\n",
      "AGO1 2.0\n",
      "AKAP1 2.0\n",
      "AKAP8 5.0\n",
      "AKAP8L 1.0\n",
      "APOBEC3C 24.0\n",
      "ASCC1 1.0\n",
      "ATP5C1 1.0\n",
      "AUH 1.0\n",
      "BCCIP 1.0\n",
      "BCLAF1 1.0\n",
      "BOP1 1.0\n",
      "BUD13 3.0\n",
      "CCAR1 1.0\n",
      "CCAR2 1.0\n",
      "CELF1 1.0\n",
      "CIRBP 1.0\n",
      "CKAP4 11.0\n",
      "CNOT7 1.0\n",
      "CPSF6 1.0\n",
      "CPSF7 161.0\n",
      "CSTF2 69.0\n",
      "CSTF2T 2.0\n",
      "DAZAP1 6.0\n",
      "DDX1 1.0\n",
      "DDX19B 1.0\n",
      "DDX24 1.0\n",
      "DDX27 1.0\n",
      "DDX28 1.0\n",
      "DDX3X 1.0\n",
      "DDX47 59.0\n",
      "DDX52 1.0\n",
      "DDX55 98.0\n",
      "DDX6 1.0\n",
      "DHX30 42.0\n",
      "DKC1 29.0\n",
      "DNAJC2 4.0\n",
      "DNAJC21 1.0\n",
      "EEF2 7.0\n",
      "EFTUD2 1.0\n",
      "EIF2S1 1.0\n",
      "EIF2S2 13.0\n",
      "EIF3D 1.0\n",
      "EIF3G 1.0\n",
      "EIF4A3 4.0\n",
      "EIF4B 1.0\n",
      "EIF4G1 1.0\n",
      "EIF4G2 4.0\n",
      "ESF1 38.0\n",
      "EWSR1 70.0\n",
      "EXOSC9 58.0\n",
      "FAM120A 5.0\n",
      "FASTKD2 1.0\n",
      "FIP1L1 1.0\n",
      "FKBP4 15.0\n",
      "FMR1 149.0\n",
      "FTO 1.0\n",
      "FUBP3 38.0\n",
      "FUS 1.0\n",
      "FXR1 5.0\n",
      "G3BP1 1.0\n",
      "G3BP2 1.0\n",
      "GEMIN5 1.0\n",
      "GPKOW 1.0\n",
      "GRSF1 1.0\n",
      "GRWD1 1.0\n",
      "GTF2F1 1.0\n",
      "HLTF 15.0\n",
      "HNRNPA0 1.0\n",
      "HNRNPA1 1.0\n",
      "HNRNPA2B1 117.0\n",
      "HNRNPAB 1.0\n",
      "HNRNPC 1.0\n",
      "HNRNPK 1.0\n",
      "HNRNPL 1.0\n",
      "HNRNPM 2.0\n",
      "HNRNPU 1.0\n",
      "HNRNPUL1 1.0\n",
      "HSPD1 1.0\n",
      "IGF2BP2 1.0\n",
      "IGF2BP3 1.0\n",
      "ILF2 1.0\n",
      "ILF3 1.0\n",
      "KHDRBS1 1.0\n",
      "KHSRP 1.0\n",
      "KIF1C 1.0\n",
      "KRR1 40.0\n",
      "LARP4 1.0\n",
      "LARP7 13.0\n",
      "LIN28B 1.0\n",
      "LSM11 13.0\n",
      "MAGOH 2.0\n",
      "MATR3 1.0\n",
      "METAP2 95.0\n",
      "MSI2 26.0\n",
      "MTPAP 9.0\n",
      "NAA15 3.0\n",
      "NCBP2 1.0\n",
      "NELFE 1.0\n",
      "NOL12 1.0\n",
      "NONO 1.0\n",
      "NPM1 6.0\n",
      "NSUN2 1.0\n",
      "NUFIP2 115.0\n",
      "NUSAP1 1.0\n",
      "PA2G4 8.0\n",
      "PABPC1 1.0\n",
      "PABPC4 1.0\n",
      "PARN 19.0\n",
      "PCBP1 1.0\n",
      "PCBP2 1.0\n",
      "PES1 14.0\n",
      "PHF6 6.0\n",
      "PKM 4.0\n",
      "PNPT1 1.0\n",
      "PPIG 1.0\n",
      "PPIL4 1.0\n",
      "PRPF6 1.0\n",
      "PRPF8 6.0\n",
      "PSIP1 1.0\n",
      "PTBP1 1.0\n",
      "PUF60 1.0\n",
      "PUM1 1.0\n",
      "PUM2 1.0\n",
      "PUS1 1.0\n",
      "QKI 1.0\n",
      "RAVER1 1.0\n",
      "RBFOX2 20.0\n",
      "RBM15 38.0\n",
      "RBM17 1.0\n",
      "RBM22 19.0\n",
      "RBM25 2.0\n",
      "RBM34 78.0\n",
      "RBM39 2.0\n",
      "RCC2 1.0\n",
      "RECQL 1.0\n",
      "RPS10 2.0\n",
      "RPS19 4.0\n",
      "RPS3A 12.0\n",
      "RRP9 35.0\n",
      "RTF1 1.0\n",
      "SAFB2 15.0\n",
      "SART3 1.0\n",
      "SBDS 1.0\n",
      "SERBP1 1.0\n",
      "SF1 5.0\n",
      "SF3A3 3.0\n",
      "SF3B1 1.0\n",
      "SF3B4 1.0\n",
      "SFPQ 1.0\n",
      "SLBP 2.0\n",
      "SLTM 1.0\n",
      "SMN1 1.0\n",
      "SMNDC1 1.0\n",
      "SND1 129.0\n",
      "SNRNP200 8.0\n",
      "SRFBP1 55.0\n",
      "SRP68 1.0\n",
      "SRSF1 2.0\n",
      "SRSF5 81.0\n",
      "SSB 10.0\n",
      "SSRP1 39.0\n",
      "STAU1 7.0\n",
      "STIP1 1.0\n",
      "SUB1 1.0\n",
      "SUCLG1 1.0\n",
      "SUGP2 9.0\n",
      "SUPT6H 72.0\n",
      "SUPV3L1 3.0\n",
      "TAF15 31.0\n",
      "TARDBP 36.0\n",
      "TBRG4 80.0\n",
      "TFIP11 15.0\n",
      "TIA1 1.0\n",
      "TIAL1 3.0\n",
      "TRA2A 2.0\n",
      "TRIM56 1.0\n",
      "TROVE2 179.0\n",
      "TUFM 3.0\n",
      "U2AF1 10.0\n",
      "U2AF2 1.0\n",
      "UBE2L3 1.0\n",
      "UCHL5 4.0\n",
      "UPF1 51.0\n",
      "UPF2 1.0\n",
      "UTP18 5.0\n",
      "UTP3 50.0\n",
      "XPO5 39.0\n",
      "XRCC5 2.0\n",
      "XRCC6 1.0\n",
      "XRN2 3.0\n",
      "YBX3 1.0\n",
      "ZC3H8 54.0\n",
      "ZRANB2 2.0\n"
     ]
    }
   ],
   "source": [
    "# compute the rank for each pathway\n",
    "rank_dict = dict()\n",
    "for target in result_dict.keys():\n",
    "    rank_dict[target] = dict()\n",
    "    tmp_df = result_dict[target]\n",
    "    tmp_df['1'] = tmp_df['1']*(-1)\n",
    "    ranks = rnk(tmp_df['1'])\n",
    "    rank = ranks[np.argwhere(tmp_df.index==target)[0, 0]]\n",
    "    print(target, rank)\n",
    "    rank_dict[target] = rank"
   ]
  },
  {
   "cell_type": "code",
   "execution_count": 21,
   "id": "a34388ff",
   "metadata": {
    "ExecuteTime": {
     "end_time": "2024-05-22T15:15:01.405408Z",
     "start_time": "2024-05-22T15:15:01.395898Z"
    }
   },
   "outputs": [],
   "source": [
    "# save the results in format\n",
    "# target_name \\t rank\n",
    "pd.DataFrame.from_dict(rank_dict, orient='index').to_csv('../example_results/decoupler_result.txt', header=None, sep='\\t')"
   ]
  },
  {
   "cell_type": "code",
   "execution_count": 25,
   "outputs": [],
   "source": [
    "# plot the results\n",
    "result_df = pd.read_csv('../example_results/decoupler_result.txt', header=None, sep='\\t', index_col=0)\n",
    "result_df.columns = ['Correct pathway rank']"
   ],
   "metadata": {
    "collapsed": false,
    "ExecuteTime": {
     "end_time": "2024-05-29T18:19:08.260377Z",
     "start_time": "2024-05-29T18:19:08.251502Z"
    }
   },
   "id": "5c6733f8d59b9490"
  },
  {
   "cell_type": "code",
   "execution_count": 26,
   "outputs": [],
   "source": [
    "def apk(predicted, k=10):\n",
    "    \"\"\"\n",
    "    Computes the average precision at k.\n",
    "    This function computes the average precision at k between two lists of items.\n",
    "    \"\"\"\n",
    "    total_num = len(predicted)\n",
    "    precision_list = []\n",
    "    for idx in range(k):\n",
    "        precision_list.append(np.where(predicted<=idx+1)[0].shape[0]/total_num)\n",
    "        # print(np.where(predicted<=idx+1)[0].shape[0])\n",
    "    # return P@10 and AP@10\n",
    "    return precision_list[-1], np.mean(precision_list)"
   ],
   "metadata": {
    "collapsed": false,
    "ExecuteTime": {
     "end_time": "2024-05-29T18:19:08.529282Z",
     "start_time": "2024-05-29T18:19:08.522670Z"
    }
   },
   "id": "cb8e69aee4603eb3"
  },
  {
   "cell_type": "code",
   "execution_count": 27,
   "outputs": [
    {
     "name": "stdout",
     "output_type": "stream",
     "text": [
      "Median rank:  2.0\n",
      "Precision@10:  0.8\n",
      "Average Precision@10:  0.73\n"
     ]
    },
    {
     "data": {
      "text/plain": "<Figure size 640x480 with 1 Axes>",
      "image/png": "[encoded data removed]"
     },
     "metadata": {},
     "output_type": "display_data"
    }
   ],
   "source": [
    "sns.boxplot(data=result_df['Correct pathway rank'])\n",
    "print('Median rank: ', result_df['Correct pathway rank'].median())\n",
    "print('Precision@10: ', apk(result_df['Correct pathway rank'])[0])\n",
    "print('Average Precision@10: ', apk(result_df['Correct pathway rank'])[1])"
   ],
   "metadata": {
    "collapsed": false,
    "ExecuteTime": {
     "end_time": "2024-05-29T18:19:08.882021Z",
     "start_time": "2024-05-29T18:19:08.741802Z"
    }
   },
   "id": "5e37dd565a82a95a"
  },
  {
   "cell_type": "code",
   "execution_count": 30,
   "outputs": [
    {
     "data": {
      "text/plain": "<AxesSubplot: xlabel='Correct pathway rank', ylabel='Percent'>"
     },
     "execution_count": 30,
     "metadata": {},
     "output_type": "execute_result"
    },
    {
     "data": {
      "text/plain": "<Figure size 640x480 with 1 Axes>",
      "image/png": "[encoded data removed]"
     },
     "metadata": {},
     "output_type": "display_data"
    }
   ],
   "source": [
    "plt.grid(False)\n",
    "plt.xlim(1, 200)\n",
    "# plt.ylim(0, 100)\n",
    "sns.ecdfplot(data=result_df['Correct pathway rank'], stat='percent')"
   ],
   "metadata": {
    "collapsed": false,
    "ExecuteTime": {
     "end_time": "2024-05-29T18:19:33.947606Z",
     "start_time": "2024-05-29T18:19:33.700206Z"
    }
   },
   "id": "3a1aa721b7b37793"
  }
 ],
 "metadata": {
  "kernelspec": {
   "name": "scpa",
   "language": "python",
   "display_name": "scpa"
  },
  "language_info": {
   "codemirror_mode": {
    "name": "ipython",
    "version": 3
   },
   "file_extension": ".py",
   "mimetype": "text/x-python",
   "name": "python",
   "nbconvert_exporter": "python",
   "pygments_lexer": "ipython3",
   "version": "3.10.6"
  }
 },
 "nbformat": 4,
 "nbformat_minor": 5
}
