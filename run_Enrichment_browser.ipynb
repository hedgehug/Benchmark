{
 "cells": [
  {
   "cell_type": "code",
   "execution_count": 12,
   "outputs": [],
   "source": [
    "import sys, os\n",
    "import numpy as np\n",
    "import pandas as pd\n",
    "import scipy.stats as stat"
   ],
   "metadata": {
    "collapsed": false,
    "ExecuteTime": {
     "end_time": "2024-05-28T14:25:34.821958Z",
     "start_time": "2024-05-28T14:25:34.817931Z"
    }
   },
   "id": "c316fe3e0ad2651e"
  },
  {
   "cell_type": "code",
   "execution_count": 13,
   "outputs": [],
   "source": [
    "template_file = open('template_script/enrichment_browser.R', 'r')\n",
    "template_file_info = template_file.read()\n",
    "template_file.close()"
   ],
   "metadata": {
    "collapsed": false,
    "ExecuteTime": {
     "end_time": "2024-05-28T14:25:35.005052Z",
     "start_time": "2024-05-28T14:25:34.999942Z"
    }
   },
   "id": "267c8abc0bd5d8b5"
  },
  {
   "cell_type": "code",
   "execution_count": 14,
   "outputs": [
    {
     "data": {
      "text/plain": "['AARS.colData.tab',\n 'AARS.exprs.tab',\n 'AARS.rowData.tab',\n 'AATF.colData.tab',\n 'AATF.exprs.tab',\n 'AATF.rowData.tab',\n 'ABCF1.colData.tab',\n 'ABCF1.exprs.tab',\n 'ABCF1.rowData.tab',\n 'ADAR.colData.tab',\n 'ADAR.exprs.tab',\n 'ADAR.rowData.tab',\n 'AGO1.colData.tab',\n 'AGO1.exprs.tab',\n 'AGO1.rowData.tab',\n 'AKAP1.colData.tab',\n 'AKAP1.exprs.tab',\n 'AKAP1.rowData.tab',\n 'AKAP8.colData.tab',\n 'AKAP8.exprs.tab',\n 'AKAP8.rowData.tab',\n 'AKAP8L.colData.tab',\n 'AKAP8L.exprs.tab',\n 'AKAP8L.rowData.tab',\n 'APOBEC3C.colData.tab',\n 'APOBEC3C.exprs.tab',\n 'APOBEC3C.rowData.tab',\n 'ASCC1.colData.tab',\n 'ASCC1.exprs.tab',\n 'ASCC1.rowData.tab']"
     },
     "execution_count": 14,
     "metadata": {},
     "output_type": "execute_result"
    }
   ],
   "source": [
    "# load gene expression files in raw read count matrix format\n",
    "expr_dir = 'data/Enrichment_browser_data/'\n",
    "all_file = os.listdir(expr_dir)\n",
    "all_file.sort()\n",
    "all_file"
   ],
   "metadata": {
    "collapsed": false,
    "ExecuteTime": {
     "end_time": "2024-05-28T14:25:35.152920Z",
     "start_time": "2024-05-28T14:25:35.146006Z"
    }
   },
   "id": "e9413b3e87f88d13"
  },
  {
   "cell_type": "code",
   "execution_count": 15,
   "outputs": [],
   "source": [
    "pathway_file = 'pathway_files/K562_DESEq2.gmt'"
   ],
   "metadata": {
    "collapsed": false,
    "ExecuteTime": {
     "end_time": "2024-05-28T14:25:35.329218Z",
     "start_time": "2024-05-28T14:25:35.325801Z"
    }
   },
   "id": "e8cea859248dd0e2"
  },
  {
   "cell_type": "code",
   "execution_count": 16,
   "outputs": [],
   "source": [
    "# directory for storing all output results\n",
    "result_dir = 'example_results/Enrichment_browser_results/'\n",
    "# write the scripts for each target to a seperate R script to enable parallel running\n",
    "script_dir = 'example_scripts/Enrichment_browser_scripts/'"
   ],
   "metadata": {
    "collapsed": false,
    "ExecuteTime": {
     "end_time": "2024-05-28T14:25:35.559714Z",
     "start_time": "2024-05-28T14:25:35.552417Z"
    }
   },
   "id": "20e79dcf62245371"
  },
  {
   "cell_type": "code",
   "execution_count": 17,
   "outputs": [],
   "source": [
    "added_target = set()\n",
    "for expr_file in all_file:\n",
    "    target = expr_file.split('.')[0]\n",
    "    if target in added_target:\n",
    "        continue\n",
    "    new_template_info = template_file_info.replace('DATA_DIR.txt', expr_dir)\n",
    "    new_template_info = new_template_info.replace('PATHWAY_FILE', pathway_file)\n",
    "    new_template_info = new_template_info.replace('TARGET', target)\n",
    "    new_template_info = new_template_info.replace('OUTPUUT_FILE', result_dir+target+'.ebrowser_result.txt')\n",
    "    script = open(script_dir+target+'.r', 'w')\n",
    "    script.write(new_template_info)\n",
    "    script.close()   \n",
    "    added_target.add(target)"
   ],
   "metadata": {
    "collapsed": false,
    "ExecuteTime": {
     "end_time": "2024-05-28T14:25:36.245377Z",
     "start_time": "2024-05-28T14:25:36.240535Z"
    }
   },
   "id": "8abd65f315d986c4"
  },
  {
   "cell_type": "markdown",
   "source": [
    "Run the R scripts. And the results will be saved in example_results/Enrichment_browser_results/"
   ],
   "metadata": {
    "collapsed": false
   },
   "id": "610c3e9f33f32966"
  },
  {
   "cell_type": "code",
   "execution_count": 29,
   "outputs": [],
   "source": [
    "# extract Enrichment browser results\n",
    "all_result_file = os.listdir(result_dir)\n",
    "all_result_file.sort()\n",
    "out_file = open('example_results/enrichment_browser_result.txt', 'w')\n",
    "for file in all_result_file:\n",
    "    target = file.split('.')[0]\n",
    "    df = pd.read_csv(result_dir+file, sep='\\t')\n",
    "    # the result file of enrichment browser is already sorted\n",
    "    # just need to get the index of the target\n",
    "    rank = np.where(df['GENE.SET']==target)[0][0]+1\n",
    "    out_file.write(target+'\\t'+str(rank)+'\\n')\n",
    "out_file.close() "
   ],
   "metadata": {
    "collapsed": false,
    "ExecuteTime": {
     "end_time": "2024-05-28T14:38:19.457084Z",
     "start_time": "2024-05-28T14:38:19.426332Z"
    }
   },
   "id": "ceddaff235a5af4"
  }
 ],
 "metadata": {
  "kernelspec": {
   "display_name": "Python 3.9 (Default)",
   "language": "python",
   "name": "python3"
  },
  "language_info": {
   "codemirror_mode": {
    "name": "ipython",
    "version": 3
   },
   "file_extension": ".py",
   "mimetype": "text/x-python",
   "name": "python",
   "nbconvert_exporter": "python",
   "pygments_lexer": "ipython3",
   "version": "3.9.7"
  }
 },
 "nbformat": 4,
 "nbformat_minor": 5
}
